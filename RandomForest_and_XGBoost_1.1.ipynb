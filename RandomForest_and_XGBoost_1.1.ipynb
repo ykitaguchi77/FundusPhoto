{
  "nbformat": 4,
  "nbformat_minor": 0,
  "metadata": {
    "colab": {
      "name": "Untitled69.ipynb",
      "provenance": [],
      "mount_file_id": "1JnO8G8KM3eaL7zL7IrR7NU-Q2MllCCtk",
      "authorship_tag": "ABX9TyOcsLPbxhRnxLy4I3+YQD65",
      "include_colab_link": true
    },
    "kernelspec": {
      "name": "python3",
      "display_name": "Python 3"
    },
    "language_info": {
      "name": "python"
    }
  },
  "cells": [
    {
      "cell_type": "markdown",
      "metadata": {
        "id": "view-in-github",
        "colab_type": "text"
      },
      "source": [
        "<a href=\"https://colab.research.google.com/github/ykitaguchi77/FundusPhoto/blob/main/RandomForest_and_XGBoost_1.1.ipynb\" target=\"_parent\"><img src=\"https://colab.research.google.com/assets/colab-badge.svg\" alt=\"Open In Colab\"/></a>"
      ]
    },
    {
      "cell_type": "code",
      "metadata": {
        "colab": {
          "base_uri": "https://localhost:8080/"
        },
        "id": "jAOmIegf1c6s",
        "outputId": "23b0b54b-955a-4dbd-ded5-df730ae7d961"
      },
      "source": [
        "#google driveをcolabolatoryにマウント\n",
        "from google.colab import drive\n",
        "drive.mount('/content/drive')"
      ],
      "execution_count": 1,
      "outputs": [
        {
          "output_type": "stream",
          "name": "stdout",
          "text": [
            "Mounted at /content/drive\n"
          ]
        }
      ]
    },
    {
      "cell_type": "code",
      "metadata": {
        "colab": {
          "base_uri": "https://localhost:8080/",
          "height": 439
        },
        "id": "qrNbbDfQ5lid",
        "outputId": "f47b8d03-d878-4806-fd66-c6324e100702"
      },
      "source": [
        "import seaborn as sns\n",
        "import statsmodels.api as sm\n",
        "import pandas as pd\n",
        "\n",
        "df = pd.read_csv(\"/content/drive/MyDrive/Deep_learning/FundusPhoto/result_traintestval.csv\", index_col=0, sep=\",\")\n",
        "df\n"
      ],
      "execution_count": 14,
      "outputs": [
        {
          "output_type": "execute_result",
          "data": {
            "text/html": [
              "<div>\n",
              "<style scoped>\n",
              "    .dataframe tbody tr th:only-of-type {\n",
              "        vertical-align: middle;\n",
              "    }\n",
              "\n",
              "    .dataframe tbody tr th {\n",
              "        vertical-align: top;\n",
              "    }\n",
              "\n",
              "    .dataframe thead th {\n",
              "        text-align: right;\n",
              "    }\n",
              "</style>\n",
              "<table border=\"1\" class=\"dataframe\">\n",
              "  <thead>\n",
              "    <tr style=\"text-align: right;\">\n",
              "      <th></th>\n",
              "      <th>filename</th>\n",
              "      <th>age</th>\n",
              "      <th>set</th>\n",
              "      <th>cropped_A2</th>\n",
              "      <th>cropped_A2_pretrained</th>\n",
              "      <th>cropped_B3</th>\n",
              "      <th>cropped_B3_pretrained</th>\n",
              "      <th>disc_A2</th>\n",
              "      <th>disc_A2_pretrained</th>\n",
              "      <th>disc_B3</th>\n",
              "      <th>disc_B3_pretrained</th>\n",
              "      <th>vascular_A2</th>\n",
              "      <th>vascular_A2_pretrained</th>\n",
              "      <th>vascular_B3</th>\n",
              "      <th>vascular_B3_pretrained</th>\n",
              "      <th>macula_A2</th>\n",
              "      <th>macula_A2_pretrained</th>\n",
              "      <th>macula_B3</th>\n",
              "      <th>macula_B3_pretrained</th>\n",
              "    </tr>\n",
              "  </thead>\n",
              "  <tbody>\n",
              "    <tr>\n",
              "      <th>0</th>\n",
              "      <td>img00085008_00_1R.jpg</td>\n",
              "      <td>61</td>\n",
              "      <td>val</td>\n",
              "      <td>41.996127</td>\n",
              "      <td>51.511717</td>\n",
              "      <td>45.267197</td>\n",
              "      <td>48.228017</td>\n",
              "      <td>44.259751</td>\n",
              "      <td>60.388803</td>\n",
              "      <td>49.019647</td>\n",
              "      <td>57.370079</td>\n",
              "      <td>39.733568</td>\n",
              "      <td>56.994337</td>\n",
              "      <td>37.184125</td>\n",
              "      <td>65.403533</td>\n",
              "      <td>49.398333</td>\n",
              "      <td>63.834465</td>\n",
              "      <td>45.315519</td>\n",
              "      <td>64.566314</td>\n",
              "    </tr>\n",
              "    <tr>\n",
              "      <th>1</th>\n",
              "      <td>img00085024_00_1R.jpg</td>\n",
              "      <td>29</td>\n",
              "      <td>val</td>\n",
              "      <td>34.197265</td>\n",
              "      <td>27.813551</td>\n",
              "      <td>34.693065</td>\n",
              "      <td>30.219698</td>\n",
              "      <td>26.992634</td>\n",
              "      <td>37.555158</td>\n",
              "      <td>34.393159</td>\n",
              "      <td>28.256360</td>\n",
              "      <td>43.488920</td>\n",
              "      <td>39.154470</td>\n",
              "      <td>35.333204</td>\n",
              "      <td>50.786895</td>\n",
              "      <td>32.094574</td>\n",
              "      <td>30.836606</td>\n",
              "      <td>40.556285</td>\n",
              "      <td>32.959792</td>\n",
              "    </tr>\n",
              "    <tr>\n",
              "      <th>2</th>\n",
              "      <td>img00241280_10_1R.jpg</td>\n",
              "      <td>51</td>\n",
              "      <td>train</td>\n",
              "      <td>50.176901</td>\n",
              "      <td>57.090443</td>\n",
              "      <td>55.625671</td>\n",
              "      <td>55.247718</td>\n",
              "      <td>55.658686</td>\n",
              "      <td>53.555816</td>\n",
              "      <td>53.484726</td>\n",
              "      <td>63.062501</td>\n",
              "      <td>60.073453</td>\n",
              "      <td>54.546875</td>\n",
              "      <td>61.437273</td>\n",
              "      <td>66.778558</td>\n",
              "      <td>68.798459</td>\n",
              "      <td>64.358580</td>\n",
              "      <td>65.383965</td>\n",
              "      <td>60.088068</td>\n",
              "    </tr>\n",
              "    <tr>\n",
              "      <th>3</th>\n",
              "      <td>img00265140_00_1R.jpg</td>\n",
              "      <td>29</td>\n",
              "      <td>train</td>\n",
              "      <td>24.979262</td>\n",
              "      <td>31.148827</td>\n",
              "      <td>36.938146</td>\n",
              "      <td>33.577043</td>\n",
              "      <td>37.484571</td>\n",
              "      <td>31.255072</td>\n",
              "      <td>34.735942</td>\n",
              "      <td>35.358283</td>\n",
              "      <td>49.096131</td>\n",
              "      <td>29.550302</td>\n",
              "      <td>43.482432</td>\n",
              "      <td>55.882704</td>\n",
              "      <td>33.237335</td>\n",
              "      <td>33.163512</td>\n",
              "      <td>41.000220</td>\n",
              "      <td>32.129413</td>\n",
              "    </tr>\n",
              "    <tr>\n",
              "      <th>4</th>\n",
              "      <td>img00265140_00_2L.jpg</td>\n",
              "      <td>29</td>\n",
              "      <td>train</td>\n",
              "      <td>24.322532</td>\n",
              "      <td>28.956094</td>\n",
              "      <td>41.004908</td>\n",
              "      <td>32.249141</td>\n",
              "      <td>52.366054</td>\n",
              "      <td>36.308649</td>\n",
              "      <td>35.845736</td>\n",
              "      <td>42.669216</td>\n",
              "      <td>47.214234</td>\n",
              "      <td>23.765880</td>\n",
              "      <td>41.661096</td>\n",
              "      <td>35.372418</td>\n",
              "      <td>38.583675</td>\n",
              "      <td>32.522386</td>\n",
              "      <td>51.551360</td>\n",
              "      <td>33.535883</td>\n",
              "    </tr>\n",
              "    <tr>\n",
              "      <th>...</th>\n",
              "      <td>...</td>\n",
              "      <td>...</td>\n",
              "      <td>...</td>\n",
              "      <td>...</td>\n",
              "      <td>...</td>\n",
              "      <td>...</td>\n",
              "      <td>...</td>\n",
              "      <td>...</td>\n",
              "      <td>...</td>\n",
              "      <td>...</td>\n",
              "      <td>...</td>\n",
              "      <td>...</td>\n",
              "      <td>...</td>\n",
              "      <td>...</td>\n",
              "      <td>...</td>\n",
              "      <td>...</td>\n",
              "      <td>...</td>\n",
              "      <td>...</td>\n",
              "      <td>...</td>\n",
              "    </tr>\n",
              "    <tr>\n",
              "      <th>1409</th>\n",
              "      <td>img76791392_10_1R.jpg</td>\n",
              "      <td>38</td>\n",
              "      <td>test</td>\n",
              "      <td>29.161274</td>\n",
              "      <td>35.313144</td>\n",
              "      <td>31.801829</td>\n",
              "      <td>38.302854</td>\n",
              "      <td>23.495825</td>\n",
              "      <td>38.568458</td>\n",
              "      <td>33.258343</td>\n",
              "      <td>42.240074</td>\n",
              "      <td>38.404098</td>\n",
              "      <td>43.046537</td>\n",
              "      <td>29.530483</td>\n",
              "      <td>46.944967</td>\n",
              "      <td>34.177482</td>\n",
              "      <td>47.200292</td>\n",
              "      <td>34.066108</td>\n",
              "      <td>39.392710</td>\n",
              "    </tr>\n",
              "    <tr>\n",
              "      <th>1410</th>\n",
              "      <td>img76843122_10_1R.jpg</td>\n",
              "      <td>49</td>\n",
              "      <td>train</td>\n",
              "      <td>52.221626</td>\n",
              "      <td>42.622042</td>\n",
              "      <td>52.932787</td>\n",
              "      <td>55.145103</td>\n",
              "      <td>53.488880</td>\n",
              "      <td>49.396980</td>\n",
              "      <td>56.750482</td>\n",
              "      <td>47.917736</td>\n",
              "      <td>48.524040</td>\n",
              "      <td>50.074857</td>\n",
              "      <td>45.814630</td>\n",
              "      <td>62.571549</td>\n",
              "      <td>47.415417</td>\n",
              "      <td>56.604981</td>\n",
              "      <td>49.924394</td>\n",
              "      <td>48.442462</td>\n",
              "    </tr>\n",
              "    <tr>\n",
              "      <th>1411</th>\n",
              "      <td>img76843122_11_1R.jpg</td>\n",
              "      <td>49</td>\n",
              "      <td>val</td>\n",
              "      <td>49.053577</td>\n",
              "      <td>44.966671</td>\n",
              "      <td>53.484696</td>\n",
              "      <td>52.670932</td>\n",
              "      <td>47.552106</td>\n",
              "      <td>55.660129</td>\n",
              "      <td>57.124478</td>\n",
              "      <td>53.338772</td>\n",
              "      <td>42.628607</td>\n",
              "      <td>47.078547</td>\n",
              "      <td>47.271791</td>\n",
              "      <td>61.643904</td>\n",
              "      <td>43.878964</td>\n",
              "      <td>54.082513</td>\n",
              "      <td>53.915966</td>\n",
              "      <td>59.205514</td>\n",
              "    </tr>\n",
              "    <tr>\n",
              "      <th>1412</th>\n",
              "      <td>img76888512_00_1R.jpg</td>\n",
              "      <td>74</td>\n",
              "      <td>val</td>\n",
              "      <td>54.479975</td>\n",
              "      <td>67.208940</td>\n",
              "      <td>49.137861</td>\n",
              "      <td>74.466658</td>\n",
              "      <td>53.561741</td>\n",
              "      <td>74.132806</td>\n",
              "      <td>58.818334</td>\n",
              "      <td>71.472144</td>\n",
              "      <td>52.029234</td>\n",
              "      <td>61.757177</td>\n",
              "      <td>54.857647</td>\n",
              "      <td>64.616156</td>\n",
              "      <td>52.878857</td>\n",
              "      <td>66.580504</td>\n",
              "      <td>56.259942</td>\n",
              "      <td>72.109437</td>\n",
              "    </tr>\n",
              "    <tr>\n",
              "      <th>1413</th>\n",
              "      <td>img76888512_00_2L.jpg</td>\n",
              "      <td>74</td>\n",
              "      <td>val</td>\n",
              "      <td>50.827366</td>\n",
              "      <td>79.072827</td>\n",
              "      <td>53.552878</td>\n",
              "      <td>80.165356</td>\n",
              "      <td>54.322904</td>\n",
              "      <td>74.231517</td>\n",
              "      <td>55.537754</td>\n",
              "      <td>73.779947</td>\n",
              "      <td>54.853559</td>\n",
              "      <td>74.871176</td>\n",
              "      <td>47.023624</td>\n",
              "      <td>70.323873</td>\n",
              "      <td>43.915498</td>\n",
              "      <td>69.149733</td>\n",
              "      <td>48.429742</td>\n",
              "      <td>72.151691</td>\n",
              "    </tr>\n",
              "  </tbody>\n",
              "</table>\n",
              "<p>1414 rows × 19 columns</p>\n",
              "</div>"
            ],
            "text/plain": [
              "                   filename  age  ...  macula_B3  macula_B3_pretrained\n",
              "0     img00085008_00_1R.jpg   61  ...  45.315519             64.566314\n",
              "1     img00085024_00_1R.jpg   29  ...  40.556285             32.959792\n",
              "2     img00241280_10_1R.jpg   51  ...  65.383965             60.088068\n",
              "3     img00265140_00_1R.jpg   29  ...  41.000220             32.129413\n",
              "4     img00265140_00_2L.jpg   29  ...  51.551360             33.535883\n",
              "...                     ...  ...  ...        ...                   ...\n",
              "1409  img76791392_10_1R.jpg   38  ...  34.066108             39.392710\n",
              "1410  img76843122_10_1R.jpg   49  ...  49.924394             48.442462\n",
              "1411  img76843122_11_1R.jpg   49  ...  53.915966             59.205514\n",
              "1412  img76888512_00_1R.jpg   74  ...  56.259942             72.109437\n",
              "1413  img76888512_00_2L.jpg   74  ...  48.429742             72.151691\n",
              "\n",
              "[1414 rows x 19 columns]"
            ]
          },
          "metadata": {},
          "execution_count": 14
        }
      ]
    },
    {
      "cell_type": "code",
      "metadata": {
        "id": "t-mqY5TnHxuG",
        "colab": {
          "base_uri": "https://localhost:8080/"
        },
        "outputId": "911a41a8-0d10-449d-fba2-f0bf0305907a"
      },
      "source": [
        "import seaborn as sns\n",
        "import statsmodels.api as sm\n",
        "import pandas as pd\n",
        "\n",
        "import numpy as np\n",
        "import xgboost as xgb\n",
        "from sklearn.model_selection import GridSearchCV\n",
        "from sklearn.model_selection import StratifiedKFold\n",
        "from sklearn.model_selection import KFold\n",
        "import sklearn; \n",
        "\n",
        "\n",
        "#sorted(sklearn.metrics.SCORERS.keys())\n",
        "\n",
        "\n",
        "#indexの内容を確認\n",
        "#print(df.columns.values.tolist())\n",
        "\n",
        "\n",
        "FEATURE_COLS=df.columns.values[3:].tolist()\n",
        "\n",
        "\n",
        "\"\"\"\n",
        "FEATURE_COLS=[\n",
        " 'cropped_A2',\n",
        " 'cropped_B3']\n",
        "\"\"\"\n",
        "\n",
        "print(FEATURE_COLS)\n",
        "\n",
        "# 訓練データとテストデータに分割する。\n",
        "from sklearn.model_selection import train_test_split\n",
        "# TODO:層別サンプリング train, test = train_test_split(df, test_size=0.20, stratify=df[\"町区分\"], random_state=100)\n",
        "train, test = train_test_split(df, test_size=0.20,random_state=100)\n",
        "\n",
        "X_train = train[FEATURE_COLS]\n",
        "Y_train = train[\"age\"]\n",
        "X_test = test[FEATURE_COLS]\n",
        "Y_test = test[\"age\"]\n"
      ],
      "execution_count": 17,
      "outputs": [
        {
          "output_type": "stream",
          "name": "stdout",
          "text": [
            "['cropped_A2', 'cropped_A2_pretrained', 'cropped_B3', 'cropped_B3_pretrained', 'disc_A2', 'disc_A2_pretrained', 'disc_B3', 'disc_B3_pretrained', 'vascular_A2', 'vascular_A2_pretrained', 'vascular_B3', 'vascular_B3_pretrained', 'macula_A2', 'macula_A2_pretrained', 'macula_B3', 'macula_B3_pretrained']\n"
          ]
        }
      ]
    },
    {
      "cell_type": "markdown",
      "metadata": {
        "id": "vzK-7A7RRXiu"
      },
      "source": [
        "#**Prediction accuracy for each model**"
      ]
    },
    {
      "cell_type": "code",
      "metadata": {
        "id": "wZej9BelRsro",
        "colab": {
          "base_uri": "https://localhost:8080/"
        },
        "outputId": "1bc047e7-a706-4ef7-e388-857661f28cda"
      },
      "source": [
        "import seaborn as sns\n",
        "import statsmodels.api as sm\n",
        "import pandas as pd\n",
        "\n",
        "import numpy as np\n",
        "from sklearn.model_selection import StratifiedKFold\n",
        "from sklearn.model_selection import KFold\n",
        "import sklearn; \n",
        "\n",
        "\n",
        "#　　精度確認\n",
        "# 自由度調整済みr2を算出\n",
        "def adjusted_r2(X,Y):\n",
        "    from sklearn.metrics import r2_score\n",
        "    import numpy as np\n",
        "    r_squared = r2_score(Y, X)\n",
        "    adjusted_r2 = 1 - (1-r_squared)*(len(Y)-1)/(len(Y)-2)\n",
        "    #yhat = model.predict(X) \\ #SS_Residual = sum((Y-yhat)**2) \\ #SS_Total = sum((Y-np.mean(Y))**2)\n",
        "    #r_squared = 1 - (float(SS_Residual))/ SS_Total\n",
        "    return adjusted_r2\n",
        "\n",
        "# 予測モデルの精度確認の各種指標を算出\n",
        "def get_model_evaluations(X_train,Y_train,X_test,Y_test):\n",
        "    from sklearn.metrics import explained_variance_score\n",
        "    from sklearn.metrics import mean_absolute_error\n",
        "    from sklearn.metrics import mean_squared_error\n",
        "    from sklearn.metrics import mean_squared_log_error\n",
        "    from sklearn.metrics import median_absolute_error\n",
        "\n",
        "   # 評価指標確認\n",
        "   # 参考: https://funatsu-lab.github.io/open-course-ware/basic-theory/accuracy-index/\n",
        "    yhat_test = X_test\n",
        "\n",
        "    print(\"adjusted_r2(train)     :\" + str(adjusted_r2(X_train,Y_train)))\n",
        "    print(\"adjusted_r2(test)      :\" + str(adjusted_r2(X_test,Y_test)))   \n",
        "    #print(\"平均誤差率(test)       :\" + str(np.mean(abs(Y_test / yhat_test - 1)))) \n",
        "    print(\"MAE(test)              :\" + str(mean_absolute_error(Y_test, yhat_test)))\n",
        "    print(\"MedianAE(test)         :\" + str(median_absolute_error(Y_test, yhat_test)))\n",
        "    print(\"RMSE(test)             :\" + str(np.sqrt(mean_squared_error(Y_test, yhat_test))))\n",
        "    print(\"RMSE(test) / MAE(test) :\" + str(np.sqrt(mean_squared_error(Y_test, yhat_test)) / mean_absolute_error(Y_test, yhat_test))) #better if result = 1.253\n",
        "\n",
        "for i in FEATURE_COLS:\n",
        "    X_train = train[i]\n",
        "    Y_train = train[\"age\"]\n",
        "    X_test = test[i]\n",
        "    Y_test = test[\"age\"]\n",
        "    print(str(i))\n",
        "    get_model_evaluations(X_train,Y_train,X_test,Y_test)\n",
        "    print(\"\")\n",
        "\n",
        "#後の解析のためにそれぞれの項目を戻しておく\n",
        "X_train = train[FEATURE_COLS]\n",
        "Y_train = train[\"age\"]\n",
        "X_test = test[FEATURE_COLS]\n",
        "Y_test = test[\"age\"]"
      ],
      "execution_count": 18,
      "outputs": [
        {
          "output_type": "stream",
          "name": "stdout",
          "text": [
            "cropped_A2\n",
            "adjusted_r2(train)     :0.6811292608530573\n",
            "adjusted_r2(test)      :0.6739077081957028\n",
            "MAE(test)              :6.9040792243219515\n",
            "MedianAE(test)         :5.820814847946174\n",
            "RMSE(test)             :8.704639471889767\n",
            "RMSE(test) / MAE(test) :1.260796579683607\n",
            "\n",
            "cropped_A2_pretrained\n",
            "adjusted_r2(train)     :0.9065430255444364\n",
            "adjusted_r2(test)      :0.9054572644352865\n",
            "MAE(test)              :3.4286524205300344\n",
            "MedianAE(test)         :2.534624099999988\n",
            "RMSE(test)             :4.686996226737096\n",
            "RMSE(test) / MAE(test) :1.3670082737673757\n",
            "\n",
            "cropped_B3\n",
            "adjusted_r2(train)     :0.6175387709876337\n",
            "adjusted_r2(test)      :0.6045321781592885\n",
            "MAE(test)              :7.6079399463250885\n",
            "MedianAE(test)         :6.863088490000003\n",
            "RMSE(test)             :9.585970710149113\n",
            "RMSE(test) / MAE(test) :1.2599955806406549\n",
            "\n",
            "cropped_B3_pretrained\n",
            "adjusted_r2(train)     :0.860775308921399\n",
            "adjusted_r2(test)      :0.8589703289438158\n",
            "MAE(test)              :4.289362088798587\n",
            "MedianAE(test)         :3.0781252399999985\n",
            "RMSE(test)             :5.724476385940205\n",
            "RMSE(test) / MAE(test) :1.3345752276053666\n",
            "\n",
            "disc_A2\n",
            "adjusted_r2(train)     :0.6290438201453896\n",
            "adjusted_r2(test)      :0.5879433227054209\n",
            "MAE(test)              :7.424261825265018\n",
            "MedianAE(test)         :5.844740389999998\n",
            "RMSE(test)             :9.784958764878299\n",
            "RMSE(test) / MAE(test) :1.317970593598915\n",
            "\n",
            "disc_A2_pretrained\n",
            "adjusted_r2(train)     :0.8513109028311248\n",
            "adjusted_r2(test)      :0.8692619251539982\n",
            "MAE(test)              :4.144084455441697\n",
            "MedianAE(test)         :3.470890279999999\n",
            "RMSE(test)             :5.511649152815313\n",
            "RMSE(test) / MAE(test) :1.3300040605055319\n",
            "\n",
            "disc_B3\n",
            "adjusted_r2(train)     :0.6633560557056926\n",
            "adjusted_r2(test)      :0.6129535540344172\n",
            "MAE(test)              :7.317654011448764\n",
            "MedianAE(test)         :5.656748059999998\n",
            "RMSE(test)             :9.483356210692811\n",
            "RMSE(test) / MAE(test) :1.2959558071283117\n",
            "\n",
            "disc_B3_pretrained\n",
            "adjusted_r2(train)     :0.8015985405565689\n",
            "adjusted_r2(test)      :0.7742897646587746\n",
            "MAE(test)              :5.739137679434629\n",
            "MedianAE(test)         :5.0467870199999965\n",
            "RMSE(test)             :7.24196044697229\n",
            "RMSE(test) / MAE(test) :1.2618551516759755\n",
            "\n",
            "vascular_A2\n",
            "adjusted_r2(train)     :0.4135429197557624\n",
            "adjusted_r2(test)      :0.4591826143543488\n",
            "MAE(test)              :9.015728422367491\n",
            "MedianAE(test)         :7.418855190000002\n",
            "RMSE(test)             :11.210005971384524\n",
            "RMSE(test) / MAE(test) :1.2433832793336097\n",
            "\n",
            "vascular_A2_pretrained\n",
            "adjusted_r2(train)     :0.7509877190609557\n",
            "adjusted_r2(test)      :0.7763779959129736\n",
            "MAE(test)              :5.33039415409894\n",
            "MedianAE(test)         :3.9009764200000063\n",
            "RMSE(test)             :7.208381931034475\n",
            "RMSE(test) / MAE(test) :1.3523168686299512\n",
            "\n",
            "vascular_B3\n",
            "adjusted_r2(train)     :0.36581682575679064\n",
            "adjusted_r2(test)      :0.3323563287697352\n",
            "MAE(test)              :10.099061453533569\n",
            "MedianAE(test)         :8.465759990000002\n",
            "RMSE(test)             :12.455262646297681\n",
            "RMSE(test) / MAE(test) :1.233308927132006\n",
            "\n",
            "vascular_B3_pretrained\n",
            "adjusted_r2(train)     :0.4696097736317134\n",
            "adjusted_r2(test)      :0.514562392096798\n",
            "MAE(test)              :8.34202631992933\n",
            "MedianAE(test)         :6.20420086\n",
            "RMSE(test)             :10.620555462522177\n",
            "RMSE(test) / MAE(test) :1.273138570319465\n",
            "\n",
            "macula_A2\n",
            "adjusted_r2(train)     :0.4218550326865538\n",
            "adjusted_r2(test)      :0.25942223292327027\n",
            "MAE(test)              :9.154097408628976\n",
            "MedianAE(test)         :6.648445609999996\n",
            "RMSE(test)             :13.117946540621563\n",
            "RMSE(test) / MAE(test) :1.4330136500684516\n",
            "\n",
            "macula_A2_pretrained\n",
            "adjusted_r2(train)     :0.843301565321216\n",
            "adjusted_r2(test)      :0.847102629893998\n",
            "MAE(test)              :4.214775244346289\n",
            "MedianAE(test)         :2.8398002400000024\n",
            "RMSE(test)             :5.960470315751486\n",
            "RMSE(test) / MAE(test) :1.4141846172573205\n",
            "\n",
            "macula_B3\n",
            "adjusted_r2(train)     :0.47838966857064924\n",
            "adjusted_r2(test)      :0.4738966142570783\n",
            "MAE(test)              :8.812208945936396\n",
            "MedianAE(test)         :7.534274099999976\n",
            "RMSE(test)             :11.056459262099063\n",
            "RMSE(test) / MAE(test) :1.2546751138030567\n",
            "\n",
            "macula_B3_pretrained\n",
            "adjusted_r2(train)     :0.8491337867410911\n",
            "adjusted_r2(test)      :0.8558357609039134\n",
            "MAE(test)              :4.338126853038869\n",
            "MedianAE(test)         :3.401597499999994\n",
            "RMSE(test)             :5.787743738192362\n",
            "RMSE(test) / MAE(test) :1.3341573297097187\n",
            "\n"
          ]
        }
      ]
    },
    {
      "cell_type": "markdown",
      "metadata": {
        "id": "xpy4m8XyRKtV"
      },
      "source": [
        "#**Analysis using XGBoost**\n",
        "https://hinomaruc.hatenablog.com/entry/2019/12/07/000022"
      ]
    },
    {
      "cell_type": "code",
      "metadata": {
        "colab": {
          "base_uri": "https://localhost:8080/"
        },
        "id": "g20JJ1H4Nmva",
        "outputId": "57391857-7615-45d9-fcdc-bc3805ded86e"
      },
      "source": [
        "# Grid Search用のパラメータ作成。\n",
        "# あまり組み合わせが多いと時間がかかる(time consuming)\n",
        "params = {\n",
        "        'eta': [0.01],             # default = 0.3      \n",
        "        'gamma': [1,2,3],            # default = 0\n",
        "        'max_depth': [7,8,9],      # default = 6\n",
        "        'min_child_weight': [1],   # default = 1\n",
        "        'subsample': [0.8,1.0],        # default = 1\n",
        "        'colsample_bytree': [0.8,1.0], # default = 1\n",
        "        }\n",
        "kf = KFold(n_splits=5, shuffle = True, random_state = 1)\n",
        "\n",
        "#最適解探索\n",
        "model = xgb.XGBRegressor(objective ='reg:squarederror')\n",
        "grid = GridSearchCV(estimator=model, param_grid=params, scoring='neg_mean_squared_error', n_jobs=2, cv=kf.split(X_train,Y_train), verbose=3)\n",
        "\n",
        "\n",
        "grid.fit(X_train,Y_train)"
      ],
      "execution_count": 19,
      "outputs": [
        {
          "output_type": "stream",
          "name": "stdout",
          "text": [
            "Fitting 5 folds for each of 36 candidates, totalling 180 fits\n"
          ]
        },
        {
          "output_type": "stream",
          "name": "stderr",
          "text": [
            "[Parallel(n_jobs=2)]: Using backend LokyBackend with 2 concurrent workers.\n",
            "[Parallel(n_jobs=2)]: Done  28 tasks      | elapsed:    7.3s\n",
            "[Parallel(n_jobs=2)]: Done 124 tasks      | elapsed:   28.6s\n",
            "[Parallel(n_jobs=2)]: Done 180 out of 180 | elapsed:   42.8s finished\n"
          ]
        },
        {
          "output_type": "execute_result",
          "data": {
            "text/plain": [
              "GridSearchCV(cv=<generator object _BaseKFold.split at 0x7efcc4e8cd50>,\n",
              "             error_score=nan,\n",
              "             estimator=XGBRegressor(base_score=0.5, booster='gbtree',\n",
              "                                    colsample_bylevel=1, colsample_bynode=1,\n",
              "                                    colsample_bytree=1, gamma=0,\n",
              "                                    importance_type='gain', learning_rate=0.1,\n",
              "                                    max_delta_step=0, max_depth=3,\n",
              "                                    min_child_weight=1, missing=None,\n",
              "                                    n_estimators=100, n_jobs=1, nthread=None,\n",
              "                                    object...\n",
              "                                    random_state=0, reg_alpha=0, reg_lambda=1,\n",
              "                                    scale_pos_weight=1, seed=None, silent=None,\n",
              "                                    subsample=1, verbosity=1),\n",
              "             iid='deprecated', n_jobs=2,\n",
              "             param_grid={'colsample_bytree': [0.8, 1.0], 'eta': [0.01],\n",
              "                         'gamma': [1, 2, 3], 'max_depth': [7, 8, 9],\n",
              "                         'min_child_weight': [1], 'subsample': [0.8, 1.0]},\n",
              "             pre_dispatch='2*n_jobs', refit=True, return_train_score=False,\n",
              "             scoring='neg_mean_squared_error', verbose=3)"
            ]
          },
          "metadata": {},
          "execution_count": 19
        }
      ]
    },
    {
      "cell_type": "code",
      "metadata": {
        "id": "mXBzlSIrNu3u"
      },
      "source": [
        "print('ベストスコア:',grid.best_score_, sep=\"\\n\")\n",
        "print('\\n')\n",
        "print('ベストestimator:',grid.best_estimator_,sep=\"\\n\")\n",
        "print('\\n')\n",
        "print('ベストparams:',grid.best_params_,sep=\"\\n\")\n",
        "\n",
        "print(pd.DataFrame(grid.cv_results_))"
      ],
      "execution_count": null,
      "outputs": []
    },
    {
      "cell_type": "code",
      "metadata": {
        "colab": {
          "base_uri": "https://localhost:8080/"
        },
        "id": "4d966OQgNzX9",
        "outputId": "ec2f8776-2d1e-4c3e-9e2f-fe4fca2b61e6"
      },
      "source": [
        "# 自由度調整済みr2を算出\n",
        "def adjusted_r2(X,Y,model):\n",
        "    from sklearn.metrics import r2_score\n",
        "    import numpy as np\n",
        "    r_squared = r2_score(Y, model.predict(X))\n",
        "    adjusted_r2 = 1 - (1-r_squared)*(len(Y)-1)/(len(Y)-X.shape[1]-1)\n",
        "    #yhat = model.predict(X) \\ #SS_Residual = sum((Y-yhat)**2) \\ #SS_Total = sum((Y-np.mean(Y))**2)\n",
        "    #r_squared = 1 - (float(SS_Residual))/ SS_Total\n",
        "    return adjusted_r2\n",
        "\n",
        "# 予測モデルの精度確認の各種指標を算出\n",
        "def get_model_evaluations(X_train,Y_train,X_test,Y_test,model):\n",
        "    from sklearn.metrics import explained_variance_score\n",
        "    from sklearn.metrics import mean_absolute_error\n",
        "    from sklearn.metrics import mean_squared_error\n",
        "    from sklearn.metrics import mean_squared_log_error\n",
        "    from sklearn.metrics import median_absolute_error\n",
        "\n",
        "   # 評価指標確認\n",
        "   # 参考: https://funatsu-lab.github.io/open-course-ware/basic-theory/accuracy-index/\n",
        "    yhat_test = model.predict(X_test)\n",
        "    return \"adjusted_r2(train)     :\" + str(adjusted_r2(X_train,Y_train,model)) \\\n",
        "         , \"adjusted_r2(test)      :\" + str(adjusted_r2(X_test,Y_test,model)) \\\n",
        "         , \"平均誤差率(test)       :\" + str(np.mean(abs(Y_test / yhat_test - 1))) \\\n",
        "         , \"MAE(test)              :\" + str(mean_absolute_error(Y_test, yhat_test)) \\\n",
        "         , \"MedianAE(test)         :\" + str(median_absolute_error(Y_test, yhat_test)) \\\n",
        "         , \"RMSE(test)             :\" + str(np.sqrt(mean_squared_error(Y_test, yhat_test))) \\\n",
        "         , \"RMSE(test) / MAE(test) :\" + str(np.sqrt(mean_squared_error(Y_test, yhat_test)) / mean_absolute_error(Y_test, yhat_test)) #better if result = 1.253\n",
        "\n",
        "\n",
        "\n",
        "# Grid Searchで一番精度が良かったモデル\n",
        "bestmodel = grid.best_estimator_\n",
        "\n",
        "get_model_evaluations(X_train,Y_train,X_test,Y_test,bestmodel)\n"
      ],
      "execution_count": 20,
      "outputs": [
        {
          "output_type": "execute_result",
          "data": {
            "text/plain": [
              "('adjusted_r2(train)     :0.99916590968549',\n",
              " 'adjusted_r2(test)      :0.9542657475256345',\n",
              " '平均誤差率(test)       :0.04052300078502368',\n",
              " 'MAE(test)              :2.153231368048031',\n",
              " 'MedianAE(test)         :1.3882179260253906',\n",
              " 'RMSE(test)             :3.1716771440556752',\n",
              " 'RMSE(test) / MAE(test) :1.4729848315979606')"
            ]
          },
          "metadata": {},
          "execution_count": 20
        }
      ]
    },
    {
      "cell_type": "code",
      "metadata": {
        "colab": {
          "base_uri": "https://localhost:8080/",
          "height": 517
        },
        "id": "-wq2xWzPPEln",
        "outputId": "eba02ae8-8cc3-41d4-a2aa-c89ae0afa401"
      },
      "source": [
        "# 描画設定\n",
        "from matplotlib import rcParams\n",
        "rcParams['xtick.labelsize'] = 12       # x軸のラベルのフォントサイズ\n",
        "rcParams['ytick.labelsize'] = 12       # y軸のラベルのフォントサイズ\n",
        "rcParams['figure.figsize'] = 8,8      # 画像サイズの変更(inch)\n",
        "\n",
        "import matplotlib.pyplot as plt\n",
        "from matplotlib import ticker\n",
        "sns.set_style(\"whitegrid\")             # seabornのスタイルセットの一つ\n",
        "sns.set_color_codes()                  # デフォルトカラー設定 (deepになってる)\n",
        "\n",
        "plt.figure()\n",
        "ax = sns.regplot(x=Y_test, y=bestmodel.predict(X_test), fit_reg=False,color='#4F81BD')\n",
        "ax.set_xlabel(u\"CMEDV\")\n",
        "ax.set_ylabel(u\"(Predicted) CMEDV\")\n",
        "ax.get_xaxis().set_major_formatter(ticker.FuncFormatter(lambda x, p: format(int(x), ',')))\n",
        "ax.get_yaxis().set_major_formatter(ticker.FuncFormatter(lambda y, p: format(int(y), ',')))\n",
        "ax.plot([0,10,20,30,40,50],[0,10,20,30,40,50], linewidth=2, color=\"#C0504D\",ls=\"--\")"
      ],
      "execution_count": 21,
      "outputs": [
        {
          "output_type": "execute_result",
          "data": {
            "text/plain": [
              "[<matplotlib.lines.Line2D at 0x7efcbe7a2750>]"
            ]
          },
          "metadata": {},
          "execution_count": 21
        },
        {
          "output_type": "display_data",
          "data": {
            "image/png": "[encoded data removed]",
            "text/plain": [
              "<Figure size 576x576 with 1 Axes>"
            ]
          },
          "metadata": {}
        }
      ]
    },
    {
      "cell_type": "code",
      "metadata": {
        "colab": {
          "base_uri": "https://localhost:8080/",
          "height": 533
        },
        "id": "BIobiMOEPGKc",
        "outputId": "76f0acfb-d0ae-4b61-e440-6c043e5b8dcc"
      },
      "source": [
        "xgb.plot_importance(bestmodel)"
      ],
      "execution_count": 22,
      "outputs": [
        {
          "output_type": "execute_result",
          "data": {
            "text/plain": [
              "<matplotlib.axes._subplots.AxesSubplot at 0x7efcbe580f90>"
            ]
          },
          "metadata": {},
          "execution_count": 22
        },
        {
          "output_type": "display_data",
          "data": {
            "image/png": "[encoded data removed]",
            "text/plain": [
              "<Figure size 576x576 with 1 Axes>"
            ]
          },
          "metadata": {}
        }
      ]
    },
    {
      "cell_type": "code",
      "metadata": {
        "colab": {
          "base_uri": "https://localhost:8080/",
          "height": 448
        },
        "id": "HjpEpFczPHkK",
        "outputId": "9c9b1608-0cc4-48d6-c46b-1b9185dff9d2"
      },
      "source": [
        "xgb.to_graphviz(bestmodel, num_trees=5)\n"
      ],
      "execution_count": 9,
      "outputs": [
        {
          "output_type": "execute_result",
          "data": {
            "text/plain": [
              "<graphviz.dot.Digraph at 0x7efcc3b81850>"
            ],
            "image/svg+xml": "<?xml version=\"1.0\" encoding=\"UTF-8\" standalone=\"no\"?>\n<!DOCTYPE svg PUBLIC \"-//W3C//DTD SVG 1.1//EN\"\n \"http://www.w3.org/Graphics/SVG/1.1/DTD/svg11.dtd\">\n<!-- Generated by graphviz version 2.40.1 (20161225.0304)\n -->\n<!-- Title: %3 Pages: 1 -->\n<svg width=\"1156pt\" height=\"305pt\"\n viewBox=\"0.00 0.00 1155.99 305.00\" xmlns=\"http://www.w3.org/2000/svg\" xmlns:xlink=\"http://www.w3.org/1999/xlink\">\n<g id=\"graph0\" class=\"graph\" transform=\"scale(1 1) rotate(0) translate(4 301)\">\n<title>%3</title>\n<polygon fill=\"#ffffff\" stroke=\"transparent\" points=\"-4,4 -4,-301 1151.9862,-301 1151.9862,4 -4,4\"/>\n<!-- 0 -->\n<g id=\"node1\" class=\"node\">\n<title>0</title>\n<ellipse fill=\"none\" stroke=\"#000000\" cx=\"667.5928\" cy=\"-279\" rx=\"161.3716\" ry=\"18\"/>\n<text text-anchor=\"middle\" x=\"667.5928\" y=\"-275.3\" font-family=\"Times,serif\" font-size=\"14.00\" fill=\"#000000\">cropped_A2_pretrained_4&lt;49.8352203</text>\n</g>\n<!-- 1 -->\n<g id=\"node2\" class=\"node\">\n<title>1</title>\n<ellipse fill=\"none\" stroke=\"#000000\" cx=\"499.5928\" cy=\"-192\" rx=\"157.0724\" ry=\"18\"/>\n<text text-anchor=\"middle\" x=\"499.5928\" y=\"-188.3\" font-family=\"Times,serif\" font-size=\"14.00\" fill=\"#000000\">macula_A2_pretrained_4&lt;34.7366562</text>\n</g>\n<!-- 0&#45;&gt;1 -->\n<g id=\"edge1\" class=\"edge\">\n<title>0&#45;&gt;1</title>\n<path fill=\"none\" stroke=\"#0000ff\" d=\"M633.5955,-261.3943C607.4086,-247.8331 571.0277,-228.9931 542.7807,-214.3651\"/>\n<polygon fill=\"#0000ff\" stroke=\"#0000ff\" points=\"544.0291,-211.0702 533.5396,-209.5796 540.81,-217.2861 544.0291,-211.0702\"/>\n<text text-anchor=\"middle\" x=\"630.0928\" y=\"-231.8\" font-family=\"Times,serif\" font-size=\"14.00\" fill=\"#000000\">yes, missing</text>\n</g>\n<!-- 2 -->\n<g id=\"node3\" class=\"node\">\n<title>2</title>\n<ellipse fill=\"none\" stroke=\"#000000\" cx=\"835.5928\" cy=\"-192\" rx=\"161.3716\" ry=\"18\"/>\n<text text-anchor=\"middle\" x=\"835.5928\" y=\"-188.3\" font-family=\"Times,serif\" font-size=\"14.00\" fill=\"#000000\">cropped_A2_pretrained_3&lt;66.7728653</text>\n</g>\n<!-- 0&#45;&gt;2 -->\n<g id=\"edge2\" class=\"edge\">\n<title>0&#45;&gt;2</title>\n<path fill=\"none\" stroke=\"#ff0000\" d=\"M701.5902,-261.3943C727.691,-247.8777 763.9187,-229.117 792.126,-214.5096\"/>\n<polygon fill=\"#ff0000\" stroke=\"#ff0000\" points=\"794.0878,-217.4352 801.3582,-209.7287 790.8687,-211.2193 794.0878,-217.4352\"/>\n<text text-anchor=\"middle\" x=\"770.5928\" y=\"-231.8\" font-family=\"Times,serif\" font-size=\"14.00\" fill=\"#000000\">no</text>\n</g>\n<!-- 3 -->\n<g id=\"node4\" class=\"node\">\n<title>3</title>\n<ellipse fill=\"none\" stroke=\"#000000\" cx=\"182.5928\" cy=\"-105\" rx=\"145.6742\" ry=\"18\"/>\n<text text-anchor=\"middle\" x=\"182.5928\" y=\"-101.3\" font-family=\"Times,serif\" font-size=\"14.00\" fill=\"#000000\">disc_A2_pretrained_2&lt;24.8042336</text>\n</g>\n<!-- 1&#45;&gt;3 -->\n<g id=\"edge3\" class=\"edge\">\n<title>1&#45;&gt;3</title>\n<path fill=\"none\" stroke=\"#0000ff\" d=\"M438.8471,-175.3285C385.5943,-160.7133 308.1878,-139.4693 252.4002,-124.1585\"/>\n<polygon fill=\"#0000ff\" stroke=\"#0000ff\" points=\"253.1649,-120.739 242.5952,-121.4675 251.3122,-127.4894 253.1649,-120.739\"/>\n<text text-anchor=\"middle\" x=\"396.0928\" y=\"-144.8\" font-family=\"Times,serif\" font-size=\"14.00\" fill=\"#000000\">yes, missing</text>\n</g>\n<!-- 4 -->\n<g id=\"node5\" class=\"node\">\n<title>4</title>\n<ellipse fill=\"none\" stroke=\"#000000\" cx=\"507.5928\" cy=\"-105\" rx=\"161.3716\" ry=\"18\"/>\n<text text-anchor=\"middle\" x=\"507.5928\" y=\"-101.3\" font-family=\"Times,serif\" font-size=\"14.00\" fill=\"#000000\">cropped_A2_pretrained_3&lt;43.2530098</text>\n</g>\n<!-- 1&#45;&gt;4 -->\n<g id=\"edge4\" class=\"edge\">\n<title>1&#45;&gt;4</title>\n<path fill=\"none\" stroke=\"#ff0000\" d=\"M501.2505,-173.9735C502.3338,-162.1918 503.7712,-146.5607 505.0036,-133.1581\"/>\n<polygon fill=\"#ff0000\" stroke=\"#ff0000\" points=\"508.5069,-133.2819 505.9374,-123.0034 501.5363,-132.6408 508.5069,-133.2819\"/>\n<text text-anchor=\"middle\" x=\"512.5928\" y=\"-144.8\" font-family=\"Times,serif\" font-size=\"14.00\" fill=\"#000000\">no</text>\n</g>\n<!-- 5 -->\n<g id=\"node10\" class=\"node\">\n<title>5</title>\n<ellipse fill=\"none\" stroke=\"#000000\" cx=\"833.5928\" cy=\"-105\" rx=\"145.6742\" ry=\"18\"/>\n<text text-anchor=\"middle\" x=\"833.5928\" y=\"-101.3\" font-family=\"Times,serif\" font-size=\"14.00\" fill=\"#000000\">disc_A2_pretrained_0&lt;53.0012131</text>\n</g>\n<!-- 2&#45;&gt;5 -->\n<g id=\"edge9\" class=\"edge\">\n<title>2&#45;&gt;5</title>\n<path fill=\"none\" stroke=\"#0000ff\" d=\"M835.1784,-173.9735C834.9076,-162.1918 834.5483,-146.5607 834.2402,-133.1581\"/>\n<polygon fill=\"#0000ff\" stroke=\"#0000ff\" points=\"837.7357,-132.9202 834.0067,-123.0034 830.7376,-133.0812 837.7357,-132.9202\"/>\n<text text-anchor=\"middle\" x=\"871.0928\" y=\"-144.8\" font-family=\"Times,serif\" font-size=\"14.00\" fill=\"#000000\">yes, missing</text>\n</g>\n<!-- 6 -->\n<g id=\"node11\" class=\"node\">\n<title>6</title>\n<ellipse fill=\"none\" stroke=\"#000000\" cx=\"1072.5928\" cy=\"-105\" rx=\"75.2868\" ry=\"18\"/>\n<text text-anchor=\"middle\" x=\"1072.5928\" y=\"-101.3\" font-family=\"Times,serif\" font-size=\"14.00\" fill=\"#000000\">leaf=4.32769346</text>\n</g>\n<!-- 2&#45;&gt;6 -->\n<g id=\"edge10\" class=\"edge\">\n<title>2&#45;&gt;6</title>\n<path fill=\"none\" stroke=\"#ff0000\" d=\"M882.6998,-174.7076C922.8164,-159.9812 980.3368,-138.8661 1021.5431,-123.7398\"/>\n<polygon fill=\"#ff0000\" stroke=\"#ff0000\" points=\"1022.9402,-126.9554 1031.1216,-120.2236 1020.5279,-120.3841 1022.9402,-126.9554\"/>\n<text text-anchor=\"middle\" x=\"976.5928\" y=\"-144.8\" font-family=\"Times,serif\" font-size=\"14.00\" fill=\"#000000\">no</text>\n</g>\n<!-- 7 -->\n<g id=\"node6\" class=\"node\">\n<title>7</title>\n<ellipse fill=\"none\" stroke=\"#000000\" cx=\"80.5928\" cy=\"-18\" rx=\"80.6858\" ry=\"18\"/>\n<text text-anchor=\"middle\" x=\"80.5928\" y=\"-14.3\" font-family=\"Times,serif\" font-size=\"14.00\" fill=\"#000000\">leaf=0.981688499</text>\n</g>\n<!-- 3&#45;&gt;7 -->\n<g id=\"edge5\" class=\"edge\">\n<title>3&#45;&gt;7</title>\n<path fill=\"none\" stroke=\"#0000ff\" d=\"M161.1023,-87.121C154.2128,-81.3591 146.5636,-74.9302 139.5928,-69 129.3399,-60.2776 118.1518,-50.638 108.3015,-42.1091\"/>\n<polygon fill=\"#0000ff\" stroke=\"#0000ff\" points=\"110.5802,-39.4524 100.7319,-35.5459 105.9946,-44.7413 110.5802,-39.4524\"/>\n<text text-anchor=\"middle\" x=\"175.0928\" y=\"-57.8\" font-family=\"Times,serif\" font-size=\"14.00\" fill=\"#000000\">yes, missing</text>\n</g>\n<!-- 8 -->\n<g id=\"node7\" class=\"node\">\n<title>8</title>\n<ellipse fill=\"none\" stroke=\"#000000\" cx=\"254.5928\" cy=\"-18\" rx=\"75.2868\" ry=\"18\"/>\n<text text-anchor=\"middle\" x=\"254.5928\" y=\"-14.3\" font-family=\"Times,serif\" font-size=\"14.00\" fill=\"#000000\">leaf=1.63046169</text>\n</g>\n<!-- 3&#45;&gt;8 -->\n<g id=\"edge6\" class=\"edge\">\n<title>3&#45;&gt;8</title>\n<path fill=\"none\" stroke=\"#ff0000\" d=\"M197.5113,-86.9735C207.9098,-74.4087 221.9316,-57.4657 233.4755,-43.5168\"/>\n<polygon fill=\"#ff0000\" stroke=\"#ff0000\" points=\"236.2605,-45.6412 239.9399,-35.7057 230.8678,-41.1782 236.2605,-45.6412\"/>\n<text text-anchor=\"middle\" x=\"231.5928\" y=\"-57.8\" font-family=\"Times,serif\" font-size=\"14.00\" fill=\"#000000\">no</text>\n</g>\n<!-- 9 -->\n<g id=\"node8\" class=\"node\">\n<title>9</title>\n<ellipse fill=\"none\" stroke=\"#000000\" cx=\"459.5928\" cy=\"-18\" rx=\"75.2868\" ry=\"18\"/>\n<text text-anchor=\"middle\" x=\"459.5928\" y=\"-14.3\" font-family=\"Times,serif\" font-size=\"14.00\" fill=\"#000000\">leaf=2.16047692</text>\n</g>\n<!-- 4&#45;&gt;9 -->\n<g id=\"edge7\" class=\"edge\">\n<title>4&#45;&gt;9</title>\n<path fill=\"none\" stroke=\"#0000ff\" d=\"M497.6472,-86.9735C490.9539,-74.8418 482.0087,-58.6287 474.4728,-44.9698\"/>\n<polygon fill=\"#0000ff\" stroke=\"#0000ff\" points=\"477.4211,-43.0684 469.5257,-36.0034 471.292,-46.4499 477.4211,-43.0684\"/>\n<text text-anchor=\"middle\" x=\"522.0928\" y=\"-57.8\" font-family=\"Times,serif\" font-size=\"14.00\" fill=\"#000000\">yes, missing</text>\n</g>\n<!-- 10 -->\n<g id=\"node9\" class=\"node\">\n<title>10</title>\n<ellipse fill=\"none\" stroke=\"#000000\" cx=\"628.5928\" cy=\"-18\" rx=\"75.2868\" ry=\"18\"/>\n<text text-anchor=\"middle\" x=\"628.5928\" y=\"-14.3\" font-family=\"Times,serif\" font-size=\"14.00\" fill=\"#000000\">leaf=2.70128989</text>\n</g>\n<!-- 4&#45;&gt;10 -->\n<g id=\"edge8\" class=\"edge\">\n<title>4&#45;&gt;10</title>\n<path fill=\"none\" stroke=\"#ff0000\" d=\"M535.0136,-87.1991C543.6007,-81.4969 553.0603,-75.0826 561.5928,-69 573.8534,-60.2598 587.094,-50.2968 598.5413,-41.5099\"/>\n<polygon fill=\"#ff0000\" stroke=\"#ff0000\" points=\"600.7408,-44.2335 606.5202,-35.3538 596.4647,-38.6914 600.7408,-44.2335\"/>\n<text text-anchor=\"middle\" x=\"588.5928\" y=\"-57.8\" font-family=\"Times,serif\" font-size=\"14.00\" fill=\"#000000\">no</text>\n</g>\n<!-- 11 -->\n<g id=\"node12\" class=\"node\">\n<title>11</title>\n<ellipse fill=\"none\" stroke=\"#000000\" cx=\"815.5928\" cy=\"-18\" rx=\"75.2868\" ry=\"18\"/>\n<text text-anchor=\"middle\" x=\"815.5928\" y=\"-14.3\" font-family=\"Times,serif\" font-size=\"14.00\" fill=\"#000000\">leaf=2.96961355</text>\n</g>\n<!-- 5&#45;&gt;11 -->\n<g id=\"edge11\" class=\"edge\">\n<title>5&#45;&gt;11</title>\n<path fill=\"none\" stroke=\"#0000ff\" d=\"M829.8632,-86.9735C827.4256,-75.1918 824.1916,-59.5607 821.4187,-46.1581\"/>\n<polygon fill=\"#0000ff\" stroke=\"#0000ff\" points=\"824.7712,-45.0868 819.3177,-36.0034 817.9164,-46.5051 824.7712,-45.0868\"/>\n<text text-anchor=\"middle\" x=\"862.0928\" y=\"-57.8\" font-family=\"Times,serif\" font-size=\"14.00\" fill=\"#000000\">yes, missing</text>\n</g>\n<!-- 12 -->\n<g id=\"node13\" class=\"node\">\n<title>12</title>\n<ellipse fill=\"none\" stroke=\"#000000\" cx=\"984.5928\" cy=\"-18\" rx=\"75.2868\" ry=\"18\"/>\n<text text-anchor=\"middle\" x=\"984.5928\" y=\"-14.3\" font-family=\"Times,serif\" font-size=\"14.00\" fill=\"#000000\">leaf=3.56920171</text>\n</g>\n<!-- 5&#45;&gt;12 -->\n<g id=\"edge12\" class=\"edge\">\n<title>5&#45;&gt;12</title>\n<path fill=\"none\" stroke=\"#ff0000\" d=\"M867.7224,-87.4782C878.6251,-81.7354 890.6895,-75.2275 901.5928,-69 917.4032,-59.9698 934.5944,-49.5154 949.209,-40.4315\"/>\n<polygon fill=\"#ff0000\" stroke=\"#ff0000\" points=\"951.3131,-43.244 957.9403,-34.9777 947.6047,-37.307 951.3131,-43.244\"/>\n<text text-anchor=\"middle\" x=\"935.5928\" y=\"-57.8\" font-family=\"Times,serif\" font-size=\"14.00\" fill=\"#000000\">no</text>\n</g>\n</g>\n</svg>\n"
          },
          "metadata": {},
          "execution_count": 9
        }
      ]
    },
    {
      "cell_type": "markdown",
      "metadata": {
        "id": "GH-Kj_RHRQ-9"
      },
      "source": [
        "#**Analysis using RandomForest**\n",
        "https://hinomaruc.hatenablog.com/entry/2019/11/14/200857"
      ]
    },
    {
      "cell_type": "code",
      "metadata": {
        "colab": {
          "base_uri": "https://localhost:8080/"
        },
        "id": "qSyqmEyGRfHU",
        "outputId": "79e37600-98a8-43c5-dea0-75181393632c"
      },
      "source": [
        "#Create model\n",
        "import numpy as np\n",
        "from sklearn.ensemble import RandomForestRegressor\n",
        "model = RandomForestRegressor(n_estimators=10)\n",
        "model.fit(X_train,Y_train) \n",
        "\n",
        "\"\"\"\n",
        "RandomForestRegressor(bootstrap=True, criterion='mse', max_depth=None,\n",
        "           max_features='auto', max_leaf_nodes=None,\n",
        "           min_impurity_decrease=0.0, min_impurity_split=None,\n",
        "           min_samples_leaf=1, min_samples_split=2,\n",
        "           min_weight_fraction_leaf=0.0, n_estimators=10, n_jobs=-1,\n",
        "           oob_score=False, random_state=2525, verbose=0, warm_start=False)\n",
        "\"\"\"\n",
        "\n",
        "\n",
        "\n",
        "#　　精度確認\n",
        "# 自由度調整済みr2を算出\n",
        "def adjusted_r2(X,Y,model):\n",
        "    from sklearn.metrics import r2_score\n",
        "    import numpy as np\n",
        "    r_squared = r2_score(Y, model.predict(X))\n",
        "    adjusted_r2 = 1 - (1-r_squared)*(len(Y)-1)/(len(Y)-X.shape[1]-1)\n",
        "    #yhat = model.predict(X) \\ #SS_Residual = sum((Y-yhat)**2) \\ #SS_Total = sum((Y-np.mean(Y))**2)\n",
        "    #r_squared = 1 - (float(SS_Residual))/ SS_Total\n",
        "    return adjusted_r2\n",
        "\n",
        "# 予測モデルの精度確認の各種指標を算出\n",
        "def get_model_evaluations(X_train,Y_train,X_test,Y_test,model):\n",
        "    from sklearn.metrics import explained_variance_score\n",
        "    from sklearn.metrics import mean_absolute_error\n",
        "    from sklearn.metrics import mean_squared_error\n",
        "    from sklearn.metrics import mean_squared_log_error\n",
        "    from sklearn.metrics import median_absolute_error\n",
        "\n",
        "   # 評価指標確認\n",
        "   # 参考: https://funatsu-lab.github.io/open-course-ware/basic-theory/accuracy-index/\n",
        "    yhat_test = model.predict(X_test)\n",
        "    return \"adjusted_r2(train)     :\" + str(adjusted_r2(X_train,Y_train,model)) \\\n",
        "         , \"adjusted_r2(test)      :\" + str(adjusted_r2(X_test,Y_test,model)) \\\n",
        "         , \"平均誤差率(test)       :\" + str(np.mean(abs(Y_test / yhat_test - 1))) \\\n",
        "         , \"MAE(test)              :\" + str(mean_absolute_error(Y_test, yhat_test)) \\\n",
        "         , \"MedianAE(test)         :\" + str(median_absolute_error(Y_test, yhat_test)) \\\n",
        "         , \"RMSE(test)             :\" + str(np.sqrt(mean_squared_error(Y_test, yhat_test))) \\\n",
        "         , \"RMSE(test) / MAE(test) :\" + str(np.sqrt(mean_squared_error(Y_test, yhat_test)) / mean_absolute_error(Y_test, yhat_test)) #better if result = 1.253\n",
        "\n",
        "def get_model_result(X_test, model):\n",
        "    yhat_test = model.predict(X_test)\n",
        "    return yhat_test\n",
        "\n",
        "\n",
        "get_model_evaluations(X_train,Y_train,X_test,Y_test,model)"
      ],
      "execution_count": 23,
      "outputs": [
        {
          "output_type": "execute_result",
          "data": {
            "text/plain": [
              "('adjusted_r2(train)     :0.9918506948494626',\n",
              " 'adjusted_r2(test)      :0.9547587568693029',\n",
              " '平均誤差率(test)       :0.040015407986897254',\n",
              " 'MAE(test)              :2.119434628975265',\n",
              " 'MedianAE(test)         :1.5',\n",
              " 'RMSE(test)             :3.1545356879199233',\n",
              " 'RMSE(test) / MAE(test) :1.488385461289327')"
            ]
          },
          "metadata": {},
          "execution_count": 23
        }
      ]
    },
    {
      "cell_type": "code",
      "metadata": {
        "colab": {
          "base_uri": "https://localhost:8080/",
          "height": 236
        },
        "id": "yW6HVmKTUWsB",
        "outputId": "920afc88-5554-4e47-b21b-137b4b1ad064"
      },
      "source": [
        "#Grid search\n",
        "from sklearn.model_selection import GridSearchCV\n",
        "\n",
        "# Create the parameter grid based on the results of random search \n",
        "param_grid = {\n",
        "    'bootstrap': [True],\n",
        "    'max_depth': [80, 90, 100, 110],\n",
        "    'max_features': [2, 3],\n",
        "    'min_samples_leaf': [3, 4, 5],\n",
        "    'min_samples_split': [8, 10, 12],\n",
        "    'n_estimators': [100, 200, 300, 1000]\n",
        "}\n",
        "# Create a based model\n",
        "rf = RandomForestRegressor()\n",
        "# Instantiate the grid search model\n",
        "grid_search = GridSearchCV(estimator = rf, param_grid = param_grid, \n",
        "                          cv = 3, n_jobs = -1, verbose = 2)\n",
        "\n",
        "grid_search.fit(X_train,Y_train)\n",
        "\n",
        "\n",
        "\n",
        "print('ベストスコア:',grid.best_score_, sep=\"\\n\")\n",
        "print('\\n')\n",
        "print('ベストestimator:',grid.best_estimator_,sep=\"\\n\")\n",
        "print('\\n')\n",
        "print('ベストparams:',grid.best_params_,sep=\"\\n\")\n",
        "\n",
        "print(pd.DataFrame(grid.cv_results_))\n",
        "\n",
        "# Grid Searchで一番精度が良かったモデル\n",
        "bestmodel = grid.best_estimator_\n",
        "get_model_evaluations(X_train,Y_train,X_test,Y_test,bestmodel)"
      ],
      "execution_count": null,
      "outputs": [
        {
          "output_type": "error",
          "ename": "NameError",
          "evalue": "ignored",
          "traceback": [
            "\u001b[0;31m---------------------------------------------------------------------------\u001b[0m",
            "\u001b[0;31mNameError\u001b[0m                                 Traceback (most recent call last)",
            "\u001b[0;32m<ipython-input-42-2ce0a63510c9>\u001b[0m in \u001b[0;36m<module>\u001b[0;34m()\u001b[0m\n\u001b[1;32m     12\u001b[0m }\n\u001b[1;32m     13\u001b[0m \u001b[0;31m# Create a based model\u001b[0m\u001b[0;34m\u001b[0m\u001b[0;34m\u001b[0m\u001b[0;34m\u001b[0m\u001b[0m\n\u001b[0;32m---> 14\u001b[0;31m \u001b[0mrf\u001b[0m \u001b[0;34m=\u001b[0m \u001b[0mRandomForestRegressor\u001b[0m\u001b[0;34m(\u001b[0m\u001b[0;34m)\u001b[0m\u001b[0;34m\u001b[0m\u001b[0;34m\u001b[0m\u001b[0m\n\u001b[0m\u001b[1;32m     15\u001b[0m \u001b[0;31m# Instantiate the grid search model\u001b[0m\u001b[0;34m\u001b[0m\u001b[0;34m\u001b[0m\u001b[0;34m\u001b[0m\u001b[0m\n\u001b[1;32m     16\u001b[0m grid_search = GridSearchCV(estimator = rf, param_grid = param_grid, \n",
            "\u001b[0;31mNameError\u001b[0m: name 'RandomForestRegressor' is not defined"
          ]
        }
      ]
    },
    {
      "cell_type": "code",
      "metadata": {
        "colab": {
          "base_uri": "https://localhost:8080/",
          "height": 905
        },
        "id": "aTkW5oubR4MJ",
        "outputId": "1a64a302-1363-499b-a247-3a3b1fc6efbb"
      },
      "source": [
        "import matplotlib.pyplot as plt\n",
        "%matplotlib inline\n",
        "\n",
        "features = X_train.columns\n",
        "importances = model.feature_importances_\n",
        "indices = np.argsort(importances)\n",
        "\n",
        "plt.figure(figsize=(6,6))\n",
        "plt.barh(range(len(indices)), importances[indices], color='b', align='center')\n",
        "plt.yticks(range(len(indices)), features[indices])\n",
        "plt.show()\n",
        "\n",
        "\n",
        "feature_importances = pd.DataFrame([features, importances]).T\n",
        "feature_importances.columns = ['features', 'importances']\n",
        "df_s = feature_importances.sort_values('importances', ascending=False).reset_index(drop=True)\n",
        "df_s"
      ],
      "execution_count": 24,
      "outputs": [
        {
          "output_type": "display_data",
          "data": {
            "image/png": "[encoded data removed]",
            "text/plain": [
              "<Figure size 432x432 with 1 Axes>"
            ]
          },
          "metadata": {
            "needs_background": "light"
          }
        },
        {
          "output_type": "execute_result",
          "data": {
            "text/html": [
              "<div>\n",
              "<style scoped>\n",
              "    .dataframe tbody tr th:only-of-type {\n",
              "        vertical-align: middle;\n",
              "    }\n",
              "\n",
              "    .dataframe tbody tr th {\n",
              "        vertical-align: top;\n",
              "    }\n",
              "\n",
              "    .dataframe thead th {\n",
              "        text-align: right;\n",
              "    }\n",
              "</style>\n",
              "<table border=\"1\" class=\"dataframe\">\n",
              "  <thead>\n",
              "    <tr style=\"text-align: right;\">\n",
              "      <th></th>\n",
              "      <th>features</th>\n",
              "      <th>importances</th>\n",
              "    </tr>\n",
              "  </thead>\n",
              "  <tbody>\n",
              "    <tr>\n",
              "      <th>0</th>\n",
              "      <td>cropped_A2_pretrained</td>\n",
              "      <td>0.38538</td>\n",
              "    </tr>\n",
              "    <tr>\n",
              "      <th>1</th>\n",
              "      <td>disc_B3_pretrained</td>\n",
              "      <td>0.286665</td>\n",
              "    </tr>\n",
              "    <tr>\n",
              "      <th>2</th>\n",
              "      <td>macula_B3_pretrained</td>\n",
              "      <td>0.167707</td>\n",
              "    </tr>\n",
              "    <tr>\n",
              "      <th>3</th>\n",
              "      <td>macula_A2_pretrained</td>\n",
              "      <td>0.0798388</td>\n",
              "    </tr>\n",
              "    <tr>\n",
              "      <th>4</th>\n",
              "      <td>cropped_B3_pretrained</td>\n",
              "      <td>0.0461165</td>\n",
              "    </tr>\n",
              "    <tr>\n",
              "      <th>5</th>\n",
              "      <td>disc_A2_pretrained</td>\n",
              "      <td>0.0139764</td>\n",
              "    </tr>\n",
              "    <tr>\n",
              "      <th>6</th>\n",
              "      <td>vascular_B3_pretrained</td>\n",
              "      <td>0.00370023</td>\n",
              "    </tr>\n",
              "    <tr>\n",
              "      <th>7</th>\n",
              "      <td>vascular_A2_pretrained</td>\n",
              "      <td>0.00349179</td>\n",
              "    </tr>\n",
              "    <tr>\n",
              "      <th>8</th>\n",
              "      <td>macula_A2</td>\n",
              "      <td>0.00222937</td>\n",
              "    </tr>\n",
              "    <tr>\n",
              "      <th>9</th>\n",
              "      <td>vascular_B3</td>\n",
              "      <td>0.00206091</td>\n",
              "    </tr>\n",
              "    <tr>\n",
              "      <th>10</th>\n",
              "      <td>disc_B3</td>\n",
              "      <td>0.00192981</td>\n",
              "    </tr>\n",
              "    <tr>\n",
              "      <th>11</th>\n",
              "      <td>cropped_A2</td>\n",
              "      <td>0.00165738</td>\n",
              "    </tr>\n",
              "    <tr>\n",
              "      <th>12</th>\n",
              "      <td>macula_B3</td>\n",
              "      <td>0.00143948</td>\n",
              "    </tr>\n",
              "    <tr>\n",
              "      <th>13</th>\n",
              "      <td>cropped_B3</td>\n",
              "      <td>0.00140428</td>\n",
              "    </tr>\n",
              "    <tr>\n",
              "      <th>14</th>\n",
              "      <td>disc_A2</td>\n",
              "      <td>0.00137567</td>\n",
              "    </tr>\n",
              "    <tr>\n",
              "      <th>15</th>\n",
              "      <td>vascular_A2</td>\n",
              "      <td>0.0010274</td>\n",
              "    </tr>\n",
              "  </tbody>\n",
              "</table>\n",
              "</div>"
            ],
            "text/plain": [
              "                  features importances\n",
              "0    cropped_A2_pretrained     0.38538\n",
              "1       disc_B3_pretrained    0.286665\n",
              "2     macula_B3_pretrained    0.167707\n",
              "3     macula_A2_pretrained   0.0798388\n",
              "4    cropped_B3_pretrained   0.0461165\n",
              "5       disc_A2_pretrained   0.0139764\n",
              "6   vascular_B3_pretrained  0.00370023\n",
              "7   vascular_A2_pretrained  0.00349179\n",
              "8                macula_A2  0.00222937\n",
              "9              vascular_B3  0.00206091\n",
              "10                 disc_B3  0.00192981\n",
              "11              cropped_A2  0.00165738\n",
              "12               macula_B3  0.00143948\n",
              "13              cropped_B3  0.00140428\n",
              "14                 disc_A2  0.00137567\n",
              "15             vascular_A2   0.0010274"
            ]
          },
          "metadata": {},
          "execution_count": 24
        }
      ]
    },
    {
      "cell_type": "code",
      "metadata": {
        "id": "rci5gcXQQ9XG"
      },
      "source": [
        "\"\"\"\n",
        "plt.figure(figsize=(8,8))\n",
        "plt.title('Importances')\n",
        "plt.rcParams['font.size']=10\n",
        "sns.barplot(y='features', x='importances', data=df_s, palette='viridis')\n",
        "\"\"\""
      ],
      "execution_count": null,
      "outputs": []
    },
    {
      "cell_type": "code",
      "metadata": {
        "colab": {
          "base_uri": "https://localhost:8080/",
          "height": 517
        },
        "id": "Y8DihmVVSbKI",
        "outputId": "6a78ff4d-778c-427b-a783-8ba27e52e862"
      },
      "source": [
        "# 描画設定\n",
        "from matplotlib import rcParams\n",
        "rcParams['xtick.labelsize'] = 12       # x軸のラベルのフォントサイズ\n",
        "rcParams['ytick.labelsize'] = 12       # y軸のラベルのフォントサイズ\n",
        "rcParams['figure.figsize'] = 8,8      # 画像サイズの変更(inch)\n",
        "\n",
        "import matplotlib.pyplot as plt\n",
        "from matplotlib import ticker\n",
        "sns.set_style(\"whitegrid\")             # seabornのスタイルセットの一つ\n",
        "sns.set_color_codes()                  # デフォルトカラー設定 (deepになってる)\n",
        "\n",
        "plt.figure()\n",
        "ax = sns.regplot(x=Y_test, y=model.predict(X_test), fit_reg=False,color='#4F81BD')\n",
        "ax.set_xlabel(u\"True Age\")\n",
        "ax.set_ylabel(u\"Predicted Age\")\n",
        "ax.get_xaxis().set_major_formatter(ticker.FuncFormatter(lambda x, p: format(int(x), ',')))\n",
        "ax.get_yaxis().set_major_formatter(ticker.FuncFormatter(lambda y, p: format(int(y), ',')))\n",
        "ax.plot([0,10,20,30,40,50],[0,10,20,30,40,50], linewidth=2, color=\"#C0504D\",ls=\"--\")"
      ],
      "execution_count": 12,
      "outputs": [
        {
          "output_type": "execute_result",
          "data": {
            "text/plain": [
              "[<matplotlib.lines.Line2D at 0x7efcbe7c7ed0>]"
            ]
          },
          "metadata": {},
          "execution_count": 12
        },
        {
          "output_type": "display_data",
          "data": {
            "image/png": "[encoded data removed]",
            "text/plain": [
              "<Figure size 576x576 with 1 Axes>"
            ]
          },
          "metadata": {}
        }
      ]
    },
    {
      "cell_type": "markdown",
      "metadata": {
        "id": "pN3Qw-hrjFi-"
      },
      "source": [
        "#**Analysis using neural network**"
      ]
    },
    {
      "cell_type": "code",
      "metadata": {
        "colab": {
          "base_uri": "https://localhost:8080/"
        },
        "id": "fwwcmwczMwfE",
        "outputId": "6e09f51d-f56e-4ee5-dafa-e451515fd2c2"
      },
      "source": [
        "#正規化する\n",
        "from sklearn.preprocessing import StandardScaler  \n",
        "scaler = StandardScaler()  \n",
        "scaler.fit(X_train)  \n",
        "X_train = scaler.transform(X_train)  \n",
        "X_test = scaler.transform(X_test)\n",
        "\n",
        "#モデル作成\n",
        "import numpy as np\n",
        "from sklearn.neural_network import MLPRegressor\n",
        "model = MLPRegressor(alpha=0.1, hidden_layer_sizes=(100, 100, 100), learning_rate='adaptive', max_iter=500, random_state=42, solver=\"lbfgs\", early_stopping=True) \n",
        "model.fit(X_train,Y_train) \n",
        "\n",
        "\n",
        "\"\"\"\n",
        "初期設定：\n",
        "\n",
        "MLPRegressor(activation='relu', alpha=0.0001, batch_size='auto', beta_1=0.9,\n",
        "       beta_2=0.999, early_stopping=False, epsilon=1e-08,\n",
        "       hidden_layer_sizes=(100,), learning_rate='constant',\n",
        "       learning_rate_init=0.001, max_iter=200, momentum=0.9,\n",
        "       nesterovs_momentum=True, power_t=0.5, random_state=None,\n",
        "       shuffle=True, solver='adam', tol=0.0001, validation_fraction=0.1,\n",
        "       verbose=False, warm_start=False)\n",
        "\"\"\"\n",
        "\n",
        "\n",
        "# 自由度調整済みr2を算出\n",
        "def adjusted_r2(X,Y,model):\n",
        "    from sklearn.metrics import r2_score\n",
        "    import numpy as np\n",
        "    r_squared = r2_score(Y, model.predict(X))\n",
        "    adjusted_r2 = 1 - (1-r_squared)*(len(Y)-1)/(len(Y)-X.shape[1]-1)\n",
        "    #yhat = model.predict(X) \\ #SS_Residual = sum((Y-yhat)**2) \\ #SS_Total = sum((Y-np.mean(Y))**2)\n",
        "    #r_squared = 1 - (float(SS_Residual))/ SS_Total\n",
        "    return adjusted_r2\n",
        "\n",
        "# 予測モデルの精度確認の各種指標を算出\n",
        "def get_model_evaluations(X_train,Y_train,X_test,Y_test,model):\n",
        "    from sklearn.metrics import explained_variance_score\n",
        "    from sklearn.metrics import mean_absolute_error\n",
        "    from sklearn.metrics import mean_squared_error\n",
        "    from sklearn.metrics import mean_squared_log_error\n",
        "    from sklearn.metrics import median_absolute_error\n",
        "\n",
        "   # 評価指標確認\n",
        "   # 参考: https://funatsu-lab.github.io/open-course-ware/basic-theory/accuracy-index/\n",
        "    yhat_test = model.predict(X_test)\n",
        "    return \"adjusted_r2(train)     :\" + str(adjusted_r2(X_train,Y_train,model)) \\\n",
        "         , \"adjusted_r2(test)      :\" + str(adjusted_r2(X_test,Y_test,model)) \\\n",
        "         , \"平均誤差率(test)       :\" + str(np.mean(abs(Y_test / yhat_test - 1))) \\\n",
        "         , \"MAE(test)              :\" + str(mean_absolute_error(Y_test, yhat_test)) \\\n",
        "         , \"MedianAE(test)         :\" + str(median_absolute_error(Y_test, yhat_test)) \\\n",
        "         , \"RMSE(test)             :\" + str(np.sqrt(mean_squared_error(Y_test, yhat_test))) \\\n",
        "         , \"RMSE(test) / MAE(test) :\" + str(np.sqrt(mean_squared_error(Y_test, yhat_test)) / mean_absolute_error(Y_test, yhat_test)) #better if result = 1.253\n",
        "\n",
        "get_model_evaluations(X_train,Y_train,X_test,Y_test,model)"
      ],
      "execution_count": null,
      "outputs": [
        {
          "output_type": "stream",
          "name": "stderr",
          "text": [
            "/usr/local/lib/python3.7/dist-packages/sklearn/neural_network/_multilayer_perceptron.py:470: ConvergenceWarning: lbfgs failed to converge (status=1):\n",
            "STOP: TOTAL NO. of ITERATIONS REACHED LIMIT.\n",
            "\n",
            "Increase the number of iterations (max_iter) or scale the data as shown in:\n",
            "    https://scikit-learn.org/stable/modules/preprocessing.html\n",
            "  self.n_iter_ = _check_optimize_result(\"lbfgs\", opt_res, self.max_iter)\n"
          ]
        },
        {
          "output_type": "execute_result",
          "data": {
            "text/plain": [
              "('adjusted_r2(train)     :0.9985855464473465',\n",
              " 'adjusted_r2(test)      :0.9232505451500271',\n",
              " '平均誤差率(test)       :0.0559891829790846',\n",
              " 'MAE(test)              :2.9263694308576333',\n",
              " 'MedianAE(test)         :2.0810153147193873',\n",
              " 'RMSE(test)             :4.108713223309058',\n",
              " 'RMSE(test) / MAE(test) :1.4040309401759006')"
            ]
          },
          "metadata": {},
          "execution_count": 31
        }
      ]
    },
    {
      "cell_type": "code",
      "metadata": {
        "id": "bIcqR8-Nj1E9",
        "colab": {
          "base_uri": "https://localhost:8080/",
          "height": 517
        },
        "outputId": "5ff035c0-25e9-42f7-fee2-24acf8be7a92"
      },
      "source": [
        "# 描画設定\n",
        "from matplotlib import rcParams\n",
        "rcParams['xtick.labelsize'] = 12       # x軸のラベルのフォントサイズ\n",
        "rcParams['ytick.labelsize'] = 12       # y軸のラベルのフォントサイズ\n",
        "rcParams['figure.figsize'] = 8,8      # 画像サイズの変更(inch)\n",
        "\n",
        "import matplotlib.pyplot as plt\n",
        "from matplotlib import ticker\n",
        "sns.set_style(\"whitegrid\")             # seabornのスタイルセットの一つ\n",
        "sns.set_color_codes()                  # デフォルトカラー設定 (deepになってる)\n",
        "\n",
        "plt.figure()\n",
        "ax = sns.regplot(x=Y_test, y=model.predict(X_test), fit_reg=False,color='#4F81BD')\n",
        "ax.set_xlabel(u\"True Age\")\n",
        "ax.set_ylabel(u\"Predicted Age\")\n",
        "ax.get_xaxis().set_major_formatter(ticker.FuncFormatter(lambda x, p: format(int(x), ',')))\n",
        "ax.get_yaxis().set_major_formatter(ticker.FuncFormatter(lambda y, p: format(int(y), ',')))\n",
        "ax.plot([0,10,20,30,40,50],[0,10,20,30,40,50], linewidth=2, color=\"#C0504D\",ls=\"--\")"
      ],
      "execution_count": null,
      "outputs": [
        {
          "output_type": "execute_result",
          "data": {
            "text/plain": [
              "[<matplotlib.lines.Line2D at 0x7f91f6fe2ed0>]"
            ]
          },
          "metadata": {},
          "execution_count": 32
        },
        {
          "output_type": "display_data",
          "data": {
            "image/png": "[encoded data removed]",
            "text/plain": [
              "<Figure size 576x576 with 1 Axes>"
            ]
          },
          "metadata": {}
        }
      ]
    }
  ]
}