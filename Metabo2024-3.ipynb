{
  "nbformat": 4,
  "nbformat_minor": 0,
  "metadata": {
    "colab": {
      "provenance": [],
      "gpuType": "T4",
      "authorship_tag": "ABX9TyOBYBbWwROTjweqgF2I9MLI",
      "include_colab_link": true
    },
    "kernelspec": {
      "name": "python3",
      "display_name": "Python 3"
    },
    "language_info": {
      "name": "python"
    },
    "accelerator": "GPU"
  },
  "cells": [
    {
      "cell_type": "markdown",
      "metadata": {
        "id": "view-in-github",
        "colab_type": "text"
      },
      "source": [
        "<a href=\"https://colab.research.google.com/github/ykitaguchi77/FundusPhoto/blob/main/Metabo2024-3.ipynb\" target=\"_parent\"><img src=\"https://colab.research.google.com/assets/colab-badge.svg\" alt=\"Open In Colab\"/></a>"
      ]
    },
    {
      "cell_type": "markdown",
      "source": [
        "#**Load Pretrained Weight**\n",
        "\n"
      ],
      "metadata": {
        "id": "lUP_5rul1lUM"
      }
    },
    {
      "cell_type": "code",
      "execution_count": null,
      "metadata": {
        "colab": {
          "base_uri": "https://localhost:8080/"
        },
        "id": "JqhhlAFM1kQq",
        "outputId": "789a303f-e119-488f-b57e-a70e15c9da73"
      },
      "outputs": [
        {
          "output_type": "stream",
          "name": "stdout",
          "text": [
            "\u001b[?25l   \u001b[90m━━━━━━━━━━━━━━━━━━━━━━━━━━━━━━━━━━━━━━━━\u001b[0m \u001b[32m0.0/431.5 kB\u001b[0m \u001b[31m?\u001b[0m eta \u001b[36m-:--:--\u001b[0m\r\u001b[2K   \u001b[90m━━━━━━━━━━━━━━━━━━━━━━━━━━━━━━━━━━━━━━━━\u001b[0m \u001b[32m431.5/431.5 kB\u001b[0m \u001b[31m14.5 MB/s\u001b[0m eta \u001b[36m0:00:00\u001b[0m\n",
            "\u001b[?25h"
          ]
        }
      ],
      "source": [
        "# 必要ライブラリ読み込み\n",
        "!pip install timm==0.5.4 --q #timmのバージョンが違うとうまくstate dictできないので注意！！！\n",
        "import random\n",
        "import timm\n",
        "import copy\n",
        "import torchvision.transforms as transforms\n",
        "import torch.utils.data as data\n",
        "from torch.utils.data import Dataset, DataLoader\n",
        "import torch\n",
        "import torch.nn as nn\n",
        "import torch.optim as optim\n",
        "from torch.optim.lr_scheduler import ReduceLROnPlateau\n",
        "from timm.scheduler import CosineLRScheduler\n",
        "import numpy as np\n",
        "from PIL import Image\n",
        "from tqdm.notebook import tqdm\n",
        "import os\n",
        "import glob\n",
        "import pandas as pd\n",
        "import torch\n",
        "from sklearn.model_selection import train_test_split\n",
        "from sklearn.metrics import accuracy_score, classification_report\n",
        "from sklearn.metrics import mean_squared_error, r2_score\n",
        "import time\n",
        "import matplotlib.pyplot as plt\n",
        "%matplotlib inline\n",
        "\n",
        "\n",
        "# Mount Google Drive\n",
        "from google.colab import drive\n",
        "drive.mount('/content/drive')\n",
        "\n",
        "# モデル枠組み読み込み\n",
        "model = timm.create_model(model_name='swin_base_patch4_window12_384', num_classes=1, pretrained=False)\n",
        "\n",
        "# GPU使用する場合\n",
        "device = torch.device(\"cuda:0\" if torch.cuda.is_available() else \"cpu\")\n",
        "print(device)\n",
        "model = model.to(device)\n",
        "\n",
        "# 学習済みモデル読み込み\n",
        "model_path = '/content/drive/MyDrive/Deep_learning/Fundus_metabolic/model_20220903.pth'\n",
        "#model.load_state_dict(torch.load(model_path, map_location=torch.device('cpu')))\n",
        "model.load_state_dict(torch.load(model_path))\n"
      ]
    },
    {
      "cell_type": "code",
      "source": [
        "original_csv_path = \"/content/drive/MyDrive/Deep_learning/Fundus_metabolic/label_train.csv\"\n",
        "original_df = pd.read_csv(original_csv_path)\n",
        "\n",
        "# Load the provided metabo_disease.csv file again\n",
        "disease_csv_path = '/content/drive/MyDrive/Deep_learning/Fundus_metabolic/metabo_disease.csv'\n",
        "disease_df = pd.read_csv(disease_csv_path)\n",
        "\n",
        "# Filter the disease_df to get only rows where reason is \"AH\" or \"Blur\"\n",
        "#exclude_df = disease_df[disease_df['reason'].isin(['AH', 'Blur', 'ERM', \"Hemorrhage\", \"Coagulation\", \"VO\", \"Degeneration\", \"AMD\", \"CRA\", \"Drusen\"])]\n",
        "exclude_df = disease_df[disease_df['reason'].isin(['AH', 'Blur', 'ERM', \"Hemorrhage\", \"Coagulation\", \"VO\", \"Degeneration\", \"AMD\", \"CRA\", \"Drusen\"])]\n",
        "\n",
        "# Extract the ids (filenames) from ah_blur_df that match the 'AH' or 'Blur' criteria\n",
        "ah_blur_ids = exclude_df['id'].tolist()\n",
        "\n",
        "# Now remove these filenames from comparison_df\n",
        "cleaned_df = original_df[~original_df['filename'].isin(ah_blur_ids)]\n",
        "len(cleaned_df)"
      ],
      "metadata": {
        "id": "qMs5-uJf1tJN"
      },
      "execution_count": null,
      "outputs": []
    }
  ]
}