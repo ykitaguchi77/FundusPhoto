{
  "nbformat": 4,
  "nbformat_minor": 0,
  "metadata": {
    "colab": {
      "name": "Untitled63.ipynb",
      "provenance": [],
      "machine_shape": "hm",
      "authorship_tag": "ABX9TyPj3Byg+goRw3hf1D5llfTd",
      "include_colab_link": true
    },
    "kernelspec": {
      "name": "python3",
      "display_name": "Python 3"
    },
    "language_info": {
      "name": "python"
    },
    "accelerator": "GPU"
  },
  "cells": [
    {
      "cell_type": "markdown",
      "metadata": {
        "id": "view-in-github",
        "colab_type": "text"
      },
      "source": [
        "<a href=\"https://colab.research.google.com/github/ykitaguchi77/FundusPhoto/blob/main/Retina-VesselNet.ipynb\" target=\"_parent\"><img src=\"https://colab.research.google.com/assets/colab-badge.svg\" alt=\"Open In Colab\"/></a>"
      ]
    },
    {
      "cell_type": "markdown",
      "metadata": {
        "id": "YRHXSXJq2jy9"
      },
      "source": [
        "#**Retinal-VesselNet under Tensorflow2 [OneForAll]**\n",
        "a segmentation model based on U-net for the task of retinal-vessel segmentation\n",
        "\n",
        "**AUTHOR**: github @deeptrial\n",
        "\n",
        "**PROJECT HOMEPAGE**: https://github.com/DeepTrial/Retina-VesselNet\n",
        "\n",
        "**New Features**：\n",
        "\n",
        "support tensorflow2<br>\n",
        "support google colab<br>\n",
        "more comprehensive notes<br>\n",
        "more concise code<br>\n",
        "#**[Part-I] Environment Preparation**\n",
        "If you are using Colab, Please remember to switch GPU mode before the following steps<br>\n",
        "如果在使用Google Colab，请确认已启用GPU加速"
      ]
    },
    {
      "cell_type": "markdown",
      "metadata": {
        "id": "awNgOyDq28E8"
      },
      "source": [
        "#**Check the GPU**"
      ]
    },
    {
      "cell_type": "code",
      "metadata": {
        "colab": {
          "base_uri": "https://localhost:8080/"
        },
        "id": "CzYfc20g2enb",
        "outputId": "422833ee-0771-448f-ff9d-e041ef95e2e5"
      },
      "source": [
        "!nvidia-smi\n",
        "import os\n",
        "import datetime\n",
        "os.environ['CUDA_VISIBLE_DEVICES'] = \"1\"     #use GPU-0 \n",
        "%load_ext tensorboard"
      ],
      "execution_count": 1,
      "outputs": [
        {
          "output_type": "stream",
          "name": "stdout",
          "text": [
            "Thu Sep  2 09:34:07 2021       \n",
            "+-----------------------------------------------------------------------------+\n",
            "| NVIDIA-SMI 470.57.02    Driver Version: 460.32.03    CUDA Version: 11.2     |\n",
            "|-------------------------------+----------------------+----------------------+\n",
            "| GPU  Name        Persistence-M| Bus-Id        Disp.A | Volatile Uncorr. ECC |\n",
            "| Fan  Temp  Perf  Pwr:Usage/Cap|         Memory-Usage | GPU-Util  Compute M. |\n",
            "|                               |                      |               MIG M. |\n",
            "|===============================+======================+======================|\n",
            "|   0  Tesla T4            Off  | 00000000:00:04.0 Off |                    0 |\n",
            "| N/A   35C    P8     9W /  70W |      0MiB / 15109MiB |      0%      Default |\n",
            "|                               |                      |                  N/A |\n",
            "+-------------------------------+----------------------+----------------------+\n",
            "                                                                               \n",
            "+-----------------------------------------------------------------------------+\n",
            "| Processes:                                                                  |\n",
            "|  GPU   GI   CI        PID   Type   Process name                  GPU Memory |\n",
            "|        ID   ID                                                   Usage      |\n",
            "|=============================================================================|\n",
            "|  No running processes found                                                 |\n",
            "+-----------------------------------------------------------------------------+\n"
          ]
        }
      ]
    },
    {
      "cell_type": "markdown",
      "metadata": {
        "id": "44tQwr2i3CqN"
      },
      "source": [
        "#**Check the version of Tensorflow**"
      ]
    },
    {
      "cell_type": "code",
      "metadata": {
        "colab": {
          "base_uri": "https://localhost:8080/"
        },
        "id": "PjhZvUsc2jU2",
        "outputId": "7d9b3515-28dc-4cc0-e556-19cd35a5afd9"
      },
      "source": [
        "import tensorflow as tf\n",
        "\n",
        "print(tf.__version__)\n",
        "print(tf.config.list_physical_devices('GPU'))\n",
        "gpus=tf.config.list_physical_devices('GPU')\n",
        "for gpu in gpus:\n",
        "    tf.config.experimental.set_memory_growth(gpu, True)"
      ],
      "execution_count": 2,
      "outputs": [
        {
          "output_type": "stream",
          "name": "stdout",
          "text": [
            "2.6.0\n",
            "[]\n"
          ]
        }
      ]
    },
    {
      "cell_type": "markdown",
      "metadata": {
        "id": "iL6ZUQ8z3NFt"
      },
      "source": [
        "#**Install the requirement package**"
      ]
    },
    {
      "cell_type": "code",
      "metadata": {
        "colab": {
          "base_uri": "https://localhost:8080/",
          "height": 1000
        },
        "id": "D7YwFBx03K18",
        "outputId": "db6080cf-dc6c-43ec-ebd3-ec7cfed61a34"
      },
      "source": [
        "!pip install tqdm\n",
        "!pip install matplotlib\n",
        "!pip install opencv-python\n",
        "!pip install tf-nightly\n",
        "!pip install scikit-learn\n",
        "\n",
        "!pip install onnxruntime\n",
        "!pip install -U tf2onnx"
      ],
      "execution_count": 3,
      "outputs": [
        {
          "output_type": "stream",
          "name": "stdout",
          "text": [
            "Requirement already satisfied: tqdm in /usr/local/lib/python3.7/dist-packages (4.62.0)\n",
            "Requirement already satisfied: matplotlib in /usr/local/lib/python3.7/dist-packages (3.2.2)\n",
            "Requirement already satisfied: python-dateutil>=2.1 in /usr/local/lib/python3.7/dist-packages (from matplotlib) (2.8.2)\n",
            "Requirement already satisfied: numpy>=1.11 in /usr/local/lib/python3.7/dist-packages (from matplotlib) (1.19.5)\n",
            "Requirement already satisfied: cycler>=0.10 in /usr/local/lib/python3.7/dist-packages (from matplotlib) (0.10.0)\n",
            "Requirement already satisfied: pyparsing!=2.0.4,!=2.1.2,!=2.1.6,>=2.0.1 in /usr/local/lib/python3.7/dist-packages (from matplotlib) (2.4.7)\n",
            "Requirement already satisfied: kiwisolver>=1.0.1 in /usr/local/lib/python3.7/dist-packages (from matplotlib) (1.3.1)\n",
            "Requirement already satisfied: six in /usr/local/lib/python3.7/dist-packages (from cycler>=0.10->matplotlib) (1.15.0)\n",
            "Requirement already satisfied: opencv-python in /usr/local/lib/python3.7/dist-packages (4.1.2.30)\n",
            "Requirement already satisfied: numpy>=1.14.5 in /usr/local/lib/python3.7/dist-packages (from opencv-python) (1.19.5)\n",
            "Collecting tf-nightly\n",
            "  Downloading tf_nightly-2.7.0.dev20210902-cp37-cp37m-manylinux2010_x86_64.whl (468.5 MB)\n",
            "\u001b[K     |████████████████████████████████| 468.5 MB 19 kB/s \n",
            "\u001b[?25hCollecting flatbuffers~=2.0\n",
            "  Downloading flatbuffers-2.0-py2.py3-none-any.whl (26 kB)\n",
            "Collecting keras-nightly~=2.7.0.dev\n",
            "  Downloading keras_nightly-2.7.0.dev2021090207-py2.py3-none-any.whl (1.3 MB)\n",
            "\u001b[K     |████████████████████████████████| 1.3 MB 87.6 MB/s \n",
            "\u001b[?25hRequirement already satisfied: opt-einsum~=3.3.0 in /usr/local/lib/python3.7/dist-packages (from tf-nightly) (3.3.0)\n",
            "Requirement already satisfied: h5py~=3.1.0 in /usr/local/lib/python3.7/dist-packages (from tf-nightly) (3.1.0)\n",
            "Requirement already satisfied: typing-extensions~=3.7.4 in /usr/local/lib/python3.7/dist-packages (from tf-nightly) (3.7.4.3)\n",
            "Requirement already satisfied: absl-py~=0.10 in /usr/local/lib/python3.7/dist-packages (from tf-nightly) (0.12.0)\n",
            "Collecting tensorflow-io-gcs-filesystem>=0.20.0\n",
            "  Downloading tensorflow_io_gcs_filesystem-0.20.0-cp37-cp37m-manylinux_2_12_x86_64.manylinux2010_x86_64.whl (2.3 MB)\n",
            "\u001b[K     |████████████████████████████████| 2.3 MB 73.0 MB/s \n",
            "\u001b[?25hCollecting tb-nightly~=2.7.0.a\n",
            "  Downloading tb_nightly-2.7.0a20210901-py3-none-any.whl (5.7 MB)\n",
            "\u001b[K     |████████████████████████████████| 5.7 MB 58.6 MB/s \n",
            "\u001b[?25hRequirement already satisfied: gast==0.4.0 in /usr/local/lib/python3.7/dist-packages (from tf-nightly) (0.4.0)\n",
            "Requirement already satisfied: protobuf>=3.9.2 in /usr/local/lib/python3.7/dist-packages (from tf-nightly) (3.17.3)\n",
            "Collecting tf-estimator-nightly~=2.7.0.dev\n",
            "  Downloading tf_estimator_nightly-2.7.0.dev2021090208-py2.py3-none-any.whl (463 kB)\n",
            "\u001b[K     |████████████████████████████████| 463 kB 83.6 MB/s \n",
            "\u001b[?25hRequirement already satisfied: numpy~=1.19.2 in /usr/local/lib/python3.7/dist-packages (from tf-nightly) (1.19.5)\n",
            "Requirement already satisfied: google-pasta~=0.2 in /usr/local/lib/python3.7/dist-packages (from tf-nightly) (0.2.0)\n",
            "Collecting libclang~=11.1.0\n",
            "  Downloading libclang-11.1.0-py2.py3-none-manylinux1_x86_64.whl (12.8 MB)\n",
            "\u001b[K     |████████████████████████████████| 12.8 MB 26.4 MB/s \n",
            "\u001b[?25hRequirement already satisfied: six~=1.15.0 in /usr/local/lib/python3.7/dist-packages (from tf-nightly) (1.15.0)\n",
            "Requirement already satisfied: wheel~=0.35 in /usr/local/lib/python3.7/dist-packages (from tf-nightly) (0.37.0)\n",
            "Requirement already satisfied: termcolor~=1.1.0 in /usr/local/lib/python3.7/dist-packages (from tf-nightly) (1.1.0)\n",
            "Requirement already satisfied: keras-preprocessing~=1.1.2 in /usr/local/lib/python3.7/dist-packages (from tf-nightly) (1.1.2)\n",
            "Requirement already satisfied: astunparse~=1.6.3 in /usr/local/lib/python3.7/dist-packages (from tf-nightly) (1.6.3)\n",
            "Requirement already satisfied: grpcio<2.0,>=1.37.0 in /usr/local/lib/python3.7/dist-packages (from tf-nightly) (1.39.0)\n",
            "Requirement already satisfied: wrapt~=1.12.1 in /usr/local/lib/python3.7/dist-packages (from tf-nightly) (1.12.1)\n",
            "Requirement already satisfied: cached-property in /usr/local/lib/python3.7/dist-packages (from h5py~=3.1.0->tf-nightly) (1.5.2)\n",
            "Requirement already satisfied: google-auth-oauthlib<0.5,>=0.4.1 in /usr/local/lib/python3.7/dist-packages (from tb-nightly~=2.7.0.a->tf-nightly) (0.4.5)\n",
            "Requirement already satisfied: requests<3,>=2.21.0 in /usr/local/lib/python3.7/dist-packages (from tb-nightly~=2.7.0.a->tf-nightly) (2.23.0)\n",
            "Requirement already satisfied: tensorboard-data-server<0.7.0,>=0.6.0 in /usr/local/lib/python3.7/dist-packages (from tb-nightly~=2.7.0.a->tf-nightly) (0.6.1)\n",
            "Requirement already satisfied: tensorboard-plugin-wit>=1.6.0 in /usr/local/lib/python3.7/dist-packages (from tb-nightly~=2.7.0.a->tf-nightly) (1.8.0)\n",
            "Requirement already satisfied: setuptools>=41.0.0 in /usr/local/lib/python3.7/dist-packages (from tb-nightly~=2.7.0.a->tf-nightly) (57.4.0)\n",
            "Requirement already satisfied: google-auth<3,>=1.6.3 in /usr/local/lib/python3.7/dist-packages (from tb-nightly~=2.7.0.a->tf-nightly) (1.34.0)\n",
            "Requirement already satisfied: werkzeug>=0.11.15 in /usr/local/lib/python3.7/dist-packages (from tb-nightly~=2.7.0.a->tf-nightly) (1.0.1)\n",
            "Requirement already satisfied: markdown>=2.6.8 in /usr/local/lib/python3.7/dist-packages (from tb-nightly~=2.7.0.a->tf-nightly) (3.3.4)\n",
            "Requirement already satisfied: rsa<5,>=3.1.4 in /usr/local/lib/python3.7/dist-packages (from google-auth<3,>=1.6.3->tb-nightly~=2.7.0.a->tf-nightly) (4.7.2)\n",
            "Requirement already satisfied: cachetools<5.0,>=2.0.0 in /usr/local/lib/python3.7/dist-packages (from google-auth<3,>=1.6.3->tb-nightly~=2.7.0.a->tf-nightly) (4.2.2)\n",
            "Requirement already satisfied: pyasn1-modules>=0.2.1 in /usr/local/lib/python3.7/dist-packages (from google-auth<3,>=1.6.3->tb-nightly~=2.7.0.a->tf-nightly) (0.2.8)\n",
            "Requirement already satisfied: requests-oauthlib>=0.7.0 in /usr/local/lib/python3.7/dist-packages (from google-auth-oauthlib<0.5,>=0.4.1->tb-nightly~=2.7.0.a->tf-nightly) (1.3.0)\n",
            "Requirement already satisfied: importlib-metadata in /usr/local/lib/python3.7/dist-packages (from markdown>=2.6.8->tb-nightly~=2.7.0.a->tf-nightly) (4.6.4)\n",
            "Requirement already satisfied: pyasn1<0.5.0,>=0.4.6 in /usr/local/lib/python3.7/dist-packages (from pyasn1-modules>=0.2.1->google-auth<3,>=1.6.3->tb-nightly~=2.7.0.a->tf-nightly) (0.4.8)\n",
            "Requirement already satisfied: certifi>=2017.4.17 in /usr/local/lib/python3.7/dist-packages (from requests<3,>=2.21.0->tb-nightly~=2.7.0.a->tf-nightly) (2021.5.30)\n",
            "Requirement already satisfied: urllib3!=1.25.0,!=1.25.1,<1.26,>=1.21.1 in /usr/local/lib/python3.7/dist-packages (from requests<3,>=2.21.0->tb-nightly~=2.7.0.a->tf-nightly) (1.24.3)\n",
            "Requirement already satisfied: chardet<4,>=3.0.2 in /usr/local/lib/python3.7/dist-packages (from requests<3,>=2.21.0->tb-nightly~=2.7.0.a->tf-nightly) (3.0.4)\n",
            "Requirement already satisfied: idna<3,>=2.5 in /usr/local/lib/python3.7/dist-packages (from requests<3,>=2.21.0->tb-nightly~=2.7.0.a->tf-nightly) (2.10)\n",
            "Requirement already satisfied: oauthlib>=3.0.0 in /usr/local/lib/python3.7/dist-packages (from requests-oauthlib>=0.7.0->google-auth-oauthlib<0.5,>=0.4.1->tb-nightly~=2.7.0.a->tf-nightly) (3.1.1)\n",
            "Requirement already satisfied: zipp>=0.5 in /usr/local/lib/python3.7/dist-packages (from importlib-metadata->markdown>=2.6.8->tb-nightly~=2.7.0.a->tf-nightly) (3.5.0)\n",
            "Installing collected packages: tf-estimator-nightly, tensorflow-io-gcs-filesystem, tb-nightly, libclang, keras-nightly, flatbuffers, tf-nightly\n",
            "  Attempting uninstall: flatbuffers\n",
            "    Found existing installation: flatbuffers 1.12\n",
            "    Uninstalling flatbuffers-1.12:\n",
            "      Successfully uninstalled flatbuffers-1.12\n",
            "\u001b[31mERROR: pip's dependency resolver does not currently take into account all the packages that are installed. This behaviour is the source of the following dependency conflicts.\n",
            "tensorflow 2.6.0 requires flatbuffers~=1.12.0, but you have flatbuffers 2.0 which is incompatible.\u001b[0m\n",
            "Successfully installed flatbuffers-2.0 keras-nightly-2.7.0.dev2021090207 libclang-11.1.0 tb-nightly-2.7.0a20210901 tensorflow-io-gcs-filesystem-0.20.0 tf-estimator-nightly-2.7.0.dev2021090208 tf-nightly-2.7.0.dev20210902\n"
          ]
        },
        {
          "output_type": "display_data",
          "data": {
            "application/vnd.colab-display-data+json": {
              "pip_warning": {
                "packages": [
                  "flatbuffers",
                  "tensorboard",
                  "tensorflow"
                ]
              }
            }
          },
          "metadata": {}
        },
        {
          "output_type": "stream",
          "name": "stdout",
          "text": [
            "Requirement already satisfied: scikit-learn in /usr/local/lib/python3.7/dist-packages (0.22.2.post1)\n",
            "Requirement already satisfied: scipy>=0.17.0 in /usr/local/lib/python3.7/dist-packages (from scikit-learn) (1.4.1)\n",
            "Requirement already satisfied: numpy>=1.11.0 in /usr/local/lib/python3.7/dist-packages (from scikit-learn) (1.19.5)\n",
            "Requirement already satisfied: joblib>=0.11 in /usr/local/lib/python3.7/dist-packages (from scikit-learn) (1.0.1)\n",
            "Collecting onnxruntime\n",
            "  Downloading onnxruntime-1.8.1-cp37-cp37m-manylinux_2_17_x86_64.manylinux2014_x86_64.whl (4.5 MB)\n",
            "\u001b[K     |████████████████████████████████| 4.5 MB 8.2 MB/s \n",
            "\u001b[?25hRequirement already satisfied: flatbuffers in /usr/local/lib/python3.7/dist-packages (from onnxruntime) (2.0)\n",
            "Requirement already satisfied: protobuf in /usr/local/lib/python3.7/dist-packages (from onnxruntime) (3.17.3)\n",
            "Requirement already satisfied: numpy>=1.16.6 in /usr/local/lib/python3.7/dist-packages (from onnxruntime) (1.19.5)\n",
            "Requirement already satisfied: six>=1.9 in /usr/local/lib/python3.7/dist-packages (from protobuf->onnxruntime) (1.15.0)\n",
            "Installing collected packages: onnxruntime\n",
            "Successfully installed onnxruntime-1.8.1\n",
            "Collecting tf2onnx\n",
            "  Downloading tf2onnx-1.9.2-py3-none-any.whl (430 kB)\n",
            "\u001b[K     |████████████████████████████████| 430 kB 8.3 MB/s \n",
            "\u001b[?25hRequirement already satisfied: six in /usr/local/lib/python3.7/dist-packages (from tf2onnx) (1.15.0)\n",
            "Collecting onnx>=1.4.1\n",
            "  Downloading onnx-1.10.1-cp37-cp37m-manylinux_2_12_x86_64.manylinux2010_x86_64.whl (12.3 MB)\n",
            "\u001b[K     |████████████████████████████████| 12.3 MB 71.4 MB/s \n",
            "\u001b[?25hRequirement already satisfied: numpy>=1.14.1 in /usr/local/lib/python3.7/dist-packages (from tf2onnx) (1.19.5)\n",
            "Requirement already satisfied: requests in /usr/local/lib/python3.7/dist-packages (from tf2onnx) (2.23.0)\n",
            "Collecting flatbuffers~=1.12\n",
            "  Downloading flatbuffers-1.12-py2.py3-none-any.whl (15 kB)\n",
            "Requirement already satisfied: protobuf in /usr/local/lib/python3.7/dist-packages (from onnx>=1.4.1->tf2onnx) (3.17.3)\n",
            "Requirement already satisfied: typing-extensions>=3.6.2.1 in /usr/local/lib/python3.7/dist-packages (from onnx>=1.4.1->tf2onnx) (3.7.4.3)\n",
            "Requirement already satisfied: certifi>=2017.4.17 in /usr/local/lib/python3.7/dist-packages (from requests->tf2onnx) (2021.5.30)\n",
            "Requirement already satisfied: idna<3,>=2.5 in /usr/local/lib/python3.7/dist-packages (from requests->tf2onnx) (2.10)\n",
            "Requirement already satisfied: chardet<4,>=3.0.2 in /usr/local/lib/python3.7/dist-packages (from requests->tf2onnx) (3.0.4)\n",
            "Requirement already satisfied: urllib3!=1.25.0,!=1.25.1,<1.26,>=1.21.1 in /usr/local/lib/python3.7/dist-packages (from requests->tf2onnx) (1.24.3)\n",
            "Installing collected packages: onnx, flatbuffers, tf2onnx\n",
            "  Attempting uninstall: flatbuffers\n",
            "    Found existing installation: flatbuffers 2.0\n",
            "    Uninstalling flatbuffers-2.0:\n",
            "      Successfully uninstalled flatbuffers-2.0\n",
            "\u001b[31mERROR: pip's dependency resolver does not currently take into account all the packages that are installed. This behaviour is the source of the following dependency conflicts.\n",
            "tf-nightly 2.7.0.dev20210902 requires flatbuffers~=2.0, but you have flatbuffers 1.12 which is incompatible.\u001b[0m\n",
            "Successfully installed flatbuffers-1.12 onnx-1.10.1 tf2onnx-1.9.2\n"
          ]
        },
        {
          "output_type": "display_data",
          "data": {
            "application/vnd.colab-display-data+json": {
              "pip_warning": {
                "packages": [
                  "flatbuffers"
                ]
              }
            }
          },
          "metadata": {}
        }
      ]
    },
    {
      "cell_type": "markdown",
      "metadata": {
        "id": "rrMjCK7m3ZP1"
      },
      "source": [
        "#**Data preparation**"
      ]
    },
    {
      "cell_type": "code",
      "metadata": {
        "colab": {
          "base_uri": "https://localhost:8080/"
        },
        "id": "1xl9R4Jr3YPN",
        "outputId": "d7b3b958-0308-4b5a-ece0-34b96a3c065a"
      },
      "source": [
        "!apt-get install -y -qq software-properties-common python-software-properties module-init-tools\n",
        "!add-apt-repository -y ppa:alessandro-strada/ppa 2>&1 > /dev/null\n",
        "!apt-get update -qq 2>&1 > /dev/null\n",
        "!apt-get -y install -qq google-drive-ocamlfuse fuse\n",
        "from google.colab import auth\n",
        "auth.authenticate_user()\n",
        "from oauth2client.client import GoogleCredentials\n",
        "creds = GoogleCredentials.get_application_default()\n",
        "import getpass\n",
        "!google-drive-ocamlfuse -headless -id={creds.client_id} -secret={creds.client_secret} < /dev/null 2>&1 | grep URL\n",
        "vcode = getpass.getpass()\n",
        "!echo {vcode} | google-drive-ocamlfuse -headless -id={creds.client_id} -secret={creds.client_secret}"
      ],
      "execution_count": 4,
      "outputs": [
        {
          "output_type": "stream",
          "name": "stdout",
          "text": [
            "E: Package 'python-software-properties' has no installation candidate\n",
            "Selecting previously unselected package google-drive-ocamlfuse.\n",
            "(Reading database ... 148489 files and directories currently installed.)\n",
            "Preparing to unpack .../google-drive-ocamlfuse_0.7.26-0ubuntu1~ubuntu18.04.1_amd64.deb ...\n",
            "Unpacking google-drive-ocamlfuse (0.7.26-0ubuntu1~ubuntu18.04.1) ...\n",
            "Setting up google-drive-ocamlfuse (0.7.26-0ubuntu1~ubuntu18.04.1) ...\n",
            "Processing triggers for man-db (2.8.3-2ubuntu0.1) ...\n",
            "Please, open the following URL in a web browser: https://accounts.google.com/o/oauth2/auth?client_id=32555940559.apps.googleusercontent.com&redirect_uri=urn%3Aietf%3Awg%3Aoauth%3A2.0%3Aoob&scope=https%3A%2F%2Fwww.googleapis.com%2Fauth%2Fdrive&response_type=code&access_type=offline&approval_prompt=force\n",
            "··········\n",
            "Please, open the following URL in a web browser: https://accounts.google.com/o/oauth2/auth?client_id=32555940559.apps.googleusercontent.com&redirect_uri=urn%3Aietf%3Awg%3Aoauth%3A2.0%3Aoob&scope=https%3A%2F%2Fwww.googleapis.com%2Fauth%2Fdrive&response_type=code&access_type=offline&approval_prompt=force\n",
            "Please enter the verification code: Access token retrieved correctly.\n"
          ]
        }
      ]
    },
    {
      "cell_type": "code",
      "metadata": {
        "colab": {
          "base_uri": "https://localhost:8080/"
        },
        "id": "a1UtDQPI3gql",
        "outputId": "4fd8e6d8-f239-4492-ef2d-a77ca30fbb10"
      },
      "source": [
        "from google.colab import drive\n",
        "drive.mount('/content/drive/')"
      ],
      "execution_count": 6,
      "outputs": [
        {
          "output_type": "stream",
          "name": "stdout",
          "text": [
            "Mounted at /content/drive/\n"
          ]
        }
      ]
    },
    {
      "cell_type": "code",
      "metadata": {
        "colab": {
          "base_uri": "https://localhost:8080/"
        },
        "id": "BGeXHjM54Del",
        "outputId": "b29bc66e-cdc1-42ef-eed1-3a39babef861"
      },
      "source": [
        "#Extract dataset\n",
        "!apt-get install rar\n",
        "!rar x \"/content/drive/MyDrive/Deep_learning/FundusPhoto/VesselNet.rar\" \"/content\"\n"
      ],
      "execution_count": 8,
      "outputs": [
        {
          "output_type": "stream",
          "name": "stdout",
          "text": [
            "Reading package lists... Done\n",
            "Building dependency tree       \n",
            "Reading state information... Done\n",
            "rar is already the newest version (2:5.5.0-1).\n",
            "The following package was automatically installed and is no longer required:\n",
            "  libnvidia-common-460\n",
            "Use 'apt autoremove' to remove it.\n",
            "0 upgraded, 0 newly installed, 0 to remove and 57 not upgraded.\n",
            "\n",
            "RAR 5.50   Copyright (c) 1993-2017 Alexander Roshal   11 Aug 2017\n",
            "Trial version             Type 'rar -?' for help\n",
            "\n",
            "\n",
            "Extracting from /content/drive/MyDrive/Deep_learning/FundusPhoto/VesselNet.rar\n",
            "\n",
            "Creating    /content/VesselNet                                        OK\n",
            "Creating    /content/VesselNet/checkpoint                             OK\n",
            "Extracting  /content/VesselNet/checkpoint/DRIVE_PR.png                   \b\b\b\b  0%\b\b\b\b\b  OK \n",
            "Extracting  /content/VesselNet/checkpoint/DRIVE_ROC.png                  \b\b\b\b  0%\b\b\b\b\b  OK \n",
            "Extracting  /content/VesselNet/checkpoint/events.out.tfevents.1540367701.DESKTOP-PGVTMOP     \b\b\b\b  0%\b\b\b\b\b  OK \n",
            "Extracting  /content/VesselNet/checkpoint/events.out.tfevents.1540367877.DESKTOP-PGVTMOP     \b\b\b\b  0%\b\b\b\b\b  OK \n",
            "Extracting  /content/VesselNet/checkpoint/events.out.tfevents.1540368076.DESKTOP-PGVTMOP     \b\b\b\b  0%\b\b\b\b\b  OK \n",
            "Extracting  /content/VesselNet/checkpoint/groundtruth_patch.jpg          \b\b\b\b  0%\b\b\b\b\b  OK \n",
            "Extracting  /content/VesselNet/checkpoint/image_patch.jpg                \b\b\b\b  0%\b\b\b\b\b  OK \n",
            "Extracting  /content/VesselNet/checkpoint/model.png                      \b\b\b\b  0%\b\b\b\b  1%\b\b\b\b\b  OK \n",
            "Creating    /content/VesselNet/dataset                                OK\n",
            "Creating    /content/VesselNet/dataset/train                          OK\n",
            "Creating    /content/VesselNet/dataset/train/groundtruth              OK\n",
            "Extracting  /content/VesselNet/dataset/train/groundtruth/21_manual1.tif     \b\b\b\b  1%\b\b\b\b\b  OK \n",
            "Extracting  /content/VesselNet/dataset/train/groundtruth/22_manual1.tif     \b\b\b\b  1%\b\b\b\b\b  OK \n",
            "Extracting  /content/VesselNet/dataset/train/groundtruth/23_manual1.tif     \b\b\b\b  1%\b\b\b\b\b  OK \n",
            "Extracting  /content/VesselNet/dataset/train/groundtruth/24_manual1.tif     \b\b\b\b  1%\b\b\b\b\b  OK \n",
            "Extracting  /content/VesselNet/dataset/train/groundtruth/25_manual1.tif     \b\b\b\b  1%\b\b\b\b\b  OK \n",
            "Extracting  /content/VesselNet/dataset/train/groundtruth/26_manual1.tif     \b\b\b\b  1%\b\b\b\b\b  OK \n",
            "Extracting  /content/VesselNet/dataset/train/groundtruth/27_manual1.tif     \b\b\b\b  1%\b\b\b\b\b  OK \n",
            "Extracting  /content/VesselNet/dataset/train/groundtruth/28_manual1.tif     \b\b\b\b  1%\b\b\b\b\b  OK \n",
            "Extracting  /content/VesselNet/dataset/train/groundtruth/29_manual1.tif     \b\b\b\b  1%\b\b\b\b\b  OK \n",
            "Extracting  /content/VesselNet/dataset/train/groundtruth/30_manual1.tif     \b\b\b\b  1%\b\b\b\b\b  OK \n",
            "Extracting  /content/VesselNet/dataset/train/groundtruth/31_manual1.tif     \b\b\b\b  1%\b\b\b\b\b  OK \n",
            "Extracting  /content/VesselNet/dataset/train/groundtruth/32_manual1.tif     \b\b\b\b  1%\b\b\b\b\b  OK \n",
            "Extracting  /content/VesselNet/dataset/train/groundtruth/33_manual1.tif     \b\b\b\b  1%\b\b\b\b\b  OK \n",
            "Extracting  /content/VesselNet/dataset/train/groundtruth/34_manual1.tif     \b\b\b\b  1%\b\b\b\b\b  OK \n",
            "Extracting  /content/VesselNet/dataset/train/groundtruth/35_manual1.tif     \b\b\b\b  1%\b\b\b\b\b  OK \n",
            "Extracting  /content/VesselNet/dataset/train/groundtruth/36_manual1.tif     \b\b\b\b  1%\b\b\b\b\b  OK \n",
            "Extracting  /content/VesselNet/dataset/train/groundtruth/37_manual1.tif     \b\b\b\b  1%\b\b\b\b\b  OK \n",
            "Extracting  /content/VesselNet/dataset/train/groundtruth/38_manual1.tif     \b\b\b\b  1%\b\b\b\b\b  OK \n",
            "Extracting  /content/VesselNet/dataset/train/groundtruth/39_manual1.tif     \b\b\b\b  1%\b\b\b\b\b  OK \n",
            "Extracting  /content/VesselNet/dataset/train/groundtruth/40_manual1.tif     \b\b\b\b  1%\b\b\b\b\b  OK \n",
            "Extracting  /content/VesselNet/dataset/train/groundtruth/41_manual1.tif     \b\b\b\b  1%\b\b\b\b\b  OK \n",
            "Extracting  /content/VesselNet/dataset/train/groundtruth/42_manual1.tif     \b\b\b\b  1%\b\b\b\b\b  OK \n",
            "Extracting  /content/VesselNet/dataset/train/groundtruth/43_manual1.tif     \b\b\b\b  1%\b\b\b\b\b  OK \n",
            "Extracting  /content/VesselNet/dataset/train/groundtruth/44_manual1.tif     \b\b\b\b  1%\b\b\b\b\b  OK \n",
            "Extracting  /content/VesselNet/dataset/train/groundtruth/45_manual1.tif     \b\b\b\b  2%\b\b\b\b\b  OK \n",
            "Extracting  /content/VesselNet/dataset/train/groundtruth/46_manual1.tif     \b\b\b\b  2%\b\b\b\b\b  OK \n",
            "Extracting  /content/VesselNet/dataset/train/groundtruth/47_manual1.tif     \b\b\b\b  2%\b\b\b\b\b  OK \n",
            "Extracting  /content/VesselNet/dataset/train/groundtruth/48_manual1.tif     \b\b\b\b  2%\b\b\b\b\b  OK \n",
            "Extracting  /content/VesselNet/dataset/train/groundtruth/49_manual1.tif     \b\b\b\b  2%\b\b\b\b\b  OK \n",
            "Extracting  /content/VesselNet/dataset/train/groundtruth/50_manual1.tif     \b\b\b\b  2%\b\b\b\b\b  OK \n",
            "Extracting  /content/VesselNet/dataset/train/groundtruth/51_manual1.tif     \b\b\b\b  2%\b\b\b\b\b  OK \n",
            "Extracting  /content/VesselNet/dataset/train/groundtruth/52_manual1.tif     \b\b\b\b  2%\b\b\b\b\b  OK \n",
            "Extracting  /content/VesselNet/dataset/train/groundtruth/53_manual1.tif     \b\b\b\b  2%\b\b\b\b\b  OK \n",
            "Extracting  /content/VesselNet/dataset/train/groundtruth/54_manual1.tif     \b\b\b\b  2%\b\b\b\b\b  OK \n",
            "Extracting  /content/VesselNet/dataset/train/groundtruth/55_manual1.tif     \b\b\b\b  2%\b\b\b\b\b  OK \n",
            "Extracting  /content/VesselNet/dataset/train/groundtruth/56_manual1.tif     \b\b\b\b  2%\b\b\b\b\b  OK \n",
            "Extracting  /content/VesselNet/dataset/train/groundtruth/57_manual1.tif     \b\b\b\b  2%\b\b\b\b\b  OK \n",
            "Extracting  /content/VesselNet/dataset/train/groundtruth/58_manual1.tif     \b\b\b\b  2%\b\b\b\b\b  OK \n",
            "Extracting  /content/VesselNet/dataset/train/groundtruth/59_manual1.tif     \b\b\b\b  2%\b\b\b\b\b  OK \n",
            "Extracting  /content/VesselNet/dataset/train/groundtruth/60_manual1.tif     \b\b\b\b  2%\b\b\b\b\b  OK \n",
            "Creating    /content/VesselNet/dataset/train/origin                   OK\n",
            "Extracting  /content/VesselNet/dataset/train/origin/21_training.tif      \b\b\b\b  2%\b\b\b\b  3%\b\b\b\b\b  OK \n",
            "Extracting  /content/VesselNet/dataset/train/origin/22_training.tif      \b\b\b\b  3%\b\b\b\b  4%\b\b\b\b\b  OK \n",
            "Extracting  /content/VesselNet/dataset/train/origin/23_training.tif      \b\b\b\b  4%\b\b\b\b  5%\b\b\b\b\b  OK \n",
            "Extracting  /content/VesselNet/dataset/train/origin/24_training.tif      \b\b\b\b  5%\b\b\b\b\b  OK \n",
            "Extracting  /content/VesselNet/dataset/train/origin/25_training.tif      \b\b\b\b  5%\b\b\b\b  6%\b\b\b\b\b  OK \n",
            "Extracting  /content/VesselNet/dataset/train/origin/26_training.tif      \b\b\b\b  6%\b\b\b\b  7%\b\b\b\b\b  OK \n",
            "Extracting  /content/VesselNet/dataset/train/origin/27_training.tif      \b\b\b\b  7%\b\b\b\b  8%\b\b\b\b\b  OK \n",
            "Extracting  /content/VesselNet/dataset/train/origin/28_training.tif      \b\b\b\b  8%\b\b\b\b\b  OK \n",
            "Extracting  /content/VesselNet/dataset/train/origin/29_training.tif      \b\b\b\b  9%\b\b\b\b\b  OK \n",
            "Extracting  /content/VesselNet/dataset/train/origin/30_training.tif      \b\b\b\b  9%\b\b\b\b 10%\b\b\b\b\b  OK \n",
            "Extracting  /content/VesselNet/dataset/train/origin/31_training.tif      \b\b\b\b 10%\b\b\b\b 11%\b\b\b\b\b  OK \n",
            "Extracting  /content/VesselNet/dataset/train/origin/32_training.tif      \b\b\b\b 11%\b\b\b\b 12%\b\b\b\b\b  OK \n",
            "Extracting  /content/VesselNet/dataset/train/origin/33_training.tif      \b\b\b\b 12%\b\b\b\b\b  OK \n",
            "Extracting  /content/VesselNet/dataset/train/origin/34_training.tif      \b\b\b\b 12%\b\b\b\b 13%\b\b\b\b\b  OK \n",
            "Extracting  /content/VesselNet/dataset/train/origin/35_training.tif      \b\b\b\b 13%\b\b\b\b 14%\b\b\b\b\b  OK \n",
            "Extracting  /content/VesselNet/dataset/train/origin/36_training.tif      \b\b\b\b 14%\b\b\b\b 15%\b\b\b\b\b  OK \n",
            "Extracting  /content/VesselNet/dataset/train/origin/37_training.tif      \b\b\b\b 15%\b\b\b\b 16%\b\b\b\b\b  OK \n",
            "Extracting  /content/VesselNet/dataset/train/origin/38_training.tif      \b\b\b\b 16%\b\b\b\b\b  OK \n",
            "Extracting  /content/VesselNet/dataset/train/origin/39_training.tif      \b\b\b\b 17%\b\b\b\b\b  OK \n",
            "Extracting  /content/VesselNet/dataset/train/origin/40_training.tif      \b\b\b\b 17%\b\b\b\b 18%\b\b\b\b\b  OK \n",
            "Extracting  /content/VesselNet/dataset/train/origin/41_training.tif      \b\b\b\b 18%\b\b\b\b\b  OK \n",
            "Extracting  /content/VesselNet/dataset/train/origin/42_training.tif      \b\b\b\b 19%\b\b\b\b\b  OK \n",
            "Extracting  /content/VesselNet/dataset/train/origin/43_training.tif      \b\b\b\b 19%\b\b\b\b\b  OK \n",
            "Extracting  /content/VesselNet/dataset/train/origin/44_training.tif      \b\b\b\b 19%\b\b\b\b 20%\b\b\b\b\b  OK \n",
            "Extracting  /content/VesselNet/dataset/train/origin/45_training.tif      \b\b\b\b 20%\b\b\b\b\b  OK \n",
            "Extracting  /content/VesselNet/dataset/train/origin/46_training.tif      \b\b\b\b 20%\b\b\b\b 21%\b\b\b\b\b  OK \n",
            "Extracting  /content/VesselNet/dataset/train/origin/47_training.tif      \b\b\b\b 21%\b\b\b\b\b  OK \n",
            "Extracting  /content/VesselNet/dataset/train/origin/48_training.tif      \b\b\b\b 21%\b\b\b\b 22%\b\b\b\b\b  OK \n",
            "Extracting  /content/VesselNet/dataset/train/origin/49_training.tif      \b\b\b\b 22%\b\b\b\b\b  OK \n",
            "Extracting  /content/VesselNet/dataset/train/origin/50_training.tif      \b\b\b\b 22%\b\b\b\b\b  OK \n",
            "Extracting  /content/VesselNet/dataset/train/origin/51_training.tif      \b\b\b\b 22%\b\b\b\b 23%\b\b\b\b\b  OK \n",
            "Extracting  /content/VesselNet/dataset/train/origin/52_training.tif      \b\b\b\b 23%\b\b\b\b\b  OK \n",
            "Extracting  /content/VesselNet/dataset/train/origin/53_training.tif      \b\b\b\b 23%\b\b\b\b 24%\b\b\b\b\b  OK \n",
            "Extracting  /content/VesselNet/dataset/train/origin/54_training.tif      \b\b\b\b 24%\b\b\b\b\b  OK \n",
            "Extracting  /content/VesselNet/dataset/train/origin/55_training.tif      \b\b\b\b 24%\b\b\b\b 25%\b\b\b\b\b  OK \n",
            "Extracting  /content/VesselNet/dataset/train/origin/56_training.tif      \b\b\b\b 25%\b\b\b\b\b  OK \n",
            "Extracting  /content/VesselNet/dataset/train/origin/57_training.tif      \b\b\b\b 25%\b\b\b\b 26%\b\b\b\b\b  OK \n",
            "Extracting  /content/VesselNet/dataset/train/origin/58_training.tif      \b\b\b\b 26%\b\b\b\b\b  OK \n",
            "Extracting  /content/VesselNet/dataset/train/origin/59_training.tif      \b\b\b\b 26%\b\b\b\b 27%\b\b\b\b\b  OK \n",
            "Extracting  /content/VesselNet/dataset/train/origin/60_training.tif      \b\b\b\b 27%\b\b\b\b\b  OK \n",
            "Creating    /content/VesselNet/dataset/validate                       OK\n",
            "Creating    /content/VesselNet/dataset/validate/groundtruth           OK\n",
            "Extracting  /content/VesselNet/dataset/validate/groundtruth/01_manual1.tif     \b\b\b\b 27%\b\b\b\b\b  OK \n",
            "Extracting  /content/VesselNet/dataset/validate/groundtruth/02_manual1.tif     \b\b\b\b 27%\b\b\b\b\b  OK \n",
            "Extracting  /content/VesselNet/dataset/validate/groundtruth/03_manual1.tif     \b\b\b\b 27%\b\b\b\b\b  OK \n",
            "Extracting  /content/VesselNet/dataset/validate/groundtruth/04_manual1.tif     \b\b\b\b 27%\b\b\b\b\b  OK \n",
            "Extracting  /content/VesselNet/dataset/validate/groundtruth/05_manual1.tif     \b\b\b\b 27%\b\b\b\b\b  OK \n",
            "Extracting  /content/VesselNet/dataset/validate/groundtruth/06_manual1.tif     \b\b\b\b 27%\b\b\b\b\b  OK \n",
            "Extracting  /content/VesselNet/dataset/validate/groundtruth/07_manual1.tif     \b\b\b\b 27%\b\b\b\b\b  OK \n",
            "Extracting  /content/VesselNet/dataset/validate/groundtruth/08_manual1.tif     \b\b\b\b 27%\b\b\b\b\b  OK \n",
            "Extracting  /content/VesselNet/dataset/validate/groundtruth/09_manual1.tif     \b\b\b\b 27%\b\b\b\b\b  OK \n",
            "Extracting  /content/VesselNet/dataset/validate/groundtruth/10_manual1.tif     \b\b\b\b 27%\b\b\b\b\b  OK \n",
            "Extracting  /content/VesselNet/dataset/validate/groundtruth/11_manual1.tif     \b\b\b\b 27%\b\b\b\b\b  OK \n",
            "Extracting  /content/VesselNet/dataset/validate/groundtruth/12_manual1.tif     \b\b\b\b 27%\b\b\b\b\b  OK \n",
            "Extracting  /content/VesselNet/dataset/validate/groundtruth/13_manual1.tif     \b\b\b\b 27%\b\b\b\b\b  OK \n",
            "Extracting  /content/VesselNet/dataset/validate/groundtruth/14_manual1.tif     \b\b\b\b 27%\b\b\b\b\b  OK \n",
            "Extracting  /content/VesselNet/dataset/validate/groundtruth/15_manual1.tif     \b\b\b\b 27%\b\b\b\b\b  OK \n",
            "Extracting  /content/VesselNet/dataset/validate/groundtruth/16_manual1.tif     \b\b\b\b 27%\b\b\b\b\b  OK \n",
            "Extracting  /content/VesselNet/dataset/validate/groundtruth/17_manual1.tif     \b\b\b\b 27%\b\b\b\b\b  OK \n",
            "Extracting  /content/VesselNet/dataset/validate/groundtruth/18_manual1.tif     \b\b\b\b 27%\b\b\b\b\b  OK \n",
            "Extracting  /content/VesselNet/dataset/validate/groundtruth/19_manual1.tif     \b\b\b\b 27%\b\b\b\b\b  OK \n",
            "Extracting  /content/VesselNet/dataset/validate/groundtruth/20_manual1.tif     \b\b\b\b 27%\b\b\b\b\b  OK \n",
            "Creating    /content/VesselNet/dataset/validate/origin                OK\n",
            "Extracting  /content/VesselNet/dataset/validate/origin/01_test.tif       \b\b\b\b 27%\b\b\b\b 28%\b\b\b\b\b  OK \n",
            "Extracting  /content/VesselNet/dataset/validate/origin/02_test.tif       \b\b\b\b 28%\b\b\b\b 29%\b\b\b\b\b  OK \n",
            "Extracting  /content/VesselNet/dataset/validate/origin/03_test.tif       \b\b\b\b 29%\b\b\b\b\b  OK \n",
            "Extracting  /content/VesselNet/dataset/validate/origin/04_test.tif       \b\b\b\b 29%\b\b\b\b 30%\b\b\b\b\b  OK \n",
            "Extracting  /content/VesselNet/dataset/validate/origin/05_test.tif       \b\b\b\b 30%\b\b\b\b 31%\b\b\b\b\b  OK \n",
            "Extracting  /content/VesselNet/dataset/validate/origin/06_test.tif       \b\b\b\b 31%\b\b\b\b 32%\b\b\b\b\b  OK \n",
            "Extracting  /content/VesselNet/dataset/validate/origin/07_test.tif       \b\b\b\b 32%\b\b\b\b 33%\b\b\b\b\b  OK \n",
            "Extracting  /content/VesselNet/dataset/validate/origin/08_test.tif       \b\b\b\b 33%\b\b\b\b\b  OK \n",
            "Extracting  /content/VesselNet/dataset/validate/origin/09_test.tif       \b\b\b\b 33%\b\b\b\b 34%\b\b\b\b\b  OK \n",
            "Extracting  /content/VesselNet/dataset/validate/origin/10_test.tif       \b\b\b\b 34%\b\b\b\b 35%\b\b\b\b\b  OK \n",
            "Extracting  /content/VesselNet/dataset/validate/origin/11_test.tif       \b\b\b\b 35%\b\b\b\b 36%\b\b\b\b\b  OK \n",
            "Extracting  /content/VesselNet/dataset/validate/origin/12_test.tif       \b\b\b\b 36%\b\b\b\b 37%\b\b\b\b\b  OK \n",
            "Extracting  /content/VesselNet/dataset/validate/origin/13_test.tif       \b\b\b\b 37%\b\b\b\b\b  OK \n",
            "Extracting  /content/VesselNet/dataset/validate/origin/14_test.tif       \b\b\b\b 37%\b\b\b\b 38%\b\b\b\b\b  OK \n",
            "Extracting  /content/VesselNet/dataset/validate/origin/15_test.tif       \b\b\b\b 38%\b\b\b\b 39%\b\b\b\b\b  OK \n",
            "Extracting  /content/VesselNet/dataset/validate/origin/16_test.tif       \b\b\b\b 39%\b\b\b\b 40%\b\b\b\b\b  OK \n",
            "Extracting  /content/VesselNet/dataset/validate/origin/17_test.tif       \b\b\b\b 40%\b\b\b\b 41%\b\b\b\b\b  OK \n",
            "Extracting  /content/VesselNet/dataset/validate/origin/18_test.tif       \b\b\b\b 41%\b\b\b\b\b  OK \n",
            "Extracting  /content/VesselNet/dataset/validate/origin/19_test.tif       \b\b\b\b 41%\b\b\b\b 42%\b\b\b\b\b  OK \n",
            "Extracting  /content/VesselNet/dataset/validate/origin/20_test.tif       \b\b\b\b 42%\b\b\b\b 43%\b\b\b\b\b  OK \n",
            "Creating    /content/VesselNet/hdf5                                   OK\n",
            "Extracting  /content/VesselNet/hdf5/simple_segmention_architecture.json     \b\b\b\b 43%\b\b\b\b\b  OK \n",
            "Extracting  /content/VesselNet/hdf5/simple_segmention_best_weights.h5     \b\b\b\b 43%\b\b\b\b 44%\b\b\b\b 45%\b\b\b\b 46%\b\b\b\b 47%\b\b\b\b 48%\b\b\b\b 49%\b\b\b\b 50%\b\b\b\b\b  OK \n",
            "Extracting  /content/VesselNet/hdf5/train_groundtruth.hdf5               \b\b\b\b 50%\b\b\b\b 51%\b\b\b\b 52%\b\b\b\b\b  OK \n",
            "Extracting  /content/VesselNet/hdf5/train_img.hdf5                       \b\b\b\b 52%\b\b\b\b 53%\b\b\b\b 54%\b\b\b\b 55%\b\b\b\b 56%\b\b\b\b 57%\b\b\b\b 58%\b\b\b\b 59%\b\b\b\b 60%\b\b\b\b 61%\b\b\b\b 62%\b\b\b\b 63%\b\b\b\b 64%\b\b\b\b\b  OK \n",
            "Extracting  /content/VesselNet/hdf5/val_groundtruth.hdf5                 \b\b\b\b 64%\b\b\b\b\b  OK \n",
            "Extracting  /content/VesselNet/hdf5/val_img.hdf5                         \b\b\b\b 64%\b\b\b\b 65%\b\b\b\b 66%\b\b\b\b 67%\b\b\b\b 68%\b\b\b\b 69%\b\b\b\b 70%\b\b\b\b\b  OK \n",
            "Extracting  /content/VesselNet/hdf5/VesselNet_architecture.json          \b\b\b\b 70%\b\b\b\b\b  OK \n",
            "Extracting  /content/VesselNet/hdf5/VesselNet_best_weights.h5            \b\b\b\b 70%\b\b\b\b 71%\b\b\b\b 72%\b\b\b\b 73%\b\b\b\b 74%\b\b\b\b 75%\b\b\b\b 76%\b\b\b\b 77%\b\b\b\b\b  OK \n",
            "Creating    /content/VesselNet/test                                   OK\n",
            "Creating    /content/VesselNet/test/groundtruth                       OK\n",
            "Extracting  /content/VesselNet/test/groundtruth/01_manual1.tif           \b\b\b\b 77%\b\b\b\b\b  OK \n",
            "Extracting  /content/VesselNet/test/groundtruth/02_manual1.tif           \b\b\b\b 77%\b\b\b\b\b  OK \n",
            "Extracting  /content/VesselNet/test/groundtruth/03_manual1.tif           \b\b\b\b 77%\b\b\b\b\b  OK \n",
            "Extracting  /content/VesselNet/test/groundtruth/04_manual1.tif           \b\b\b\b 77%\b\b\b\b\b  OK \n",
            "Extracting  /content/VesselNet/test/groundtruth/05_manual1.tif           \b\b\b\b 77%\b\b\b\b\b  OK \n",
            "Extracting  /content/VesselNet/test/groundtruth/06_manual1.tif           \b\b\b\b 77%\b\b\b\b\b  OK \n",
            "Extracting  /content/VesselNet/test/groundtruth/07_manual1.tif           \b\b\b\b 77%\b\b\b\b\b  OK \n",
            "Extracting  /content/VesselNet/test/groundtruth/08_manual1.tif           \b\b\b\b 77%\b\b\b\b\b  OK \n",
            "Extracting  /content/VesselNet/test/groundtruth/09_manual1.tif           \b\b\b\b 77%\b\b\b\b\b  OK \n",
            "Extracting  /content/VesselNet/test/groundtruth/10_manual1.tif           \b\b\b\b 77%\b\b\b\b\b  OK \n",
            "Extracting  /content/VesselNet/test/groundtruth/11_manual1.tif           \b\b\b\b 77%\b\b\b\b\b  OK \n",
            "Extracting  /content/VesselNet/test/groundtruth/12_manual1.tif           \b\b\b\b 77%\b\b\b\b\b  OK \n",
            "Extracting  /content/VesselNet/test/groundtruth/13_manual1.tif           \b\b\b\b 77%\b\b\b\b\b  OK \n",
            "Extracting  /content/VesselNet/test/groundtruth/14_manual1.tif           \b\b\b\b 77%\b\b\b\b\b  OK \n",
            "Extracting  /content/VesselNet/test/groundtruth/15_manual1.tif           \b\b\b\b 77%\b\b\b\b\b  OK \n",
            "Extracting  /content/VesselNet/test/groundtruth/16_manual1.tif           \b\b\b\b 77%\b\b\b\b\b  OK \n",
            "Extracting  /content/VesselNet/test/groundtruth/17_manual1.tif           \b\b\b\b 77%\b\b\b\b\b  OK \n",
            "Extracting  /content/VesselNet/test/groundtruth/18_manual1.tif           \b\b\b\b 77%\b\b\b\b\b  OK \n",
            "Extracting  /content/VesselNet/test/groundtruth/19_manual1.tif           \b\b\b\b 77%\b\b\b\b\b  OK \n",
            "Extracting  /content/VesselNet/test/groundtruth/20_manual1.tif           \b\b\b\b 77%\b\b\b\b\b  OK \n",
            "Creating    /content/VesselNet/test/origin                            OK\n",
            "Extracting  /content/VesselNet/test/origin/01_test.tif                   \b\b\b\b 77%\b\b\b\b 78%\b\b\b\b\b  OK \n",
            "Extracting  /content/VesselNet/test/origin/02_test.tif                   \b\b\b\b 78%\b\b\b\b 79%\b\b\b\b\b  OK \n",
            "Extracting  /content/VesselNet/test/origin/03_test.tif                   \b\b\b\b 79%\b\b\b\b 80%\b\b\b\b\b  OK \n",
            "Extracting  /content/VesselNet/test/origin/04_test.tif                   \b\b\b\b 80%\b\b\b\b 81%\b\b\b\b\b  OK \n",
            "Extracting  /content/VesselNet/test/origin/05_test.tif                   \b\b\b\b 81%\b\b\b\b\b  OK \n",
            "Extracting  /content/VesselNet/test/origin/06_test.tif                   \b\b\b\b 81%\b\b\b\b 82%\b\b\b\b\b  OK \n",
            "Extracting  /content/VesselNet/test/origin/07_test.tif                   \b\b\b\b 82%\b\b\b\b 83%\b\b\b\b\b  OK \n",
            "Extracting  /content/VesselNet/test/origin/08_test.tif                   \b\b\b\b 83%\b\b\b\b 84%\b\b\b\b\b  OK \n",
            "Extracting  /content/VesselNet/test/origin/09_test.tif                   \b\b\b\b 84%\b\b\b\b\b  OK \n",
            "Extracting  /content/VesselNet/test/origin/10_test.tif                   \b\b\b\b 84%\b\b\b\b 85%\b\b\b\b\b  OK \n",
            "Extracting  /content/VesselNet/test/origin/11_test.tif                   \b\b\b\b 85%\b\b\b\b 86%\b\b\b\b\b  OK \n",
            "Extracting  /content/VesselNet/test/origin/12_test.tif                   \b\b\b\b 86%\b\b\b\b 87%\b\b\b\b\b  OK \n",
            "Extracting  /content/VesselNet/test/origin/13_test.tif                   \b\b\b\b 87%\b\b\b\b 88%\b\b\b\b\b  OK \n",
            "Extracting  /content/VesselNet/test/origin/14_test.tif                   \b\b\b\b 88%\b\b\b\b\b  OK \n",
            "Extracting  /content/VesselNet/test/origin/15_test.tif                   \b\b\b\b 88%\b\b\b\b 89%\b\b\b\b\b  OK \n",
            "Extracting  /content/VesselNet/test/origin/16_test.tif                   \b\b\b\b 89%\b\b\b\b 90%\b\b\b\b\b  OK \n",
            "Extracting  /content/VesselNet/test/origin/17_test.tif                   \b\b\b\b 90%\b\b\b\b 91%\b\b\b\b\b  OK \n",
            "Extracting  /content/VesselNet/test/origin/18_test.tif                   \b\b\b\b 91%\b\b\b\b 92%\b\b\b\b\b  OK \n",
            "Extracting  /content/VesselNet/test/origin/19_test.tif                   \b\b\b\b 92%\b\b\b\b\b  OK \n",
            "Extracting  /content/VesselNet/test/origin/20_test.tif                   \b\b\b\b 92%\b\b\b\b 93%\b\b\b\b\b  OK \n",
            "Creating    /content/VesselNet/test/result                            OK\n",
            "Extracting  /content/VesselNet/test/result/01_test_merge.jpg             \b\b\b\b 93%\b\b\b\b\b  OK \n",
            "Extracting  /content/VesselNet/test/result/01_test_prob.bmp              \b\b\b\b 93%\b\b\b\b\b  OK \n",
            "Extracting  /content/VesselNet/test/result/02_test_merge.jpg             \b\b\b\b 93%\b\b\b\b 94%\b\b\b\b\b  OK \n",
            "Extracting  /content/VesselNet/test/result/02_test_prob.bmp              \b\b\b\b 94%\b\b\b\b\b  OK \n",
            "Extracting  /content/VesselNet/test/result/03_test_merge.jpg             \b\b\b\b 94%\b\b\b\b\b  OK \n",
            "Extracting  /content/VesselNet/test/result/03_test_prob.bmp              \b\b\b\b 94%\b\b\b\b\b  OK \n",
            "Extracting  /content/VesselNet/test/result/04_test_merge.jpg             \b\b\b\b 94%\b\b\b\b\b  OK \n",
            "Extracting  /content/VesselNet/test/result/04_test_prob.bmp              \b\b\b\b 94%\b\b\b\b\b  OK \n",
            "Extracting  /content/VesselNet/test/result/05_test_merge.jpg             \b\b\b\b 94%\b\b\b\b 95%\b\b\b\b\b  OK \n",
            "Extracting  /content/VesselNet/test/result/05_test_prob.bmp              \b\b\b\b 95%\b\b\b\b\b  OK \n",
            "Extracting  /content/VesselNet/test/result/06_test_merge.jpg             \b\b\b\b 95%\b\b\b\b\b  OK \n",
            "Extracting  /content/VesselNet/test/result/06_test_prob.bmp              \b\b\b\b 95%\b\b\b\b\b  OK \n",
            "Extracting  /content/VesselNet/test/result/07_test_merge.jpg             \b\b\b\b 95%\b\b\b\b\b  OK \n",
            "Extracting  /content/VesselNet/test/result/07_test_prob.bmp              \b\b\b\b 95%\b\b\b\b\b  OK \n",
            "Extracting  /content/VesselNet/test/result/08_test_merge.jpg             \b\b\b\b 95%\b\b\b\b 96%\b\b\b\b\b  OK \n",
            "Extracting  /content/VesselNet/test/result/08_test_prob.bmp              \b\b\b\b 96%\b\b\b\b\b  OK \n",
            "Extracting  /content/VesselNet/test/result/09_test_merge.jpg             \b\b\b\b 96%\b\b\b\b\b  OK \n",
            "Extracting  /content/VesselNet/test/result/09_test_prob.bmp              \b\b\b\b 96%\b\b\b\b\b  OK \n",
            "Extracting  /content/VesselNet/test/result/10_test_merge.jpg             \b\b\b\b 96%\b\b\b\b\b  OK \n",
            "Extracting  /content/VesselNet/test/result/10_test_prob.bmp              \b\b\b\b 96%\b\b\b\b\b  OK \n",
            "Extracting  /content/VesselNet/test/result/11_test_merge.jpg             \b\b\b\b 96%\b\b\b\b 97%\b\b\b\b\b  OK \n",
            "Extracting  /content/VesselNet/test/result/11_test_prob.bmp              \b\b\b\b 97%\b\b\b\b\b  OK \n",
            "Extracting  /content/VesselNet/test/result/12_test_merge.jpg             \b\b\b\b 97%\b\b\b\b\b  OK \n",
            "Extracting  /content/VesselNet/test/result/12_test_prob.bmp              \b\b\b\b 97%\b\b\b\b\b  OK \n",
            "Extracting  /content/VesselNet/test/result/13_test_merge.jpg             \b\b\b\b 97%\b\b\b\b\b  OK \n",
            "Extracting  /content/VesselNet/test/result/13_test_prob.bmp              \b\b\b\b 97%\b\b\b\b\b  OK \n",
            "Extracting  /content/VesselNet/test/result/14_test_merge.jpg             \b\b\b\b 97%\b\b\b\b\b  OK \n",
            "Extracting  /content/VesselNet/test/result/14_test_prob.bmp              \b\b\b\b 98%\b\b\b\b\b  OK \n",
            "Extracting  /content/VesselNet/test/result/15_test_merge.jpg             \b\b\b\b 98%\b\b\b\b\b  OK \n",
            "Extracting  /content/VesselNet/test/result/15_test_prob.bmp              \b\b\b\b 98%\b\b\b\b\b  OK \n",
            "Extracting  /content/VesselNet/test/result/16_test_merge.jpg             \b\b\b\b 98%\b\b\b\b\b  OK \n",
            "Extracting  /content/VesselNet/test/result/16_test_prob.bmp              \b\b\b\b 98%\b\b\b\b\b  OK \n",
            "Extracting  /content/VesselNet/test/result/17_test_merge.jpg             \b\b\b\b 98%\b\b\b\b\b  OK \n",
            "Extracting  /content/VesselNet/test/result/17_test_prob.bmp              \b\b\b\b 98%\b\b\b\b 99%\b\b\b\b\b  OK \n",
            "Extracting  /content/VesselNet/test/result/18_test_merge.jpg             \b\b\b\b 99%\b\b\b\b\b  OK \n",
            "Extracting  /content/VesselNet/test/result/18_test_prob.bmp              \b\b\b\b 99%\b\b\b\b\b  OK \n",
            "Extracting  /content/VesselNet/test/result/19_test_merge.jpg             \b\b\b\b 99%\b\b\b\b\b  OK \n",
            "Extracting  /content/VesselNet/test/result/19_test_prob.bmp              \b\b\b\b 99%\b\b\b\b\b  OK \n",
            "Extracting  /content/VesselNet/test/result/20_test_merge.jpg             \b\b\b\b 99%\b\b\b\b\b  OK \n",
            "Extracting  /content/VesselNet/test/result/20_test_prob.bmp              \b\b\b\b 99%\b\b\b\b\b  OK \n",
            "All OK\n"
          ]
        }
      ]
    }
  ]
}