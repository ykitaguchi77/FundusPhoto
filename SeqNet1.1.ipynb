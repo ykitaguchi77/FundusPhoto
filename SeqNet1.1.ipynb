{
  "nbformat": 4,
  "nbformat_minor": 0,
  "metadata": {
    "colab": {
      "name": "Untitled11.ipynb",
      "provenance": [],
      "machine_shape": "hm",
      "include_colab_link": true
    },
    "kernelspec": {
      "name": "python3",
      "display_name": "Python 3"
    },
    "accelerator": "GPU"
  },
  "cells": [
    {
      "cell_type": "markdown",
      "metadata": {
        "id": "view-in-github",
        "colab_type": "text"
      },
      "source": [
        "<a href=\"https://colab.research.google.com/github/ykitaguchi77/FundusPhoto/blob/main/SeqNet1.1.ipynb\" target=\"_parent\"><img src=\"https://colab.research.google.com/assets/colab-badge.svg\" alt=\"Open In Colab\"/></a>"
      ]
    },
    {
      "cell_type": "markdown",
      "metadata": {
        "id": "fTBpmxwwsGiG"
      },
      "source": [
        "#Running Github codes (SeqNet) in Google Colab\n",
        "\n"
      ]
    },
    {
      "cell_type": "code",
      "metadata": {
        "colab": {
          "base_uri": "https://localhost:8080/"
        },
        "id": "8t9f9nNQfdbJ",
        "outputId": "64d37b0d-20cc-49b2-e55a-3eec1ce754a6"
      },
      "source": [
        "#google driveをcolabolatoryにマウント\n",
        "from google.colab import drive\n",
        "drive.mount('/content/drive')"
      ],
      "execution_count": 1,
      "outputs": [
        {
          "output_type": "stream",
          "name": "stdout",
          "text": [
            "Mounted at /content/drive\n"
          ]
        }
      ]
    },
    {
      "cell_type": "code",
      "metadata": {
        "id": "h56ThViusBCy",
        "colab": {
          "base_uri": "https://localhost:8080/"
        },
        "outputId": "96f33e25-7e26-4b1e-ec1f-b5f038086249"
      },
      "source": [
        "#Githubよりリポジトリをcloneする\n",
        "!git clone https://github.com/conscienceli/SeqNet.git"
      ],
      "execution_count": 3,
      "outputs": [
        {
          "output_type": "stream",
          "name": "stdout",
          "text": [
            "Cloning into 'SeqNet'...\n",
            "remote: Enumerating objects: 48, done.\u001b[K\n",
            "remote: Counting objects: 100% (48/48), done.\u001b[K\n",
            "remote: Compressing objects: 100% (36/36), done.\u001b[K\n",
            "remote: Total 48 (delta 15), reused 41 (delta 10), pack-reused 0\u001b[K\n",
            "Unpacking objects: 100% (48/48), done.\n"
          ]
        }
      ]
    },
    {
      "cell_type": "markdown",
      "metadata": {
        "id": "gQ2cvzdNu3o2"
      },
      "source": [
        "#作業ディレクトリを移動"
      ]
    },
    {
      "cell_type": "code",
      "metadata": {
        "id": "Q1jLQf1YukIN",
        "colab": {
          "base_uri": "https://localhost:8080/"
        },
        "outputId": "47cf7537-7a3c-4431-986c-fe23c00d0b7e"
      },
      "source": [
        "import os\n",
        "import shutil\n",
        "\n",
        "model_path = '/content/SeqNet'\n",
        "\n",
        "#作業ディレクトリをpathに移動する\n",
        "os.chdir(model_path)\n",
        "\n",
        "#作業ディレクトリ直下のファイルを確認\n",
        "!ls"
      ],
      "execution_count": 4,
      "outputs": [
        {
          "output_type": "stream",
          "name": "stdout",
          "text": [
            "LICENSE  predict.py  requirements-conda.txt  train.py\n",
            "pics\t README.md   requirements-pip.txt    utils\n"
          ]
        }
      ]
    },
    {
      "cell_type": "code",
      "metadata": {
        "id": "n2SNGgysgS3X"
      },
      "source": [
        "#評価画像用のフォルダを作成\n",
        "data_dir = \"./data/test_images/\"\n",
        "\n",
        "if os.path.exists(data_dir):\n",
        "    shutil.rmtree(data_dir)\n",
        "os.makedirs(data_dir)\n",
        "\n",
        "#copy example data\n",
        "#shutil.copy(\"/content/drive/MyDrive/Deep_learning/FundusPhoto/cropped_img/img00085008_00_1R.jpg\", \"./data/test_images/image1.jpg\")"
      ],
      "execution_count": 5,
      "outputs": []
    },
    {
      "cell_type": "code",
      "metadata": {
        "id": "5SOogy8OXPYf",
        "outputId": "0640de56-5cdd-4729-84f0-0b6e8458eb30",
        "colab": {
          "base_uri": "https://localhost:8080/"
        }
      },
      "source": [
        "#入力用フォルダを定義\n",
        "orig_path = \"/content/drive/MyDrive/Deep_learning/FundusPhoto/cropped_img\"\n",
        "print(\"total images: \"+str(len(os.listdir(orig_path))))\n",
        "img_num = list(range(0, 1, 1)) #処理する画像の番号を指定(0~14141)\n",
        "img_list = []\n",
        "for i in img_num:\n",
        "    img_list.append(orig_path+\"/\"+os.listdir(orig_path)[i])\n",
        "print(img_list)\n",
        "\n",
        "\n",
        "#出力用フォルダを作る\n",
        "dst_path = \"/content/drive/MyDrive/Deep_learning/FundusPhoto/vascular_img\"\n",
        "os.makedirs(dst_path, exist_ok=True)"
      ],
      "execution_count": 7,
      "outputs": [
        {
          "output_type": "stream",
          "name": "stdout",
          "text": [
            "total images: 1414\n",
            "['/content/drive/MyDrive/Deep_learning/FundusPhoto/cropped_img/img14980414_02_1R.jpg']\n"
          ]
        }
      ]
    },
    {
      "cell_type": "code",
      "metadata": {
        "id": "LHnJYNiwMHOb",
        "outputId": "125ac854-ef42-4837-e45d-5647f73d324a",
        "colab": {
          "base_uri": "https://localhost:8080/"
        }
      },
      "source": [
        "#Download pretrained model from Gdrive\n",
        "import requests\n",
        "\n",
        "def download_file_from_google_drive(id, destination):\n",
        "    URL = \"https://docs.google.com/uc?export=download\"\n",
        "\n",
        "    session = requests.Session()\n",
        "\n",
        "    response = session.get(URL, params = { 'id' : id }, stream = True)\n",
        "    token = get_confirm_token(response)\n",
        "\n",
        "    if token:\n",
        "        params = { 'id' : id, 'confirm' : token }\n",
        "        response = session.get(URL, params = params, stream = True)\n",
        "\n",
        "    save_response_content(response, destination)    \n",
        "\n",
        "def get_confirm_token(response):\n",
        "    for key, value in response.cookies.items():\n",
        "        if key.startswith('download_warning'):\n",
        "            return value\n",
        "\n",
        "    return None\n",
        "\n",
        "def save_response_content(response, destination):\n",
        "    CHUNK_SIZE = 32768\n",
        "\n",
        "    with open(destination, \"wb\") as f:\n",
        "        for chunk in response.iter_content(CHUNK_SIZE):\n",
        "            if chunk: # filter out keep-alive new chunks\n",
        "                f.write(chunk)\n",
        "\n",
        "file_id = '1OYjzu0gixtga6e7Rvb2mZoSSYJkXWRNB'\n",
        "\n",
        "os.makedirs('./trained_model/ALL', exist_ok=True)\n",
        "destination = './trained_model/ALL/Final_Emer_Iteration_3_cropsize_128_epochs_200.hdf5'\n",
        "download_file_from_google_drive(file_id, destination)\n",
        "\n",
        "\n",
        "#upgrade modules\n",
        "!pip3 install --upgrade tensorflow==1.15.0\n",
        "!pip3 install --upgrade keras==2.3.1\n",
        "!pip3 install --upgrade h5py==2.10.0\n",
        "\n",
        "#stride_sizeを増やす事によるタイムコスト削減\n",
        "!cat -n predict.py # -n はnumberの意味\n",
        "!sed -i -e \"133c predict(batch_size=24, epochs=200, iteration=3, stride_size=10, crop_size=128,\" predict.py"
      ],
      "execution_count": 8,
      "outputs": [
        {
          "output_type": "stream",
          "name": "stdout",
          "text": [
            "Collecting tensorflow==1.15.0\n",
            "  Downloading tensorflow-1.15.0-cp37-cp37m-manylinux2010_x86_64.whl (412.3 MB)\n",
            "\u001b[K     |████████████████████████████████| 412.3 MB 24 kB/s \n",
            "\u001b[?25hRequirement already satisfied: astor>=0.6.0 in /usr/local/lib/python3.7/dist-packages (from tensorflow==1.15.0) (0.8.1)\n",
            "Collecting tensorflow-estimator==1.15.1\n",
            "  Downloading tensorflow_estimator-1.15.1-py2.py3-none-any.whl (503 kB)\n",
            "\u001b[K     |████████████████████████████████| 503 kB 86.5 MB/s \n",
            "\u001b[?25hRequirement already satisfied: termcolor>=1.1.0 in /usr/local/lib/python3.7/dist-packages (from tensorflow==1.15.0) (1.1.0)\n",
            "Requirement already satisfied: opt-einsum>=2.3.2 in /usr/local/lib/python3.7/dist-packages (from tensorflow==1.15.0) (3.3.0)\n",
            "Requirement already satisfied: keras-preprocessing>=1.0.5 in /usr/local/lib/python3.7/dist-packages (from tensorflow==1.15.0) (1.1.2)\n",
            "Collecting gast==0.2.2\n",
            "  Downloading gast-0.2.2.tar.gz (10 kB)\n",
            "Requirement already satisfied: google-pasta>=0.1.6 in /usr/local/lib/python3.7/dist-packages (from tensorflow==1.15.0) (0.2.0)\n",
            "Requirement already satisfied: protobuf>=3.6.1 in /usr/local/lib/python3.7/dist-packages (from tensorflow==1.15.0) (3.17.3)\n",
            "Requirement already satisfied: wrapt>=1.11.1 in /usr/local/lib/python3.7/dist-packages (from tensorflow==1.15.0) (1.12.1)\n",
            "Requirement already satisfied: six>=1.10.0 in /usr/local/lib/python3.7/dist-packages (from tensorflow==1.15.0) (1.15.0)\n",
            "Requirement already satisfied: absl-py>=0.7.0 in /usr/local/lib/python3.7/dist-packages (from tensorflow==1.15.0) (0.12.0)\n",
            "Requirement already satisfied: grpcio>=1.8.6 in /usr/local/lib/python3.7/dist-packages (from tensorflow==1.15.0) (1.39.0)\n",
            "Requirement already satisfied: wheel>=0.26 in /usr/local/lib/python3.7/dist-packages (from tensorflow==1.15.0) (0.37.0)\n",
            "Collecting tensorboard<1.16.0,>=1.15.0\n",
            "  Downloading tensorboard-1.15.0-py3-none-any.whl (3.8 MB)\n",
            "\u001b[K     |████████████████████████████████| 3.8 MB 40.1 MB/s \n",
            "\u001b[?25hRequirement already satisfied: numpy<2.0,>=1.16.0 in /usr/local/lib/python3.7/dist-packages (from tensorflow==1.15.0) (1.19.5)\n",
            "Collecting keras-applications>=1.0.8\n",
            "  Downloading Keras_Applications-1.0.8-py3-none-any.whl (50 kB)\n",
            "\u001b[K     |████████████████████████████████| 50 kB 9.0 MB/s \n",
            "\u001b[?25hRequirement already satisfied: h5py in /usr/local/lib/python3.7/dist-packages (from keras-applications>=1.0.8->tensorflow==1.15.0) (3.1.0)\n",
            "Requirement already satisfied: markdown>=2.6.8 in /usr/local/lib/python3.7/dist-packages (from tensorboard<1.16.0,>=1.15.0->tensorflow==1.15.0) (3.3.4)\n",
            "Requirement already satisfied: werkzeug>=0.11.15 in /usr/local/lib/python3.7/dist-packages (from tensorboard<1.16.0,>=1.15.0->tensorflow==1.15.0) (1.0.1)\n",
            "Requirement already satisfied: setuptools>=41.0.0 in /usr/local/lib/python3.7/dist-packages (from tensorboard<1.16.0,>=1.15.0->tensorflow==1.15.0) (57.4.0)\n",
            "Requirement already satisfied: importlib-metadata in /usr/local/lib/python3.7/dist-packages (from markdown>=2.6.8->tensorboard<1.16.0,>=1.15.0->tensorflow==1.15.0) (4.6.4)\n",
            "Requirement already satisfied: cached-property in /usr/local/lib/python3.7/dist-packages (from h5py->keras-applications>=1.0.8->tensorflow==1.15.0) (1.5.2)\n",
            "Requirement already satisfied: zipp>=0.5 in /usr/local/lib/python3.7/dist-packages (from importlib-metadata->markdown>=2.6.8->tensorboard<1.16.0,>=1.15.0->tensorflow==1.15.0) (3.5.0)\n",
            "Requirement already satisfied: typing-extensions>=3.6.4 in /usr/local/lib/python3.7/dist-packages (from importlib-metadata->markdown>=2.6.8->tensorboard<1.16.0,>=1.15.0->tensorflow==1.15.0) (3.7.4.3)\n",
            "Building wheels for collected packages: gast\n",
            "  Building wheel for gast (setup.py) ... \u001b[?25l\u001b[?25hdone\n",
            "  Created wheel for gast: filename=gast-0.2.2-py3-none-any.whl size=7554 sha256=2dd312c0ab7c082f6d3e0290f446b25f258808bd7f367f962509b45bc8bc7c85\n",
            "  Stored in directory: /root/.cache/pip/wheels/21/7f/02/420f32a803f7d0967b48dd823da3f558c5166991bfd204eef3\n",
            "Successfully built gast\n",
            "Installing collected packages: tensorflow-estimator, tensorboard, keras-applications, gast, tensorflow\n",
            "  Attempting uninstall: tensorflow-estimator\n",
            "    Found existing installation: tensorflow-estimator 2.6.0\n",
            "    Uninstalling tensorflow-estimator-2.6.0:\n",
            "      Successfully uninstalled tensorflow-estimator-2.6.0\n",
            "  Attempting uninstall: tensorboard\n",
            "    Found existing installation: tensorboard 2.6.0\n",
            "    Uninstalling tensorboard-2.6.0:\n",
            "      Successfully uninstalled tensorboard-2.6.0\n",
            "  Attempting uninstall: gast\n",
            "    Found existing installation: gast 0.4.0\n",
            "    Uninstalling gast-0.4.0:\n",
            "      Successfully uninstalled gast-0.4.0\n",
            "  Attempting uninstall: tensorflow\n",
            "    Found existing installation: tensorflow 2.6.0\n",
            "    Uninstalling tensorflow-2.6.0:\n",
            "      Successfully uninstalled tensorflow-2.6.0\n",
            "\u001b[31mERROR: pip's dependency resolver does not currently take into account all the packages that are installed. This behaviour is the source of the following dependency conflicts.\n",
            "tensorflow-probability 0.13.0 requires gast>=0.3.2, but you have gast 0.2.2 which is incompatible.\n",
            "kapre 0.3.5 requires tensorflow>=2.0.0, but you have tensorflow 1.15.0 which is incompatible.\u001b[0m\n",
            "Successfully installed gast-0.2.2 keras-applications-1.0.8 tensorboard-1.15.0 tensorflow-1.15.0 tensorflow-estimator-1.15.1\n",
            "Collecting keras==2.3.1\n",
            "  Downloading Keras-2.3.1-py2.py3-none-any.whl (377 kB)\n",
            "\u001b[K     |████████████████████████████████| 377 kB 7.4 MB/s \n",
            "\u001b[?25hRequirement already satisfied: scipy>=0.14 in /usr/local/lib/python3.7/dist-packages (from keras==2.3.1) (1.4.1)\n",
            "Requirement already satisfied: keras-preprocessing>=1.0.5 in /usr/local/lib/python3.7/dist-packages (from keras==2.3.1) (1.1.2)\n",
            "Requirement already satisfied: keras-applications>=1.0.6 in /usr/local/lib/python3.7/dist-packages (from keras==2.3.1) (1.0.8)\n",
            "Requirement already satisfied: h5py in /usr/local/lib/python3.7/dist-packages (from keras==2.3.1) (3.1.0)\n",
            "Requirement already satisfied: pyyaml in /usr/local/lib/python3.7/dist-packages (from keras==2.3.1) (3.13)\n",
            "Requirement already satisfied: numpy>=1.9.1 in /usr/local/lib/python3.7/dist-packages (from keras==2.3.1) (1.19.5)\n",
            "Requirement already satisfied: six>=1.9.0 in /usr/local/lib/python3.7/dist-packages (from keras==2.3.1) (1.15.0)\n",
            "Requirement already satisfied: cached-property in /usr/local/lib/python3.7/dist-packages (from h5py->keras==2.3.1) (1.5.2)\n",
            "Installing collected packages: keras\n",
            "  Attempting uninstall: keras\n",
            "    Found existing installation: keras 2.6.0\n",
            "    Uninstalling keras-2.6.0:\n",
            "      Successfully uninstalled keras-2.6.0\n",
            "Successfully installed keras-2.3.1\n",
            "Collecting h5py==2.10.0\n",
            "  Downloading h5py-2.10.0-cp37-cp37m-manylinux1_x86_64.whl (2.9 MB)\n",
            "\u001b[K     |████████████████████████████████| 2.9 MB 9.4 MB/s \n",
            "\u001b[?25hRequirement already satisfied: numpy>=1.7 in /usr/local/lib/python3.7/dist-packages (from h5py==2.10.0) (1.19.5)\n",
            "Requirement already satisfied: six in /usr/local/lib/python3.7/dist-packages (from h5py==2.10.0) (1.15.0)\n",
            "Installing collected packages: h5py\n",
            "  Attempting uninstall: h5py\n",
            "    Found existing installation: h5py 3.1.0\n",
            "    Uninstalling h5py-3.1.0:\n",
            "      Successfully uninstalled h5py-3.1.0\n",
            "Successfully installed h5py-2.10.0\n",
            "     1\t############Test\n",
            "     2\timport argparse\n",
            "     3\timport os\n",
            "     4\timport tensorflow as tf\n",
            "     5\tfrom keras.backend import tensorflow_backend\n",
            "     6\t\n",
            "     7\tfrom utils import define_model, crop_prediction\n",
            "     8\tfrom keras.layers import ReLU\n",
            "     9\tfrom tqdm import tqdm\n",
            "    10\timport numpy as np\n",
            "    11\tfrom skimage.transform import resize\n",
            "    12\timport cv2\n",
            "    13\t\n",
            "    14\tfrom PIL import Image\n",
            "    15\t\n",
            "    16\t\n",
            "    17\tdef predict(ACTIVATION='ReLU', dropout=0.1, batch_size=32, repeat=4, minimum_kernel=32, \n",
            "    18\t            epochs=200, iteration=3, crop_size=128, stride_size=3, \n",
            "    19\t            input_path='', output_path='', DATASET='ALL'):\n",
            "    20\t    exts = ['png', 'jpg', 'tif', 'bmp', 'gif']\n",
            "    21\t\n",
            "    22\t    if not input_path.endswith('/'):\n",
            "    23\t        input_path += '/'\n",
            "    24\t    paths = [input_path + i for i in sorted(os.listdir(input_path)) if i.split('.')[-1] in exts]\n",
            "    25\t\n",
            "    26\t    gt_list_out = {}\n",
            "    27\t    pred_list_out = {}\n",
            "    28\t\n",
            "    29\t    os.makedirs(f\"{output_path}/out_seg/\", exist_ok=True)\n",
            "    30\t    os.makedirs(f\"{output_path}/out_art/\", exist_ok=True)\n",
            "    31\t    os.makedirs(f\"{output_path}/out_vei/\", exist_ok=True)\n",
            "    32\t    os.makedirs(f\"{output_path}/out_final/\", exist_ok=True)\n",
            "    33\t\n",
            "    34\t    activation = globals()[ACTIVATION]\n",
            "    35\t    model = define_model.get_unet(minimum_kernel=minimum_kernel, do=dropout, activation=activation, iteration=iteration)\n",
            "    36\t    model_name = f\"Final_Emer_Iteration_{iteration}_cropsize_{crop_size}_epochs_{epochs}\"\n",
            "    37\t    print(\"Model : %s\" % model_name)\n",
            "    38\t    load_path = f\"trained_model/{DATASET}/{model_name}.hdf5\"\n",
            "    39\t    model.load_weights(load_path, by_name=False)\n",
            "    40\t\n",
            "    41\t    for i in tqdm(range(len(paths))):\n",
            "    42\t        filename = '.'.join(paths[i].split('/')[-1].split('.')[:-1])\n",
            "    43\t        img = Image.open(paths[i])\n",
            "    44\t        image_size = img.size\n",
            "    45\t        img = np.array(img) / 255.\n",
            "    46\t        img = resize(img, [576, 576])\n",
            "    47\t\n",
            "    48\t        patches_pred, new_height, new_width, adjustImg = crop_prediction.get_test_patches(img, crop_size, stride_size)\n",
            "    49\t        preds = model.predict(patches_pred)\n",
            "    50\t\n",
            "    51\t        #for segmentation\n",
            "    52\t        pred = preds[iteration]\n",
            "    53\t        pred_patches = crop_prediction.pred_to_patches(pred, crop_size, stride_size)\n",
            "    54\t        pred_imgs = crop_prediction.recompone_overlap(pred_patches, crop_size, stride_size, new_height, new_width)\n",
            "    55\t        pred_imgs = pred_imgs[:, 0:576, 0:576, :]\n",
            "    56\t        probResult = pred_imgs[0, :, :, 0]\n",
            "    57\t        pred_ = probResult\n",
            "    58\t        pred_ = 255. * (pred_ - np.min(pred_)) / (np.max(pred_) - np.min(pred_))\n",
            "    59\t        pred_seg = pred_\n",
            "    60\t        pred_ = resize(pred_, image_size[::-1])\n",
            "    61\t        cv2.imwrite(f\"{output_path}/out_seg/{filename}.png\", pred_)\n",
            "    62\t    \n",
            "    63\t        #for artery\n",
            "    64\t        pred = preds[2*iteration + 1]\n",
            "    65\t        pred_patches = crop_prediction.pred_to_patches(pred, crop_size, stride_size)\n",
            "    66\t        pred_imgs = crop_prediction.recompone_overlap(pred_patches, crop_size, stride_size, new_height, new_width)\n",
            "    67\t        pred_imgs = pred_imgs[:, 0:576, 0:576, :]\n",
            "    68\t        probResult = pred_imgs[0, :, :, 0]\n",
            "    69\t        pred_ = probResult\n",
            "    70\t        pred_ = 255. * (pred_ - np.min(pred_)) / (np.max(pred_) - np.min(pred_))\n",
            "    71\t        pred_art = pred_\n",
            "    72\t        pred_ = resize(pred_, image_size[::-1])\n",
            "    73\t        cv2.imwrite(f\"{output_path}/out_art/{filename}.png\", pred_)\n",
            "    74\t\n",
            "    75\t        #for vein\n",
            "    76\t        pred = preds[3*iteration + 2]\n",
            "    77\t        pred_patches = crop_prediction.pred_to_patches(pred, crop_size, stride_size)\n",
            "    78\t        pred_imgs = crop_prediction.recompone_overlap(pred_patches, crop_size, stride_size, new_height, new_width)\n",
            "    79\t        pred_imgs = pred_imgs[:, 0:576, 0:576, :]\n",
            "    80\t        probResult = pred_imgs[0, :, :, 0]\n",
            "    81\t        pred_ = probResult\n",
            "    82\t        pred_ = 255. * (pred_ - np.min(pred_)) / (np.max(pred_) - np.min(pred_))\n",
            "    83\t        pred_vei = pred_\n",
            "    84\t        pred_ = resize(pred_, image_size[::-1])\n",
            "    85\t        cv2.imwrite(f\"{output_path}/out_vei/{filename}.png\", pred_)\n",
            "    86\t\n",
            "    87\t        #for final\n",
            "    88\t        pred_final = np.zeros((*list(pred_seg.shape), 3), dtype=pred_seg.dtype)\n",
            "    89\t        art_temp = pred_final[pred_art >= pred_vei]\n",
            "    90\t        art_temp[:,2] = pred_seg[pred_art >= pred_vei]\n",
            "    91\t        pred_final[pred_art >= pred_vei] = art_temp\n",
            "    92\t        vei_temp = pred_final[pred_art < pred_vei]\n",
            "    93\t        vei_temp[:,0] = pred_seg[pred_art < pred_vei]\n",
            "    94\t        pred_final[pred_art < pred_vei] = vei_temp\n",
            "    95\t        pred_ = pred_final\n",
            "    96\t        pred_ = resize(pred_, image_size[::-1])\n",
            "    97\t        cv2.imwrite(f\"{output_path}/out_final/{filename}.png\", pred_)\n",
            "    98\t\n",
            "    99\t\n",
            "   100\t\n",
            "   101\t\n",
            "   102\tif __name__ == \"__main__\":\n",
            "   103\t    os.environ[\"CUDA_VISIBLE_DEVICES\"]=\"0\"\n",
            "   104\t    config = tf.ConfigProto(gpu_options=tf.GPUOptions(allow_growth=True))\n",
            "   105\t    session = tf.Session(config=config)\n",
            "   106\t    tensorflow_backend.set_session(session)\n",
            "   107\t\n",
            "   108\t\n",
            "   109\t    # define the program description\n",
            "   110\t    des_text = 'Please use -i to specify the input dir and -o to specify the output dir.'\n",
            "   111\t\n",
            "   112\t    # initiate the parser\n",
            "   113\t    parser = argparse.ArgumentParser(description=des_text)\n",
            "   114\t    parser.add_argument('--input', '-i', help=\"(Required) Path of input dir\")\n",
            "   115\t    parser.add_argument('--output', '-o', help=\"(Optional) Path of output dir\")\n",
            "   116\t    args = parser.parse_args()\n",
            "   117\t\n",
            "   118\t    if not args.input:\n",
            "   119\t        print('Please specify the input dir with -i')\n",
            "   120\t        exit(1)\n",
            "   121\t\n",
            "   122\t    input_path = args.input\n",
            "   123\t\n",
            "   124\t    if not args.output:\n",
            "   125\t        output_path = './output/'\n",
            "   126\t    else:\n",
            "   127\t        output_path = args.output\n",
            "   128\t        if output_path.endswith('/'):\n",
            "   129\t            output_path = output_path[:-1]\n",
            "   130\t\n",
            "   131\t\n",
            "   132\t    #stride_size = 3 will be better, but slower\n",
            "   133\t    predict(batch_size=24, epochs=200, iteration=3, stride_size=3, crop_size=128, \n",
            "   134\t        input_path=input_path, output_path=output_path)"
          ]
        }
      ]
    },
    {
      "cell_type": "code",
      "metadata": {
        "id": "cD5WpxtAQCoB"
      },
      "source": [
        "\"\"\"\n",
        "#ここは不要\n",
        "!cat -n requirements-pip.txt # -n はnumberの意味\n",
        "\n",
        "!sed -i -e \"43c protobuf==3.11.3\" requirements-pip.txt # protobufはバージョン違いしかないので変更\n",
        "!sed -i -e \"47d\" requirements-pip.txt # pyGPUはサポートされていないので除外\n",
        "\n",
        "!cat -n requirements-pip.txt # -n はnumberの意味\n",
        "\n",
        "!pip3 install -r requirements-pip.txt\n",
        "\"\"\"\n"
      ],
      "execution_count": null,
      "outputs": []
    },
    {
      "cell_type": "markdown",
      "metadata": {
        "id": "T6nYbKannl8X"
      },
      "source": [
        "#**Run codes**"
      ]
    },
    {
      "cell_type": "code",
      "metadata": {
        "id": "QAr9u6oRN6To",
        "outputId": "529e1653-0048-4d15-b113-fa070785b724",
        "colab": {
          "base_uri": "https://localhost:8080/"
        }
      },
      "source": [
        "!python predict.py -i /content/drive/MyDrive/Deep_learning/FundusPhoto/flipped_img/ -o /content/drive/MyDrive/Deep_learning/FundusPhoto/vascular_img/"
      ],
      "execution_count": null,
      "outputs": [
        {
          "metadata": {
            "tags": null
          },
          "name": "stdout",
          "output_type": "stream",
          "text": [
            "Using TensorFlow backend.\n",
            "WARNING:tensorflow:From predict.py:63: The name tf.ConfigProto is deprecated. Please use tf.compat.v1.ConfigProto instead.\n",
            "\n",
            "WARNING:tensorflow:From predict.py:63: The name tf.GPUOptions is deprecated. Please use tf.compat.v1.GPUOptions instead.\n",
            "\n",
            "WARNING:tensorflow:From predict.py:64: The name tf.Session is deprecated. Please use tf.compat.v1.Session instead.\n",
            "\n",
            "2021-09-07 15:23:47.877305: I tensorflow/core/platform/cpu_feature_guard.cc:142] Your CPU supports instructions that this TensorFlow binary was not compiled to use: AVX2 AVX512F FMA\n",
            "2021-09-07 15:23:47.881365: I tensorflow/core/platform/profile_utils/cpu_utils.cc:94] CPU Frequency: 2000134999 Hz\n",
            "2021-09-07 15:23:47.881622: I tensorflow/compiler/xla/service/service.cc:168] XLA service 0x56538cf5ca00 initialized for platform Host (this does not guarantee that XLA will be used). Devices:\n",
            "2021-09-07 15:23:47.881656: I tensorflow/compiler/xla/service/service.cc:176]   StreamExecutor device (0): Host, Default Version\n",
            "2021-09-07 15:23:47.883227: I tensorflow/stream_executor/platform/default/dso_loader.cc:44] Successfully opened dynamic library libcuda.so.1\n",
            "2021-09-07 15:23:48.067137: I tensorflow/stream_executor/cuda/cuda_gpu_executor.cc:983] successful NUMA node read from SysFS had negative value (-1), but there must be at least one NUMA node, so returning NUMA node zero\n",
            "2021-09-07 15:23:48.067858: I tensorflow/compiler/xla/service/service.cc:168] XLA service 0x56538cf5cd80 initialized for platform CUDA (this does not guarantee that XLA will be used). Devices:\n",
            "2021-09-07 15:23:48.067900: I tensorflow/compiler/xla/service/service.cc:176]   StreamExecutor device (0): Tesla T4, Compute Capability 7.5\n",
            "2021-09-07 15:23:48.068780: I tensorflow/stream_executor/cuda/cuda_gpu_executor.cc:983] successful NUMA node read from SysFS had negative value (-1), but there must be at least one NUMA node, so returning NUMA node zero\n",
            "2021-09-07 15:23:48.069384: I tensorflow/core/common_runtime/gpu/gpu_device.cc:1618] Found device 0 with properties: \n",
            "name: Tesla T4 major: 7 minor: 5 memoryClockRate(GHz): 1.59\n",
            "pciBusID: 0000:00:04.0\n",
            "2021-09-07 15:23:48.081163: I tensorflow/stream_executor/platform/default/dso_loader.cc:44] Successfully opened dynamic library libcudart.so.10.0\n",
            "2021-09-07 15:23:48.202063: I tensorflow/stream_executor/platform/default/dso_loader.cc:44] Successfully opened dynamic library libcublas.so.10.0\n",
            "2021-09-07 15:23:48.260689: I tensorflow/stream_executor/platform/default/dso_loader.cc:44] Successfully opened dynamic library libcufft.so.10.0\n",
            "2021-09-07 15:23:48.277331: I tensorflow/stream_executor/platform/default/dso_loader.cc:44] Successfully opened dynamic library libcurand.so.10.0\n",
            "2021-09-07 15:23:48.420630: I tensorflow/stream_executor/platform/default/dso_loader.cc:44] Successfully opened dynamic library libcusolver.so.10.0\n",
            "2021-09-07 15:23:48.501833: I tensorflow/stream_executor/platform/default/dso_loader.cc:44] Successfully opened dynamic library libcusparse.so.10.0\n",
            "2021-09-07 15:23:48.795541: I tensorflow/stream_executor/platform/default/dso_loader.cc:44] Successfully opened dynamic library libcudnn.so.7\n",
            "2021-09-07 15:23:48.795723: I tensorflow/stream_executor/cuda/cuda_gpu_executor.cc:983] successful NUMA node read from SysFS had negative value (-1), but there must be at least one NUMA node, so returning NUMA node zero\n",
            "2021-09-07 15:23:48.796381: I tensorflow/stream_executor/cuda/cuda_gpu_executor.cc:983] successful NUMA node read from SysFS had negative value (-1), but there must be at least one NUMA node, so returning NUMA node zero\n",
            "2021-09-07 15:23:48.796881: I tensorflow/core/common_runtime/gpu/gpu_device.cc:1746] Adding visible gpu devices: 0\n",
            "2021-09-07 15:23:48.796968: I tensorflow/stream_executor/platform/default/dso_loader.cc:44] Successfully opened dynamic library libcudart.so.10.0\n",
            "2021-09-07 15:23:48.798347: I tensorflow/core/common_runtime/gpu/gpu_device.cc:1159] Device interconnect StreamExecutor with strength 1 edge matrix:\n",
            "2021-09-07 15:23:48.798379: I tensorflow/core/common_runtime/gpu/gpu_device.cc:1165]      0 \n",
            "2021-09-07 15:23:48.798387: I tensorflow/core/common_runtime/gpu/gpu_device.cc:1178] 0:   N \n",
            "2021-09-07 15:23:48.798509: I tensorflow/stream_executor/cuda/cuda_gpu_executor.cc:983] successful NUMA node read from SysFS had negative value (-1), but there must be at least one NUMA node, so returning NUMA node zero\n",
            "2021-09-07 15:23:48.799061: I tensorflow/stream_executor/cuda/cuda_gpu_executor.cc:983] successful NUMA node read from SysFS had negative value (-1), but there must be at least one NUMA node, so returning NUMA node zero\n",
            "2021-09-07 15:23:48.799574: I tensorflow/core/common_runtime/gpu/gpu_device.cc:1304] Created TensorFlow device (/job:localhost/replica:0/task:0/device:GPU:0 with 14257 MB memory) -> physical GPU (device: 0, name: Tesla T4, pci bus id: 0000:00:04.0, compute capability: 7.5)\n",
            "WARNING:tensorflow:From /usr/local/lib/python3.7/dist-packages/tensorflow_core/python/ops/resource_variable_ops.py:1630: calling BaseResourceVariable.__init__ (from tensorflow.python.ops.resource_variable_ops) with constraint is deprecated and will be removed in a future version.\n",
            "Instructions for updating:\n",
            "If using Keras pass *_constraint arguments to layers.\n",
            "WARNING:tensorflow:From /usr/local/lib/python3.7/dist-packages/keras/backend/tensorflow_backend.py:4070: The name tf.nn.max_pool is deprecated. Please use tf.nn.max_pool2d instead.\n",
            "\n",
            "WARNING:tensorflow:From /usr/local/lib/python3.7/dist-packages/tensorflow_core/python/ops/nn_impl.py:183: where (from tensorflow.python.ops.array_ops) is deprecated and will be removed in a future version.\n",
            "Instructions for updating:\n",
            "Use tf.where in 2.0, which has the same broadcast rule as np.where\n",
            "Model : Final_Emer_Iteration_3_cropsize_128_epochs_200\n",
            "  0% 0/1414 [00:00<?, ?it/s]WARNING:tensorflow:From /usr/local/lib/python3.7/dist-packages/keras/backend/tensorflow_backend.py:422: The name tf.global_variables is deprecated. Please use tf.compat.v1.global_variables instead.\n",
            "\n",
            "2021-09-07 15:23:56.815398: I tensorflow/stream_executor/platform/default/dso_loader.cc:44] Successfully opened dynamic library libcudnn.so.7\n",
            "2021-09-07 15:23:59.453415: I tensorflow/stream_executor/platform/default/dso_loader.cc:44] Successfully opened dynamic library libcublas.so.10.0\n",
            " 50% 704/1414 [6:43:51<6:39:26, 33.76s/it]"
          ]
        }
      ]
    }
  ]
}