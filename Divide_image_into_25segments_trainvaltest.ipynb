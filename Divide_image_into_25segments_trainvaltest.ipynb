{
  "nbformat": 4,
  "nbformat_minor": 0,
  "metadata": {
    "colab": {
      "name": "Untitled91.ipynb",
      "provenance": [],
      "include_colab_link": true
    },
    "kernelspec": {
      "name": "python3",
      "display_name": "Python 3"
    },
    "language_info": {
      "name": "python"
    }
  },
  "cells": [
    {
      "cell_type": "markdown",
      "metadata": {
        "id": "view-in-github",
        "colab_type": "text"
      },
      "source": [
        "<a href=\"https://colab.research.google.com/github/ykitaguchi77/FundusPhoto/blob/main/Divide_image_into_25segments1.1.ipynb\" target=\"_parent\"><img src=\"https://colab.research.google.com/assets/colab-badge.svg\" alt=\"Open In Colab\"/></a>"
      ]
    },
    {
      "cell_type": "markdown",
      "metadata": {
        "id": "59maQ5vagIgy"
      },
      "source": [
        "#**Divide_images_into_25segments**\n",
        "\n",
        "画像を縦横それぞれ5等分した25パーツに分割し保存し直すスクリプト"
      ]
    },
    {
      "cell_type": "code",
      "metadata": {
        "id": "EhZr1fGQsVz0"
      },
      "source": [
        "'''\n",
        "dst_path内に0-24のフォルダを作成し、その中にそれぞれtrain, val, testフォルダを作成\n",
        "orig_path内のファイルをtrain, val, testに分け、それぞれの画像を25分割し、それぞれのフォルダに格納する\n",
        "'''"
      ],
      "execution_count": null,
      "outputs": []
    },
    {
      "cell_type": "code",
      "metadata": {
        "colab": {
          "base_uri": "https://localhost:8080/"
        },
        "id": "ctJBP7uff9OY",
        "outputId": "13855db3-aa64-41ee-b105-7431f64b63cd"
      },
      "source": [
        "from PIL import Image\n",
        "import os\n",
        "import time\n",
        "from IPython.display import display\n",
        "import numpy as np\n",
        "import shutil\n",
        "import random\n",
        "\n",
        "\n",
        "#google driveをcolabolatoryにマウント\n",
        "from google.colab import drive\n",
        "drive.mount('/content/drive')\n",
        "\n",
        "orig_path = '/content/drive/MyDrive/Deep_learning/FundusPhoto/flipped_img'\n",
        "dst_path = '/content/drive/MyDrive/Deep_learning/FundusPhoto/flipped_25div_img'\n",
        "csv_path = '/content/drive/MyDrive/Deep_learning/FundusPhoto/name_age.csv'\n",
        "\n",
        "train_rate = 0.7\n",
        "val_rate = 0.2"
      ],
      "execution_count": 14,
      "outputs": [
        {
          "output_type": "stream",
          "text": [
            "Drive already mounted at /content/drive; to attempt to forcibly remount, call drive.mount(\"/content/drive\", force_remount=True).\n"
          ],
          "name": "stdout"
        }
      ]
    },
    {
      "cell_type": "code",
      "metadata": {
        "id": "oVe5F-Uvgq5w"
      },
      "source": [
        "def makefolders(orig_path, dst_path):\n",
        "    if os.path.exists(dst_path):\n",
        "        shutil.rmtree(dst_path)\n",
        "    os.makedirs(dst_path, exist_ok=True)\n",
        "\n",
        "    for i in range(25):\n",
        "        os.makedirs(dst_path +'/' +str(i) +'/train', exist_ok=True) #trainのフォルダを作成\n",
        "        os.makedirs(dst_path +'/' +str(i) +'/val', exist_ok=True) #valのフォルダを作成\n",
        "        os.makedirs(dst_path +'/' +str(i) +'/test', exist_ok=True) #valのフォルダを作成\n",
        "\n",
        "def divide_25segments(in_path, out_path, file_name, step):\n",
        "    pil_img = Image.open(in_path + '/' +file_name)\n",
        "\n",
        "    width, height = pil_img.size\n",
        "    if width % 5 != 0:\n",
        "        print(\"幅を5等分できません\")\n",
        "    if height % 5 != 0:\n",
        "        print(\"高さを5等分できません\")\n",
        "    x_axis = [n*int(width/5) for n in [0,1,2,3,4,5]] \n",
        "    y_axis = [n*int(height/5) for n in [0,1,2,3,4,5]]\n",
        "\n",
        "    for i in range(5):\n",
        "        for j in range(5):\n",
        "            im_crop = pil_img.crop((x_axis[i], y_axis[j], x_axis[i+1], x_axis[j+1]))\n",
        "            im_crop.save(out_path + '/' + str(j*5+i) +'/' +step + '/' +file_name)\n",
        "\n",
        "\n",
        "def showInfo(in_path):\n",
        "    #処理するDirectoryの設定\n",
        "    file = os.listdir(in_path)\n",
        "    print(len(file))\n",
        "    im = Image.open(in_path+'/'+file[0])\n",
        "    w, h = im.size\n",
        "    print('width: ', w)\n",
        "    print('height:', h)\n",
        "\n",
        "    #ここにフォルダ番号を記載する (ex. [0:999])\n",
        "    processing_file = file[0:len(file)]\n",
        "    #processing_file = file[0:1]\n",
        "    print(processing_file)\n",
        "    #len(processing_file)\n",
        "    return processing_file"
      ],
      "execution_count": 29,
      "outputs": []
    },
    {
      "cell_type": "code",
      "metadata": {
        "id": "ZXzg76r3t4ma",
        "outputId": "00f3d9d0-3ad9-4102-e766-1f18b4a29496",
        "colab": {
          "base_uri": "https://localhost:8080/"
        }
      },
      "source": [
        "#処理時間の計測\n",
        "start = time.time()\n",
        "\n",
        "#移動先のフォルダを作成\n",
        "makefolders(orig_path, dst_path)\n",
        "\n",
        "total = os.listdir(orig_path)\n",
        "total_num = len(os.listdir(orig_path))\n",
        "train_num = int(total_num*train_rate) #trainの総数\n",
        "val_num = int(total_num*val_rate)  #valの総数\n",
        "test_num = total_num - train_num - val_num  #testの総数\n",
        "\n",
        "trainval = random.sample(total, train_num+val_num) #train+val\n",
        "val = random.sample(trainval, val_num) #valのリスト\n",
        "train = list(set(trainval)-set(val)) #trainのリスト\n",
        "test = list(set(total) - set(trainval)) #testのリスト\n",
        "\n",
        "l=0\n",
        "for j in train:\n",
        "      step = 'train'\n",
        "      divide_25segments(orig_path, dst_path, j, step)\n",
        "      l+=1\n",
        "      print(str(l)+'/'+str(total_num)+' images copied')\n",
        "for j in val:\n",
        "      step = 'val'\n",
        "      divide_25segments(orig_path, dst_path, j, step)\n",
        "      l+=1\n",
        "      print(str(l)+'/'+str(total_num)+' images copied')\n",
        "for j in test:\n",
        "      step = 'test'\n",
        "      divide_25segments(orig_path, dst_path, j, step)\n",
        "      l+=1\n",
        "      print(str(l)+'/'+str(total_num)+' images copied')"
      ],
      "execution_count": null,
      "outputs": [
        {
          "output_type": "stream",
          "text": [
            "1/1414 images copied\n",
            "2/1414 images copied\n",
            "3/1414 images copied\n",
            "4/1414 images copied\n",
            "5/1414 images copied\n",
            "6/1414 images copied\n",
            "7/1414 images copied\n",
            "8/1414 images copied\n",
            "9/1414 images copied\n",
            "10/1414 images copied\n",
            "11/1414 images copied\n",
            "12/1414 images copied\n",
            "13/1414 images copied\n",
            "14/1414 images copied\n",
            "15/1414 images copied\n",
            "16/1414 images copied\n",
            "17/1414 images copied\n",
            "18/1414 images copied\n",
            "19/1414 images copied\n",
            "20/1414 images copied\n",
            "21/1414 images copied\n",
            "22/1414 images copied\n",
            "23/1414 images copied\n",
            "24/1414 images copied\n",
            "25/1414 images copied\n",
            "26/1414 images copied\n",
            "27/1414 images copied\n",
            "28/1414 images copied\n"
          ],
          "name": "stdout"
        }
      ]
    },
    {
      "cell_type": "code",
      "metadata": {
        "id": "LiTkspQBz1Yx"
      },
      "source": [
        "showInfo(orig_path)"
      ],
      "execution_count": null,
      "outputs": []
    },
    {
      "cell_type": "code",
      "metadata": {
        "id": "7ITJd6CagxN6"
      },
      "source": [
        "#元画像フォルダ\n",
        "orig_path = orig_path\n",
        "\n",
        "#保存先フォルダ\n",
        "dst_path = dst_path\n",
        "\n",
        "try:\n",
        "    shutil.rmtree(dst_path)\n",
        "except FileNotFoundError:\n",
        "    pass\n",
        "\n",
        "if not os.path.exists(dst_path):\n",
        "    os.makedirs(dst_path)\n",
        "    for i in range(25):\n",
        "        os.makedirs(dst_path+'/'+str(i))\n",
        "\n",
        "processing_file = showInfo(orig_path)\n",
        "convert(orig_path, dst_path, processing_file)"
      ],
      "execution_count": null,
      "outputs": []
    },
    {
      "cell_type": "markdown",
      "metadata": {
        "id": "-mGIpIVdhWqB"
      },
      "source": [
        "#**ファイル数の確認と画像表示**"
      ]
    },
    {
      "cell_type": "markdown",
      "metadata": {
        "id": "Ksz1PhmT_pK8"
      },
      "source": [
        "#**フォルダの削除**"
      ]
    },
    {
      "cell_type": "code",
      "metadata": {
        "id": "ATaYg9Sk_oBR"
      },
      "source": [
        "import shutil\n",
        "\n",
        "directory = 'ここにパスをコピペ'\n",
        "\n",
        "try:\n",
        "    shutil.rmtree(directory)\n",
        "except FileNotFoundError:\n",
        "    pass"
      ],
      "execution_count": null,
      "outputs": []
    }
  ]
}
