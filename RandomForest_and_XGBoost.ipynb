{
  "nbformat": 4,
  "nbformat_minor": 0,
  "metadata": {
    "colab": {
      "name": "Untitled69.ipynb",
      "provenance": [],
      "mount_file_id": "1JnO8G8KM3eaL7zL7IrR7NU-Q2MllCCtk",
      "authorship_tag": "ABX9TyPZLH3OvSfw/0Hd/FcJcfzr",
      "include_colab_link": true
    },
    "kernelspec": {
      "name": "python3",
      "display_name": "Python 3"
    },
    "language_info": {
      "name": "python"
    }
  },
  "cells": [
    {
      "cell_type": "markdown",
      "metadata": {
        "id": "view-in-github",
        "colab_type": "text"
      },
      "source": [
        "<a href=\"https://colab.research.google.com/github/ykitaguchi77/FundusPhoto/blob/main/RandomForest_and_XGBoost.ipynb\" target=\"_parent\"><img src=\"https://colab.research.google.com/assets/colab-badge.svg\" alt=\"Open In Colab\"/></a>"
      ]
    },
    {
      "cell_type": "code",
      "metadata": {
        "colab": {
          "base_uri": "https://localhost:8080/"
        },
        "id": "jAOmIegf1c6s",
        "outputId": "b5b5308b-c3f6-4d8d-efbc-d3f5c4af2d28"
      },
      "source": [
        "#google driveをcolabolatoryにマウント\n",
        "from google.colab import drive\n",
        "drive.mount('/content/drive')"
      ],
      "execution_count": 1,
      "outputs": [
        {
          "output_type": "stream",
          "name": "stdout",
          "text": [
            "Mounted at /content/drive\n"
          ]
        }
      ]
    },
    {
      "cell_type": "code",
      "metadata": {
        "colab": {
          "base_uri": "https://localhost:8080/",
          "height": 439
        },
        "id": "qrNbbDfQ5lid",
        "outputId": "847f2c93-d9ea-4ae7-c2f7-c94ab4e50e73"
      },
      "source": [
        "import seaborn as sns\n",
        "import statsmodels.api as sm\n",
        "import pandas as pd\n",
        "\n",
        "df = pd.read_csv(\"/content/drive/MyDrive/Deep_learning/FundusPhoto/result.csv\", index_col=0, sep=\",\")\n",
        "df\n"
      ],
      "execution_count": 96,
      "outputs": [
        {
          "output_type": "execute_result",
          "data": {
            "text/html": [
              "<div>\n",
              "<style scoped>\n",
              "    .dataframe tbody tr th:only-of-type {\n",
              "        vertical-align: middle;\n",
              "    }\n",
              "\n",
              "    .dataframe tbody tr th {\n",
              "        vertical-align: top;\n",
              "    }\n",
              "\n",
              "    .dataframe thead th {\n",
              "        text-align: right;\n",
              "    }\n",
              "</style>\n",
              "<table border=\"1\" class=\"dataframe\">\n",
              "  <thead>\n",
              "    <tr style=\"text-align: right;\">\n",
              "      <th></th>\n",
              "      <th>filename</th>\n",
              "      <th>age</th>\n",
              "      <th>set</th>\n",
              "      <th>cropped_A2</th>\n",
              "      <th>cropped_A2_pretrained</th>\n",
              "      <th>cropped_B3</th>\n",
              "      <th>cropped_B3pretrained</th>\n",
              "      <th>disc_A2</th>\n",
              "      <th>disc_A2_pretrained</th>\n",
              "      <th>disc_B3</th>\n",
              "      <th>disc_B3_pretrained</th>\n",
              "      <th>vascular_A2</th>\n",
              "      <th>vascular_A2_pretrained</th>\n",
              "      <th>vascular_B3</th>\n",
              "      <th>vascular_B3_pretrained</th>\n",
              "      <th>macula_A2</th>\n",
              "      <th>macula_A2_pretrained</th>\n",
              "      <th>macula_B3</th>\n",
              "      <th>macula_B3_pretrained</th>\n",
              "    </tr>\n",
              "  </thead>\n",
              "  <tbody>\n",
              "    <tr>\n",
              "      <th>0</th>\n",
              "      <td>img00085008_00_1R.jpg</td>\n",
              "      <td>61</td>\n",
              "      <td>val</td>\n",
              "      <td>42.550665</td>\n",
              "      <td>51.511717</td>\n",
              "      <td>45.267197</td>\n",
              "      <td>48.228016</td>\n",
              "      <td>44.259751</td>\n",
              "      <td>60.388803</td>\n",
              "      <td>49.019647</td>\n",
              "      <td>57.370079</td>\n",
              "      <td>39.733568</td>\n",
              "      <td>56.994337</td>\n",
              "      <td>37.184125</td>\n",
              "      <td>65.403533</td>\n",
              "      <td>49.398333</td>\n",
              "      <td>63.834465</td>\n",
              "      <td>45.315519</td>\n",
              "      <td>64.566314</td>\n",
              "    </tr>\n",
              "    <tr>\n",
              "      <th>1</th>\n",
              "      <td>img00085024_00_1R.jpg</td>\n",
              "      <td>29</td>\n",
              "      <td>val</td>\n",
              "      <td>39.297953</td>\n",
              "      <td>27.813551</td>\n",
              "      <td>34.693065</td>\n",
              "      <td>30.219698</td>\n",
              "      <td>26.992634</td>\n",
              "      <td>37.555158</td>\n",
              "      <td>34.393159</td>\n",
              "      <td>28.256360</td>\n",
              "      <td>43.488920</td>\n",
              "      <td>39.154470</td>\n",
              "      <td>35.333204</td>\n",
              "      <td>50.786895</td>\n",
              "      <td>32.094574</td>\n",
              "      <td>30.836606</td>\n",
              "      <td>40.556285</td>\n",
              "      <td>32.959792</td>\n",
              "    </tr>\n",
              "    <tr>\n",
              "      <th>2</th>\n",
              "      <td>img00241280_10_1R.jpg</td>\n",
              "      <td>51</td>\n",
              "      <td>train</td>\n",
              "      <td>50.525779</td>\n",
              "      <td>57.090443</td>\n",
              "      <td>55.625671</td>\n",
              "      <td>55.247718</td>\n",
              "      <td>55.658686</td>\n",
              "      <td>53.555816</td>\n",
              "      <td>53.484726</td>\n",
              "      <td>63.062501</td>\n",
              "      <td>60.073453</td>\n",
              "      <td>54.546875</td>\n",
              "      <td>61.437273</td>\n",
              "      <td>66.778558</td>\n",
              "      <td>68.798459</td>\n",
              "      <td>64.358580</td>\n",
              "      <td>65.383965</td>\n",
              "      <td>60.088068</td>\n",
              "    </tr>\n",
              "    <tr>\n",
              "      <th>3</th>\n",
              "      <td>img00265140_00_1R.jpg</td>\n",
              "      <td>29</td>\n",
              "      <td>train</td>\n",
              "      <td>37.621737</td>\n",
              "      <td>31.148827</td>\n",
              "      <td>36.938146</td>\n",
              "      <td>33.577043</td>\n",
              "      <td>37.484571</td>\n",
              "      <td>31.255072</td>\n",
              "      <td>34.735942</td>\n",
              "      <td>35.358283</td>\n",
              "      <td>49.096131</td>\n",
              "      <td>29.550302</td>\n",
              "      <td>43.482432</td>\n",
              "      <td>55.882704</td>\n",
              "      <td>33.237335</td>\n",
              "      <td>33.163512</td>\n",
              "      <td>41.000220</td>\n",
              "      <td>32.129413</td>\n",
              "    </tr>\n",
              "    <tr>\n",
              "      <th>4</th>\n",
              "      <td>img00265140_00_2L.jpg</td>\n",
              "      <td>29</td>\n",
              "      <td>train</td>\n",
              "      <td>45.709464</td>\n",
              "      <td>28.956094</td>\n",
              "      <td>41.004908</td>\n",
              "      <td>32.249141</td>\n",
              "      <td>52.366054</td>\n",
              "      <td>36.308649</td>\n",
              "      <td>35.845736</td>\n",
              "      <td>42.669216</td>\n",
              "      <td>47.214234</td>\n",
              "      <td>23.765880</td>\n",
              "      <td>41.661096</td>\n",
              "      <td>35.372418</td>\n",
              "      <td>38.583675</td>\n",
              "      <td>32.522386</td>\n",
              "      <td>51.551360</td>\n",
              "      <td>33.535883</td>\n",
              "    </tr>\n",
              "    <tr>\n",
              "      <th>...</th>\n",
              "      <td>...</td>\n",
              "      <td>...</td>\n",
              "      <td>...</td>\n",
              "      <td>...</td>\n",
              "      <td>...</td>\n",
              "      <td>...</td>\n",
              "      <td>...</td>\n",
              "      <td>...</td>\n",
              "      <td>...</td>\n",
              "      <td>...</td>\n",
              "      <td>...</td>\n",
              "      <td>...</td>\n",
              "      <td>...</td>\n",
              "      <td>...</td>\n",
              "      <td>...</td>\n",
              "      <td>...</td>\n",
              "      <td>...</td>\n",
              "      <td>...</td>\n",
              "      <td>...</td>\n",
              "    </tr>\n",
              "    <tr>\n",
              "      <th>1409</th>\n",
              "      <td>img76791392_10_1R.jpg</td>\n",
              "      <td>38</td>\n",
              "      <td>test</td>\n",
              "      <td>27.728298</td>\n",
              "      <td>35.313144</td>\n",
              "      <td>31.801829</td>\n",
              "      <td>38.302854</td>\n",
              "      <td>23.495825</td>\n",
              "      <td>38.568458</td>\n",
              "      <td>33.258343</td>\n",
              "      <td>42.240074</td>\n",
              "      <td>38.404098</td>\n",
              "      <td>43.046537</td>\n",
              "      <td>29.530483</td>\n",
              "      <td>46.944967</td>\n",
              "      <td>34.177482</td>\n",
              "      <td>47.200292</td>\n",
              "      <td>34.066108</td>\n",
              "      <td>39.392710</td>\n",
              "    </tr>\n",
              "    <tr>\n",
              "      <th>1410</th>\n",
              "      <td>img76843122_10_1R.jpg</td>\n",
              "      <td>49</td>\n",
              "      <td>train</td>\n",
              "      <td>54.683352</td>\n",
              "      <td>42.622042</td>\n",
              "      <td>52.932787</td>\n",
              "      <td>55.145103</td>\n",
              "      <td>53.488880</td>\n",
              "      <td>49.396980</td>\n",
              "      <td>56.750482</td>\n",
              "      <td>47.917736</td>\n",
              "      <td>48.524040</td>\n",
              "      <td>50.074857</td>\n",
              "      <td>45.814630</td>\n",
              "      <td>62.571549</td>\n",
              "      <td>47.415417</td>\n",
              "      <td>56.604981</td>\n",
              "      <td>49.924394</td>\n",
              "      <td>48.442462</td>\n",
              "    </tr>\n",
              "    <tr>\n",
              "      <th>1411</th>\n",
              "      <td>img76843122_11_1R.jpg</td>\n",
              "      <td>49</td>\n",
              "      <td>val</td>\n",
              "      <td>51.311404</td>\n",
              "      <td>44.966671</td>\n",
              "      <td>53.484696</td>\n",
              "      <td>52.670932</td>\n",
              "      <td>47.552106</td>\n",
              "      <td>55.660129</td>\n",
              "      <td>57.124478</td>\n",
              "      <td>53.338772</td>\n",
              "      <td>42.628607</td>\n",
              "      <td>47.078547</td>\n",
              "      <td>47.271791</td>\n",
              "      <td>61.643904</td>\n",
              "      <td>43.878964</td>\n",
              "      <td>54.082513</td>\n",
              "      <td>53.915966</td>\n",
              "      <td>59.205514</td>\n",
              "    </tr>\n",
              "    <tr>\n",
              "      <th>1412</th>\n",
              "      <td>img76888512_00_1R.jpg</td>\n",
              "      <td>74</td>\n",
              "      <td>val</td>\n",
              "      <td>55.601197</td>\n",
              "      <td>67.208940</td>\n",
              "      <td>49.137861</td>\n",
              "      <td>74.466658</td>\n",
              "      <td>53.561741</td>\n",
              "      <td>74.132806</td>\n",
              "      <td>58.818334</td>\n",
              "      <td>71.472144</td>\n",
              "      <td>52.029234</td>\n",
              "      <td>61.757177</td>\n",
              "      <td>54.857647</td>\n",
              "      <td>64.616156</td>\n",
              "      <td>52.878857</td>\n",
              "      <td>66.580504</td>\n",
              "      <td>56.259942</td>\n",
              "      <td>72.109437</td>\n",
              "    </tr>\n",
              "    <tr>\n",
              "      <th>1413</th>\n",
              "      <td>img76888512_00_2L.jpg</td>\n",
              "      <td>74</td>\n",
              "      <td>val</td>\n",
              "      <td>57.358873</td>\n",
              "      <td>79.072827</td>\n",
              "      <td>53.552878</td>\n",
              "      <td>80.165356</td>\n",
              "      <td>54.322904</td>\n",
              "      <td>74.231517</td>\n",
              "      <td>55.537754</td>\n",
              "      <td>73.779947</td>\n",
              "      <td>54.853559</td>\n",
              "      <td>74.871176</td>\n",
              "      <td>47.023624</td>\n",
              "      <td>70.323873</td>\n",
              "      <td>43.915498</td>\n",
              "      <td>69.149733</td>\n",
              "      <td>48.429742</td>\n",
              "      <td>72.151691</td>\n",
              "    </tr>\n",
              "  </tbody>\n",
              "</table>\n",
              "<p>1414 rows × 19 columns</p>\n",
              "</div>"
            ],
            "text/plain": [
              "                   filename  age  ...  macula_B3  macula_B3_pretrained\n",
              "0     img00085008_00_1R.jpg   61  ...  45.315519             64.566314\n",
              "1     img00085024_00_1R.jpg   29  ...  40.556285             32.959792\n",
              "2     img00241280_10_1R.jpg   51  ...  65.383965             60.088068\n",
              "3     img00265140_00_1R.jpg   29  ...  41.000220             32.129413\n",
              "4     img00265140_00_2L.jpg   29  ...  51.551360             33.535883\n",
              "...                     ...  ...  ...        ...                   ...\n",
              "1409  img76791392_10_1R.jpg   38  ...  34.066108             39.392710\n",
              "1410  img76843122_10_1R.jpg   49  ...  49.924394             48.442462\n",
              "1411  img76843122_11_1R.jpg   49  ...  53.915966             59.205514\n",
              "1412  img76888512_00_1R.jpg   74  ...  56.259942             72.109437\n",
              "1413  img76888512_00_2L.jpg   74  ...  48.429742             72.151691\n",
              "\n",
              "[1414 rows x 19 columns]"
            ]
          },
          "metadata": {},
          "execution_count": 96
        }
      ]
    },
    {
      "cell_type": "code",
      "metadata": {
        "id": "t-mqY5TnHxuG"
      },
      "source": [
        "import seaborn as sns\n",
        "import statsmodels.api as sm\n",
        "import pandas as pd\n",
        "\n",
        "import numpy as np\n",
        "import xgboost as xgb\n",
        "from sklearn.model_selection import GridSearchCV\n",
        "from sklearn.model_selection import StratifiedKFold\n",
        "from sklearn.model_selection import KFold\n",
        "import sklearn; \n",
        "\n",
        "#sorted(sklearn.metrics.SCORERS.keys())\n",
        "\n",
        "\n",
        "#indexの内容を確認\n",
        "#df.columns.values.tolist()\n",
        "\n",
        "FEATURE_COLS=[\n",
        " 'cropped_A2',\n",
        " 'cropped_A2_pretrained',\n",
        " 'cropped_B3',\n",
        " 'cropped_B3pretrained',\n",
        " 'disc_A2',\n",
        " 'disc_A2_pretrained',\n",
        " 'disc_B3',\n",
        " 'disc_B3_pretrained',\n",
        " 'vascular_A2',\n",
        " 'vascular_A2_pretrained',\n",
        " 'vascular_B3',\n",
        " 'vascular_B3_pretrained',\n",
        " 'macula_A2',\n",
        " 'macula_A2_pretrained',\n",
        " 'macula_B3',\n",
        " 'macula_B3_pretrained']\n",
        "\n",
        "\"\"\"\n",
        "FEATURE_COLS=[\n",
        " 'cropped_A2',\n",
        " 'cropped_B3']\n",
        "\"\"\"\n",
        "\n",
        "# 訓練データとテストデータに分割する。\n",
        "from sklearn.model_selection import train_test_split\n",
        "# TODO:層別サンプリング train, test = train_test_split(df, test_size=0.20, stratify=df[\"町区分\"], random_state=100)\n",
        "train, test = train_test_split(df, test_size=0.20,random_state=100)\n",
        "\n",
        "X_train = train[FEATURE_COLS]\n",
        "Y_train = train[\"age\"]\n",
        "X_test = test[FEATURE_COLS]\n",
        "Y_test = test[\"age\"]\n"
      ],
      "execution_count": 97,
      "outputs": []
    },
    {
      "cell_type": "markdown",
      "metadata": {
        "id": "vzK-7A7RRXiu"
      },
      "source": [
        "#**Prediction accuracy for each model**"
      ]
    },
    {
      "cell_type": "code",
      "metadata": {
        "id": "wZej9BelRsro",
        "outputId": "b85d8bb3-0032-4cb3-9bd7-3b436634c496",
        "colab": {
          "base_uri": "https://localhost:8080/"
        }
      },
      "source": [
        "import seaborn as sns\n",
        "import statsmodels.api as sm\n",
        "import pandas as pd\n",
        "\n",
        "import numpy as np\n",
        "from sklearn.model_selection import StratifiedKFold\n",
        "from sklearn.model_selection import KFold\n",
        "import sklearn; \n",
        "\n",
        "\n",
        "#　　精度確認\n",
        "# 自由度調整済みr2を算出\n",
        "def adjusted_r2(X,Y):\n",
        "    from sklearn.metrics import r2_score\n",
        "    import numpy as np\n",
        "    r_squared = r2_score(Y, X)\n",
        "    adjusted_r2 = 1 - (1-r_squared)*(len(Y)-1)/(len(Y)-2)\n",
        "    #yhat = model.predict(X) \\ #SS_Residual = sum((Y-yhat)**2) \\ #SS_Total = sum((Y-np.mean(Y))**2)\n",
        "    #r_squared = 1 - (float(SS_Residual))/ SS_Total\n",
        "    return adjusted_r2\n",
        "\n",
        "# 予測モデルの精度確認の各種指標を算出\n",
        "def get_model_evaluations(X_train,Y_train,X_test,Y_test):\n",
        "    from sklearn.metrics import explained_variance_score\n",
        "    from sklearn.metrics import mean_absolute_error\n",
        "    from sklearn.metrics import mean_squared_error\n",
        "    from sklearn.metrics import mean_squared_log_error\n",
        "    from sklearn.metrics import median_absolute_error\n",
        "\n",
        "   # 評価指標確認\n",
        "   # 参考: https://funatsu-lab.github.io/open-course-ware/basic-theory/accuracy-index/\n",
        "    yhat_test = X_test\n",
        "\n",
        "    print(\"adjusted_r2(train)     :\" + str(adjusted_r2(X_train,Y_train)))\n",
        "    print(\"adjusted_r2(test)      :\" + str(adjusted_r2(X_test,Y_test)))   \n",
        "    print(\"平均誤差率(test)       :\" + str(np.mean(abs(Y_test / yhat_test - 1)))) \n",
        "    print(\"MAE(test)              :\" + str(mean_absolute_error(Y_test, yhat_test)))\n",
        "    print(\"MedianAE(test)         :\" + str(median_absolute_error(Y_test, yhat_test)))\n",
        "    print(\"RMSE(test)             :\" + str(np.sqrt(mean_squared_error(Y_test, yhat_test))))\n",
        "    print(\"RMSE(test) / MAE(test) :\" + str(np.sqrt(mean_squared_error(Y_test, yhat_test)) / mean_absolute_error(Y_test, yhat_test))) #better if result = 1.253\n",
        "\n",
        "for i in FEATURE_COLS:\n",
        "    X_train = train[i]\n",
        "    Y_train = train[\"age\"]\n",
        "    X_test = test[i]\n",
        "    Y_test = test[\"age\"]\n",
        "    print(str(i))\n",
        "    get_model_evaluations(X_train,Y_train,X_test,Y_test)\n",
        "    print(\"\")"
      ],
      "execution_count": 109,
      "outputs": [
        {
          "output_type": "stream",
          "name": "stdout",
          "text": [
            "cropped_A2\n",
            "adjusted_r2(train)     :0.6768364941774625\n",
            "adjusted_r2(test)      :0.6552439046502634\n",
            "平均誤差率(test)       :0.1376964891000603\n",
            "MAE(test)              :7.192821288904593\n",
            "MedianAE(test)         :6.039247750000001\n",
            "RMSE(test)             :8.950277453162954\n",
            "RMSE(test) / MAE(test) :1.244334746223899\n",
            "\n",
            "cropped_A2_pretrained\n",
            "adjusted_r2(train)     :0.9065430255444364\n",
            "adjusted_r2(test)      :0.9054572644352865\n",
            "平均誤差率(test)       :0.06702599248383183\n",
            "MAE(test)              :3.4286524205300344\n",
            "MedianAE(test)         :2.534624099999988\n",
            "RMSE(test)             :4.686996226737096\n",
            "RMSE(test) / MAE(test) :1.3670082737673757\n",
            "\n",
            "cropped_B3\n",
            "adjusted_r2(train)     :0.6175387709876337\n",
            "adjusted_r2(test)      :0.6045321781592885\n",
            "平均誤差率(test)       :0.1378216084238661\n",
            "MAE(test)              :7.6079399463250885\n",
            "MedianAE(test)         :6.863088490000003\n",
            "RMSE(test)             :9.585970710149113\n",
            "RMSE(test) / MAE(test) :1.2599955806406549\n",
            "\n",
            "cropped_B3pretrained\n",
            "adjusted_r2(train)     :0.860775308921399\n",
            "adjusted_r2(test)      :0.8589703289438158\n",
            "平均誤差率(test)       :0.08033781764772646\n",
            "MAE(test)              :4.289362088798587\n",
            "MedianAE(test)         :3.0781252399999985\n",
            "RMSE(test)             :5.724476385940205\n",
            "RMSE(test) / MAE(test) :1.3345752276053666\n",
            "\n",
            "disc_A2\n",
            "adjusted_r2(train)     :0.6290438201667223\n",
            "adjusted_r2(test)      :0.5879433227653605\n",
            "平均誤差率(test)       :0.14559088119799798\n",
            "MAE(test)              :7.424261825034138\n",
            "MedianAE(test)         :5.844740390777595\n",
            "RMSE(test)             :9.78495876416662\n",
            "RMSE(test) / MAE(test) :1.3179705935440424\n",
            "\n",
            "disc_A2_pretrained\n",
            "adjusted_r2(train)     :0.8513109028339071\n",
            "adjusted_r2(test)      :0.8692619251505063\n",
            "平均誤差率(test)       :0.0786228133610675\n",
            "MAE(test)              :4.144084455688935\n",
            "MedianAE(test)         :3.4708902835845947\n",
            "RMSE(test)             :5.5116491528889195\n",
            "RMSE(test) / MAE(test) :1.3300040604439451\n",
            "\n",
            "disc_B3\n",
            "adjusted_r2(train)     :0.6633560556999349\n",
            "adjusted_r2(test)      :0.6129535541016735\n",
            "平均誤差率(test)       :0.14883036713790793\n",
            "MAE(test)              :7.317654011106322\n",
            "MedianAE(test)         :5.656748056411743\n",
            "RMSE(test)             :9.483356209868859\n",
            "RMSE(test) / MAE(test) :1.2959558070763604\n",
            "\n",
            "disc_B3_pretrained\n",
            "adjusted_r2(train)     :0.8015985405550003\n",
            "adjusted_r2(test)      :0.7742897646504958\n",
            "平均誤差率(test)       :0.10263346199621019\n",
            "MAE(test)              :5.739137679443764\n",
            "MedianAE(test)         :5.0467870235443115\n",
            "RMSE(test)             :7.241960447105104\n",
            "RMSE(test) / MAE(test) :1.2618551516971088\n",
            "\n",
            "vascular_A2\n",
            "adjusted_r2(train)     :0.4135429197598305\n",
            "adjusted_r2(test)      :0.45918261436105545\n",
            "平均誤差率(test)       :0.1703604740306933\n",
            "MAE(test)              :9.015728422272753\n",
            "MedianAE(test)         :7.4188551902771\n",
            "RMSE(test)             :11.210005971315017\n",
            "RMSE(test) / MAE(test) :1.2433832793389659\n",
            "\n",
            "vascular_A2_pretrained\n",
            "adjusted_r2(train)     :0.7509877190639906\n",
            "adjusted_r2(test)      :0.7763779959154669\n",
            "平均誤差率(test)       :0.10532170001756791\n",
            "MAE(test)              :5.330394154092027\n",
            "MedianAE(test)         :3.9009764194488525\n",
            "RMSE(test)             :7.20838193099429\n",
            "RMSE(test) / MAE(test) :1.3523168686241658\n",
            "\n",
            "vascular_B3\n",
            "adjusted_r2(train)     :0.365816825754962\n",
            "adjusted_r2(test)      :0.3323563287863337\n",
            "平均誤差率(test)       :0.19558746792281398\n",
            "MAE(test)              :10.099061453300314\n",
            "MedianAE(test)         :8.465759992599494\n",
            "RMSE(test)             :12.455262646142854\n",
            "RMSE(test) / MAE(test) :1.2333089271451605\n",
            "\n",
            "vascular_B3_pretrained\n",
            "adjusted_r2(train)     :0.46960977363686607\n",
            "adjusted_r2(test)      :0.5145623920923513\n",
            "平均誤差率(test)       :0.14508052012430336\n",
            "MAE(test)              :8.342026320026115\n",
            "MedianAE(test)         :6.204200863838203\n",
            "RMSE(test)             :10.62055546257082\n",
            "RMSE(test) / MAE(test) :1.2731385703105254\n",
            "\n",
            "macula_A2\n",
            "adjusted_r2(train)     :0.4218550326882804\n",
            "adjusted_r2(test)      :0.25942223292284416\n",
            "平均誤差率(test)       :0.36339609054624183\n",
            "MAE(test)              :9.154097408661784\n",
            "MedianAE(test)         :6.6484456062316895\n",
            "RMSE(test)             :13.117946540625336\n",
            "RMSE(test) / MAE(test) :1.433013650063728\n",
            "\n",
            "macula_A2_pretrained\n",
            "adjusted_r2(train)     :0.8433015653195142\n",
            "adjusted_r2(test)      :0.8471026298978248\n",
            "平均誤差率(test)       :0.0754807800814354\n",
            "MAE(test)              :4.214775244254526\n",
            "MedianAE(test)         :2.839800238609307\n",
            "RMSE(test)             :5.960470315676894\n",
            "RMSE(test) / MAE(test) :1.414184617270412\n",
            "\n",
            "macula_B3\n",
            "adjusted_r2(train)     :0.47838966856905085\n",
            "adjusted_r2(test)      :0.4738966143216897\n",
            "平均誤差率(test)       :0.15375638677936201\n",
            "MAE(test)              :8.812208945675367\n",
            "MedianAE(test)         :7.53427410125731\n",
            "RMSE(test)             :11.056459261420136\n",
            "RMSE(test) / MAE(test) :1.254675113763178\n",
            "\n",
            "macula_B3_pretrained\n",
            "adjusted_r2(train)     :0.8491337867443888\n",
            "adjusted_r2(test)      :0.8558357608962124\n",
            "平均誤差率(test)       :0.07868751989332702\n",
            "MAE(test)              :4.33812685316106\n",
            "MedianAE(test)         :3.401597499847398\n",
            "RMSE(test)             :5.78774373834695\n",
            "RMSE(test) / MAE(test) :1.3341573297077742\n",
            "\n"
          ]
        }
      ]
    },
    {
      "cell_type": "markdown",
      "metadata": {
        "id": "xpy4m8XyRKtV"
      },
      "source": [
        "#**Analysis using XGBoost**"
      ]
    },
    {
      "cell_type": "code",
      "metadata": {
        "colab": {
          "base_uri": "https://localhost:8080/"
        },
        "id": "g20JJ1H4Nmva",
        "outputId": "aaffc26a-fc16-4b77-874e-096fddd9dc9a"
      },
      "source": [
        "# Grid Search用のパラメータ作成。\n",
        "# あまり組み合わせが多いと時間がかかる(time consuming)\n",
        "params = {\n",
        "        'eta': [0.01],             # default = 0.3      \n",
        "        'gamma': [1,2,3],            # default = 0\n",
        "        'max_depth': [7,8,9],      # default = 6\n",
        "        'min_child_weight': [1],   # default = 1\n",
        "        'subsample': [0.8,1.0],        # default = 1\n",
        "        'colsample_bytree': [0.8,1.0], # default = 1\n",
        "        }\n",
        "kf = KFold(n_splits=5, shuffle = True, random_state = 1)\n",
        "\n",
        "#最適解探索\n",
        "model = xgb.XGBRegressor(objective ='reg:squarederror')\n",
        "grid = GridSearchCV(estimator=model, param_grid=params, scoring='neg_mean_squared_error', n_jobs=2, cv=kf.split(X_train,Y_train), verbose=3)\n",
        "\n",
        "\n",
        "grid.fit(X_train,Y_train)"
      ],
      "execution_count": 45,
      "outputs": [
        {
          "output_type": "stream",
          "name": "stdout",
          "text": [
            "Fitting 5 folds for each of 36 candidates, totalling 180 fits\n"
          ]
        },
        {
          "output_type": "stream",
          "name": "stderr",
          "text": [
            "[Parallel(n_jobs=2)]: Using backend LokyBackend with 2 concurrent workers.\n",
            "[Parallel(n_jobs=2)]: Done  28 tasks      | elapsed:    6.6s\n",
            "[Parallel(n_jobs=2)]: Done 124 tasks      | elapsed:   27.2s\n",
            "[Parallel(n_jobs=2)]: Done 180 out of 180 | elapsed:   40.8s finished\n"
          ]
        },
        {
          "output_type": "execute_result",
          "data": {
            "text/plain": [
              "GridSearchCV(cv=<generator object _BaseKFold.split at 0x7f91edf84b50>,\n",
              "             error_score=nan,\n",
              "             estimator=XGBRegressor(base_score=0.5, booster='gbtree',\n",
              "                                    colsample_bylevel=1, colsample_bynode=1,\n",
              "                                    colsample_bytree=1, gamma=0,\n",
              "                                    importance_type='gain', learning_rate=0.1,\n",
              "                                    max_delta_step=0, max_depth=3,\n",
              "                                    min_child_weight=1, missing=None,\n",
              "                                    n_estimators=100, n_jobs=1, nthread=None,\n",
              "                                    object...\n",
              "                                    random_state=0, reg_alpha=0, reg_lambda=1,\n",
              "                                    scale_pos_weight=1, seed=None, silent=None,\n",
              "                                    subsample=1, verbosity=1),\n",
              "             iid='deprecated', n_jobs=2,\n",
              "             param_grid={'colsample_bytree': [0.8, 1.0], 'eta': [0.01],\n",
              "                         'gamma': [1, 2, 3], 'max_depth': [7, 8, 9],\n",
              "                         'min_child_weight': [1], 'subsample': [0.8, 1.0]},\n",
              "             pre_dispatch='2*n_jobs', refit=True, return_train_score=False,\n",
              "             scoring='neg_mean_squared_error', verbose=3)"
            ]
          },
          "metadata": {},
          "execution_count": 45
        }
      ]
    },
    {
      "cell_type": "code",
      "metadata": {
        "id": "mXBzlSIrNu3u"
      },
      "source": [
        "print('ベストスコア:',grid.best_score_, sep=\"\\n\")\n",
        "print('\\n')\n",
        "print('ベストestimator:',grid.best_estimator_,sep=\"\\n\")\n",
        "print('\\n')\n",
        "print('ベストparams:',grid.best_params_,sep=\"\\n\")\n",
        "\n",
        "print(pd.DataFrame(grid.cv_results_))"
      ],
      "execution_count": null,
      "outputs": []
    },
    {
      "cell_type": "code",
      "metadata": {
        "colab": {
          "base_uri": "https://localhost:8080/"
        },
        "id": "4d966OQgNzX9",
        "outputId": "c13260d3-2ad4-4383-c6f9-09ecb461bb50"
      },
      "source": [
        "# 自由度調整済みr2を算出\n",
        "def adjusted_r2(X,Y,model):\n",
        "    from sklearn.metrics import r2_score\n",
        "    import numpy as np\n",
        "    r_squared = r2_score(Y, model.predict(X))\n",
        "    adjusted_r2 = 1 - (1-r_squared)*(len(Y)-1)/(len(Y)-X.shape[1]-1)\n",
        "    #yhat = model.predict(X) \\ #SS_Residual = sum((Y-yhat)**2) \\ #SS_Total = sum((Y-np.mean(Y))**2)\n",
        "    #r_squared = 1 - (float(SS_Residual))/ SS_Total\n",
        "    return adjusted_r2\n",
        "\n",
        "# 予測モデルの精度確認の各種指標を算出\n",
        "def get_model_evaluations(X_train,Y_train,X_test,Y_test,model):\n",
        "    from sklearn.metrics import explained_variance_score\n",
        "    from sklearn.metrics import mean_absolute_error\n",
        "    from sklearn.metrics import mean_squared_error\n",
        "    from sklearn.metrics import mean_squared_log_error\n",
        "    from sklearn.metrics import median_absolute_error\n",
        "\n",
        "   # 評価指標確認\n",
        "   # 参考: https://funatsu-lab.github.io/open-course-ware/basic-theory/accuracy-index/\n",
        "    yhat_test = model.predict(X_test)\n",
        "    return \"adjusted_r2(train)     :\" + str(adjusted_r2(X_train,Y_train,model)) \\\n",
        "         , \"adjusted_r2(test)      :\" + str(adjusted_r2(X_test,Y_test,model)) \\\n",
        "         , \"平均誤差率(test)       :\" + str(np.mean(abs(Y_test / yhat_test - 1))) \\\n",
        "         , \"MAE(test)              :\" + str(mean_absolute_error(Y_test, yhat_test)) \\\n",
        "         , \"MedianAE(test)         :\" + str(median_absolute_error(Y_test, yhat_test)) \\\n",
        "         , \"RMSE(test)             :\" + str(np.sqrt(mean_squared_error(Y_test, yhat_test))) \\\n",
        "         , \"RMSE(test) / MAE(test) :\" + str(np.sqrt(mean_squared_error(Y_test, yhat_test)) / mean_absolute_error(Y_test, yhat_test)) #better if result = 1.253\n",
        "\n",
        "\n",
        "\n",
        "# Grid Searchで一番精度が良かったモデル\n",
        "bestmodel = grid.best_estimator_\n",
        "\n",
        "get_model_evaluations(X_train,Y_train,X_test,Y_test,bestmodel)\n"
      ],
      "execution_count": 47,
      "outputs": [
        {
          "output_type": "execute_result",
          "data": {
            "text/plain": [
              "('adjusted_r2(train)     :0.9980511070633832',\n",
              " 'adjusted_r2(test)      :0.955168143097609',\n",
              " '平均誤差率(test)       :0.03968267421164039',\n",
              " 'MAE(test)              :2.109084692102439',\n",
              " 'MedianAE(test)         :1.4124488830566406',\n",
              " 'RMSE(test)             :3.140230618238538',\n",
              " 'RMSE(test) / MAE(test) :1.488906837168403')"
            ]
          },
          "metadata": {},
          "execution_count": 47
        }
      ]
    },
    {
      "cell_type": "code",
      "metadata": {
        "colab": {
          "base_uri": "https://localhost:8080/",
          "height": 517
        },
        "id": "-wq2xWzPPEln",
        "outputId": "e6b1342e-fbcb-4af1-91fe-b5bffcadff2f"
      },
      "source": [
        "# 描画設定\n",
        "from matplotlib import rcParams\n",
        "rcParams['xtick.labelsize'] = 12       # x軸のラベルのフォントサイズ\n",
        "rcParams['ytick.labelsize'] = 12       # y軸のラベルのフォントサイズ\n",
        "rcParams['figure.figsize'] = 8,8      # 画像サイズの変更(inch)\n",
        "\n",
        "import matplotlib.pyplot as plt\n",
        "from matplotlib import ticker\n",
        "sns.set_style(\"whitegrid\")             # seabornのスタイルセットの一つ\n",
        "sns.set_color_codes()                  # デフォルトカラー設定 (deepになってる)\n",
        "\n",
        "plt.figure()\n",
        "ax = sns.regplot(x=Y_test, y=bestmodel.predict(X_test), fit_reg=False,color='#4F81BD')\n",
        "ax.set_xlabel(u\"CMEDV\")\n",
        "ax.set_ylabel(u\"(Predicted) CMEDV\")\n",
        "ax.get_xaxis().set_major_formatter(ticker.FuncFormatter(lambda x, p: format(int(x), ',')))\n",
        "ax.get_yaxis().set_major_formatter(ticker.FuncFormatter(lambda y, p: format(int(y), ',')))\n",
        "ax.plot([0,10,20,30,40,50],[0,10,20,30,40,50], linewidth=2, color=\"#C0504D\",ls=\"--\")"
      ],
      "execution_count": 48,
      "outputs": [
        {
          "output_type": "execute_result",
          "data": {
            "text/plain": [
              "[<matplotlib.lines.Line2D at 0x7f91f712c590>]"
            ]
          },
          "metadata": {},
          "execution_count": 48
        },
        {
          "output_type": "display_data",
          "data": {
            "image/png": "[encoded data removed]",
            "text/plain": [
              "<Figure size 576x576 with 1 Axes>"
            ]
          },
          "metadata": {}
        }
      ]
    },
    {
      "cell_type": "code",
      "metadata": {
        "colab": {
          "base_uri": "https://localhost:8080/",
          "height": 533
        },
        "id": "BIobiMOEPGKc",
        "outputId": "f59cf683-3366-4cd9-89e1-8d631d86d579"
      },
      "source": [
        "xgb.plot_importance(bestmodel)"
      ],
      "execution_count": 10,
      "outputs": [
        {
          "output_type": "execute_result",
          "data": {
            "text/plain": [
              "<matplotlib.axes._subplots.AxesSubplot at 0x7f9200deb4d0>"
            ]
          },
          "metadata": {},
          "execution_count": 10
        },
        {
          "output_type": "display_data",
          "data": {
            "image/png": "[encoded data removed]",
            "text/plain": [
              "<Figure size 576x576 with 1 Axes>"
            ]
          },
          "metadata": {}
        }
      ]
    },
    {
      "cell_type": "code",
      "metadata": {
        "colab": {
          "base_uri": "https://localhost:8080/",
          "height": 564
        },
        "id": "HjpEpFczPHkK",
        "outputId": "45b007a6-bee7-4ddc-da0c-bdbf4af79f1a"
      },
      "source": [
        "xgb.to_graphviz(bestmodel, num_trees=5)\n"
      ],
      "execution_count": null,
      "outputs": [
        {
          "output_type": "execute_result",
          "data": {
            "text/plain": [
              "<graphviz.dot.Digraph at 0x7f2f9198d3d0>"
            ],
            "image/svg+xml": "<?xml version=\"1.0\" encoding=\"UTF-8\" standalone=\"no\"?>\n<!DOCTYPE svg PUBLIC \"-//W3C//DTD SVG 1.1//EN\"\n \"http://www.w3.org/Graphics/SVG/1.1/DTD/svg11.dtd\">\n<!-- Generated by graphviz version 2.40.1 (20161225.0304)\n -->\n<!-- Title: %3 Pages: 1 -->\n<svg width=\"1174pt\" height=\"392pt\"\n viewBox=\"0.00 0.00 1174.24 392.00\" xmlns=\"http://www.w3.org/2000/svg\" xmlns:xlink=\"http://www.w3.org/1999/xlink\">\n<g id=\"graph0\" class=\"graph\" transform=\"scale(1 1) rotate(0) translate(4 388)\">\n<title>%3</title>\n<polygon fill=\"#ffffff\" stroke=\"transparent\" points=\"-4,4 -4,-388 1170.237,-388 1170.237,4 -4,4\"/>\n<!-- 0 -->\n<g id=\"node1\" class=\"node\">\n<title>0</title>\n<ellipse fill=\"none\" stroke=\"#000000\" cx=\"712.3933\" cy=\"-366\" rx=\"146.774\" ry=\"18\"/>\n<text text-anchor=\"middle\" x=\"712.3933\" y=\"-362.3\" font-family=\"Times,serif\" font-size=\"14.00\" fill=\"#000000\">macula_B3_pretrained&lt;55.2677612</text>\n</g>\n<!-- 1 -->\n<g id=\"node2\" class=\"node\">\n<title>1</title>\n<ellipse fill=\"none\" stroke=\"#000000\" cx=\"556.3933\" cy=\"-279\" rx=\"146.774\" ry=\"18\"/>\n<text text-anchor=\"middle\" x=\"556.3933\" y=\"-275.3\" font-family=\"Times,serif\" font-size=\"14.00\" fill=\"#000000\">macula_B3_pretrained&lt;35.2668762</text>\n</g>\n<!-- 0&#45;&gt;1 -->\n<g id=\"edge1\" class=\"edge\">\n<title>0&#45;&gt;1</title>\n<path fill=\"none\" stroke=\"#0000ff\" d=\"M680.8244,-348.3943C656.6933,-334.9365 623.2402,-316.28 597.0975,-301.7004\"/>\n<polygon fill=\"#0000ff\" stroke=\"#0000ff\" points=\"598.621,-298.5426 588.1826,-296.7287 595.2115,-304.6562 598.621,-298.5426\"/>\n<text text-anchor=\"middle\" x=\"679.8933\" y=\"-318.8\" font-family=\"Times,serif\" font-size=\"14.00\" fill=\"#000000\">yes, missing</text>\n</g>\n<!-- 2 -->\n<g id=\"node3\" class=\"node\">\n<title>2</title>\n<ellipse fill=\"none\" stroke=\"#000000\" cx=\"871.3933\" cy=\"-279\" rx=\"146.774\" ry=\"18\"/>\n<text text-anchor=\"middle\" x=\"871.3933\" y=\"-275.3\" font-family=\"Times,serif\" font-size=\"14.00\" fill=\"#000000\">macula_B3_pretrained&lt;69.1042786</text>\n</g>\n<!-- 0&#45;&gt;2 -->\n<g id=\"edge2\" class=\"edge\">\n<title>0&#45;&gt;2</title>\n<path fill=\"none\" stroke=\"#ff0000\" d=\"M744.5693,-348.3943C769.2457,-334.8921 803.4861,-316.1568 830.1699,-301.5562\"/>\n<polygon fill=\"#ff0000\" stroke=\"#ff0000\" points=\"832.1726,-304.4502 839.2651,-296.5796 828.8124,-298.3093 832.1726,-304.4502\"/>\n<text text-anchor=\"middle\" x=\"810.3933\" y=\"-318.8\" font-family=\"Times,serif\" font-size=\"14.00\" fill=\"#000000\">no</text>\n</g>\n<!-- 3 -->\n<g id=\"node4\" class=\"node\">\n<title>3</title>\n<ellipse fill=\"none\" stroke=\"#000000\" cx=\"244.3933\" cy=\"-192\" rx=\"147.5738\" ry=\"18\"/>\n<text text-anchor=\"middle\" x=\"244.3933\" y=\"-188.3\" font-family=\"Times,serif\" font-size=\"14.00\" fill=\"#000000\">macula_A2_pretrained&lt;22.6035633</text>\n</g>\n<!-- 1&#45;&gt;3 -->\n<g id=\"edge3\" class=\"edge\">\n<title>1&#45;&gt;3</title>\n<path fill=\"none\" stroke=\"#0000ff\" d=\"M496.9741,-262.4312C444.602,-247.8274 368.2868,-226.5472 313.2625,-211.2039\"/>\n<polygon fill=\"#0000ff\" stroke=\"#0000ff\" points=\"314.1639,-207.8218 303.5913,-208.5071 312.2837,-214.5646 314.1639,-207.8218\"/>\n<text text-anchor=\"middle\" x=\"454.8933\" y=\"-231.8\" font-family=\"Times,serif\" font-size=\"14.00\" fill=\"#000000\">yes, missing</text>\n</g>\n<!-- 4 -->\n<g id=\"node5\" class=\"node\">\n<title>4</title>\n<ellipse fill=\"none\" stroke=\"#000000\" cx=\"556.3933\" cy=\"-192\" rx=\"142.1749\" ry=\"18\"/>\n<text text-anchor=\"middle\" x=\"556.3933\" y=\"-188.3\" font-family=\"Times,serif\" font-size=\"14.00\" fill=\"#000000\">macula_A2_pretrained&lt;44.102459</text>\n</g>\n<!-- 1&#45;&gt;4 -->\n<g id=\"edge4\" class=\"edge\">\n<title>1&#45;&gt;4</title>\n<path fill=\"none\" stroke=\"#ff0000\" d=\"M556.3933,-260.9735C556.3933,-249.1918 556.3933,-233.5607 556.3933,-220.1581\"/>\n<polygon fill=\"#ff0000\" stroke=\"#ff0000\" points=\"559.8934,-220.0033 556.3933,-210.0034 552.8934,-220.0034 559.8934,-220.0033\"/>\n<text text-anchor=\"middle\" x=\"564.3933\" y=\"-231.8\" font-family=\"Times,serif\" font-size=\"14.00\" fill=\"#000000\">no</text>\n</g>\n<!-- 5 -->\n<g id=\"node12\" class=\"node\">\n<title>5</title>\n<ellipse fill=\"none\" stroke=\"#000000\" cx=\"871.3933\" cy=\"-192\" rx=\"135.3763\" ry=\"18\"/>\n<text text-anchor=\"middle\" x=\"871.3933\" y=\"-188.3\" font-family=\"Times,serif\" font-size=\"14.00\" fill=\"#000000\">disc_B3_pretrained&lt;54.8673935</text>\n</g>\n<!-- 2&#45;&gt;5 -->\n<g id=\"edge11\" class=\"edge\">\n<title>2&#45;&gt;5</title>\n<path fill=\"none\" stroke=\"#0000ff\" d=\"M871.3933,-260.9735C871.3933,-249.1918 871.3933,-233.5607 871.3933,-220.1581\"/>\n<polygon fill=\"#0000ff\" stroke=\"#0000ff\" points=\"874.8934,-220.0033 871.3933,-210.0034 867.8934,-220.0034 874.8934,-220.0033\"/>\n<text text-anchor=\"middle\" x=\"906.8933\" y=\"-231.8\" font-family=\"Times,serif\" font-size=\"14.00\" fill=\"#000000\">yes, missing</text>\n</g>\n<!-- 6 -->\n<g id=\"node13\" class=\"node\">\n<title>6</title>\n<ellipse fill=\"none\" stroke=\"#000000\" cx=\"1095.3933\" cy=\"-192\" rx=\"70.6878\" ry=\"18\"/>\n<text text-anchor=\"middle\" x=\"1095.3933\" y=\"-188.3\" font-family=\"Times,serif\" font-size=\"14.00\" fill=\"#000000\">leaf=4.2554183</text>\n</g>\n<!-- 2&#45;&gt;6 -->\n<g id=\"edge12\" class=\"edge\">\n<title>2&#45;&gt;6</title>\n<path fill=\"none\" stroke=\"#ff0000\" d=\"M915.6485,-261.8116C953.4963,-247.1118 1007.8767,-225.9908 1046.8973,-210.8355\"/>\n<polygon fill=\"#ff0000\" stroke=\"#ff0000\" points=\"1048.413,-214.0016 1056.4675,-207.1185 1045.8787,-207.4765 1048.413,-214.0016\"/>\n<text text-anchor=\"middle\" x=\"1005.3933\" y=\"-231.8\" font-family=\"Times,serif\" font-size=\"14.00\" fill=\"#000000\">no</text>\n</g>\n<!-- 7 -->\n<g id=\"node6\" class=\"node\">\n<title>7</title>\n<ellipse fill=\"none\" stroke=\"#000000\" cx=\"75.3933\" cy=\"-105\" rx=\"75.2868\" ry=\"18\"/>\n<text text-anchor=\"middle\" x=\"75.3933\" y=\"-101.3\" font-family=\"Times,serif\" font-size=\"14.00\" fill=\"#000000\">leaf=1.11587834</text>\n</g>\n<!-- 3&#45;&gt;7 -->\n<g id=\"edge5\" class=\"edge\">\n<title>3&#45;&gt;7</title>\n<path fill=\"none\" stroke=\"#0000ff\" d=\"M206.8279,-174.4171C194.8069,-168.6711 181.4835,-162.1766 169.3933,-156 151.1181,-146.6636 131.1007,-135.882 114.2522,-126.6437\"/>\n<polygon fill=\"#0000ff\" stroke=\"#0000ff\" points=\"115.6977,-123.4442 105.2492,-121.6891 112.3227,-129.5769 115.6977,-123.4442\"/>\n<text text-anchor=\"middle\" x=\"204.8933\" y=\"-144.8\" font-family=\"Times,serif\" font-size=\"14.00\" fill=\"#000000\">yes, missing</text>\n</g>\n<!-- 8 -->\n<g id=\"node7\" class=\"node\">\n<title>8</title>\n<ellipse fill=\"none\" stroke=\"#000000\" cx=\"244.3933\" cy=\"-105\" rx=\"75.2868\" ry=\"18\"/>\n<text text-anchor=\"middle\" x=\"244.3933\" y=\"-101.3\" font-family=\"Times,serif\" font-size=\"14.00\" fill=\"#000000\">leaf=1.66109586</text>\n</g>\n<!-- 3&#45;&gt;8 -->\n<g id=\"edge6\" class=\"edge\">\n<title>3&#45;&gt;8</title>\n<path fill=\"none\" stroke=\"#ff0000\" d=\"M244.3933,-173.9735C244.3933,-162.1918 244.3933,-146.5607 244.3933,-133.1581\"/>\n<polygon fill=\"#ff0000\" stroke=\"#ff0000\" points=\"247.8934,-133.0033 244.3933,-123.0034 240.8934,-133.0034 247.8934,-133.0033\"/>\n<text text-anchor=\"middle\" x=\"252.3933\" y=\"-144.8\" font-family=\"Times,serif\" font-size=\"14.00\" fill=\"#000000\">no</text>\n</g>\n<!-- 9 -->\n<g id=\"node8\" class=\"node\">\n<title>9</title>\n<ellipse fill=\"none\" stroke=\"#000000\" cx=\"413.3933\" cy=\"-105\" rx=\"75.2868\" ry=\"18\"/>\n<text text-anchor=\"middle\" x=\"413.3933\" y=\"-101.3\" font-family=\"Times,serif\" font-size=\"14.00\" fill=\"#000000\">leaf=2.18853569</text>\n</g>\n<!-- 4&#45;&gt;9 -->\n<g id=\"edge7\" class=\"edge\">\n<title>4&#45;&gt;9</title>\n<path fill=\"none\" stroke=\"#0000ff\" d=\"M527.1101,-174.1843C504.7937,-160.6073 473.929,-141.8294 449.9853,-127.2623\"/>\n<polygon fill=\"#0000ff\" stroke=\"#0000ff\" points=\"451.5421,-124.1126 441.1798,-121.9051 447.9038,-130.0928 451.5421,-124.1126\"/>\n<text text-anchor=\"middle\" x=\"529.8933\" y=\"-144.8\" font-family=\"Times,serif\" font-size=\"14.00\" fill=\"#000000\">yes, missing</text>\n</g>\n<!-- 10 -->\n<g id=\"node9\" class=\"node\">\n<title>10</title>\n<ellipse fill=\"none\" stroke=\"#000000\" cx=\"642.3933\" cy=\"-105\" rx=\"135.3763\" ry=\"18\"/>\n<text text-anchor=\"middle\" x=\"642.3933\" y=\"-101.3\" font-family=\"Times,serif\" font-size=\"14.00\" fill=\"#000000\">disc_B3_pretrained&lt;45.1464157</text>\n</g>\n<!-- 4&#45;&gt;10 -->\n<g id=\"edge8\" class=\"edge\">\n<title>4&#45;&gt;10</title>\n<path fill=\"none\" stroke=\"#ff0000\" d=\"M574.2126,-173.9735C586.6661,-161.3752 603.4704,-144.3755 617.2798,-130.4055\"/>\n<polygon fill=\"#ff0000\" stroke=\"#ff0000\" points=\"620.0559,-132.5757 624.5969,-123.0034 615.0776,-127.6547 620.0559,-132.5757\"/>\n<text text-anchor=\"middle\" x=\"613.3933\" y=\"-144.8\" font-family=\"Times,serif\" font-size=\"14.00\" fill=\"#000000\">no</text>\n</g>\n<!-- 13 -->\n<g id=\"node10\" class=\"node\">\n<title>13</title>\n<ellipse fill=\"none\" stroke=\"#000000\" cx=\"557.3933\" cy=\"-18\" rx=\"75.2868\" ry=\"18\"/>\n<text text-anchor=\"middle\" x=\"557.3933\" y=\"-14.3\" font-family=\"Times,serif\" font-size=\"14.00\" fill=\"#000000\">leaf=2.02904558</text>\n</g>\n<!-- 10&#45;&gt;13 -->\n<g id=\"edge9\" class=\"edge\">\n<title>10&#45;&gt;13</title>\n<path fill=\"none\" stroke=\"#0000ff\" d=\"M622.8175,-86.9351C616.8233,-81.276 610.2643,-74.9525 604.3933,-69 596.3199,-60.8146 587.7305,-51.6403 580.1331,-43.3534\"/>\n<polygon fill=\"#0000ff\" stroke=\"#0000ff\" points=\"582.5228,-40.7792 573.2022,-35.7415 577.3469,-45.492 582.5228,-40.7792\"/>\n<text text-anchor=\"middle\" x=\"639.8933\" y=\"-57.8\" font-family=\"Times,serif\" font-size=\"14.00\" fill=\"#000000\">yes, missing</text>\n</g>\n<!-- 14 -->\n<g id=\"node11\" class=\"node\">\n<title>14</title>\n<ellipse fill=\"none\" stroke=\"#000000\" cx=\"726.3933\" cy=\"-18\" rx=\"75.2868\" ry=\"18\"/>\n<text text-anchor=\"middle\" x=\"726.3933\" y=\"-14.3\" font-family=\"Times,serif\" font-size=\"14.00\" fill=\"#000000\">leaf=2.81221318</text>\n</g>\n<!-- 10&#45;&gt;14 -->\n<g id=\"edge10\" class=\"edge\">\n<title>10&#45;&gt;14</title>\n<path fill=\"none\" stroke=\"#ff0000\" d=\"M659.7982,-86.9735C672.0432,-74.2912 688.5946,-57.1486 702.1332,-43.1265\"/>\n<polygon fill=\"#ff0000\" stroke=\"#ff0000\" points=\"704.8701,-45.3308 709.2982,-35.7057 699.8343,-40.4686 704.8701,-45.3308\"/>\n<text text-anchor=\"middle\" x=\"698.3933\" y=\"-57.8\" font-family=\"Times,serif\" font-size=\"14.00\" fill=\"#000000\">no</text>\n</g>\n<!-- 11 -->\n<g id=\"node14\" class=\"node\">\n<title>11</title>\n<ellipse fill=\"none\" stroke=\"#000000\" cx=\"871.3933\" cy=\"-105\" rx=\"75.2868\" ry=\"18\"/>\n<text text-anchor=\"middle\" x=\"871.3933\" y=\"-101.3\" font-family=\"Times,serif\" font-size=\"14.00\" fill=\"#000000\">leaf=2.84673047</text>\n</g>\n<!-- 5&#45;&gt;11 -->\n<g id=\"edge13\" class=\"edge\">\n<title>5&#45;&gt;11</title>\n<path fill=\"none\" stroke=\"#0000ff\" d=\"M871.3933,-173.9735C871.3933,-162.1918 871.3933,-146.5607 871.3933,-133.1581\"/>\n<polygon fill=\"#0000ff\" stroke=\"#0000ff\" points=\"874.8934,-133.0033 871.3933,-123.0034 867.8934,-133.0034 874.8934,-133.0033\"/>\n<text text-anchor=\"middle\" x=\"906.8933\" y=\"-144.8\" font-family=\"Times,serif\" font-size=\"14.00\" fill=\"#000000\">yes, missing</text>\n</g>\n<!-- 12 -->\n<g id=\"node15\" class=\"node\">\n<title>12</title>\n<ellipse fill=\"none\" stroke=\"#000000\" cx=\"1040.3933\" cy=\"-105\" rx=\"75.2868\" ry=\"18\"/>\n<text text-anchor=\"middle\" x=\"1040.3933\" y=\"-101.3\" font-family=\"Times,serif\" font-size=\"14.00\" fill=\"#000000\">leaf=3.54771662</text>\n</g>\n<!-- 5&#45;&gt;12 -->\n<g id=\"edge14\" class=\"edge\">\n<title>5&#45;&gt;12</title>\n<path fill=\"none\" stroke=\"#ff0000\" d=\"M908.5755,-174.6003C920.6961,-168.8093 934.1745,-162.2423 946.3933,-156 964.6685,-146.6636 984.686,-135.882 1001.5344,-126.6437\"/>\n<polygon fill=\"#ff0000\" stroke=\"#ff0000\" points=\"1003.464,-129.5769 1010.5374,-121.6891 1000.0889,-123.4442 1003.464,-129.5769\"/>\n<text text-anchor=\"middle\" x=\"981.3933\" y=\"-144.8\" font-family=\"Times,serif\" font-size=\"14.00\" fill=\"#000000\">no</text>\n</g>\n</g>\n</svg>\n"
          },
          "metadata": {},
          "execution_count": 69
        }
      ]
    },
    {
      "cell_type": "markdown",
      "metadata": {
        "id": "GH-Kj_RHRQ-9"
      },
      "source": [
        "#**Analysis using RandomForest**"
      ]
    },
    {
      "cell_type": "code",
      "metadata": {
        "colab": {
          "base_uri": "https://localhost:8080/"
        },
        "id": "qSyqmEyGRfHU",
        "outputId": "79dca89f-01af-453a-aba1-4dfe9a50f3c3"
      },
      "source": [
        "#Create model\n",
        "import numpy as np\n",
        "from sklearn.ensemble import RandomForestRegressor\n",
        "model = RandomForestRegressor(n_estimators=10)\n",
        "model.fit(X_train,Y_train) \n",
        "\n",
        "\"\"\"\n",
        "RandomForestRegressor(bootstrap=True, criterion='mse', max_depth=None,\n",
        "           max_features='auto', max_leaf_nodes=None,\n",
        "           min_impurity_decrease=0.0, min_impurity_split=None,\n",
        "           min_samples_leaf=1, min_samples_split=2,\n",
        "           min_weight_fraction_leaf=0.0, n_estimators=10, n_jobs=-1,\n",
        "           oob_score=False, random_state=2525, verbose=0, warm_start=False)\n",
        "\"\"\"\n",
        "\n",
        "\n",
        "\n",
        "#　　精度確認\n",
        "# 自由度調整済みr2を算出\n",
        "def adjusted_r2(X,Y,model):\n",
        "    from sklearn.metrics import r2_score\n",
        "    import numpy as np\n",
        "    r_squared = r2_score(Y, model.predict(X))\n",
        "    adjusted_r2 = 1 - (1-r_squared)*(len(Y)-1)/(len(Y)-X.shape[1]-1)\n",
        "    #yhat = model.predict(X) \\ #SS_Residual = sum((Y-yhat)**2) \\ #SS_Total = sum((Y-np.mean(Y))**2)\n",
        "    #r_squared = 1 - (float(SS_Residual))/ SS_Total\n",
        "    return adjusted_r2\n",
        "\n",
        "# 予測モデルの精度確認の各種指標を算出\n",
        "def get_model_evaluations(X_train,Y_train,X_test,Y_test,model):\n",
        "    from sklearn.metrics import explained_variance_score\n",
        "    from sklearn.metrics import mean_absolute_error\n",
        "    from sklearn.metrics import mean_squared_error\n",
        "    from sklearn.metrics import mean_squared_log_error\n",
        "    from sklearn.metrics import median_absolute_error\n",
        "\n",
        "   # 評価指標確認\n",
        "   # 参考: https://funatsu-lab.github.io/open-course-ware/basic-theory/accuracy-index/\n",
        "    yhat_test = model.predict(X_test)\n",
        "    return \"adjusted_r2(train)     :\" + str(adjusted_r2(X_train,Y_train,model)) \\\n",
        "         , \"adjusted_r2(test)      :\" + str(adjusted_r2(X_test,Y_test,model)) \\\n",
        "         , \"平均誤差率(test)       :\" + str(np.mean(abs(Y_test / yhat_test - 1))) \\\n",
        "         , \"MAE(test)              :\" + str(mean_absolute_error(Y_test, yhat_test)) \\\n",
        "         , \"MedianAE(test)         :\" + str(median_absolute_error(Y_test, yhat_test)) \\\n",
        "         , \"RMSE(test)             :\" + str(np.sqrt(mean_squared_error(Y_test, yhat_test))) \\\n",
        "         , \"RMSE(test) / MAE(test) :\" + str(np.sqrt(mean_squared_error(Y_test, yhat_test)) / mean_absolute_error(Y_test, yhat_test)) #better if result = 1.253\n",
        "\n",
        "get_model_evaluations(X_train,Y_train,X_test,Y_test,model)"
      ],
      "execution_count": 98,
      "outputs": [
        {
          "output_type": "stream",
          "name": "stdout",
          "text": [
            "16\n",
            "16\n"
          ]
        },
        {
          "output_type": "execute_result",
          "data": {
            "text/plain": [
              "('adjusted_r2(train)     :0.9926585147646416',\n",
              " 'adjusted_r2(test)      :0.9533268950431855',\n",
              " '平均誤差率(test)       :0.040826684105547836',\n",
              " 'MAE(test)              :2.1819787985865724',\n",
              " 'MedianAE(test)         :1.3999999999999986',\n",
              " 'RMSE(test)             :3.2040665415728893',\n",
              " 'RMSE(test) / MAE(test) :1.4684223988099234')"
            ]
          },
          "metadata": {},
          "execution_count": 98
        }
      ]
    },
    {
      "cell_type": "code",
      "metadata": {
        "colab": {
          "base_uri": "https://localhost:8080/",
          "height": 379
        },
        "id": "yW6HVmKTUWsB",
        "outputId": "a4789576-7441-491b-b32b-04c1e981d7fc"
      },
      "source": [
        "#Grid search\n",
        "from sklearn.model_selection import GridSearchCV\n",
        "\n",
        "# Create the parameter grid based on the results of random search \n",
        "param_grid = {\n",
        "    'bootstrap': [True],\n",
        "    'max_depth': [80, 90, 100, 110],\n",
        "    'max_features': [2, 3],\n",
        "    'min_samples_leaf': [3, 4, 5],\n",
        "    'min_samples_split': [8, 10, 12],\n",
        "    'n_estimators': [100, 200, 300, 1000]\n",
        "}\n",
        "# Create a based model\n",
        "rf = RandomForestRegressor()\n",
        "# Instantiate the grid search model\n",
        "grid_search = GridSearchCV(estimator = rf, param_grid = param_grid, \n",
        "                          cv = 3, n_jobs = -1, verbose = 2)\n",
        "\n",
        "grid_search.fit(X_train,Y_train)\n",
        "\n",
        "\n",
        "\n",
        "print('ベストスコア:',grid.best_score_, sep=\"\\n\")\n",
        "print('\\n')\n",
        "print('ベストestimator:',grid.best_estimator_,sep=\"\\n\")\n",
        "print('\\n')\n",
        "print('ベストparams:',grid.best_params_,sep=\"\\n\")\n",
        "\n",
        "print(pd.DataFrame(grid.cv_results_))\n",
        "\n",
        "# Grid Searchで一番精度が良かったモデル\n",
        "bestmodel = grid.best_estimator_\n",
        "get_model_evaluations(X_train,Y_train,X_test,Y_test,bestmodel)"
      ],
      "execution_count": 41,
      "outputs": [
        {
          "output_type": "stream",
          "name": "stdout",
          "text": [
            "Fitting 3 folds for each of 288 candidates, totalling 864 fits\n"
          ]
        },
        {
          "output_type": "stream",
          "name": "stderr",
          "text": [
            "[Parallel(n_jobs=-1)]: Using backend LokyBackend with 2 concurrent workers.\n"
          ]
        },
        {
          "output_type": "error",
          "ename": "KeyboardInterrupt",
          "evalue": "ignored",
          "traceback": [
            "\u001b[0;31m---------------------------------------------------------------------------\u001b[0m",
            "\u001b[0;31mKeyboardInterrupt\u001b[0m                         Traceback (most recent call last)",
            "\u001b[0;32m<ipython-input-41-0ac86b95a48c>\u001b[0m in \u001b[0;36m<module>\u001b[0;34m()\u001b[0m\n\u001b[1;32m     17\u001b[0m                           cv = 3, n_jobs = -1, verbose = 2)\n\u001b[1;32m     18\u001b[0m \u001b[0;34m\u001b[0m\u001b[0m\n\u001b[0;32m---> 19\u001b[0;31m \u001b[0mgrid_search\u001b[0m\u001b[0;34m.\u001b[0m\u001b[0mfit\u001b[0m\u001b[0;34m(\u001b[0m\u001b[0mX_train\u001b[0m\u001b[0;34m,\u001b[0m\u001b[0mY_train\u001b[0m\u001b[0;34m)\u001b[0m\u001b[0;34m\u001b[0m\u001b[0;34m\u001b[0m\u001b[0m\n\u001b[0m",
            "\u001b[0;32m/usr/local/lib/python3.7/dist-packages/sklearn/model_selection/_search.py\u001b[0m in \u001b[0;36mfit\u001b[0;34m(self, X, y, groups, **fit_params)\u001b[0m\n\u001b[1;32m    708\u001b[0m                 \u001b[0;32mreturn\u001b[0m \u001b[0mresults\u001b[0m\u001b[0;34m\u001b[0m\u001b[0;34m\u001b[0m\u001b[0m\n\u001b[1;32m    709\u001b[0m \u001b[0;34m\u001b[0m\u001b[0m\n\u001b[0;32m--> 710\u001b[0;31m             \u001b[0mself\u001b[0m\u001b[0;34m.\u001b[0m\u001b[0m_run_search\u001b[0m\u001b[0;34m(\u001b[0m\u001b[0mevaluate_candidates\u001b[0m\u001b[0;34m)\u001b[0m\u001b[0;34m\u001b[0m\u001b[0;34m\u001b[0m\u001b[0m\n\u001b[0m\u001b[1;32m    711\u001b[0m \u001b[0;34m\u001b[0m\u001b[0m\n\u001b[1;32m    712\u001b[0m         \u001b[0;31m# For multi-metric evaluation, store the best_index_, best_params_ and\u001b[0m\u001b[0;34m\u001b[0m\u001b[0;34m\u001b[0m\u001b[0;34m\u001b[0m\u001b[0m\n",
            "\u001b[0;32m/usr/local/lib/python3.7/dist-packages/sklearn/model_selection/_search.py\u001b[0m in \u001b[0;36m_run_search\u001b[0;34m(self, evaluate_candidates)\u001b[0m\n\u001b[1;32m   1149\u001b[0m     \u001b[0;32mdef\u001b[0m \u001b[0m_run_search\u001b[0m\u001b[0;34m(\u001b[0m\u001b[0mself\u001b[0m\u001b[0;34m,\u001b[0m \u001b[0mevaluate_candidates\u001b[0m\u001b[0;34m)\u001b[0m\u001b[0;34m:\u001b[0m\u001b[0;34m\u001b[0m\u001b[0;34m\u001b[0m\u001b[0m\n\u001b[1;32m   1150\u001b[0m         \u001b[0;34m\"\"\"Search all candidates in param_grid\"\"\"\u001b[0m\u001b[0;34m\u001b[0m\u001b[0;34m\u001b[0m\u001b[0m\n\u001b[0;32m-> 1151\u001b[0;31m         \u001b[0mevaluate_candidates\u001b[0m\u001b[0;34m(\u001b[0m\u001b[0mParameterGrid\u001b[0m\u001b[0;34m(\u001b[0m\u001b[0mself\u001b[0m\u001b[0;34m.\u001b[0m\u001b[0mparam_grid\u001b[0m\u001b[0;34m)\u001b[0m\u001b[0;34m)\u001b[0m\u001b[0;34m\u001b[0m\u001b[0;34m\u001b[0m\u001b[0m\n\u001b[0m\u001b[1;32m   1152\u001b[0m \u001b[0;34m\u001b[0m\u001b[0m\n\u001b[1;32m   1153\u001b[0m \u001b[0;34m\u001b[0m\u001b[0m\n",
            "\u001b[0;32m/usr/local/lib/python3.7/dist-packages/sklearn/model_selection/_search.py\u001b[0m in \u001b[0;36mevaluate_candidates\u001b[0;34m(candidate_params)\u001b[0m\n\u001b[1;32m    687\u001b[0m                                \u001b[0;32mfor\u001b[0m \u001b[0mparameters\u001b[0m\u001b[0;34m,\u001b[0m \u001b[0;34m(\u001b[0m\u001b[0mtrain\u001b[0m\u001b[0;34m,\u001b[0m \u001b[0mtest\u001b[0m\u001b[0;34m)\u001b[0m\u001b[0;34m\u001b[0m\u001b[0;34m\u001b[0m\u001b[0m\n\u001b[1;32m    688\u001b[0m                                in product(candidate_params,\n\u001b[0;32m--> 689\u001b[0;31m                                           cv.split(X, y, groups)))\n\u001b[0m\u001b[1;32m    690\u001b[0m \u001b[0;34m\u001b[0m\u001b[0m\n\u001b[1;32m    691\u001b[0m                 \u001b[0;32mif\u001b[0m \u001b[0mlen\u001b[0m\u001b[0;34m(\u001b[0m\u001b[0mout\u001b[0m\u001b[0;34m)\u001b[0m \u001b[0;34m<\u001b[0m \u001b[0;36m1\u001b[0m\u001b[0;34m:\u001b[0m\u001b[0;34m\u001b[0m\u001b[0;34m\u001b[0m\u001b[0m\n",
            "\u001b[0;32m/usr/local/lib/python3.7/dist-packages/joblib/parallel.py\u001b[0m in \u001b[0;36m__call__\u001b[0;34m(self, iterable)\u001b[0m\n\u001b[1;32m   1052\u001b[0m \u001b[0;34m\u001b[0m\u001b[0m\n\u001b[1;32m   1053\u001b[0m             \u001b[0;32mwith\u001b[0m \u001b[0mself\u001b[0m\u001b[0;34m.\u001b[0m\u001b[0m_backend\u001b[0m\u001b[0;34m.\u001b[0m\u001b[0mretrieval_context\u001b[0m\u001b[0;34m(\u001b[0m\u001b[0;34m)\u001b[0m\u001b[0;34m:\u001b[0m\u001b[0;34m\u001b[0m\u001b[0;34m\u001b[0m\u001b[0m\n\u001b[0;32m-> 1054\u001b[0;31m                 \u001b[0mself\u001b[0m\u001b[0;34m.\u001b[0m\u001b[0mretrieve\u001b[0m\u001b[0;34m(\u001b[0m\u001b[0;34m)\u001b[0m\u001b[0;34m\u001b[0m\u001b[0;34m\u001b[0m\u001b[0m\n\u001b[0m\u001b[1;32m   1055\u001b[0m             \u001b[0;31m# Make sure that we get a last message telling us we are done\u001b[0m\u001b[0;34m\u001b[0m\u001b[0;34m\u001b[0m\u001b[0;34m\u001b[0m\u001b[0m\n\u001b[1;32m   1056\u001b[0m             \u001b[0melapsed_time\u001b[0m \u001b[0;34m=\u001b[0m \u001b[0mtime\u001b[0m\u001b[0;34m.\u001b[0m\u001b[0mtime\u001b[0m\u001b[0;34m(\u001b[0m\u001b[0;34m)\u001b[0m \u001b[0;34m-\u001b[0m \u001b[0mself\u001b[0m\u001b[0;34m.\u001b[0m\u001b[0m_start_time\u001b[0m\u001b[0;34m\u001b[0m\u001b[0;34m\u001b[0m\u001b[0m\n",
            "\u001b[0;32m/usr/local/lib/python3.7/dist-packages/joblib/parallel.py\u001b[0m in \u001b[0;36mretrieve\u001b[0;34m(self)\u001b[0m\n\u001b[1;32m    931\u001b[0m             \u001b[0;32mtry\u001b[0m\u001b[0;34m:\u001b[0m\u001b[0;34m\u001b[0m\u001b[0;34m\u001b[0m\u001b[0m\n\u001b[1;32m    932\u001b[0m                 \u001b[0;32mif\u001b[0m \u001b[0mgetattr\u001b[0m\u001b[0;34m(\u001b[0m\u001b[0mself\u001b[0m\u001b[0;34m.\u001b[0m\u001b[0m_backend\u001b[0m\u001b[0;34m,\u001b[0m \u001b[0;34m'supports_timeout'\u001b[0m\u001b[0;34m,\u001b[0m \u001b[0;32mFalse\u001b[0m\u001b[0;34m)\u001b[0m\u001b[0;34m:\u001b[0m\u001b[0;34m\u001b[0m\u001b[0;34m\u001b[0m\u001b[0m\n\u001b[0;32m--> 933\u001b[0;31m                     \u001b[0mself\u001b[0m\u001b[0;34m.\u001b[0m\u001b[0m_output\u001b[0m\u001b[0;34m.\u001b[0m\u001b[0mextend\u001b[0m\u001b[0;34m(\u001b[0m\u001b[0mjob\u001b[0m\u001b[0;34m.\u001b[0m\u001b[0mget\u001b[0m\u001b[0;34m(\u001b[0m\u001b[0mtimeout\u001b[0m\u001b[0;34m=\u001b[0m\u001b[0mself\u001b[0m\u001b[0;34m.\u001b[0m\u001b[0mtimeout\u001b[0m\u001b[0;34m)\u001b[0m\u001b[0;34m)\u001b[0m\u001b[0;34m\u001b[0m\u001b[0;34m\u001b[0m\u001b[0m\n\u001b[0m\u001b[1;32m    934\u001b[0m                 \u001b[0;32melse\u001b[0m\u001b[0;34m:\u001b[0m\u001b[0;34m\u001b[0m\u001b[0;34m\u001b[0m\u001b[0m\n\u001b[1;32m    935\u001b[0m                     \u001b[0mself\u001b[0m\u001b[0;34m.\u001b[0m\u001b[0m_output\u001b[0m\u001b[0;34m.\u001b[0m\u001b[0mextend\u001b[0m\u001b[0;34m(\u001b[0m\u001b[0mjob\u001b[0m\u001b[0;34m.\u001b[0m\u001b[0mget\u001b[0m\u001b[0;34m(\u001b[0m\u001b[0;34m)\u001b[0m\u001b[0;34m)\u001b[0m\u001b[0;34m\u001b[0m\u001b[0;34m\u001b[0m\u001b[0m\n",
            "\u001b[0;32m/usr/local/lib/python3.7/dist-packages/joblib/_parallel_backends.py\u001b[0m in \u001b[0;36mwrap_future_result\u001b[0;34m(future, timeout)\u001b[0m\n\u001b[1;32m    540\u001b[0m         AsyncResults.get from multiprocessing.\"\"\"\n\u001b[1;32m    541\u001b[0m         \u001b[0;32mtry\u001b[0m\u001b[0;34m:\u001b[0m\u001b[0;34m\u001b[0m\u001b[0;34m\u001b[0m\u001b[0m\n\u001b[0;32m--> 542\u001b[0;31m             \u001b[0;32mreturn\u001b[0m \u001b[0mfuture\u001b[0m\u001b[0;34m.\u001b[0m\u001b[0mresult\u001b[0m\u001b[0;34m(\u001b[0m\u001b[0mtimeout\u001b[0m\u001b[0;34m=\u001b[0m\u001b[0mtimeout\u001b[0m\u001b[0;34m)\u001b[0m\u001b[0;34m\u001b[0m\u001b[0;34m\u001b[0m\u001b[0m\n\u001b[0m\u001b[1;32m    543\u001b[0m         \u001b[0;32mexcept\u001b[0m \u001b[0mCfTimeoutError\u001b[0m \u001b[0;32mas\u001b[0m \u001b[0me\u001b[0m\u001b[0;34m:\u001b[0m\u001b[0;34m\u001b[0m\u001b[0;34m\u001b[0m\u001b[0m\n\u001b[1;32m    544\u001b[0m             \u001b[0;32mraise\u001b[0m \u001b[0mTimeoutError\u001b[0m \u001b[0;32mfrom\u001b[0m \u001b[0me\u001b[0m\u001b[0;34m\u001b[0m\u001b[0;34m\u001b[0m\u001b[0m\n",
            "\u001b[0;32m/usr/lib/python3.7/concurrent/futures/_base.py\u001b[0m in \u001b[0;36mresult\u001b[0;34m(self, timeout)\u001b[0m\n\u001b[1;32m    428\u001b[0m                 \u001b[0;32mreturn\u001b[0m \u001b[0mself\u001b[0m\u001b[0;34m.\u001b[0m\u001b[0m__get_result\u001b[0m\u001b[0;34m(\u001b[0m\u001b[0;34m)\u001b[0m\u001b[0;34m\u001b[0m\u001b[0;34m\u001b[0m\u001b[0m\n\u001b[1;32m    429\u001b[0m \u001b[0;34m\u001b[0m\u001b[0m\n\u001b[0;32m--> 430\u001b[0;31m             \u001b[0mself\u001b[0m\u001b[0;34m.\u001b[0m\u001b[0m_condition\u001b[0m\u001b[0;34m.\u001b[0m\u001b[0mwait\u001b[0m\u001b[0;34m(\u001b[0m\u001b[0mtimeout\u001b[0m\u001b[0;34m)\u001b[0m\u001b[0;34m\u001b[0m\u001b[0;34m\u001b[0m\u001b[0m\n\u001b[0m\u001b[1;32m    431\u001b[0m \u001b[0;34m\u001b[0m\u001b[0m\n\u001b[1;32m    432\u001b[0m             \u001b[0;32mif\u001b[0m \u001b[0mself\u001b[0m\u001b[0;34m.\u001b[0m\u001b[0m_state\u001b[0m \u001b[0;32min\u001b[0m \u001b[0;34m[\u001b[0m\u001b[0mCANCELLED\u001b[0m\u001b[0;34m,\u001b[0m \u001b[0mCANCELLED_AND_NOTIFIED\u001b[0m\u001b[0;34m]\u001b[0m\u001b[0;34m:\u001b[0m\u001b[0;34m\u001b[0m\u001b[0;34m\u001b[0m\u001b[0m\n",
            "\u001b[0;32m/usr/lib/python3.7/threading.py\u001b[0m in \u001b[0;36mwait\u001b[0;34m(self, timeout)\u001b[0m\n\u001b[1;32m    294\u001b[0m         \u001b[0;32mtry\u001b[0m\u001b[0;34m:\u001b[0m    \u001b[0;31m# restore state no matter what (e.g., KeyboardInterrupt)\u001b[0m\u001b[0;34m\u001b[0m\u001b[0;34m\u001b[0m\u001b[0m\n\u001b[1;32m    295\u001b[0m             \u001b[0;32mif\u001b[0m \u001b[0mtimeout\u001b[0m \u001b[0;32mis\u001b[0m \u001b[0;32mNone\u001b[0m\u001b[0;34m:\u001b[0m\u001b[0;34m\u001b[0m\u001b[0;34m\u001b[0m\u001b[0m\n\u001b[0;32m--> 296\u001b[0;31m                 \u001b[0mwaiter\u001b[0m\u001b[0;34m.\u001b[0m\u001b[0macquire\u001b[0m\u001b[0;34m(\u001b[0m\u001b[0;34m)\u001b[0m\u001b[0;34m\u001b[0m\u001b[0;34m\u001b[0m\u001b[0m\n\u001b[0m\u001b[1;32m    297\u001b[0m                 \u001b[0mgotit\u001b[0m \u001b[0;34m=\u001b[0m \u001b[0;32mTrue\u001b[0m\u001b[0;34m\u001b[0m\u001b[0;34m\u001b[0m\u001b[0m\n\u001b[1;32m    298\u001b[0m             \u001b[0;32melse\u001b[0m\u001b[0;34m:\u001b[0m\u001b[0;34m\u001b[0m\u001b[0;34m\u001b[0m\u001b[0m\n",
            "\u001b[0;31mKeyboardInterrupt\u001b[0m: "
          ]
        }
      ]
    },
    {
      "cell_type": "code",
      "metadata": {
        "colab": {
          "base_uri": "https://localhost:8080/",
          "height": 905
        },
        "id": "aTkW5oubR4MJ",
        "outputId": "d5461ae0-01aa-4524-e0de-18f0665e712a"
      },
      "source": [
        "import matplotlib.pyplot as plt\n",
        "%matplotlib inline\n",
        "\n",
        "features = X_train.columns\n",
        "importances = model.feature_importances_\n",
        "indices = np.argsort(importances)\n",
        "\n",
        "plt.figure(figsize=(6,6))\n",
        "plt.barh(range(len(indices)), importances[indices], color='b', align='center')\n",
        "plt.yticks(range(len(indices)), features[indices])\n",
        "plt.show()\n",
        "\n",
        "\n",
        "feature_importances = pd.DataFrame([features, importances]).T\n",
        "feature_importances.columns = ['features', 'importances']\n",
        "df_s = feature_importances.sort_values('importances', ascending=False).reset_index(drop=True)\n",
        "df_s"
      ],
      "execution_count": 59,
      "outputs": [
        {
          "output_type": "display_data",
          "data": {
            "image/png": "[encoded data removed]",
            "text/plain": [
              "<Figure size 432x432 with 1 Axes>"
            ]
          },
          "metadata": {
            "needs_background": "light"
          }
        },
        {
          "output_type": "execute_result",
          "data": {
            "text/html": [
              "<div>\n",
              "<style scoped>\n",
              "    .dataframe tbody tr th:only-of-type {\n",
              "        vertical-align: middle;\n",
              "    }\n",
              "\n",
              "    .dataframe tbody tr th {\n",
              "        vertical-align: top;\n",
              "    }\n",
              "\n",
              "    .dataframe thead th {\n",
              "        text-align: right;\n",
              "    }\n",
              "</style>\n",
              "<table border=\"1\" class=\"dataframe\">\n",
              "  <thead>\n",
              "    <tr style=\"text-align: right;\">\n",
              "      <th></th>\n",
              "      <th>features</th>\n",
              "      <th>importances</th>\n",
              "    </tr>\n",
              "  </thead>\n",
              "  <tbody>\n",
              "    <tr>\n",
              "      <th>0</th>\n",
              "      <td>cropped_A2_pretrained</td>\n",
              "      <td>0.436555</td>\n",
              "    </tr>\n",
              "    <tr>\n",
              "      <th>1</th>\n",
              "      <td>disc_B3_pretrained</td>\n",
              "      <td>0.208882</td>\n",
              "    </tr>\n",
              "    <tr>\n",
              "      <th>2</th>\n",
              "      <td>macula_B3_pretrained</td>\n",
              "      <td>0.186082</td>\n",
              "    </tr>\n",
              "    <tr>\n",
              "      <th>3</th>\n",
              "      <td>macula_A2_pretrained</td>\n",
              "      <td>0.0901868</td>\n",
              "    </tr>\n",
              "    <tr>\n",
              "      <th>4</th>\n",
              "      <td>cropped_B3pretrained</td>\n",
              "      <td>0.0412738</td>\n",
              "    </tr>\n",
              "    <tr>\n",
              "      <th>5</th>\n",
              "      <td>disc_A2_pretrained</td>\n",
              "      <td>0.0164726</td>\n",
              "    </tr>\n",
              "    <tr>\n",
              "      <th>6</th>\n",
              "      <td>vascular_B3_pretrained</td>\n",
              "      <td>0.00459427</td>\n",
              "    </tr>\n",
              "    <tr>\n",
              "      <th>7</th>\n",
              "      <td>vascular_A2_pretrained</td>\n",
              "      <td>0.00328402</td>\n",
              "    </tr>\n",
              "    <tr>\n",
              "      <th>8</th>\n",
              "      <td>disc_A2</td>\n",
              "      <td>0.00214456</td>\n",
              "    </tr>\n",
              "    <tr>\n",
              "      <th>9</th>\n",
              "      <td>vascular_B3</td>\n",
              "      <td>0.00194403</td>\n",
              "    </tr>\n",
              "    <tr>\n",
              "      <th>10</th>\n",
              "      <td>disc_B3</td>\n",
              "      <td>0.00163847</td>\n",
              "    </tr>\n",
              "    <tr>\n",
              "      <th>11</th>\n",
              "      <td>vascular_A2</td>\n",
              "      <td>0.00163047</td>\n",
              "    </tr>\n",
              "    <tr>\n",
              "      <th>12</th>\n",
              "      <td>cropped_B3</td>\n",
              "      <td>0.00162035</td>\n",
              "    </tr>\n",
              "    <tr>\n",
              "      <th>13</th>\n",
              "      <td>cropped_A2</td>\n",
              "      <td>0.00145003</td>\n",
              "    </tr>\n",
              "    <tr>\n",
              "      <th>14</th>\n",
              "      <td>macula_B3</td>\n",
              "      <td>0.00118159</td>\n",
              "    </tr>\n",
              "    <tr>\n",
              "      <th>15</th>\n",
              "      <td>macula_A2</td>\n",
              "      <td>0.00105926</td>\n",
              "    </tr>\n",
              "  </tbody>\n",
              "</table>\n",
              "</div>"
            ],
            "text/plain": [
              "                  features importances\n",
              "0    cropped_A2_pretrained    0.436555\n",
              "1       disc_B3_pretrained    0.208882\n",
              "2     macula_B3_pretrained    0.186082\n",
              "3     macula_A2_pretrained   0.0901868\n",
              "4     cropped_B3pretrained   0.0412738\n",
              "5       disc_A2_pretrained   0.0164726\n",
              "6   vascular_B3_pretrained  0.00459427\n",
              "7   vascular_A2_pretrained  0.00328402\n",
              "8                  disc_A2  0.00214456\n",
              "9              vascular_B3  0.00194403\n",
              "10                 disc_B3  0.00163847\n",
              "11             vascular_A2  0.00163047\n",
              "12              cropped_B3  0.00162035\n",
              "13              cropped_A2  0.00145003\n",
              "14               macula_B3  0.00118159\n",
              "15               macula_A2  0.00105926"
            ]
          },
          "metadata": {},
          "execution_count": 59
        }
      ]
    },
    {
      "cell_type": "code",
      "metadata": {
        "id": "rci5gcXQQ9XG"
      },
      "source": [
        "\"\"\"\n",
        "plt.figure(figsize=(8,8))\n",
        "plt.title('Importances')\n",
        "plt.rcParams['font.size']=10\n",
        "sns.barplot(y='features', x='importances', data=df_s, palette='viridis')\n",
        "\"\"\""
      ],
      "execution_count": null,
      "outputs": []
    },
    {
      "cell_type": "code",
      "metadata": {
        "colab": {
          "base_uri": "https://localhost:8080/",
          "height": 517
        },
        "id": "Y8DihmVVSbKI",
        "outputId": "00d2df4a-3c0e-4891-d7e4-911532711461"
      },
      "source": [
        "# 描画設定\n",
        "from matplotlib import rcParams\n",
        "rcParams['xtick.labelsize'] = 12       # x軸のラベルのフォントサイズ\n",
        "rcParams['ytick.labelsize'] = 12       # y軸のラベルのフォントサイズ\n",
        "rcParams['figure.figsize'] = 8,8      # 画像サイズの変更(inch)\n",
        "\n",
        "import matplotlib.pyplot as plt\n",
        "from matplotlib import ticker\n",
        "sns.set_style(\"whitegrid\")             # seabornのスタイルセットの一つ\n",
        "sns.set_color_codes()                  # デフォルトカラー設定 (deepになってる)\n",
        "\n",
        "plt.figure()\n",
        "ax = sns.regplot(x=Y_test, y=model.predict(X_test), fit_reg=False,color='#4F81BD')\n",
        "ax.set_xlabel(u\"True Age\")\n",
        "ax.set_ylabel(u\"Predicted Age\")\n",
        "ax.get_xaxis().set_major_formatter(ticker.FuncFormatter(lambda x, p: format(int(x), ',')))\n",
        "ax.get_yaxis().set_major_formatter(ticker.FuncFormatter(lambda y, p: format(int(y), ',')))\n",
        "ax.plot([0,10,20,30,40,50],[0,10,20,30,40,50], linewidth=2, color=\"#C0504D\",ls=\"--\")"
      ],
      "execution_count": 52,
      "outputs": [
        {
          "output_type": "execute_result",
          "data": {
            "text/plain": [
              "[<matplotlib.lines.Line2D at 0x7f91fc045950>]"
            ]
          },
          "metadata": {},
          "execution_count": 52
        },
        {
          "output_type": "display_data",
          "data": {
            "image/png": "[encoded data removed]",
            "text/plain": [
              "<Figure size 576x576 with 1 Axes>"
            ]
          },
          "metadata": {}
        }
      ]
    },
    {
      "cell_type": "markdown",
      "metadata": {
        "id": "pN3Qw-hrjFi-"
      },
      "source": [
        "#**Analysis using neural network**"
      ]
    },
    {
      "cell_type": "code",
      "metadata": {
        "colab": {
          "base_uri": "https://localhost:8080/"
        },
        "id": "fwwcmwczMwfE",
        "outputId": "6e09f51d-f56e-4ee5-dafa-e451515fd2c2"
      },
      "source": [
        "#正規化する\n",
        "from sklearn.preprocessing import StandardScaler  \n",
        "scaler = StandardScaler()  \n",
        "scaler.fit(X_train)  \n",
        "X_train = scaler.transform(X_train)  \n",
        "X_test = scaler.transform(X_test)\n",
        "\n",
        "#モデル作成\n",
        "import numpy as np\n",
        "from sklearn.neural_network import MLPRegressor\n",
        "model = MLPRegressor(alpha=0.1, hidden_layer_sizes=(100, 100, 100), learning_rate='adaptive', max_iter=500, random_state=42, solver=\"lbfgs\", early_stopping=True) \n",
        "model.fit(X_train,Y_train) \n",
        "\n",
        "\n",
        "\"\"\"\n",
        "初期設定：\n",
        "\n",
        "MLPRegressor(activation='relu', alpha=0.0001, batch_size='auto', beta_1=0.9,\n",
        "       beta_2=0.999, early_stopping=False, epsilon=1e-08,\n",
        "       hidden_layer_sizes=(100,), learning_rate='constant',\n",
        "       learning_rate_init=0.001, max_iter=200, momentum=0.9,\n",
        "       nesterovs_momentum=True, power_t=0.5, random_state=None,\n",
        "       shuffle=True, solver='adam', tol=0.0001, validation_fraction=0.1,\n",
        "       verbose=False, warm_start=False)\n",
        "\"\"\"\n",
        "\n",
        "\n",
        "# 自由度調整済みr2を算出\n",
        "def adjusted_r2(X,Y,model):\n",
        "    from sklearn.metrics import r2_score\n",
        "    import numpy as np\n",
        "    r_squared = r2_score(Y, model.predict(X))\n",
        "    adjusted_r2 = 1 - (1-r_squared)*(len(Y)-1)/(len(Y)-X.shape[1]-1)\n",
        "    #yhat = model.predict(X) \\ #SS_Residual = sum((Y-yhat)**2) \\ #SS_Total = sum((Y-np.mean(Y))**2)\n",
        "    #r_squared = 1 - (float(SS_Residual))/ SS_Total\n",
        "    return adjusted_r2\n",
        "\n",
        "# 予測モデルの精度確認の各種指標を算出\n",
        "def get_model_evaluations(X_train,Y_train,X_test,Y_test,model):\n",
        "    from sklearn.metrics import explained_variance_score\n",
        "    from sklearn.metrics import mean_absolute_error\n",
        "    from sklearn.metrics import mean_squared_error\n",
        "    from sklearn.metrics import mean_squared_log_error\n",
        "    from sklearn.metrics import median_absolute_error\n",
        "\n",
        "   # 評価指標確認\n",
        "   # 参考: https://funatsu-lab.github.io/open-course-ware/basic-theory/accuracy-index/\n",
        "    yhat_test = model.predict(X_test)\n",
        "    return \"adjusted_r2(train)     :\" + str(adjusted_r2(X_train,Y_train,model)) \\\n",
        "         , \"adjusted_r2(test)      :\" + str(adjusted_r2(X_test,Y_test,model)) \\\n",
        "         , \"平均誤差率(test)       :\" + str(np.mean(abs(Y_test / yhat_test - 1))) \\\n",
        "         , \"MAE(test)              :\" + str(mean_absolute_error(Y_test, yhat_test)) \\\n",
        "         , \"MedianAE(test)         :\" + str(median_absolute_error(Y_test, yhat_test)) \\\n",
        "         , \"RMSE(test)             :\" + str(np.sqrt(mean_squared_error(Y_test, yhat_test))) \\\n",
        "         , \"RMSE(test) / MAE(test) :\" + str(np.sqrt(mean_squared_error(Y_test, yhat_test)) / mean_absolute_error(Y_test, yhat_test)) #better if result = 1.253\n",
        "\n",
        "get_model_evaluations(X_train,Y_train,X_test,Y_test,model)"
      ],
      "execution_count": 31,
      "outputs": [
        {
          "output_type": "stream",
          "name": "stderr",
          "text": [
            "/usr/local/lib/python3.7/dist-packages/sklearn/neural_network/_multilayer_perceptron.py:470: ConvergenceWarning: lbfgs failed to converge (status=1):\n",
            "STOP: TOTAL NO. of ITERATIONS REACHED LIMIT.\n",
            "\n",
            "Increase the number of iterations (max_iter) or scale the data as shown in:\n",
            "    https://scikit-learn.org/stable/modules/preprocessing.html\n",
            "  self.n_iter_ = _check_optimize_result(\"lbfgs\", opt_res, self.max_iter)\n"
          ]
        },
        {
          "output_type": "execute_result",
          "data": {
            "text/plain": [
              "('adjusted_r2(train)     :0.9985855464473465',\n",
              " 'adjusted_r2(test)      :0.9232505451500271',\n",
              " '平均誤差率(test)       :0.0559891829790846',\n",
              " 'MAE(test)              :2.9263694308576333',\n",
              " 'MedianAE(test)         :2.0810153147193873',\n",
              " 'RMSE(test)             :4.108713223309058',\n",
              " 'RMSE(test) / MAE(test) :1.4040309401759006')"
            ]
          },
          "metadata": {},
          "execution_count": 31
        }
      ]
    },
    {
      "cell_type": "code",
      "metadata": {
        "id": "bIcqR8-Nj1E9",
        "colab": {
          "base_uri": "https://localhost:8080/",
          "height": 517
        },
        "outputId": "5ff035c0-25e9-42f7-fee2-24acf8be7a92"
      },
      "source": [
        "# 描画設定\n",
        "from matplotlib import rcParams\n",
        "rcParams['xtick.labelsize'] = 12       # x軸のラベルのフォントサイズ\n",
        "rcParams['ytick.labelsize'] = 12       # y軸のラベルのフォントサイズ\n",
        "rcParams['figure.figsize'] = 8,8      # 画像サイズの変更(inch)\n",
        "\n",
        "import matplotlib.pyplot as plt\n",
        "from matplotlib import ticker\n",
        "sns.set_style(\"whitegrid\")             # seabornのスタイルセットの一つ\n",
        "sns.set_color_codes()                  # デフォルトカラー設定 (deepになってる)\n",
        "\n",
        "plt.figure()\n",
        "ax = sns.regplot(x=Y_test, y=model.predict(X_test), fit_reg=False,color='#4F81BD')\n",
        "ax.set_xlabel(u\"True Age\")\n",
        "ax.set_ylabel(u\"Predicted Age\")\n",
        "ax.get_xaxis().set_major_formatter(ticker.FuncFormatter(lambda x, p: format(int(x), ',')))\n",
        "ax.get_yaxis().set_major_formatter(ticker.FuncFormatter(lambda y, p: format(int(y), ',')))\n",
        "ax.plot([0,10,20,30,40,50],[0,10,20,30,40,50], linewidth=2, color=\"#C0504D\",ls=\"--\")"
      ],
      "execution_count": 32,
      "outputs": [
        {
          "output_type": "execute_result",
          "data": {
            "text/plain": [
              "[<matplotlib.lines.Line2D at 0x7f91f6fe2ed0>]"
            ]
          },
          "metadata": {},
          "execution_count": 32
        },
        {
          "output_type": "display_data",
          "data": {
            "image/png": "[encoded data removed]",
            "text/plain": [
              "<Figure size 576x576 with 1 Axes>"
            ]
          },
          "metadata": {}
        }
      ]
    }
  ]
}