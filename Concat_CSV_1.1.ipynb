{
  "nbformat": 4,
  "nbformat_minor": 0,
  "metadata": {
    "colab": {
      "name": "Untitled74.ipynb",
      "provenance": [],
      "authorship_tag": "ABX9TyMcBK4X+sNEK2TlgyD6DJEm",
      "include_colab_link": true
    },
    "kernelspec": {
      "name": "python3",
      "display_name": "Python 3"
    },
    "language_info": {
      "name": "python"
    }
  },
  "cells": [
    {
      "cell_type": "markdown",
      "metadata": {
        "id": "view-in-github",
        "colab_type": "text"
      },
      "source": [
        "<a href=\"https://colab.research.google.com/github/ykitaguchi77/FundusPhoto/blob/main/Concat_CSV_1.1.ipynb\" target=\"_parent\"><img src=\"https://colab.research.google.com/assets/colab-badge.svg\" alt=\"Open In Colab\"/></a>"
      ]
    },
    {
      "cell_type": "markdown",
      "metadata": {
        "id": "iYyZOUYGZJAl"
      },
      "source": [
        "#**Concat CSV file**\n"
      ]
    },
    {
      "cell_type": "code",
      "metadata": {
        "colab": {
          "base_uri": "https://localhost:8080/"
        },
        "id": "osFhcWOmZC5W",
        "outputId": "ea2d9c24-a86b-4794-f11d-882e60aca76d"
      },
      "source": [
        "import pandas as pd\n",
        "\n",
        "#google driveをcolabolatoryにマウント\n",
        "from google.colab import drive\n",
        "drive.mount('/content/drive')"
      ],
      "execution_count": 38,
      "outputs": [
        {
          "output_type": "stream",
          "name": "stdout",
          "text": [
            "Drive already mounted at /content/drive; to attempt to forcibly remount, call drive.mount(\"/content/drive\", force_remount=True).\n"
          ]
        }
      ]
    },
    {
      "cell_type": "markdown",
      "metadata": {
        "id": "C7NtODmKoOFl"
      },
      "source": [
        "#**Concat_frames**"
      ]
    },
    {
      "cell_type": "code",
      "metadata": {
        "colab": {
          "base_uri": "https://localhost:8080/",
          "height": 450
        },
        "id": "uamRDx7qZjK1",
        "outputId": "541219eb-fb28-4278-ec6f-b2f3e08e968a"
      },
      "source": [
        "#画像番号と年齢のみを抜き出し\n",
        "df = pd.read_csv(\"/content/drive/MyDrive/Deep_learning/FundusPhoto/result_5_CLAHE.csv\", index_col=0, sep=\",\")\n",
        "df = df.iloc[:, 0:1]\n",
        "df"
      ],
      "execution_count": 50,
      "outputs": [
        {
          "output_type": "execute_result",
          "data": {
            "text/html": [
              "<div>\n",
              "<style scoped>\n",
              "    .dataframe tbody tr th:only-of-type {\n",
              "        vertical-align: middle;\n",
              "    }\n",
              "\n",
              "    .dataframe tbody tr th {\n",
              "        vertical-align: top;\n",
              "    }\n",
              "\n",
              "    .dataframe thead th {\n",
              "        text-align: right;\n",
              "    }\n",
              "</style>\n",
              "<table border=\"1\" class=\"dataframe\">\n",
              "  <thead>\n",
              "    <tr style=\"text-align: right;\">\n",
              "      <th></th>\n",
              "      <th>age</th>\n",
              "    </tr>\n",
              "    <tr>\n",
              "      <th>filename</th>\n",
              "      <th></th>\n",
              "    </tr>\n",
              "  </thead>\n",
              "  <tbody>\n",
              "    <tr>\n",
              "      <th>img00085008_00_1R.jpg</th>\n",
              "      <td>61</td>\n",
              "    </tr>\n",
              "    <tr>\n",
              "      <th>img00085024_00_1R.jpg</th>\n",
              "      <td>29</td>\n",
              "    </tr>\n",
              "    <tr>\n",
              "      <th>img00241280_10_1R.jpg</th>\n",
              "      <td>51</td>\n",
              "    </tr>\n",
              "    <tr>\n",
              "      <th>img00265140_00_1R.jpg</th>\n",
              "      <td>29</td>\n",
              "    </tr>\n",
              "    <tr>\n",
              "      <th>img00265140_00_2L.jpg</th>\n",
              "      <td>29</td>\n",
              "    </tr>\n",
              "    <tr>\n",
              "      <th>...</th>\n",
              "      <td>...</td>\n",
              "    </tr>\n",
              "    <tr>\n",
              "      <th>img76791392_10_1R.jpg</th>\n",
              "      <td>38</td>\n",
              "    </tr>\n",
              "    <tr>\n",
              "      <th>img76843122_10_1R.jpg</th>\n",
              "      <td>49</td>\n",
              "    </tr>\n",
              "    <tr>\n",
              "      <th>img76843122_11_1R.jpg</th>\n",
              "      <td>49</td>\n",
              "    </tr>\n",
              "    <tr>\n",
              "      <th>img76888512_00_1R.jpg</th>\n",
              "      <td>74</td>\n",
              "    </tr>\n",
              "    <tr>\n",
              "      <th>img76888512_00_2L.jpg</th>\n",
              "      <td>74</td>\n",
              "    </tr>\n",
              "  </tbody>\n",
              "</table>\n",
              "<p>1414 rows × 1 columns</p>\n",
              "</div>"
            ],
            "text/plain": [
              "                       age\n",
              "filename                  \n",
              "img00085008_00_1R.jpg   61\n",
              "img00085024_00_1R.jpg   29\n",
              "img00241280_10_1R.jpg   51\n",
              "img00265140_00_1R.jpg   29\n",
              "img00265140_00_2L.jpg   29\n",
              "...                    ...\n",
              "img76791392_10_1R.jpg   38\n",
              "img76843122_10_1R.jpg   49\n",
              "img76843122_11_1R.jpg   49\n",
              "img76888512_00_1R.jpg   74\n",
              "img76888512_00_2L.jpg   74\n",
              "\n",
              "[1414 rows x 1 columns]"
            ]
          },
          "metadata": {},
          "execution_count": 50
        }
      ]
    },
    {
      "cell_type": "code",
      "metadata": {
        "id": "y_XShQJ3aEA-"
      },
      "source": [
        "df1 = pd.read_csv(\"/content/drive/MyDrive/Deep_learning/FundusPhoto/result_5_GB.csv\", index_col=0, sep=\",\")\n",
        "#df1"
      ],
      "execution_count": 51,
      "outputs": []
    },
    {
      "cell_type": "code",
      "metadata": {
        "id": "0bNV-XeTqLBN"
      },
      "source": [
        "df2 = pd.read_csv(\"/content/drive/MyDrive/Deep_learning/FundusPhoto/result_5_CLAHE.csv\", index_col=0, sep=\",\")\n",
        "#df2"
      ],
      "execution_count": 52,
      "outputs": []
    },
    {
      "cell_type": "code",
      "metadata": {
        "id": "ORPt7wFoqx6N"
      },
      "source": [
        "df3 = pd.read_csv(\"/content/drive/MyDrive/Deep_learning/FundusPhoto/result_6.csv\", index_col=0, sep=\",\")\n",
        "#df3"
      ],
      "execution_count": 53,
      "outputs": []
    },
    {
      "cell_type": "code",
      "metadata": {
        "id": "ely2cmtStxZd"
      },
      "source": [
        "df4 = pd.read_csv(\"/content/drive/MyDrive/Deep_learning/FundusPhoto/result_7.csv\", index_col=0, sep=\",\")\n",
        "#df4"
      ],
      "execution_count": null,
      "outputs": []
    },
    {
      "cell_type": "code",
      "metadata": {
        "id": "6YaaZ0NCoFcN"
      },
      "source": [
        "#0列目がageに相当\n",
        "df1= df1.iloc[:,1:36]\n",
        "#print(df1.columns)"
      ],
      "execution_count": 54,
      "outputs": []
    },
    {
      "cell_type": "code",
      "metadata": {
        "id": "MTFkWf2HqLSU"
      },
      "source": [
        "#0列目がageに相当\n",
        "df2= df2.iloc[:,1:41]\n",
        "#print(df2.columns)"
      ],
      "execution_count": 55,
      "outputs": []
    },
    {
      "cell_type": "code",
      "metadata": {
        "id": "unZyizjhthIm"
      },
      "source": [
        "#0列目がageに相当\n",
        "df3= df2.iloc[:,1:41]\n",
        "#print(df3.columns)"
      ],
      "execution_count": 56,
      "outputs": []
    },
    {
      "cell_type": "code",
      "metadata": {
        "id": "O9_p47uIt4aG"
      },
      "source": [
        "#0列目がageに相当\n",
        "df4= df4.iloc[:,1:41]\n",
        "#print(df4.columns)"
      ],
      "execution_count": null,
      "outputs": []
    },
    {
      "cell_type": "code",
      "metadata": {
        "id": "4qamQh0ntqC9"
      },
      "source": [
        "df_dst = pd.concat([df, df1, df2, df3],axis=1)"
      ],
      "execution_count": 57,
      "outputs": []
    },
    {
      "cell_type": "code",
      "metadata": {
        "colab": {
          "base_uri": "https://localhost:8080/"
        },
        "id": "Z2qrf_VPughG",
        "outputId": "e26e9d43-832e-4e53-c0df-797fed4baee9"
      },
      "source": [
        "print(df_dst)\n",
        "print(len(df_dst.columns))"
      ],
      "execution_count": null,
      "outputs": [
        {
          "output_type": "stream",
          "name": "stdout",
          "text": [
            "                   age  ...  vascular_2_RGB_B3_GB_L1Loss_pretrained_4\n",
            "Unnamed: 1              ...                                          \n",
            "img76901008_06_1R   70  ...                                 53.131670\n",
            "img76901008_06_2L   68  ...                                 55.750787\n",
            "img76901008_07_1R   69  ...                                 52.608454\n",
            "img76901008_07_2L   66  ...                                 54.159564\n",
            "img77009741_01_1R   44  ...                                 50.823110\n",
            "...                ...  ...                                       ...\n",
            "img99962800_00_1L   29  ...                                 52.267468\n",
            "img99962810_00_1R   30  ...                                 51.456147\n",
            "img99962820_00_1R   30  ...                                 52.083141\n",
            "img99962830_00_1R   29  ...                                 51.914799\n",
            "img99962840_00_1R   30  ...                                 51.695716\n",
            "\n",
            "[401 rows x 155 columns]\n",
            "155\n"
          ]
        }
      ]
    },
    {
      "cell_type": "code",
      "metadata": {
        "id": "H3yCywLyu36t"
      },
      "source": [
        "df_dst.to_csv(\"/content/drive/MyDrive/Deep_learning/FundusPhoto/result_concat3.csv\", encoding='utf_8_sig')"
      ],
      "execution_count": 58,
      "outputs": []
    },
    {
      "cell_type": "markdown",
      "metadata": {
        "id": "x5cxAdqkNttt"
      },
      "source": [
        "#**Delete columns from Dataframe**"
      ]
    },
    {
      "cell_type": "code",
      "metadata": {
        "id": "AKw5-RNTRXxG"
      },
      "source": [
        "import os\n",
        "\n",
        "path = \"/content/drive/MyDrive/Deep_learning/FundusPhoto/result_concat3.csv\"\n",
        "counterpart_path = \"/content/drive/MyDrive/Deep_learning/FundusPhoto/【眼科AIコンテスト】本番用データ提出フォーム_result_concat.csv\""
      ],
      "execution_count": 34,
      "outputs": []
    },
    {
      "cell_type": "code",
      "metadata": {
        "id": "Zv5XBaflOHYN"
      },
      "source": [
        "df = pd.read_csv(path, index_col=0, sep=\",\")\n",
        "df\n",
        "print(df.columns)"
      ],
      "execution_count": null,
      "outputs": []
    },
    {
      "cell_type": "code",
      "metadata": {
        "id": "Fppg7LXuPIt2"
      },
      "source": [
        "df_counterpart = pd.read_csv(counterpart_path, index_col=0, sep=\",\")\n",
        "df_counterpart\n"
      ],
      "execution_count": null,
      "outputs": []
    },
    {
      "cell_type": "code",
      "metadata": {
        "id": "r9-6JAdEQ2ns"
      },
      "source": [
        "row = [\"cropped_CLAHE_B3_ver2_pretrained_3\"]\n",
        "df.drop(row, axis=1, inplace=True)\n",
        "df_counterpart.drop(row, axis=1, inplace=True)\n",
        "\n",
        "df.to_csv(str(os.path.splitext(path)[0])+\"_drop.csv\", encoding='utf_8_sig')\n",
        "df_counterpart.to_csv(str(os.path.splitext(counterpart_path)[0])+\"_drop.csv\", encoding='utf_8_sig')"
      ],
      "execution_count": 37,
      "outputs": []
    }
  ]
}