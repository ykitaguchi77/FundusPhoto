{
  "nbformat": 4,
  "nbformat_minor": 0,
  "metadata": {
    "colab": {
      "provenance": [],
      "authorship_tag": "ABX9TyMuQ2qPTr4kBIRn5BOcfvLs",
      "include_colab_link": true
    },
    "kernelspec": {
      "name": "python3",
      "display_name": "Python 3"
    },
    "language_info": {
      "name": "python"
    }
  },
  "cells": [
    {
      "cell_type": "markdown",
      "metadata": {
        "id": "view-in-github",
        "colab_type": "text"
      },
      "source": [
        "<a href=\"https://colab.research.google.com/github/ykitaguchi77/FundusPhoto/blob/main/Metabo2024_final_prediction.ipynb\" target=\"_parent\"><img src=\"https://colab.research.google.com/assets/colab-badge.svg\" alt=\"Open In Colab\"/></a>"
      ]
    },
    {
      "cell_type": "code",
      "execution_count": null,
      "metadata": {
        "id": "_7Txq-iU9gl7"
      },
      "outputs": [],
      "source": []
    },
    {
      "cell_type": "markdown",
      "source": [
        "#**Metabo2024_final_prediction**"
      ],
      "metadata": {
        "id": "YRm_cXqN9lWJ"
      }
    },
    {
      "cell_type": "code",
      "source": [
        "# Import necessary libraries\n",
        "import pandas as pd\n",
        "import seaborn as sns\n",
        "import matplotlib.pyplot as plt\n",
        "from sklearn.ensemble import GradientBoostingClassifier\n",
        "from sklearn.model_selection import cross_val_score\n",
        "\n",
        "# Mount Google Drive if the CSV is in your drive\n",
        "from google.colab import drive\n",
        "drive.mount('/content/drive')"
      ],
      "metadata": {
        "colab": {
          "base_uri": "https://localhost:8080/"
        },
        "id": "4Vy-YvjC9hL1",
        "outputId": "c7fed27b-7346-474a-cdc3-877ddc693172"
      },
      "execution_count": 1,
      "outputs": [
        {
          "output_type": "stream",
          "name": "stdout",
          "text": [
            "Mounted at /content/drive\n"
          ]
        }
      ]
    },
    {
      "cell_type": "code",
      "source": [
        "#テスト画像を384pxに整形\n",
        "\n",
        "import os\n",
        "import cv2\n",
        "from tqdm import tqdm\n",
        "\n",
        "def crop_center_image(cv2_img, crop_size=1170):\n",
        "    # 画像のサイズを取得\n",
        "    height, width, _ = cv2_img.shape\n",
        "\n",
        "    # 中心座標を計算\n",
        "    center_x = width // 2\n",
        "    center_y = height // 2\n",
        "\n",
        "    # 切り抜きの開始座標を計算\n",
        "    start_x = center_x - crop_size // 2\n",
        "    start_y = center_y - crop_size // 2\n",
        "\n",
        "    # 画像の切り抜き\n",
        "    cropped_img = cv2_img[start_y:start_y + crop_size, start_x:start_x + crop_size]\n",
        "\n",
        "    return cropped_img\n",
        "\n",
        "def resize_image(cv2_img, size=(384, 384)):\n",
        "    # リサイズ\n",
        "    resized_img = cv2.resize(cv2_img, size)\n",
        "    return resized_img\n",
        "\n",
        "def process_images(input_dir, output_dir):\n",
        "    # 出力ディレクトリが存在しない場合は作成\n",
        "    if not os.path.exists(output_dir):\n",
        "        os.makedirs(output_dir)\n",
        "\n",
        "    # 入力ディレクトリ内のすべての画像ファイルを取得\n",
        "    image_files = [f for f in os.listdir(input_dir) if f.lower().endswith(('.png', '.jpg', '.jpeg'))]\n",
        "\n",
        "    # tqdmで進捗バーを表示しながら処理\n",
        "    for filename in tqdm(image_files, desc=\"Processing images\"):\n",
        "        # 画像の読み込み\n",
        "        img_path = os.path.join(input_dir, filename)\n",
        "        img = cv2.imread(img_path)\n",
        "\n",
        "        if img is not None:\n",
        "            try:\n",
        "                # 画像の処理\n",
        "                cropped_img = crop_center_image(img)\n",
        "                resized_img = resize_image(cropped_img)\n",
        "\n",
        "                # 処理済み画像の保存\n",
        "                output_path = os.path.join(output_dir, filename)\n",
        "                cv2.imwrite(output_path, resized_img)\n",
        "            except Exception as e:\n",
        "                print(f\"Error processing {filename}: {str(e)}\")\n",
        "        else:\n",
        "            print(f\"Could not read image: {filename}\")\n",
        "\n",
        "# 入力・出力ディレクトリのパス\n",
        "input_dir = \"/content/drive/MyDrive/Deep_learning/Fundus_metabolic/images_test\"\n",
        "output_dir = \"/content/drive/MyDrive/Deep_learning/Fundus_metabolic/images_test_384px\"\n",
        "\n",
        "# 画像の処理を実行\n",
        "process_images(input_dir, output_dir)"
      ],
      "metadata": {
        "colab": {
          "base_uri": "https://localhost:8080/"
        },
        "id": "HLaM38uq9hNo",
        "outputId": "c866c41f-70d7-4fec-b567-08a5efee2bcf"
      },
      "execution_count": 2,
      "outputs": [
        {
          "output_type": "stream",
          "name": "stderr",
          "text": [
            "Processing images: 100%|██████████| 500/500 [00:48<00:00, 10.33it/s]\n"
          ]
        }
      ]
    }
  ]
}