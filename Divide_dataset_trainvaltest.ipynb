{
  "nbformat": 4,
  "nbformat_minor": 0,
  "metadata": {
    "colab": {
      "name": "Untitled66.ipynb",
      "provenance": [],
      "authorship_tag": "ABX9TyPcQPuLkS45IKACEcQFLQaW",
      "include_colab_link": true
    },
    "kernelspec": {
      "name": "python3",
      "display_name": "Python 3"
    },
    "language_info": {
      "name": "python"
    }
  },
  "cells": [
    {
      "cell_type": "markdown",
      "metadata": {
        "id": "view-in-github",
        "colab_type": "text"
      },
      "source": [
        "<a href=\"https://colab.research.google.com/github/ykitaguchi77/FundusPhoto/blob/main/Divide_dataset_trainvaltest.ipynb\" target=\"_parent\"><img src=\"https://colab.research.google.com/assets/colab-badge.svg\" alt=\"Open In Colab\"/></a>"
      ]
    },
    {
      "cell_type": "markdown",
      "metadata": {
        "id": "DTBKI1ZQFg-W"
      },
      "source": [
        "#**データセットをランダムに振り分け**"
      ]
    },
    {
      "cell_type": "code",
      "metadata": {
        "id": "ABvjeA4gFF-K"
      },
      "source": [
        "\"\"\"\n",
        "dataset-------1\n",
        "          |---2\n",
        "          |---3\n",
        "          |---4\n",
        "↓\n",
        "\n",
        "dataset---train-----1\n",
        "        |       |---2\n",
        "        |\n",
        "        |--val-------3  \n",
        "        |       |--4\n",
        "        |\n",
        "        |--test------5\n",
        "               |---6 \n",
        "\"\"\""
      ],
      "execution_count": null,
      "outputs": []
    },
    {
      "cell_type": "code",
      "metadata": {
        "id": "_Fq5ZJh3FmsD"
      },
      "source": [
        "from __future__ import print_function, division\n",
        "\n",
        "import torch\n",
        "import torch.nn as nn\n",
        "import torch.optim as optim\n",
        "from torch.optim import lr_scheduler\n",
        "import torch.utils.data as data\n",
        "import numpy as np\n",
        "import torchvision\n",
        "from torchvision import datasets, models, transforms\n",
        "import matplotlib.pyplot as plt\n",
        "import time\n",
        "import os\n",
        "import copy\n",
        "import math\n",
        "import shutil\n",
        "\n",
        "#Advanced Pytorchから\n",
        "import glob\n",
        "import os.path as osp\n",
        "import random\n",
        "import json\n",
        "from PIL import Image\n",
        "from tqdm import tqdm\n",
        "%matplotlib inline\n",
        "\n",
        "#サポートパッチのインポート\n",
        "from google.colab.patches import cv2_imshow\n",
        "import cv2\n",
        "\n",
        "plt.ion()   # interactive mode\n",
        "device = torch.device(\"cuda:0\" if torch.cuda.is_available() else \"cpu\")\n",
        "\n",
        "# Set random seem for reproducibility\n",
        "manualSeed = 20200815\n",
        "#manualSeed = random.randint(1, 10000) # use if you want new results\n",
        "print(\"Random Seed: \", manualSeed)\n",
        "random.seed(manualSeed)\n",
        "torch.manual_seed(manualSeed)\n",
        "torch.cuda.manual_seed(manualSeed)\n",
        "\n",
        "torch.torch.backends.cudnn.benchmark = True\n",
        "torch.torch.backends.cudnn.enabled = True\n",
        "\n",
        "\n",
        "#google driveをcolabolatoryにマウント\n",
        "from google.colab import drive\n",
        "drive.mount('/content/drive')"
      ],
      "execution_count": null,
      "outputs": []
    },
    {
      "cell_type": "markdown",
      "metadata": {
        "id": "UYkpp9zcFxIM"
      },
      "source": [
        "#**データセットをランダムに振り分け**"
      ]
    },
    {
      "cell_type": "code",
      "metadata": {
        "id": "23Ax-F2hFt6M"
      },
      "source": [
        "#処理時間の計測\n",
        "start = time.time()\n",
        "\n",
        "in_path = '/content/drive/MyDrive/Deep_learning/FundusPhoto/cropped_img'\n",
        "out_path = '/content/drive/MyDrive/Deep_learning/FundusPhoto/cropped_img_trainval'\n",
        "train_rate = 0.7\n",
        "val_rate = 0.2\n",
        "\n",
        "#移動先のフォルダを作成\n",
        "if os.path.exists(out_path):\n",
        "    shutil.rmtree(out_path)\n",
        "os.makedirs(out_path, exist_ok=True)\n",
        "\n",
        "os.makedirs(out_path +'/train/', exist_ok=True) #trainのフォルダを作成\n",
        "os.makedirs(out_path +'/val/', exist_ok=True) #valのフォルダを作成\n",
        "os.makedirs(out_path +'/test/', exist_ok=True) #testのフォルダを作成\n",
        "\n",
        "\n",
        "total = os.listdir(in_path)\n",
        "total_num = len(os.listdir(in_path))\n",
        "train_num = int(total_num*train_rate) #trainの総数\n",
        "val_num = int(total_num*val_rate)  #valの総数\n",
        "test_num = total_num - train_num - val_num  #testの総数\n",
        "\n",
        "trainval = random.sample(total, train_num+val_num) #train+val\n",
        "val = random.sample(trainval, val_num) #valのリスト\n",
        "train = list(set(trainval)-set(val)) #trainのリスト\n",
        "test = list(set(total) - set(trainval)) #testのリスト\n",
        "\n",
        "l=0\n",
        "for j in train:\n",
        "      shutil.copy(in_path+'/'+j, out_path +'/train/'+j)\n",
        "      l+=1\n",
        "      print(str(l)+'/'+str(total_num)+' images copied')\n",
        "for j in val:\n",
        "      shutil.copy(in_path+'/'+j, out_path +'/val/'+j)\n",
        "      l+=1\n",
        "      print(str(l)+'/'+str(total_num)+' images copied')\n",
        "for j in test:\n",
        "      shutil.copy(in_path+'/'+j, out_path +'/test/'+j)\n",
        "      l+=1\n",
        "      print(str(l)+'/'+str(total_num)+' images copied')\n",
        "\n",
        "print('Process done!!')\n",
        "elapsed_time = time.time() - start\n",
        "print (\"elapsed_time:{0}\".format(elapsed_time) + \"[sec]\")"
      ],
      "execution_count": null,
      "outputs": []
    },
    {
      "cell_type": "markdown",
      "metadata": {
        "id": "jF7qcIdKG290"
      },
      "source": [
        "#**ランダムでない振り分け（1から順に）**"
      ]
    },
    {
      "cell_type": "code",
      "metadata": {
        "id": "reUW_l4RHVT0"
      },
      "source": [
        "#処理時間の計測\n",
        "start = time.time()\n",
        "\n",
        "in_path = '/content/drive/MyDrive/Deep_learning/FundusPhoto/cropped_img'\n",
        "out_path = '/content/drive/MyDrive/Deep_learning/FundusPhoto/cropped_img_trainval'\n",
        "train_rate = 0.7\n",
        "val_rate = 0.2\n",
        "\n",
        "#移動先のフォルダを作成\n",
        "if os.path.exists(out_path):\n",
        "    shutil.rmtree(out_path)\n",
        "os.makedirs(out_path, exist_ok=True)\n",
        "\n",
        "os.makedirs(out_path +'/train/', exist_ok=True) #trainのフォルダを作成\n",
        "os.makedirs(out_path +'/val/', exist_ok=True) #valのフォルダを作成\n",
        "os.makedirs(out_path +'/test/', exist_ok=True) #testのフォルダを作成\n",
        "\n",
        "\n",
        "total = os.listdir(in_path)\n",
        "total_num = len(os.listdir(in_path))\n",
        "train_num = int(total_num*train_rate) #trainの総数\n",
        "val_num = int(total_num*val_rate)  #valの総数\n",
        "test_num = total_num - train_num - val_num  #testの総数\n",
        "\n",
        "train = total[0:train_num] #trainのリスト\n",
        "val = total[train_num:train_num+val_num] #valのリスト\n",
        "test = total[train_num+val_num:len(total)] #testのリスト\n",
        "\n",
        "l=0\n",
        "for j in train:\n",
        "      shutil.copy(in_path+'/'+j, out_path +'/train/'+j)\n",
        "      l+=1\n",
        "      print(str(l)+'/'+str(total_num)+' images copied')\n",
        "for j in val:\n",
        "      shutil.copy(in_path+'/'+j, out_path +'/val/'+j)\n",
        "      l+=1\n",
        "      print(str(l)+'/'+str(total_num)+' images copied')\n",
        "for j in test:\n",
        "      shutil.copy(in_path+'/'+j, out_path +'/test/'+j)\n",
        "      l+=1\n",
        "      print(str(l)+'/'+str(total_num)+' images copied')\n",
        "\n",
        "print('Process done!!')\n",
        "elapsed_time = time.time() - start\n",
        "print (\"elapsed_time:{0}\".format(elapsed_time) + \"[sec]\")"
      ],
      "execution_count": null,
      "outputs": []
    }
  ]
}