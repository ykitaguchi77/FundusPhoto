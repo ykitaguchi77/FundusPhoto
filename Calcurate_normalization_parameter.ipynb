{
  "nbformat": 4,
  "nbformat_minor": 0,
  "metadata": {
    "colab": {
      "name": "Untitled40.ipynb",
      "provenance": [],
      "include_colab_link": true
    },
    "kernelspec": {
      "name": "python3",
      "display_name": "Python 3"
    }
  },
  "cells": [
    {
      "cell_type": "markdown",
      "metadata": {
        "id": "view-in-github",
        "colab_type": "text"
      },
      "source": [
        "<a href=\"https://colab.research.google.com/github/ykitaguchi77/FundusPhoto/blob/main/Calcurate_normalization_parameter.ipynb\" target=\"_parent\"><img src=\"https://colab.research.google.com/assets/colab-badge.svg\" alt=\"Open In Colab\"/></a>"
      ]
    },
    {
      "cell_type": "markdown",
      "metadata": {
        "id": "FT-uBcZ9PSmm"
      },
      "source": [
        "#**Calculate normalizetion parameters**\n",
        "画像を中央で横幅1/3、縦幅1/2の形に切り抜いて、その平均とstdを算出するスクリプト<br>\n",
        "https://buto-dev-null.hatenablog.com/entry/2019/12/01/000000"
      ]
    },
    {
      "cell_type": "code",
      "metadata": {
        "id": "5yQwABlGCXgh",
        "colab": {
          "base_uri": "https://localhost:8080/"
        },
        "outputId": "49f396b0-3525-4719-db5f-08326f6cc534"
      },
      "source": [
        "from IPython.display import Image\n",
        "import numpy as np\n",
        "import time\n",
        "import math\n",
        "import statistics\n",
        "import os\n",
        "\n",
        "#サポートパッチのインポート\n",
        "from google.colab.patches import cv2_imshow\n",
        "import cv2\n",
        "\n",
        "#Google driveをマウント\n",
        "from google.colab import drive\n",
        "drive.mount('/content/drive')\n"
      ],
      "execution_count": 6,
      "outputs": [
        {
          "output_type": "stream",
          "text": [
            "Drive already mounted at /content/drive; to attempt to forcibly remount, call drive.mount(\"/content/drive\", force_remount=True).\n"
          ],
          "name": "stdout"
        }
      ]
    },
    {
      "cell_type": "markdown",
      "metadata": {
        "id": "MiH4b-3JsRYP"
      },
      "source": [
        "#**Modules**"
      ]
    },
    {
      "cell_type": "code",
      "metadata": {
        "id": "zLwAJH8MSh8o"
      },
      "source": [
        "def main(in_path, num):\n",
        "    #処理時間の計測\n",
        "    start = time.time()\n",
        "\n",
        "    file = os.listdir(in_path)\n",
        "    print(len(file))\n",
        "\n",
        "    #ここに処理するファイル数を記載する (ex. [0:999])\n",
        "    processing_file = file[0:num]\n",
        "    print(processing_file)\n",
        "\n",
        "    average = []\n",
        "    std = []\n",
        "\n",
        "    l=0\n",
        "    for i in processing_file:      \n",
        "          img = cv2.imread(in_path + '/' + i)\n",
        "          a, b = calculate(img)\n",
        "          average.append(a)\n",
        "          std.append(b)\n",
        "\n",
        "    average = np.average(average, axis=0)\n",
        "    std = np.average(std, axis=0)\n",
        "    print(np.round(average,0)) #0ケタ丸め込み\n",
        "    print(np.round(std,0))\n",
        "    print(np.round(average/255,3)) #3ケタ丸め込み\n",
        "    print(np.round(std/255,3))\n",
        "\n",
        "    print('Process done!!')\n",
        "    elapsed_time = time.time() - start\n",
        "    print (\"elapsed_time:{0}\".format(elapsed_time) + \"[sec]\")\n",
        "\n",
        "\n",
        "\n",
        "\n",
        "def calculate(cv2_img):\n",
        "    height, width, _ = cv2_img.shape\n",
        "    y1, y2, x1, x2 = int(height*1/5), int(height*4/5), int(width*1/5), int(width*4/5)  #計算する画像範囲の指定\n",
        "    imgbox = cv2_img[y1:y2,x1:x2]\n",
        "    #cv2_imshow(imgbox)　#画像を表示\n",
        "    b = imgbox.T[0].flatten().mean()\n",
        "    g = imgbox.T[1].flatten().mean()\n",
        "    r = imgbox.T[2].flatten().mean()\n",
        "    b_std = math.floor(imgbox.T[0].flatten().std())\n",
        "    g_std = math.floor(imgbox.T[1].flatten().std())\n",
        "    r_std = math.floor(imgbox.T[2].flatten().std())\n",
        "    rgb = [r,g,b]\n",
        "    rgb_std = [r_std, g_std, b_std]\n",
        "    return rgb, rgb_std"
      ],
      "execution_count": 7,
      "outputs": []
    },
    {
      "cell_type": "code",
      "metadata": {
        "id": "5SgPO3aj6sUT",
        "colab": {
          "base_uri": "https://localhost:8080/"
        },
        "outputId": "5447c959-3527-49dd-f7e5-00d1cd360ecd"
      },
      "source": [
        "In_path = \"/content/drive/MyDrive/Deep_learning/FundusPhoto/cropped_img\"\n",
        "print(len(os.listdir(In_path)))"
      ],
      "execution_count": 8,
      "outputs": [
        {
          "output_type": "stream",
          "text": [
            "1414\n"
          ],
          "name": "stdout"
        }
      ]
    },
    {
      "cell_type": "code",
      "metadata": {
        "id": "l8QpCu8C2yF9",
        "colab": {
          "base_uri": "https://localhost:8080/"
        },
        "outputId": "f3b16b9f-1442-4a5c-d0d8-ce42f4dfadc9"
      },
      "source": [
        "#平均する枚数を入力\n",
        "main(In_path, 100)"
      ],
      "execution_count": 10,
      "outputs": [
        {
          "output_type": "stream",
          "text": [
            "1414\n",
            "['img14980414_02_1R.jpg', 'img59793338_05_1R.jpg', 'img69400239_04_2L.jpg', 'img69400239_04_1R.jpg', 'img61900998_05_1R.jpg', 'img61900998_04_1R.jpg', 'img24496488_03_1R.jpg', 'img24496488_03_2L.jpg', 'img02878859_10_1R.jpg', 'img19785851_01_1R.jpg', 'img12627157_03_1R.jpg', 'img10059159_08_1R.jpg', 'img10059159_09_1R.jpg', 'img63009490_02_1R.jpg', 'img43618854_05_1R.jpg', 'img43618854_05_2L.jpg', 'img47491392_02_2L.jpg', 'img47491392_02_1R.jpg', 'img74465180_09_1R.jpg', 'img69313660_01_1R.jpg', 'img67513694_04_1R.jpg', 'img67513694_05_1R.jpg', 'img68412213_07_2L.jpg', 'img18347006_10_2L.jpg', 'img18347006_10_1R.jpg', 'img63557039_10_1R.jpg', 'img05834794_10_2L.jpg', 'img05834794_10_1R.jpg', 'img39709495_03_1R.jpg', 'img13259746_06_1R.jpg', 'img15168560_04_1R.jpg', 'img61863873_09_1R.jpg', 'img26260553_03_1R.jpg', 'img27806229_04_1R.jpg', 'img01342796_07_1R.jpg', 'img27202504_10_1R.jpg', 'img27202504_09_2L.jpg', 'img27202504_09_1R.jpg', 'img70882169_02_1R.jpg', 'img51950020_00_1R.jpg', 'img00699409_00_1R.jpg', 'img39306088_00_1R.jpg', 'img03119762_00_1R.jpg', 'img64571289_00_1R.jpg', 'img64571289_01_1R.jpg', 'img70338032_07_1L.jpg', 'img70338032_08_1R.jpg', 'img33522858_01_1R.jpg', 'img13676553_10_1R.jpg', 'img13676553_09_2L.jpg', 'img13676553_10_2L.jpg', 'img13676553_09_1R.jpg', 'img05922508_00_1R.jpg', 'img05922508_00_2L.jpg', 'img28189064_01_1R.jpg', 'img28742331_00_1R.jpg', 'img28742331_01_4L.jpg', 'img28742331_01_2R.jpg', 'img28742331_01_3L.jpg', 'img28742331_01_1R.jpg', 'img63396275_00_1R.jpg', 'img63396275_00_2L.jpg', 'img49466235_01_1R.jpg', 'img53697861_01_2L.jpg', 'img53697861_01_1R.jpg', 'img49466235_02_2R.jpg', 'img49466235_02_1R.jpg', 'img49466235_02_3L.jpg', 'img49466235_02_4L.jpg', 'img49466235_03_2R.jpg', 'img49466235_03_4L.jpg', 'img41386095_00_2L.jpg', 'img41386095_00_1R.jpg', 'img41386095_01_1R.jpg', 'img41386095_01_2L.jpg', 'img01951855_07_1L.jpg', 'img03136594_00_1R.jpg', 'img25947765_00_1R.jpg', 'img54594992_01_1R.jpg', 'img54209894_03_1R.jpg', 'img54209894_03_2L.jpg', 'img60317724_00_1R.jpg', 'img34045200_00_1R.jpg', 'img34045200_01_1R.jpg', 'img39508525_03_1R.jpg', 'img39508525_03_2L.jpg', 'img39508525_01_1R.jpg', 'img39508525_00_1R.jpg', 'img28768900_00_2L.jpg', 'img28768900_01_2L.jpg', 'img28768900_01_1R.jpg', 'img28768900_00_1R.jpg', 'img66134736_06_1R.jpg', 'img55137546_05_2L.jpg', 'img67247777_02_2L.jpg', 'img40566913_00_1R.jpg', 'img74747641_02_1R.jpg', 'img36548197_02_1R.jpg', 'img30561348_00_1R.jpg', 'img66993260_10_2L.jpg']\n",
            "[126.  76.  50.]\n",
            "[36. 29. 18.]\n",
            "[0.494 0.296 0.197]\n",
            "[0.14  0.114 0.072]\n",
            "Process done!!\n",
            "elapsed_time:31.008989572525024[sec]\n"
          ],
          "name": "stdout"
        }
      ]
    }
  ]
}