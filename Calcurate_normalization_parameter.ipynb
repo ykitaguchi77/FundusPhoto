{
  "nbformat": 4,
  "nbformat_minor": 0,
  "metadata": {
    "colab": {
      "name": "Untitled40.ipynb",
      "provenance": [],
      "include_colab_link": true
    },
    "kernelspec": {
      "name": "python3",
      "display_name": "Python 3"
    }
  },
  "cells": [
    {
      "cell_type": "markdown",
      "metadata": {
        "id": "view-in-github",
        "colab_type": "text"
      },
      "source": [
        "<a href=\"https://colab.research.google.com/github/ykitaguchi77/FundusPhoto/blob/main/Calcurate_normalization_parameter.ipynb\" target=\"_parent\"><img src=\"https://colab.research.google.com/assets/colab-badge.svg\" alt=\"Open In Colab\"/></a>"
      ]
    },
    {
      "cell_type": "markdown",
      "metadata": {
        "id": "FT-uBcZ9PSmm"
      },
      "source": [
        "#**Calculate normalizetion parameters**\n",
        "画像を中央で横幅1/3、縦幅1/2の形に切り抜いて、その平均とstdを算出するスクリプト<br>\n",
        "https://buto-dev-null.hatenablog.com/entry/2019/12/01/000000"
      ]
    },
    {
      "cell_type": "code",
      "metadata": {
        "id": "5yQwABlGCXgh",
        "colab": {
          "base_uri": "https://localhost:8080/"
        },
        "outputId": "47f05c67-86d4-421b-f107-c0af4b2a086b"
      },
      "source": [
        "from IPython.display import Image\n",
        "import numpy as np\n",
        "import time\n",
        "import math\n",
        "import statistics\n",
        "\n",
        "#サポートパッチのインポート\n",
        "from google.colab.patches import cv2_imshow\n",
        "import cv2\n",
        "\n",
        "plt.ion()   # interactive mode\n",
        "\n",
        "#Google driveをマウント\n",
        "from google.colab import drive\n",
        "drive.mount('/content/drive')\n"
      ],
      "execution_count": 36,
      "outputs": [
        {
          "output_type": "stream",
          "text": [
            "Drive already mounted at /content/drive; to attempt to forcibly remount, call drive.mount(\"/content/drive\", force_remount=True).\n"
          ],
          "name": "stdout"
        }
      ]
    },
    {
      "cell_type": "markdown",
      "metadata": {
        "id": "MiH4b-3JsRYP"
      },
      "source": [
        "#**Modules**"
      ]
    },
    {
      "cell_type": "code",
      "metadata": {
        "id": "zLwAJH8MSh8o"
      },
      "source": [
        "def main(in_path, num):\n",
        "    #処理時間の計測\n",
        "    start = time.time()\n",
        "\n",
        "    file = os.listdir(in_path)\n",
        "    print(len(file))\n",
        "\n",
        "    #ここに処理するファイル数を記載する (ex. [0:999])\n",
        "    processing_file = file[0:num]\n",
        "    print(processing_file)\n",
        "\n",
        "    average = []\n",
        "    std = []\n",
        "\n",
        "    l=0\n",
        "    for i in processing_file:      \n",
        "          img = cv2.imread(in_path + '/' + i)\n",
        "          a, b = calculate(img)\n",
        "          average.append(a)\n",
        "          std.append(b)\n",
        "\n",
        "    print('Process done!!')\n",
        "    elapsed_time = time.time() - start\n",
        "    print (\"elapsed_time:{0}\".format(elapsed_time) + \"[sec]\")\n",
        "\n",
        "    average = np.average(average, axis=0)\n",
        "    std = np.average(std, axis=0)\n",
        "    print(np.round(average,3)) #3ケタ丸め込み\n",
        "    print(np.round(std,3))\n",
        "\n",
        "\n",
        "def calculate(cv2_img):\n",
        "    height, width, _ = cv2_img.shape\n",
        "    y1, y2, x1, x2 = int(height*1/5), int(height*4/5), int(width*1/5), int(width*4/5)  #計算する画像範囲の指定\n",
        "    imgbox = cv2_img[y1:y2,x1:x2]\n",
        "    #cv2_imshow(imgbox)　#画像を表示\n",
        "    b = imgbox.T[0].flatten().mean()/255\n",
        "    g = imgbox.T[1].flatten().mean()/255\n",
        "    r = imgbox.T[2].flatten().mean()/255\n",
        "    b_std = math.floor(imgbox.T[0].flatten().std())/255\n",
        "    g_std = math.floor(imgbox.T[1].flatten().std())/255\n",
        "    r_std = math.floor(imgbox.T[2].flatten().std())/255\n",
        "    bgr = [b,g,r]\n",
        "    bgr_std = [b_std, g_std, r_std]\n",
        "    return bgr, bgr_std"
      ],
      "execution_count": 71,
      "outputs": []
    },
    {
      "cell_type": "code",
      "metadata": {
        "id": "5SgPO3aj6sUT",
        "outputId": "f3d97d58-48aa-4a09-8542-516e9da53320",
        "colab": {
          "base_uri": "https://localhost:8080/"
        }
      },
      "source": [
        "In_path = \"/content/drive/MyDrive/Deep_learning/FundusPhoto/cropped_img\"\n",
        "print(len(os.listdir(In_path)))"
      ],
      "execution_count": 72,
      "outputs": [
        {
          "output_type": "stream",
          "text": [
            "1414\n"
          ],
          "name": "stdout"
        }
      ]
    },
    {
      "cell_type": "code",
      "metadata": {
        "id": "l8QpCu8C2yF9",
        "outputId": "aa888ab0-f195-4110-8443-6f7ae4f49ed2",
        "colab": {
          "base_uri": "https://localhost:8080/"
        }
      },
      "source": [
        "#平均する枚数を入力\n",
        "main(In_path, 3)"
      ],
      "execution_count": 75,
      "outputs": [
        {
          "output_type": "stream",
          "text": [
            "1414\n",
            "['img14980414_02_1R.jpg', 'img59793338_05_1R.jpg', 'img69400239_04_2L.jpg']\n",
            "Process done!!\n",
            "elapsed_time:0.12641000747680664[sec]\n",
            "[0.189 0.295 0.489]\n",
            "[0.071 0.108 0.142]\n"
          ],
          "name": "stdout"
        }
      ]
    }
  ]
}