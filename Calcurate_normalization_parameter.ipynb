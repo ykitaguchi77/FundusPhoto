{
  "nbformat": 4,
  "nbformat_minor": 0,
  "metadata": {
    "colab": {
      "name": "Untitled40.ipynb",
      "provenance": [],
      "include_colab_link": true
    },
    "kernelspec": {
      "name": "python3",
      "display_name": "Python 3"
    }
  },
  "cells": [
    {
      "cell_type": "markdown",
      "metadata": {
        "id": "view-in-github",
        "colab_type": "text"
      },
      "source": [
        "<a href=\"https://colab.research.google.com/github/ykitaguchi77/FundusPhoto/blob/main/Calcurate_normalization_parameter.ipynb\" target=\"_parent\"><img src=\"https://colab.research.google.com/assets/colab-badge.svg\" alt=\"Open In Colab\"/></a>"
      ]
    },
    {
      "cell_type": "markdown",
      "metadata": {
        "id": "FT-uBcZ9PSmm"
      },
      "source": [
        "#**Calculate normalizetion parameters**\n",
        "画像を中央で横幅1/3、縦幅1/2の形に切り抜いて、その平均とstdを算出するスクリプト<br>\n",
        "https://buto-dev-null.hatenablog.com/entry/2019/12/01/000000"
      ]
    },
    {
      "cell_type": "code",
      "metadata": {
        "id": "5yQwABlGCXgh",
        "colab": {
          "base_uri": "https://localhost:8080/"
        },
        "outputId": "72787951-83dd-49ba-a6eb-398a8baa146f"
      },
      "source": [
        "from IPython.display import Image\n",
        "import numpy as np\n",
        "import time\n",
        "import math\n",
        "import statistics\n",
        "import os\n",
        "\n",
        "#サポートパッチのインポート\n",
        "from google.colab.patches import cv2_imshow\n",
        "import cv2\n",
        "\n",
        "#Google driveをマウント\n",
        "from google.colab import drive\n",
        "drive.mount('/content/drive')\n"
      ],
      "execution_count": 5,
      "outputs": [
        {
          "output_type": "stream",
          "name": "stdout",
          "text": [
            "Drive already mounted at /content/drive; to attempt to forcibly remount, call drive.mount(\"/content/drive\", force_remount=True).\n"
          ]
        }
      ]
    },
    {
      "cell_type": "markdown",
      "metadata": {
        "id": "MiH4b-3JsRYP"
      },
      "source": [
        "#**Modules**"
      ]
    },
    {
      "cell_type": "code",
      "metadata": {
        "id": "zLwAJH8MSh8o"
      },
      "source": [
        "def main(in_path, num):\n",
        "    #処理時間の計測\n",
        "    start = time.time()\n",
        "\n",
        "    file = os.listdir(in_path)\n",
        "    print(len(file))\n",
        "\n",
        "    #ここに処理するファイル数を記載する (ex. [0:999])\n",
        "    processing_file = file[0:num]\n",
        "    print(processing_file)\n",
        "    show_img(cv2.imread(in_path + '/' + processing_file[0]))\n",
        "\n",
        "    average = []\n",
        "    std = []\n",
        "\n",
        "    l=0\n",
        "    for i in processing_file:      \n",
        "          img = cv2.imread(in_path + '/' + i)\n",
        "          a, b = calculate(img)\n",
        "          average.append(a)\n",
        "          std.append(b)\n",
        "\n",
        "    average = np.average(average, axis=0)\n",
        "    std = np.average(std, axis=0)\n",
        "    print(np.round(average,0)) #0ケタ丸め込み\n",
        "    print(np.round(std,0))\n",
        "    print(np.round(average/255,3)) #3ケタ丸め込み\n",
        "    print(np.round(std/255,3))\n",
        "\n",
        "    print('Process done!!')\n",
        "    elapsed_time = time.time() - start\n",
        "    print (\"elapsed_time:{0}\".format(elapsed_time) + \"[sec]\")\n",
        "\n",
        "\n",
        "def show_img(cv2_img):\n",
        "    height, width, _ = cv2_img.shape\n",
        "    #y1, y2, x1, x2 = int(height*1/5), int(height*4/5), int(width*1/5), int(width*4/5)  #計算する画像範囲の指定\n",
        "    y1, y2, x1, x2 = int(height*1/5), int(height*4/5), int(width*1/5), int(width*2.5/5)  #計算する画像範囲の指定\n",
        "    imgbox = cv2_img[y1:y2,x1:x2]\n",
        "    cv2_imshow(imgbox)  #画像を表示\n",
        "\n",
        "def calculate(cv2_img):\n",
        "    height, width, _ = cv2_img.shape\n",
        "    #y1, y2, x1, x2 = int(height*1/5), int(height*4/5), int(width*1/5), int(width*4/5)  #計算する画像範囲の指定\n",
        "    y1, y2, x1, x2 = int(height*1/5), int(height*4/5), int(width*1/5), int(width*2.5/5)  #計算する画像範囲の指定\n",
        "    imgbox = cv2_img[y1:y2,x1:x2]\n",
        "    #cv2_imshow(imgbox)  #画像を表示\n",
        "    b = imgbox.T[0].flatten().mean()\n",
        "    g = imgbox.T[1].flatten().mean()\n",
        "    r = imgbox.T[2].flatten().mean()\n",
        "    b_std = math.floor(imgbox.T[0].flatten().std())\n",
        "    g_std = math.floor(imgbox.T[1].flatten().std())\n",
        "    r_std = math.floor(imgbox.T[2].flatten().std())\n",
        "    rgb = [r,g,b]\n",
        "    rgb_std = [r_std, g_std, b_std]\n",
        "    return rgb, rgb_std"
      ],
      "execution_count": 12,
      "outputs": []
    },
    {
      "cell_type": "code",
      "metadata": {
        "id": "5SgPO3aj6sUT",
        "colab": {
          "base_uri": "https://localhost:8080/"
        },
        "outputId": "1183d86f-e824-4fcc-f132-93bb4137637a"
      },
      "source": [
        "In_path = \"/content/drive/MyDrive/Deep_learning/FundusPhoto/cropped_CLAHE_img\"\n",
        "print(len(os.listdir(In_path)))"
      ],
      "execution_count": 13,
      "outputs": [
        {
          "output_type": "stream",
          "name": "stdout",
          "text": [
            "1414\n"
          ]
        }
      ]
    },
    {
      "cell_type": "code",
      "metadata": {
        "id": "l8QpCu8C2yF9"
      },
      "source": [
        "#平均する枚数を入力\n",
        "main(In_path, 300)"
      ],
      "execution_count": null,
      "outputs": []
    }
  ]
}