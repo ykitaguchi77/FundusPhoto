{
  "nbformat": 4,
  "nbformat_minor": 0,
  "metadata": {
    "colab": {
      "name": "Untitled91.ipynb",
      "provenance": [],
      "include_colab_link": true
    },
    "kernelspec": {
      "name": "python3",
      "display_name": "Python 3"
    },
    "language_info": {
      "name": "python"
    }
  },
  "cells": [
    {
      "cell_type": "markdown",
      "metadata": {
        "id": "view-in-github",
        "colab_type": "text"
      },
      "source": [
        "<a href=\"https://colab.research.google.com/github/ykitaguchi77/FundusPhoto/blob/main/Crop_to_square.ipynb\" target=\"_parent\"><img src=\"https://colab.research.google.com/assets/colab-badge.svg\" alt=\"Open In Colab\"/></a>"
      ]
    },
    {
      "cell_type": "markdown",
      "metadata": {
        "id": "59maQ5vagIgy"
      },
      "source": [
        "#**Crop_to_square**\n",
        "長辺に合わせて正方形に切り取るスクリプト"
      ]
    },
    {
      "cell_type": "code",
      "metadata": {
        "colab": {
          "base_uri": "https://localhost:8080/"
        },
        "id": "ctJBP7uff9OY",
        "outputId": "bc6e8392-3df0-4a27-c55e-822b85f87d59"
      },
      "source": [
        "from PIL import Image\n",
        "import os\n",
        "import time\n",
        "from IPython.display import display\n",
        "import numpy as np\n",
        "\n",
        "\n",
        "#google driveをcolabolatoryにマウント\n",
        "from google.colab import drive\n",
        "drive.mount('/content/drive')\n",
        "\n",
        "\n",
        "path = '/content/drive/MyDrive/Deep_learning/FundusPhoto'\n",
        "os.chdir(path)"
      ],
      "execution_count": 7,
      "outputs": [
        {
          "output_type": "stream",
          "name": "stdout",
          "text": [
            "Drive already mounted at /content/drive; to attempt to forcibly remount, call drive.mount(\"/content/drive\", force_remount=True).\n"
          ]
        }
      ]
    },
    {
      "cell_type": "code",
      "metadata": {
        "id": "oVe5F-Uvgq5w"
      },
      "source": [
        "def convert(in_path, out_path, processing_file, ext):\n",
        "    #処理時間の計測\n",
        "    start = time.time()\n",
        "\n",
        "    l=0\n",
        "    for i in processing_file:      \n",
        "          img = Image.open(in_path + '/' + i)\n",
        "\n",
        "          #元画像を表示\n",
        "          #plt.imshow(np.asarray(img))\n",
        "          #plt.show()\n",
        "\n",
        "          img_new = crop2square(img)\n",
        "\n",
        "          savename = os.path.splitext(i)[0]+'.'+str(ext)\n",
        "          img_new.save(out_path +'/'+ savename) #拡張子を変更して保存\n",
        "          print(out_path +'/'+ savename)\n",
        "          \n",
        "          #切り取った画像を表示\n",
        "          #plt.imshow(np.asarray(img_new))\n",
        "          #plt.show()\n",
        "\n",
        "    print('Process done!!')\n",
        "    elapsed_time = time.time() - start\n",
        "    print (\"elapsed_time:{0}\".format(elapsed_time) + \"[sec]\")\n",
        "\n",
        "def crop2square(pil_img):\n",
        "    width, height = pil_img.size\n",
        "    if width == height:\n",
        "        return pil_img\n",
        "    elif width > height:\n",
        "        result = pil_img.crop(((width-height)//2, 0, (width+height)//2, height))\n",
        "        return result\n",
        "    else:\n",
        "        result = pil_img.crop((0, (height-width)//2, width, (height+width)//2))\n",
        "        return result\n",
        "\n",
        "def showInfo(in_path):\n",
        "    #処理するDirectoryの設定\n",
        "    file = os.listdir(in_path)\n",
        "    print(len(file))\n",
        "\n",
        "    #ここにフォルダ番号を記載する (ex. [0:999])\n",
        "    processing_file = file[0:len(file)]\n",
        "    #processing_file = file[0:1]\n",
        "    print(processing_file)\n",
        "    len(processing_file)\n",
        "    return processing_file"
      ],
      "execution_count": 15,
      "outputs": []
    },
    {
      "cell_type": "code",
      "metadata": {
        "id": "7ITJd6CagxN6"
      },
      "source": [
        "path = '/content/drive/MyDrive/Deep_learning/FundusPhoto'\n",
        "ext = 'png'  #png or jpg\n",
        "\n",
        "os.chdir(path)\n",
        "\n",
        "\n",
        "#元画像フォルダ\n",
        "in_path = path + '/img_train'\n",
        "\n",
        "#保存先フォルダ\n",
        "out_path = path + '/cropped_img_2'\n",
        "if not os.path.exists(out_path):\n",
        "    os.makedirs(out_path)\n",
        "\n",
        "processing_file = showInfo(in_path)\n",
        "convert(in_path, out_path, processing_file, ext)"
      ],
      "execution_count": null,
      "outputs": []
    },
    {
      "cell_type": "markdown",
      "metadata": {
        "id": "-mGIpIVdhWqB"
      },
      "source": [
        "#**ファイル数の確認と画像表示**"
      ]
    },
    {
      "cell_type": "code",
      "metadata": {
        "id": "Ju88fccihgls"
      },
      "source": [
        "def countfile(path):\n",
        "\n",
        "    # フォルダ内の全ファイル名をリスト化\n",
        "    files = os.listdir(path)\n",
        "    \n",
        "    # リストの長さ（ファイル数）を取得\n",
        "    count = len(files)\n",
        "    \n",
        "    # ファイル数を確認\n",
        "    print(count)\n",
        "\n",
        "\n",
        "def showfile(path, num):\n",
        "    files = os.listdir(path)\n",
        "    imgPIL = Image.open(path+\"/\"+files[num])  # 画像読み込み\n",
        "    display(imgPIL)\n"
      ],
      "execution_count": 17,
      "outputs": []
    },
    {
      "cell_type": "code",
      "metadata": {
        "id": "V-MocrRKjuMP"
      },
      "source": [
        "countfile(path +\"/img_train\")\n",
        "countfile(path +\"/cropped_img\")\n",
        "showfile(path +\"/cropped_img/\", 3)"
      ],
      "execution_count": null,
      "outputs": []
    },
    {
      "cell_type": "markdown",
      "metadata": {
        "id": "Ksz1PhmT_pK8"
      },
      "source": [
        "#**フォルダの削除**"
      ]
    },
    {
      "cell_type": "code",
      "metadata": {
        "id": "ATaYg9Sk_oBR"
      },
      "source": [
        "import shutil\n",
        "\n",
        "directory = path +\"/cropped_img_2\"\n",
        "\n",
        "try:\n",
        "    shutil.rmtree(directory)\n",
        "except FileNotFoundError:\n",
        "    pass"
      ],
      "execution_count": 14,
      "outputs": []
    }
  ]
}