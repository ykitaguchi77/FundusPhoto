{
  "nbformat": 4,
  "nbformat_minor": 0,
  "metadata": {
    "colab": {
      "name": "Untitled74.ipynb",
      "provenance": [],
      "authorship_tag": "ABX9TyOdFegyMMnx96ebGGbSCTMT",
      "include_colab_link": true
    },
    "kernelspec": {
      "name": "python3",
      "display_name": "Python 3"
    },
    "language_info": {
      "name": "python"
    }
  },
  "cells": [
    {
      "cell_type": "markdown",
      "metadata": {
        "id": "view-in-github",
        "colab_type": "text"
      },
      "source": [
        "<a href=\"https://colab.research.google.com/github/ykitaguchi77/FundusPhoto/blob/main/Concat_csv.ipynb\" target=\"_parent\"><img src=\"https://colab.research.google.com/assets/colab-badge.svg\" alt=\"Open In Colab\"/></a>"
      ]
    },
    {
      "cell_type": "markdown",
      "metadata": {
        "id": "iYyZOUYGZJAl"
      },
      "source": [
        "#**Concat CSV file**\n"
      ]
    },
    {
      "cell_type": "code",
      "metadata": {
        "colab": {
          "base_uri": "https://localhost:8080/"
        },
        "id": "osFhcWOmZC5W",
        "outputId": "69946000-bbd2-45ac-b6c1-ef7f95cc5480"
      },
      "source": [
        "import pandas as pd\n",
        "\n",
        "#google driveをcolabolatoryにマウント\n",
        "from google.colab import drive\n",
        "drive.mount('/content/drive')"
      ],
      "execution_count": 98,
      "outputs": [
        {
          "output_type": "stream",
          "name": "stdout",
          "text": [
            "Drive already mounted at /content/drive; to attempt to forcibly remount, call drive.mount(\"/content/drive\", force_remount=True).\n"
          ]
        }
      ]
    },
    {
      "cell_type": "markdown",
      "metadata": {
        "id": "C7NtODmKoOFl"
      },
      "source": [
        "#**Concat_frames**"
      ]
    },
    {
      "cell_type": "code",
      "metadata": {
        "id": "uamRDx7qZjK1"
      },
      "source": [
        "#画像番号と年齢のみを抜き出し\n",
        "df = pd.read_csv(\"/content/drive/MyDrive/Deep_learning/FundusPhoto/result.csv\", index_col=0, sep=\",\")\n",
        "df = df.iloc[:, 0:1]\n",
        "#df"
      ],
      "execution_count": 126,
      "outputs": []
    },
    {
      "cell_type": "code",
      "metadata": {
        "id": "y_XShQJ3aEA-"
      },
      "source": [
        "df1 = pd.read_csv(\"/content/drive/MyDrive/Deep_learning/FundusPhoto/result_5_GB.csv\", index_col=0, sep=\",\")\n",
        "#df1"
      ],
      "execution_count": 127,
      "outputs": []
    },
    {
      "cell_type": "code",
      "metadata": {
        "id": "0bNV-XeTqLBN"
      },
      "source": [
        "df2 = pd.read_csv(\"/content/drive/MyDrive/Deep_learning/FundusPhoto/result_5_CLAHE.csv\", index_col=0, sep=\",\")\n",
        "#df2"
      ],
      "execution_count": 128,
      "outputs": []
    },
    {
      "cell_type": "code",
      "metadata": {
        "id": "ORPt7wFoqx6N"
      },
      "source": [
        "df3 = pd.read_csv(\"/content/drive/MyDrive/Deep_learning/FundusPhoto/result_6.csv\", index_col=0, sep=\",\")\n",
        "#df3"
      ],
      "execution_count": 129,
      "outputs": []
    },
    {
      "cell_type": "code",
      "metadata": {
        "id": "ely2cmtStxZd"
      },
      "source": [
        "df4 = pd.read_csv(\"/content/drive/MyDrive/Deep_learning/FundusPhoto/result_7_GB_L1Loss.csv\", index_col=0, sep=\",\")\n",
        "#df4"
      ],
      "execution_count": 130,
      "outputs": []
    },
    {
      "cell_type": "code",
      "metadata": {
        "id": "6YaaZ0NCoFcN"
      },
      "source": [
        "#0列目がageに相当\n",
        "df1= df1.iloc[:,1:36]\n",
        "#print(df1.columns)"
      ],
      "execution_count": 131,
      "outputs": []
    },
    {
      "cell_type": "code",
      "metadata": {
        "id": "MTFkWf2HqLSU"
      },
      "source": [
        "#0列目がageに相当\n",
        "df2= df2.iloc[:,1:41]\n",
        "#print(df2.columns)"
      ],
      "execution_count": 132,
      "outputs": []
    },
    {
      "cell_type": "code",
      "metadata": {
        "id": "unZyizjhthIm"
      },
      "source": [
        "#0列目がageに相当\n",
        "df3= df2.iloc[:,1:41]\n",
        "#print(df3.columns)"
      ],
      "execution_count": 134,
      "outputs": []
    },
    {
      "cell_type": "code",
      "metadata": {
        "id": "O9_p47uIt4aG"
      },
      "source": [
        "#0列目がageに相当\n",
        "df4= df4.iloc[:,1:41]\n",
        "#print(df4.columns)"
      ],
      "execution_count": 135,
      "outputs": []
    },
    {
      "cell_type": "code",
      "metadata": {
        "id": "4qamQh0ntqC9"
      },
      "source": [
        "df_dst = pd.concat([df, df1, df2, df3, df4],axis=1)"
      ],
      "execution_count": 136,
      "outputs": []
    },
    {
      "cell_type": "code",
      "metadata": {
        "colab": {
          "base_uri": "https://localhost:8080/"
        },
        "id": "Z2qrf_VPughG",
        "outputId": "2ef93429-fd18-42b7-acd8-783da0e2694f"
      },
      "source": [
        "print(df_dst)\n",
        "print(len(df_dst.columns))"
      ],
      "execution_count": 137,
      "outputs": [
        {
          "output_type": "stream",
          "name": "stdout",
          "text": [
            "                       age  ...  vascular_2_RGB_B3_GB_L1Loss_pretrained_4\n",
            "filename                    ...                                          \n",
            "img00085008_00_1R.jpg   61  ...                                 61.715454\n",
            "img00085024_00_1R.jpg   29  ...                                 38.114193\n",
            "img00241280_10_1R.jpg   51  ...                                 56.822926\n",
            "img00265140_00_1R.jpg   29  ...                                 40.489343\n",
            "img00265140_00_2L.jpg   29  ...                                 39.378250\n",
            "...                    ...  ...                                       ...\n",
            "img76791392_10_1R.jpg   38  ...                                 36.308900\n",
            "img76843122_10_1R.jpg   49  ...                                 50.872022\n",
            "img76843122_11_1R.jpg   49  ...                                 48.625967\n",
            "img76888512_00_1R.jpg   74  ...                                 60.074770\n",
            "img76888512_00_2L.jpg   74  ...                                 66.877890\n",
            "\n",
            "[1414 rows x 155 columns]\n",
            "155\n"
          ]
        }
      ]
    },
    {
      "cell_type": "code",
      "metadata": {
        "id": "H3yCywLyu36t"
      },
      "source": [
        "df_dst.to_csv(\"/content/drive/MyDrive/Deep_learning/FundusPhoto/result_concat.csv\", encoding='utf_8_sig')"
      ],
      "execution_count": 138,
      "outputs": []
    }
  ]
}