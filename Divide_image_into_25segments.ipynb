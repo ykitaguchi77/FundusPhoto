{
  "nbformat": 4,
  "nbformat_minor": 0,
  "metadata": {
    "colab": {
      "name": "Untitled91.ipynb",
      "provenance": [],
      "include_colab_link": true
    },
    "kernelspec": {
      "name": "python3",
      "display_name": "Python 3"
    },
    "language_info": {
      "name": "python"
    }
  },
  "cells": [
    {
      "cell_type": "markdown",
      "metadata": {
        "id": "view-in-github",
        "colab_type": "text"
      },
      "source": [
        "<a href=\"https://colab.research.google.com/github/ykitaguchi77/FundusPhoto/blob/main/Divide_image_into_25segments.ipynb\" target=\"_parent\"><img src=\"https://colab.research.google.com/assets/colab-badge.svg\" alt=\"Open In Colab\"/></a>"
      ]
    },
    {
      "cell_type": "markdown",
      "metadata": {
        "id": "59maQ5vagIgy"
      },
      "source": [
        "#**Divide_images_into_25segments**\n",
        "\n",
        "画像を縦横それぞれ5等分して保存し直すスクリプト"
      ]
    },
    {
      "cell_type": "code",
      "metadata": {
        "colab": {
          "base_uri": "https://localhost:8080/"
        },
        "id": "ctJBP7uff9OY",
        "outputId": "9a2d11a8-4538-43dc-c771-db586b7e2d2a"
      },
      "source": [
        "from PIL import Image\n",
        "import os\n",
        "import time\n",
        "from IPython.display import display\n",
        "import numpy as np\n",
        "import glob\n",
        "\n",
        "\n",
        "#google driveをcolabolatoryにマウント\n",
        "from google.colab import drive\n",
        "drive.mount('/content/drive')\n",
        "\n",
        "orig_path = '/content/drive/MyDrive/Deep_learning/FundusPhoto/flipped_img'\n",
        "dst_path = '/content/drive/MyDrive/Deep_learning/FundusPhoto/flipped_25div_img'\n",
        "csv_path = '/content/drive/MyDrive/Deep_learning/FundusPhoto/name_age.csv'"
      ],
      "execution_count": 38,
      "outputs": [
        {
          "output_type": "stream",
          "text": [
            "Drive already mounted at /content/drive; to attempt to forcibly remount, call drive.mount(\"/content/drive\", force_remount=True).\n"
          ],
          "name": "stdout"
        }
      ]
    },
    {
      "cell_type": "code",
      "metadata": {
        "id": "oVe5F-Uvgq5w"
      },
      "source": [
        "def convert(in_path, out_path, processing_file):\n",
        "    #処理時間の計測\n",
        "    start = time.time()\n",
        "\n",
        "    l=0\n",
        "    for i in processing_file:      \n",
        "          img = Image.open(in_path + '/' +i)\n",
        "\n",
        "          #元画像を表示\n",
        "          #plt.imshow(np.asarray(img))\n",
        "          #plt.show()\n",
        "\n",
        "          divide_25segments(img, out_path, i)\n",
        "          \n",
        "          #切り取った画像を表示\n",
        "          #plt.imshow(np.asarray(img_new))\n",
        "          #plt.show()\n",
        "\n",
        "    print('Process done!!')\n",
        "    elapsed_time = time.time() - start\n",
        "    print (\"elapsed_time:{0}\".format(elapsed_time) + \"[sec]\")\n",
        "\n",
        "def divide_25segments(pil_img, out_path, file_name):\n",
        "    width, height = pil_img.size\n",
        "    if width % 5 != 0:\n",
        "        print(\"幅を5等分できません\")\n",
        "    if height % 5 != 0:\n",
        "        print(\"高さを5等分できません\")\n",
        "    print(int(width/5))\n",
        "    print(int(height/5))\n",
        "    x_axis = [n*int(width/5) for n in [0,1,2,3,4,5]]\n",
        "    y_axis = [n*int(height/5) for n in [0,1,2,3,4,5]]\n",
        "    print(x_axis)\n",
        "    print(y_axis)\n",
        "\n",
        "    for i in range(5):\n",
        "        for j in range(5):\n",
        "            im_crop = pil_img.crop((x_axis[i], y_axis[j], x_axis[i+1], x_axis[j+1]))\n",
        "            basename = os.path.splitext(os.path.basename(file_name))\n",
        "            im_crop.save(out_path + '/' + basename[0] + '_'  + str(i*5+j) +'.'+basename[1])\n",
        "\n",
        "\n",
        "def showInfo(in_path):\n",
        "    #処理するDirectoryの設定\n",
        "    file = os.listdir(in_path)\n",
        "    print(len(file))\n",
        "    im = Image.open(file[0])\n",
        "    w, h = im.size\n",
        "    print('width: ', w)\n",
        "    print('height:', h)\n",
        "\n",
        "    #ここにフォルダ番号を記載する (ex. [0:999])\n",
        "    processing_file = file[0:len(file)]\n",
        "    processing_file = file[0:1]\n",
        "    print(processing_file)\n",
        "    #len(processing_file)\n",
        "    return processing_file"
      ],
      "execution_count": 63,
      "outputs": []
    },
    {
      "cell_type": "code",
      "metadata": {
        "id": "LiTkspQBz1Yx",
        "outputId": "c65183e5-7e9e-4eec-a3e7-b07801a8979e",
        "colab": {
          "base_uri": "https://localhost:8080/"
        }
      },
      "source": [
        "showInfo(orig_path)"
      ],
      "execution_count": 57,
      "outputs": [
        {
          "output_type": "stream",
          "text": [
            "1414\n",
            "width:  1280\n",
            "height: 1280\n",
            "['img09876168_03_4L.jpg']\n"
          ],
          "name": "stdout"
        },
        {
          "output_type": "execute_result",
          "data": {
            "text/plain": [
              "['img09876168_03_4L.jpg']"
            ]
          },
          "metadata": {
            "tags": []
          },
          "execution_count": 57
        }
      ]
    },
    {
      "cell_type": "code",
      "metadata": {
        "id": "7ITJd6CagxN6",
        "colab": {
          "base_uri": "https://localhost:8080/"
        },
        "outputId": "4e242fc7-b8d2-408d-a393-421c2a02b402"
      },
      "source": [
        "#元画像フォルダ\n",
        "orig_path = orig_path\n",
        "\n",
        "#保存先フォルダ\n",
        "dst_path = dst_path\n",
        "if not os.path.exists(dst_path):\n",
        "    os.makedirs(dst_path)\n",
        "\n",
        "processing_file = showInfo(orig_path)\n",
        "convert(orig_path, dst_path, processing_file)"
      ],
      "execution_count": 64,
      "outputs": [
        {
          "output_type": "stream",
          "text": [
            "1414\n",
            "width:  1280\n",
            "height: 1280\n",
            "['img09876168_03_4L.jpg']\n",
            "256\n",
            "256\n",
            "[0, 256, 512, 768, 1024, 1280]\n",
            "[0, 256, 512, 768, 1024, 1280]\n",
            "Process done!!\n",
            "elapsed_time:0.29262733459472656[sec]\n"
          ],
          "name": "stdout"
        }
      ]
    },
    {
      "cell_type": "markdown",
      "metadata": {
        "id": "-mGIpIVdhWqB"
      },
      "source": [
        "#**ファイル数の確認と画像表示**"
      ]
    },
    {
      "cell_type": "markdown",
      "metadata": {
        "id": "Ksz1PhmT_pK8"
      },
      "source": [
        "#**フォルダの削除**"
      ]
    },
    {
      "cell_type": "code",
      "metadata": {
        "id": "ATaYg9Sk_oBR"
      },
      "source": [
        "import shutil\n",
        "\n",
        "directory = 'ここにパスをコピペ'\n",
        "\n",
        "try:\n",
        "    shutil.rmtree(directory)\n",
        "except FileNotFoundError:\n",
        "    pass"
      ],
      "execution_count": null,
      "outputs": []
    }
  ]
}