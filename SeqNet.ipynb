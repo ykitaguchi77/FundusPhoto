{
  "nbformat": 4,
  "nbformat_minor": 0,
  "metadata": {
    "colab": {
      "name": "Untitled11.ipynb",
      "provenance": [],
      "machine_shape": "hm",
      "include_colab_link": true
    },
    "kernelspec": {
      "name": "python3",
      "display_name": "Python 3"
    },
    "accelerator": "GPU"
  },
  "cells": [
    {
      "cell_type": "markdown",
      "metadata": {
        "id": "view-in-github",
        "colab_type": "text"
      },
      "source": [
        "<a href=\"https://colab.research.google.com/github/ykitaguchi77/FundusPhoto/blob/main/SeqNet.ipynb\" target=\"_parent\"><img src=\"https://colab.research.google.com/assets/colab-badge.svg\" alt=\"Open In Colab\"/></a>"
      ]
    },
    {
      "cell_type": "markdown",
      "metadata": {
        "id": "fTBpmxwwsGiG"
      },
      "source": [
        "#Running Github codes (SeqNet) in Google Colab\n",
        "\n"
      ]
    },
    {
      "cell_type": "code",
      "metadata": {
        "colab": {
          "base_uri": "https://localhost:8080/"
        },
        "id": "8t9f9nNQfdbJ",
        "outputId": "ac2af2c9-67bb-4fc8-f093-e84b7210ff06"
      },
      "source": [
        "#google driveをcolabolatoryにマウント\n",
        "from google.colab import drive\n",
        "drive.mount('/content/drive')"
      ],
      "execution_count": 1,
      "outputs": [
        {
          "output_type": "stream",
          "name": "stdout",
          "text": [
            "Mounted at /content/drive\n"
          ]
        }
      ]
    },
    {
      "cell_type": "code",
      "metadata": {
        "id": "h56ThViusBCy",
        "colab": {
          "base_uri": "https://localhost:8080/"
        },
        "outputId": "32805739-ad7c-4b2a-bb42-0432efa4ff59"
      },
      "source": [
        "#Githubよりリポジトリをcloneする\n",
        "!git clone https://github.com/conscienceli/SeqNet.git"
      ],
      "execution_count": 2,
      "outputs": [
        {
          "output_type": "stream",
          "name": "stdout",
          "text": [
            "Cloning into 'SeqNet'...\n",
            "remote: Enumerating objects: 48, done.\u001b[K\n",
            "remote: Counting objects: 100% (48/48), done.\u001b[K\n",
            "remote: Compressing objects: 100% (36/36), done.\u001b[K\n",
            "remote: Total 48 (delta 15), reused 41 (delta 10), pack-reused 0\u001b[K\n",
            "Unpacking objects: 100% (48/48), done.\n"
          ]
        }
      ]
    },
    {
      "cell_type": "markdown",
      "metadata": {
        "id": "gQ2cvzdNu3o2"
      },
      "source": [
        "#作業ディレクトリを移動"
      ]
    },
    {
      "cell_type": "code",
      "metadata": {
        "id": "Q1jLQf1YukIN",
        "colab": {
          "base_uri": "https://localhost:8080/"
        },
        "outputId": "10ebe48c-0b8f-4790-8fa2-679de6bc49e6"
      },
      "source": [
        "import os\n",
        "import shutil\n",
        "\n",
        "path = '/content/SeqNet'\n",
        "\n",
        "#作業ディレクトリをpathに移動する\n",
        "os.chdir(path)\n",
        "\n",
        "#作業ディレクトリ直下のファイルを確認\n",
        "!ls"
      ],
      "execution_count": 4,
      "outputs": [
        {
          "output_type": "stream",
          "name": "stdout",
          "text": [
            "LICENSE  predict.py  requirements-conda.txt  train.py\n",
            "pics\t README.md   requirements-pip.txt    utils\n"
          ]
        }
      ]
    },
    {
      "cell_type": "code",
      "metadata": {
        "colab": {
          "base_uri": "https://localhost:8080/",
          "height": 35
        },
        "id": "n2SNGgysgS3X",
        "outputId": "35ba4d30-c5c3-4b67-8cdc-746274c08e1f"
      },
      "source": [
        "#評価画像用のフォルダを作成\n",
        "data_dir = \"./data/test_images/\"\n",
        "\n",
        "if os.path.exists(data_dir):\n",
        "    shutil.rmtree(data_dir)\n",
        "os.makedirs(data_dir)\n",
        "\n",
        "#copy example data\n",
        "shutil.copy(\"/content/drive/MyDrive/Deep_learning/FundusPhoto/cropped_img/img00085008_00_1R.jpg\", \"./data/test_images/image1.jpg\")"
      ],
      "execution_count": 5,
      "outputs": [
        {
          "output_type": "execute_result",
          "data": {
            "application/vnd.google.colaboratory.intrinsic+json": {
              "type": "string"
            },
            "text/plain": [
              "'./data/test_images/image1.jpg'"
            ]
          },
          "metadata": {},
          "execution_count": 5
        }
      ]
    },
    {
      "cell_type": "code",
      "metadata": {
        "id": "LHnJYNiwMHOb"
      },
      "source": [
        "#Download pretrained model from Gdrive\n",
        "import requests\n",
        "\n",
        "def download_file_from_google_drive(id, destination):\n",
        "    URL = \"https://docs.google.com/uc?export=download\"\n",
        "\n",
        "    session = requests.Session()\n",
        "\n",
        "    response = session.get(URL, params = { 'id' : id }, stream = True)\n",
        "    token = get_confirm_token(response)\n",
        "\n",
        "    if token:\n",
        "        params = { 'id' : id, 'confirm' : token }\n",
        "        response = session.get(URL, params = params, stream = True)\n",
        "\n",
        "    save_response_content(response, destination)    \n",
        "\n",
        "def get_confirm_token(response):\n",
        "    for key, value in response.cookies.items():\n",
        "        if key.startswith('download_warning'):\n",
        "            return value\n",
        "\n",
        "    return None\n",
        "\n",
        "def save_response_content(response, destination):\n",
        "    CHUNK_SIZE = 32768\n",
        "\n",
        "    with open(destination, \"wb\") as f:\n",
        "        for chunk in response.iter_content(CHUNK_SIZE):\n",
        "            if chunk: # filter out keep-alive new chunks\n",
        "                f.write(chunk)\n",
        "\n",
        "file_id = '1OYjzu0gixtga6e7Rvb2mZoSSYJkXWRNB'\n",
        "\n",
        "os.makedirs('./trained_model/ALL', exist_ok=True)\n",
        "destination = './trained_model/ALL/Final_Emer_Iteration_3_cropsize_128_epochs_200.hdf5'\n",
        "download_file_from_google_drive(file_id, destination)"
      ],
      "execution_count": 6,
      "outputs": []
    },
    {
      "cell_type": "code",
      "metadata": {
        "id": "ICVdOJvgOfSm"
      },
      "source": [
        "!pip3 install --upgrade tensorflow==1.15.0\n",
        "!pip3 install --upgrade keras==2.3.1\n",
        "!pip3 install --upgrade h5py==2.10.0\n"
      ],
      "execution_count": null,
      "outputs": []
    },
    {
      "cell_type": "code",
      "metadata": {
        "id": "cD5WpxtAQCoB"
      },
      "source": [
        "!cat -n requirements-pip.txt # -n はnumberの意味\n",
        "\n",
        "!sed -i -e \"43c protobuf==3.11.3\" requirements-pip.txt # protobufはバージョン違いしかないので変更\n",
        "!sed -i -e \"47d\" requirements-pip.txt # pyGPUはサポートされていないので除外\n",
        "\n",
        "!cat -n requirements-pip.txt # -n はnumberの意味\n",
        "\n",
        "\n"
      ],
      "execution_count": null,
      "outputs": []
    },
    {
      "cell_type": "code",
      "metadata": {
        "id": "aE5HDOLgN8Cp"
      },
      "source": [
        "!pip3 install -r requirements-pip.txt"
      ],
      "execution_count": null,
      "outputs": []
    },
    {
      "cell_type": "markdown",
      "metadata": {
        "id": "T6nYbKannl8X"
      },
      "source": [
        "#**Run codes**"
      ]
    },
    {
      "cell_type": "code",
      "metadata": {
        "id": "QAr9u6oRN6To",
        "colab": {
          "base_uri": "https://localhost:8080/"
        },
        "outputId": "c4db33de-8af1-4674-b55a-42ac3e7a302f"
      },
      "source": [
        "!python predict.py -i ./data/test_images/ -o ./output/"
      ],
      "execution_count": 30,
      "outputs": [
        {
          "output_type": "stream",
          "name": "stdout",
          "text": [
            "Using TensorFlow backend.\n",
            "WARNING:tensorflow:From predict.py:104: The name tf.ConfigProto is deprecated. Please use tf.compat.v1.ConfigProto instead.\n",
            "\n",
            "WARNING:tensorflow:From predict.py:104: The name tf.GPUOptions is deprecated. Please use tf.compat.v1.GPUOptions instead.\n",
            "\n",
            "WARNING:tensorflow:From predict.py:105: The name tf.Session is deprecated. Please use tf.compat.v1.Session instead.\n",
            "\n",
            "2021-09-01 12:28:01.014990: I tensorflow/core/platform/cpu_feature_guard.cc:142] Your CPU supports instructions that this TensorFlow binary was not compiled to use: AVX2 AVX512F FMA\n",
            "2021-09-01 12:28:01.041107: I tensorflow/core/platform/profile_utils/cpu_utils.cc:94] CPU Frequency: 2000200000 Hz\n",
            "2021-09-01 12:28:01.041513: I tensorflow/compiler/xla/service/service.cc:168] XLA service 0x555c7cd9c840 initialized for platform Host (this does not guarantee that XLA will be used). Devices:\n",
            "2021-09-01 12:28:01.041550: I tensorflow/compiler/xla/service/service.cc:176]   StreamExecutor device (0): Host, Default Version\n",
            "2021-09-01 12:28:01.054318: I tensorflow/stream_executor/platform/default/dso_loader.cc:44] Successfully opened dynamic library libcuda.so.1\n",
            "2021-09-01 12:28:01.235133: I tensorflow/stream_executor/cuda/cuda_gpu_executor.cc:983] successful NUMA node read from SysFS had negative value (-1), but there must be at least one NUMA node, so returning NUMA node zero\n",
            "2021-09-01 12:28:01.235852: I tensorflow/compiler/xla/service/service.cc:168] XLA service 0x555c7cd9cd80 initialized for platform CUDA (this does not guarantee that XLA will be used). Devices:\n",
            "2021-09-01 12:28:01.235882: I tensorflow/compiler/xla/service/service.cc:176]   StreamExecutor device (0): Tesla T4, Compute Capability 7.5\n",
            "2021-09-01 12:28:01.236268: I tensorflow/stream_executor/cuda/cuda_gpu_executor.cc:983] successful NUMA node read from SysFS had negative value (-1), but there must be at least one NUMA node, so returning NUMA node zero\n",
            "2021-09-01 12:28:01.236814: I tensorflow/core/common_runtime/gpu/gpu_device.cc:1618] Found device 0 with properties: \n",
            "name: Tesla T4 major: 7 minor: 5 memoryClockRate(GHz): 1.59\n",
            "pciBusID: 0000:00:04.0\n",
            "2021-09-01 12:28:01.246126: I tensorflow/stream_executor/platform/default/dso_loader.cc:44] Successfully opened dynamic library libcudart.so.10.0\n",
            "2021-09-01 12:28:01.367005: I tensorflow/stream_executor/platform/default/dso_loader.cc:44] Successfully opened dynamic library libcublas.so.10.0\n",
            "2021-09-01 12:28:01.426346: I tensorflow/stream_executor/platform/default/dso_loader.cc:44] Successfully opened dynamic library libcufft.so.10.0\n",
            "2021-09-01 12:28:01.443805: I tensorflow/stream_executor/platform/default/dso_loader.cc:44] Successfully opened dynamic library libcurand.so.10.0\n",
            "2021-09-01 12:28:01.576507: I tensorflow/stream_executor/platform/default/dso_loader.cc:44] Successfully opened dynamic library libcusolver.so.10.0\n",
            "2021-09-01 12:28:01.654673: I tensorflow/stream_executor/platform/default/dso_loader.cc:44] Successfully opened dynamic library libcusparse.so.10.0\n",
            "2021-09-01 12:28:01.962003: I tensorflow/stream_executor/platform/default/dso_loader.cc:44] Successfully opened dynamic library libcudnn.so.7\n",
            "2021-09-01 12:28:01.962195: I tensorflow/stream_executor/cuda/cuda_gpu_executor.cc:983] successful NUMA node read from SysFS had negative value (-1), but there must be at least one NUMA node, so returning NUMA node zero\n",
            "2021-09-01 12:28:01.962951: I tensorflow/stream_executor/cuda/cuda_gpu_executor.cc:983] successful NUMA node read from SysFS had negative value (-1), but there must be at least one NUMA node, so returning NUMA node zero\n",
            "2021-09-01 12:28:01.963482: I tensorflow/core/common_runtime/gpu/gpu_device.cc:1746] Adding visible gpu devices: 0\n",
            "2021-09-01 12:28:01.965891: I tensorflow/stream_executor/platform/default/dso_loader.cc:44] Successfully opened dynamic library libcudart.so.10.0\n",
            "2021-09-01 12:28:01.967250: I tensorflow/core/common_runtime/gpu/gpu_device.cc:1159] Device interconnect StreamExecutor with strength 1 edge matrix:\n",
            "2021-09-01 12:28:01.967285: I tensorflow/core/common_runtime/gpu/gpu_device.cc:1165]      0 \n",
            "2021-09-01 12:28:01.967292: I tensorflow/core/common_runtime/gpu/gpu_device.cc:1178] 0:   N \n",
            "2021-09-01 12:28:01.968249: I tensorflow/stream_executor/cuda/cuda_gpu_executor.cc:983] successful NUMA node read from SysFS had negative value (-1), but there must be at least one NUMA node, so returning NUMA node zero\n",
            "2021-09-01 12:28:01.968844: I tensorflow/stream_executor/cuda/cuda_gpu_executor.cc:983] successful NUMA node read from SysFS had negative value (-1), but there must be at least one NUMA node, so returning NUMA node zero\n",
            "2021-09-01 12:28:01.969358: I tensorflow/core/common_runtime/gpu/gpu_device.cc:1304] Created TensorFlow device (/job:localhost/replica:0/task:0/device:GPU:0 with 14257 MB memory) -> physical GPU (device: 0, name: Tesla T4, pci bus id: 0000:00:04.0, compute capability: 7.5)\n",
            "WARNING:tensorflow:From /usr/local/lib/python3.7/dist-packages/tensorflow_core/python/ops/resource_variable_ops.py:1630: calling BaseResourceVariable.__init__ (from tensorflow.python.ops.resource_variable_ops) with constraint is deprecated and will be removed in a future version.\n",
            "Instructions for updating:\n",
            "If using Keras pass *_constraint arguments to layers.\n",
            "WARNING:tensorflow:From /usr/local/lib/python3.7/dist-packages/keras/backend/tensorflow_backend.py:4070: The name tf.nn.max_pool is deprecated. Please use tf.nn.max_pool2d instead.\n",
            "\n",
            "WARNING:tensorflow:From /usr/local/lib/python3.7/dist-packages/tensorflow_core/python/ops/nn_impl.py:183: where (from tensorflow.python.ops.array_ops) is deprecated and will be removed in a future version.\n",
            "Instructions for updating:\n",
            "Use tf.where in 2.0, which has the same broadcast rule as np.where\n",
            "Model : Final_Emer_Iteration_3_cropsize_128_epochs_200\n",
            "  0% 0/1 [00:00<?, ?it/s]tcmalloc: large alloc 8965718016 bytes == 0x555ca052c000 @  0x7fa5ccdeb1e7 0x7fa5ca268631 0x7fa5ca2cccc8 0x7fa5ca2ccf87 0x7fa5ca364f58 0x555c7bbb6010 0x555c7bbb5da0 0x555c7bc2a2f9 0x555c7bbb765a 0x555c7bc25b0e 0x555c7bc24c35 0x555c7bbb773a 0x555c7bc29f40 0x555c7bc25235 0x555c7bbb773a 0x555c7bc2693b 0x555c7bc24c35 0x555c7bc24933 0x555c7bcee402 0x555c7bcee77d 0x555c7bcee626 0x555c7bcc6313 0x555c7bcc5fbc 0x7fa5cbbd5bf7 0x555c7bcc5e9a\n",
            "WARNING:tensorflow:From /usr/local/lib/python3.7/dist-packages/keras/backend/tensorflow_backend.py:422: The name tf.global_variables is deprecated. Please use tf.compat.v1.global_variables instead.\n",
            "\n",
            "2021-09-01 12:28:17.505771: I tensorflow/stream_executor/platform/default/dso_loader.cc:44] Successfully opened dynamic library libcudnn.so.7\n",
            "2021-09-01 12:28:20.120911: I tensorflow/stream_executor/platform/default/dso_loader.cc:44] Successfully opened dynamic library libcublas.so.10.0\n",
            "tcmalloc: large alloc 1494286336 bytes == 0x555f01488000 @  0x7fa5ccded001 0x7fa5ca2687b5 0x7fa5ca2ccc00 0x7fa5ca2cea9f 0x7fa5ca365078 0x555c7bbb60a4 0x555c7bbb5da0 0x555c7bc2a868 0x555c7bc25235 0x555c7bbb773a 0x555c7bc2693b 0x555c7bc24c35 0x555c7bbb773a 0x555c7bc25d67 0x555c7bc25235 0x555c7bbb773a 0x555c7bc2693b 0x555c7bc24c35 0x555c7bc24933 0x555c7bcee402 0x555c7bcee77d 0x555c7bcee626 0x555c7bcc6313 0x555c7bcc5fbc 0x7fa5cbbd5bf7 0x555c7bcc5e9a\n",
            "tcmalloc: large alloc 1494286336 bytes == 0x555f5a598000 @  0x7fa5ccded001 0x7fa5ca2687b5 0x7fa5ca2ccc00 0x7fa5ca2cea9f 0x7fa5ca365078 0x555c7bbb60a4 0x555c7bbb5da0 0x555c7bc2a868 0x555c7bc25235 0x555c7bbb773a 0x555c7bc2693b 0x555c7bc24c35 0x555c7bbb773a 0x555c7bc25d67 0x555c7bc25235 0x555c7bbb773a 0x555c7bc2693b 0x555c7bc24c35 0x555c7bc24933 0x555c7bcee402 0x555c7bcee77d 0x555c7bcee626 0x555c7bcc6313 0x555c7bcc5fbc 0x7fa5cbbd5bf7 0x555c7bcc5e9a\n",
            "^C\n"
          ]
        }
      ]
    }
  ]
}