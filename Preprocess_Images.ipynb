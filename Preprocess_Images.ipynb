{
  "nbformat": 4,
  "nbformat_minor": 0,
  "metadata": {
    "colab": {
      "name": "Untitled71.ipynb",
      "provenance": [],
      "authorship_tag": "ABX9TyNw64gXKwPgzg3uTuUTMCQW",
      "include_colab_link": true
    },
    "kernelspec": {
      "name": "python3",
      "display_name": "Python 3"
    },
    "language_info": {
      "name": "python"
    }
  },
  "cells": [
    {
      "cell_type": "markdown",
      "metadata": {
        "id": "view-in-github",
        "colab_type": "text"
      },
      "source": [
        "<a href=\"https://colab.research.google.com/github/ykitaguchi77/FundusPhoto/blob/main/Preprocess_Images.ipynb\" target=\"_parent\"><img src=\"https://colab.research.google.com/assets/colab-badge.svg\" alt=\"Open In Colab\"/></a>"
      ]
    },
    {
      "cell_type": "markdown",
      "metadata": {
        "id": "_O2b6hNiJAyG"
      },
      "source": [
        "#**Preprocess_images**"
      ]
    },
    {
      "cell_type": "code",
      "metadata": {
        "colab": {
          "base_uri": "https://localhost:8080/"
        },
        "id": "fYgd9oFUJEPh",
        "outputId": "9563bd85-c7e2-4c44-c264-b0f5eaa93fff"
      },
      "source": [
        "from PIL import Image\n",
        "import os\n",
        "import time\n",
        "from IPython.display import display\n",
        "import numpy as np\n",
        "import time\n",
        "import os\n",
        "import copy\n",
        "import math\n",
        "import shutil\n",
        "import csv\n",
        "import pandas as pd\n",
        "import glob\n",
        "from PIL import Image\n",
        "\n",
        "\n",
        "\n",
        "#google driveをcolabolatoryにマウント\n",
        "from google.colab import drive\n",
        "drive.mount('/content/drive')\n"
      ],
      "execution_count": 1,
      "outputs": [
        {
          "output_type": "stream",
          "name": "stdout",
          "text": [
            "Mounted at /content/drive\n"
          ]
        }
      ]
    },
    {
      "cell_type": "markdown",
      "metadata": {
        "id": "QBsusbhUKrRc"
      },
      "source": [
        "#**ヒストグラム平坦化**"
      ]
    },
    {
      "cell_type": "code",
      "metadata": {
        "colab": {
          "base_uri": "https://localhost:8080/",
          "height": 257
        },
        "id": "RYF_8PyhKqj_",
        "outputId": "688f07d4-dfe7-4c8f-8f36-b39064ead411"
      },
      "source": [
        "import sys\n",
        "import cv2\n",
        "from google.colab.patches import cv2_imshow\n",
        "\n",
        "\n",
        "path =  \"/content/drive/MyDrive/Deep_learning/FundusPhoto/cropped_2_img/img00265140_00_1R.png\"\n",
        "\n",
        "def show_histogram(img):\n",
        "    hist = cv2.calcHist([img],[2],None,[256],[0,256]) \n",
        "    plt.plot(hist,color = \"b\")\n",
        "    plt.show()\n",
        "\n",
        "# 適用的ヒストグラム平坦化　CLAHEを定義\n",
        "clahe1 = cv2.createCLAHE(clipLimit=2.0, tileGridSize=(1,1))\n",
        "clahe2 = cv2.createCLAHE(clipLimit=2.0, tileGridSize=(2,2))\n",
        "clahe4 = cv2.createCLAHE(clipLimit=2.0, tileGridSize=(4,4))\n",
        "clahe8 = cv2.createCLAHE(clipLimit=2.0, tileGridSize=(8,8))\n",
        "clahe16 = cv2.createCLAHE(clipLimit=2.0, tileGridSize=(16,16))\n",
        "clahe32 = cv2.createCLAHE(clipLimit=2.0, tileGridSize=(32,32))\n",
        "\n",
        "\n",
        "#ここから\n",
        "src = cv2.imread(path)\n",
        "src_yuv = cv2.cvtColor(src, cv2.COLOR_BGR2YUV)\n",
        "\n",
        "#RGBに分解\n",
        "src_r = src[:,:,2]\n",
        "src_g = src[:,:,1]\n",
        "src_b = src[:,:,0]\n",
        "\n",
        "# ヒストグラム平坦化\n",
        "dst_r = cv2.equalizeHist(src_r) # グレイスケールしか使えない\n",
        "dst_g = cv2.equalizeHist(src_g) # グレイスケールしか使えない\n",
        "dst_b = cv2.equalizeHist(src_b) # グレイスケールしか使えない\n",
        "dst = cv2.merge((dst_b,dst_g,dst_r))\n",
        "\n",
        "# 適用的ヒストグラム平坦化(4x4)\n",
        "cl0_r = clahe4.apply(src_r)\n",
        "cl0_g = clahe4.apply(src_g)\n",
        "cl0_b = clahe4.apply(src_b)\n",
        "cl0 = cv2.merge((cl0_b,cl0_g,cl0_r))\n",
        "\n",
        "# 適用的ヒストグラム平坦化(8x8)\n",
        "cl1_r = clahe8.apply(src_r)\n",
        "cl1_g = clahe8.apply(src_g)\n",
        "cl1_b = clahe8.apply(src_b)\n",
        "cl1 = cv2.merge((cl1_b,cl1_g,cl1_r))\n",
        "\n",
        "# 適用的ヒストグラム平坦化(16x16)\n",
        "cl2_r = clahe16.apply(src_r)\n",
        "cl2_g = clahe16.apply(src_g)\n",
        "cl2_b = clahe16.apply(src_b)\n",
        "cl2 = cv2.merge((cl2_b,cl2_g,cl2_r))\n",
        "\n",
        "# 適用的ヒストグラム平坦化(32x32)\n",
        "cl3_r = clahe32.apply(src_r)\n",
        "cl3_g = clahe32.apply(src_g)\n",
        "cl3_b = clahe32.apply(src_b)\n",
        "cl3 = cv2.merge((cl3_b,cl3_g,cl3_r))\n",
        "\n",
        "# ３色同時に調整（4x4)\n",
        "cl0_yuv = src_yuv.copy()\n",
        "cl0_yuv[:,:,0] = clahe4.apply(cl0_yuv[:,:,0])\n",
        "cl0_yuv = cv2.cvtColor(cl0_yuv, cv2.COLOR_YUV2BGR)\n",
        "\n",
        "# ３色同時に調整（8x8)\n",
        "cl1_yuv = src_yuv.copy()\n",
        "cl1_yuv[:,:,0] = clahe8.apply(cl1_yuv[:,:,0])\n",
        "cl1_yuv = cv2.cvtColor(cl1_yuv, cv2.COLOR_YUV2BGR)\n",
        "\n",
        "# ３色同時に調整（16x16)\n",
        "cl2_yuv = src_yuv.copy()\n",
        "cl2_yuv[:,:,0] = clahe16.apply(cl2_yuv[:,:,0])\n",
        "cl2_yuv = cv2.cvtColor(cl2_yuv, cv2.COLOR_YUV2BGR)\n",
        "\n",
        "# ３色同時に調整（32x32)\n",
        "cl3_yuv = src_yuv.copy()\n",
        "cl3_yuv[:,:,0] = clahe32.apply(cl3_yuv[:,:,0])\n",
        "cl3_yuv = cv2.cvtColor(cl3_yuv, cv2.COLOR_YUV2BGR)\n",
        "\n",
        "\n",
        "# 画像表示\n",
        "print(\"orig\")\n",
        "cv2_imshow(src)\n",
        "print(\"equalized\")\n",
        "cv2_imshow(dst)\n",
        "print(\"clahe4\")\n",
        "cv2_imshow(cl0)\n",
        "print(\"clahe8\")\n",
        "cv2_imshow(cl1)\n",
        "print(\"clahe16\")\n",
        "cv2_imshow(cl2)\n",
        "print(\"clahe32\")\n",
        "cv2_imshow(cl3)\n",
        "print(\"clahe4_yuv\")\n",
        "cv2_imshow(cl0_yuv)\n",
        "print(\"clahe8_yuv\")\n",
        "cv2_imshow(cl1_yuv)\n",
        "print(\"clahe16_yuv\")\n",
        "cv2_imshow(cl2_yuv)\n",
        "print(\"clahe32_yuv\")\n",
        "cv2_imshow(cl3_yuv)\n",
        "\n",
        "\n",
        "\n",
        "\n"
      ],
      "execution_count": 2,
      "outputs": [
        {
          "output_type": "stream",
          "name": "stdout",
          "text": [
            "orig\n"
          ]
        },
        {
          "output_type": "error",
          "ename": "NameError",
          "evalue": "ignored",
          "traceback": [
            "\u001b[0;31m---------------------------------------------------------------------------\u001b[0m",
            "\u001b[0;31mNameError\u001b[0m                                 Traceback (most recent call last)",
            "\u001b[0;32m<ipython-input-2-af155667d817>\u001b[0m in \u001b[0;36m<module>\u001b[0;34m()\u001b[0m\n\u001b[1;32m     80\u001b[0m \u001b[0;31m# 画像表示\u001b[0m\u001b[0;34m\u001b[0m\u001b[0;34m\u001b[0m\u001b[0;34m\u001b[0m\u001b[0m\n\u001b[1;32m     81\u001b[0m \u001b[0mprint\u001b[0m\u001b[0;34m(\u001b[0m\u001b[0;34m\"orig\"\u001b[0m\u001b[0;34m)\u001b[0m\u001b[0;34m\u001b[0m\u001b[0;34m\u001b[0m\u001b[0m\n\u001b[0;32m---> 82\u001b[0;31m \u001b[0mcv2_imshow\u001b[0m\u001b[0;34m(\u001b[0m\u001b[0msrc\u001b[0m\u001b[0;34m)\u001b[0m\u001b[0;34m\u001b[0m\u001b[0;34m\u001b[0m\u001b[0m\n\u001b[0m\u001b[1;32m     83\u001b[0m \u001b[0mprint\u001b[0m\u001b[0;34m(\u001b[0m\u001b[0;34m\"equalized\"\u001b[0m\u001b[0;34m)\u001b[0m\u001b[0;34m\u001b[0m\u001b[0;34m\u001b[0m\u001b[0m\n\u001b[1;32m     84\u001b[0m \u001b[0mcv2_imshow\u001b[0m\u001b[0;34m(\u001b[0m\u001b[0mdst\u001b[0m\u001b[0;34m)\u001b[0m\u001b[0;34m\u001b[0m\u001b[0;34m\u001b[0m\u001b[0m\n",
            "\u001b[0;31mNameError\u001b[0m: name 'cv2_imshow' is not defined"
          ]
        }
      ]
    },
    {
      "cell_type": "code",
      "metadata": {
        "id": "3wTIpd8LZ21P",
        "outputId": "4e8a07e2-8297-46fc-dda1-b84d5dac7ad8",
        "colab": {
          "base_uri": "https://localhost:8080/",
          "height": 248
        }
      },
      "source": [
        "#輝度の3次元グラフを描く\n",
        "import sys\n",
        "import cv2\n",
        "import numpy as np\n",
        "import pandas as pd\n",
        "import matplotlib.pyplot as plt\n",
        "from mpl_toolkits.mplot3d import Axes3D\n",
        "from PIL import Image\n",
        "\n",
        "\n",
        "%matplotlib inline\n",
        "\n",
        "path =  \"/content/drive/MyDrive/Deep_learning/FundusPhoto/cropped_2_img/img00265140_00_1R.png\"\n",
        "#画像の読み込み\n",
        "\n",
        " \n",
        "src = Image.open(path)\n",
        "src_gray = src.convert(\"L\").copy()  # グレースケール変換\n",
        "src_gray= np.asarray(src_gray)\n",
        "\n",
        "#x = np.arange(0, src.size[0], 1)\n",
        "#y = np.arange(0, src.size[1], 1)\n",
        "\n",
        "x = np.arange(-2, 2, 0.05) # x点として[-2, 2]まで0.05刻みでサンプル\n",
        "y = np.arange(-2, 2, 0.05)  # y点として[-2, 2]まで0.05刻みでサンプル\n",
        "x, y = np.meshgrid(src.size[0], src.size[1])\n",
        "#z = img_gray.reshape(-1)\n",
        "z = np.exp(-(x**2 + y**2))\n",
        "\n",
        "\n",
        "#3D Figure作成\n",
        "fig = plt.figure()\n",
        "ax = fig.gca(projection='3d')\n",
        "ax.set_zlim(0.0,1.0)\n",
        "ax.set_xlabel('X')\n",
        "ax.set_ylabel('Y')\n",
        "ax.set_zlabel('Z')\n",
        "\n",
        "ax.plot_wireframe(x, y, z, color='blue',linewidth=0.3) # ワイヤーフレームのプロット。linewidthは曲面のメッシュの線の太さ，をそれぞれ表す。\n",
        "\n",
        "plt.show() # 絵の出力。\n",
        "\n"
      ],
      "execution_count": 4,
      "outputs": [
        {
          "output_type": "display_data",
          "data": {
            "image/png": "[encoded data removed]",
            "text/plain": [
              "<Figure size 432x288 with 1 Axes>"
            ]
          },
          "metadata": {
            "needs_background": "light"
          }
        }
      ]
    },
    {
      "cell_type": "code",
      "metadata": {
        "id": "p1N35v30jkc-",
        "outputId": "0b8661dd-3001-4b16-8435-3b95f109cd2c",
        "colab": {
          "base_uri": "https://localhost:8080/"
        }
      },
      "source": [
        ""
      ],
      "execution_count": 7,
      "outputs": [
        {
          "output_type": "execute_result",
          "data": {
            "text/plain": [
              "0"
            ]
          },
          "metadata": {},
          "execution_count": 7
        }
      ]
    },
    {
      "cell_type": "markdown",
      "metadata": {
        "id": "qwH9OWPQhYI1"
      },
      "source": [
        "#**224pxに縮小して保存（Image.BILINEAR）**"
      ]
    },
    {
      "cell_type": "code",
      "metadata": {
        "id": "oBvZ0VO-JqjF"
      },
      "source": [
        "path = '/content/drive/MyDrive/Deep_learning/FundusPhoto'\n",
        "ext = 'png'  #png or jpg\n",
        "\n",
        "os.chdir(path)\n",
        "\n",
        "\n",
        "#元画像フォルダ\n",
        "in_path = ['cropped_2_img', 'disc_2_img', 'macula_2_img', 'vascular_2_img']\n",
        "\n",
        "#保存先フォルダ\n",
        "out_path = ['cropped_224_img', 'disc_224_img', 'macula_224_img', 'vascular_224_img']\n"
      ],
      "execution_count": null,
      "outputs": []
    },
    {
      "cell_type": "code",
      "metadata": {
        "id": "OqUe1vbRbiIQ"
      },
      "source": [
        "start_time = time.time()\n",
        "process = [1]\n",
        "\n",
        "for i in process:\n",
        "    #保存先フォルダの作成\n",
        "    if os.path.exists(out_path[i]):\n",
        "        shutil.rmtree(out_path[i])\n",
        "    os.makedirs(out_path[i])\n",
        "\n",
        "    k=0\n",
        "    for j in os.listdir(in_path[i]):\n",
        "        path = os.path.join(in_path[i], str(j))\n",
        "        print(path)\n",
        "        pilr_img = Image.open(path).convert('RGB')\n",
        "        converted_img = pilr_img.resize((224, 224), Image.BILINEAR)\n",
        "        converted_img.save(os.path.join(out_path[i], str(j)))\n",
        "        print(str(k)+' images converted!')\n",
        "        k+=1\n",
        "    \n",
        "    \n",
        "    # calculate elapsed time\n",
        "    elapsed_time = int(time.time() - start_time)\n",
        "\n",
        "    # convert second to hour, minute and seconds\n",
        "    elapsed_hour = elapsed_time // 3600\n",
        "    elapsed_minute = (elapsed_time % 3600) // 60\n",
        "    elapsed_second = (elapsed_time % 3600 % 60)\n",
        "\n",
        "    # print as 00:00:00\n",
        "    print(str(elapsed_hour).zfill(2) + \":\" + str(elapsed_minute).zfill(2) + \":\" + str(elapsed_second).zfill(2))\n"
      ],
      "execution_count": null,
      "outputs": []
    },
    {
      "cell_type": "markdown",
      "metadata": {
        "id": "-GtHozDcocxi"
      },
      "source": [
        "#**Split dataset for crossvalidation**"
      ]
    },
    {
      "cell_type": "code",
      "metadata": {
        "id": "3PDByEYZe-YQ"
      },
      "source": [
        "def get_path(orig_path, dst_path, split_num):\n",
        "    #データの分割数を設定\n",
        "    data_list = [0]\n",
        "    k=0\n",
        "    data_list = glob.glob(orig_path+'/*')\n",
        "    split_length = int(len(data_list)/split_num)\n",
        "    return data_list, split_length\n",
        "\n",
        "def makefolder(dst_path):\n",
        "    #フォルダを作成\n",
        "    if os.path.exists(dst_path): #もしすでにフォルダがあれば削除\n",
        "        shutil.rmtree(dst_path)\n",
        "    os.mkdir(dst_path)  # 作成したいフォルダ名を作成\n",
        "    for i in range(split_num):\n",
        "        os.mkdir(dst_path+'/'+str(i))\n",
        "        os.mkdir(dst_path+'/'+str(i)+'/train')\n",
        "        os.mkdir(dst_path+'/'+str(i)+'/val')\n",
        "\n",
        "def split_data_list(data_list, split_num):\n",
        "    split_data, dst_data, dst_train, dst_val, dst_test = [0]*split_num, [0]*split_num, [0]*split_num, [0]*split_num, [0]*split_num\n",
        "\n",
        "    #データの分割\n",
        "    split_data = list(np.array_split(data_list, split_num))\n",
        "\n",
        "    #データセット全体と分割したデータの差分を取り、dst_dataに格納\n",
        "\n",
        "    dst_data = [0] * split_num\n",
        "    for i in range(split_num):\n",
        "        dst_data[i] = [x for x in data_list if x not in split_data[i]]\n",
        "\n",
        "    #トレーニングセット、バリデーションセット、テストセットのリスト作成\n",
        "    for i in range(split_num):\n",
        "        dst_train[i] = dst_data[i]\n",
        "        dst_val[i] = split_data[i]  #テストセット\n",
        "    \n",
        "    return dst_train, dst_val\n",
        "\n",
        "def copy_to_folders(split_num,  dst_train, dst_val, dst_path):\n",
        "    k=0\n",
        "    for i in range(split_num):\n",
        "        dst_path_train = dst_path +'/'+str(i)+'/train'\n",
        "        dst_path_val = dst_path +'/'+str(i)+'/val'\n",
        "        for p in dst_train[k]:  # 選択したファイルを目的フォルダにコピー\n",
        "            shutil.copy(p, dst_path_train)\n",
        "            #print(p)\n",
        "            print(dst_path_train)\n",
        "\n",
        "        for p in dst_val[k]:  # 選択したファイルを目的フォルダにコピー\n",
        "            shutil.copy(p, dst_path_val)\n",
        "            #print(p)    \n",
        "            print(dst_path_val)\n",
        "\n",
        "        k+=1"
      ],
      "execution_count": null,
      "outputs": []
    },
    {
      "cell_type": "code",
      "metadata": {
        "id": "icW-Otjfr7ob"
      },
      "source": [
        "out_list = [\"cropped_224\", \"disc_224\", \"macula_224\", \"vascular_224\"]\n",
        "\n",
        "for i in out_list:\n",
        "    orig_path = \"/content/drive/MyDrive/Deep_learning/FundusPhoto/\"+str(i)+\"_img\"\n",
        "    dst_path = \"/content/drive/MyDrive/Deep_learning/FundusPhoto/\"+str(i)+\"_img_trainval\"  # フォルダ名\n",
        "    split_num = 5  #データをいくつに分割するかを記載\n",
        "\n",
        "    data_list, split_length = get_path(orig_path, dst_path, split_num)\n",
        "    makefolder(dst_path)\n",
        "\n",
        "    dst_train, dst_val = split_data_list(data_list, split_num)\n",
        "    copy_to_folders(split_num, dst_train, dst_val, dst_path)"
      ],
      "execution_count": null,
      "outputs": []
    }
  ]
}