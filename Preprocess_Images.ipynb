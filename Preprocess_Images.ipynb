{
  "nbformat": 4,
  "nbformat_minor": 0,
  "metadata": {
    "colab": {
      "name": "Untitled71.ipynb",
      "provenance": [],
      "authorship_tag": "ABX9TyN9C2+HoovOD3MV9HxAKhUA",
      "include_colab_link": true
    },
    "kernelspec": {
      "name": "python3",
      "display_name": "Python 3"
    },
    "language_info": {
      "name": "python"
    }
  },
  "cells": [
    {
      "cell_type": "markdown",
      "metadata": {
        "id": "view-in-github",
        "colab_type": "text"
      },
      "source": [
        "<a href=\"https://colab.research.google.com/github/ykitaguchi77/FundusPhoto/blob/main/Preprocess_Images.ipynb\" target=\"_parent\"><img src=\"https://colab.research.google.com/assets/colab-badge.svg\" alt=\"Open In Colab\"/></a>"
      ]
    },
    {
      "cell_type": "markdown",
      "metadata": {
        "id": "_O2b6hNiJAyG"
      },
      "source": [
        "#**Preprocess_images**"
      ]
    },
    {
      "cell_type": "code",
      "metadata": {
        "colab": {
          "base_uri": "https://localhost:8080/"
        },
        "id": "fYgd9oFUJEPh",
        "outputId": "e7870f06-4a6e-48f2-fe42-a9eede959166"
      },
      "source": [
        "from PIL import Image\n",
        "import os\n",
        "import time\n",
        "from IPython.display import display\n",
        "import numpy as np\n",
        "import time\n",
        "import os\n",
        "import copy\n",
        "import math\n",
        "import shutil\n",
        "import csv\n",
        "import pandas as pd\n",
        "import glob\n",
        "from PIL import Image\n",
        "\n",
        "\n",
        "#google driveをcolabolatoryにマウント\n",
        "from google.colab import drive\n",
        "drive.mount('/content/drive')\n"
      ],
      "execution_count": null,
      "outputs": [
        {
          "output_type": "stream",
          "name": "stdout",
          "text": [
            "Drive already mounted at /content/drive; to attempt to forcibly remount, call drive.mount(\"/content/drive\", force_remount=True).\n"
          ]
        }
      ]
    },
    {
      "cell_type": "markdown",
      "metadata": {
        "id": "qwH9OWPQhYI1"
      },
      "source": [
        "#**224pxに縮小して保存（Image.BILINEAR）**"
      ]
    },
    {
      "cell_type": "code",
      "metadata": {
        "id": "oBvZ0VO-JqjF"
      },
      "source": [
        "path = '/content/drive/MyDrive/Deep_learning/FundusPhoto'\n",
        "ext = 'png'  #png or jpg\n",
        "\n",
        "os.chdir(path)\n",
        "\n",
        "\n",
        "#元画像フォルダ\n",
        "in_path = ['cropped_2_img', 'disc_2_img', 'macula_2_img', 'vascular_2_img']\n",
        "\n",
        "#保存先フォルダ\n",
        "out_path = ['cropped_224_img', 'disc_224_img', 'macula_224_img', 'vascular_224_img']\n"
      ],
      "execution_count": null,
      "outputs": []
    },
    {
      "cell_type": "code",
      "metadata": {
        "id": "OqUe1vbRbiIQ"
      },
      "source": [
        "start_time = time.time()\n",
        "process = [1]\n",
        "\n",
        "for i in process:\n",
        "    #保存先フォルダの作成\n",
        "    if os.path.exists(out_path[i]):\n",
        "        shutil.rmtree(out_path[i])\n",
        "    os.makedirs(out_path[i])\n",
        "\n",
        "    k=0\n",
        "    for j in os.listdir(in_path[i]):\n",
        "        path = os.path.join(in_path[i], str(j))\n",
        "        print(path)\n",
        "        pilr_img = Image.open(path).convert('RGB')\n",
        "        converted_img = pilr_img.resize((224, 224), Image.BILINEAR)\n",
        "        converted_img.save(os.path.join(out_path[i], str(j)))\n",
        "        print(str(k)+' images converted!')\n",
        "        k+=1\n",
        "    \n",
        "    \n",
        "    # calculate elapsed time\n",
        "    elapsed_time = int(time.time() - start_time)\n",
        "\n",
        "    # convert second to hour, minute and seconds\n",
        "    elapsed_hour = elapsed_time // 3600\n",
        "    elapsed_minute = (elapsed_time % 3600) // 60\n",
        "    elapsed_second = (elapsed_time % 3600 % 60)\n",
        "\n",
        "    # print as 00:00:00\n",
        "    print(str(elapsed_hour).zfill(2) + \":\" + str(elapsed_minute).zfill(2) + \":\" + str(elapsed_second).zfill(2))\n"
      ],
      "execution_count": null,
      "outputs": []
    },
    {
      "cell_type": "markdown",
      "metadata": {
        "id": "-GtHozDcocxi"
      },
      "source": [
        "#**Split dataset for crossvalidation**"
      ]
    },
    {
      "cell_type": "code",
      "metadata": {
        "id": "3PDByEYZe-YQ"
      },
      "source": [
        "def get_path(orig_path, dst_path, split_num):\n",
        "    #データの分割数を設定\n",
        "    data_list = [0]\n",
        "    k=0\n",
        "    data_list = glob.glob(orig_path+'/*')\n",
        "    split_length = int(len(data_list)/split_num)\n",
        "    return data_list, split_length\n",
        "\n",
        "def makefolder(dst_path):\n",
        "    #フォルダを作成\n",
        "    if os.path.exists(dst_path): #もしすでにフォルダがあれば削除\n",
        "        shutil.rmtree(dst_path)\n",
        "    os.mkdir(dst_path)  # 作成したいフォルダ名を作成\n",
        "    for i in range(split_num):\n",
        "        os.mkdir(dst_path+'/'+str(i))\n",
        "        os.mkdir(dst_path+'/'+str(i)+'/train')\n",
        "        os.mkdir(dst_path+'/'+str(i)+'/val')\n",
        "\n",
        "def split_data_list(data_list, split_num):\n",
        "    split_data, dst_data, dst_train, dst_val, dst_test = [0]*split_num, [0]*split_num, [0]*split_num, [0]*split_num, [0]*split_num\n",
        "\n",
        "    #データの分割\n",
        "    split_data = list(np.array_split(data_list, split_num))\n",
        "\n",
        "    #データセット全体と分割したデータの差分を取り、dst_dataに格納\n",
        "\n",
        "    dst_data = [0] * split_num\n",
        "    for i in range(split_num):\n",
        "        dst_data[i] = [x for x in data_list if x not in split_data[i]]\n",
        "\n",
        "    #トレーニングセット、バリデーションセット、テストセットのリスト作成\n",
        "    for i in range(split_num):\n",
        "        dst_train[i] = dst_data[i]\n",
        "        dst_val[i] = split_data[i]  #テストセット\n",
        "    \n",
        "    return dst_train, dst_val\n",
        "\n",
        "def copy_to_folders(split_num,  dst_train, dst_val, dst_path):\n",
        "    k=0\n",
        "    for i in range(split_num):\n",
        "        dst_path_train = dst_path +'/'+str(i)+'/train'\n",
        "        dst_path_val = dst_path +'/'+str(i)+'/val'\n",
        "        for p in dst_train[k]:  # 選択したファイルを目的フォルダにコピー\n",
        "            shutil.copy(p, dst_path_train)\n",
        "            #print(p)\n",
        "            print(dst_path_train)\n",
        "\n",
        "        for p in dst_val[k]:  # 選択したファイルを目的フォルダにコピー\n",
        "            shutil.copy(p, dst_path_val)\n",
        "            #print(p)    \n",
        "            print(dst_path_val)\n",
        "\n",
        "        k+=1"
      ],
      "execution_count": null,
      "outputs": []
    },
    {
      "cell_type": "code",
      "metadata": {
        "id": "icW-Otjfr7ob"
      },
      "source": [
        "out_list = [\"cropped_224\", \"disc_224\", \"macula_224\", \"vascular_224\"]\n",
        "\n",
        "for i in out_list:\n",
        "    orig_path = \"/content/drive/MyDrive/Deep_learning/FundusPhoto/\"+str(i)+\"_img\"\n",
        "    dst_path = \"/content/drive/MyDrive/Deep_learning/FundusPhoto/\"+str(i)+\"_img_trainval\"  # フォルダ名\n",
        "    split_num = 5  #データをいくつに分割するかを記載\n",
        "\n",
        "    data_list, split_length = get_path(orig_path, dst_path, split_num)\n",
        "    makefolder(dst_path)\n",
        "\n",
        "    dst_train, dst_val = split_data_list(data_list, split_num)\n",
        "    copy_to_folders(split_num, dst_train, dst_val, dst_path)"
      ],
      "execution_count": null,
      "outputs": []
    }
  ]
}