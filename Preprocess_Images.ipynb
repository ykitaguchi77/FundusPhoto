{
  "nbformat": 4,
  "nbformat_minor": 0,
  "metadata": {
    "colab": {
      "name": "Untitled71.ipynb",
      "provenance": [],
      "authorship_tag": "ABX9TyNrDFFMLHRP6/Cdod1a5ebp",
      "include_colab_link": true
    },
    "kernelspec": {
      "name": "python3",
      "display_name": "Python 3"
    },
    "language_info": {
      "name": "python"
    }
  },
  "cells": [
    {
      "cell_type": "markdown",
      "metadata": {
        "id": "view-in-github",
        "colab_type": "text"
      },
      "source": [
        "<a href=\"https://colab.research.google.com/github/ykitaguchi77/FundusPhoto/blob/main/Preprocess_Images.ipynb\" target=\"_parent\"><img src=\"https://colab.research.google.com/assets/colab-badge.svg\" alt=\"Open In Colab\"/></a>"
      ]
    },
    {
      "cell_type": "markdown",
      "metadata": {
        "id": "_O2b6hNiJAyG"
      },
      "source": [
        "#**Preprocess_images**"
      ]
    },
    {
      "cell_type": "code",
      "metadata": {
        "colab": {
          "base_uri": "https://localhost:8080/"
        },
        "id": "fYgd9oFUJEPh",
        "outputId": "5759a90b-d046-4365-c91f-9152c687e17a"
      },
      "source": [
        "from PIL import Image\n",
        "import os\n",
        "import time\n",
        "from IPython.display import display\n",
        "import numpy as np\n",
        "import time\n",
        "import os\n",
        "import copy\n",
        "import math\n",
        "import shutil\n",
        "import csv\n",
        "import pandas as pd\n",
        "import glob\n",
        "from PIL import Image\n",
        "\n",
        "\n",
        "#google driveをcolabolatoryにマウント\n",
        "from google.colab import drive\n",
        "drive.mount('/content/drive')\n"
      ],
      "execution_count": 16,
      "outputs": [
        {
          "output_type": "stream",
          "name": "stdout",
          "text": [
            "Drive already mounted at /content/drive; to attempt to forcibly remount, call drive.mount(\"/content/drive\", force_remount=True).\n"
          ]
        }
      ]
    },
    {
      "cell_type": "code",
      "metadata": {
        "id": "oBvZ0VO-JqjF"
      },
      "source": [
        "path = '/content/drive/MyDrive/Deep_learning/FundusPhoto'\n",
        "ext = 'png'  #png or jpg\n",
        "\n",
        "os.chdir(path)\n",
        "\n",
        "\n",
        "#元画像フォルダ\n",
        "in_path = ['cropped_2_img', 'macula_2_img', 'vascular_2_img']\n",
        "\n",
        "#保存先フォルダ\n",
        "out_path = ['cropped_224_img', 'macula_224_img', 'vascular_224_img']\n"
      ],
      "execution_count": 21,
      "outputs": []
    },
    {
      "cell_type": "code",
      "metadata": {
        "id": "OqUe1vbRbiIQ"
      },
      "source": [
        "start_time = time.time()\n",
        "process = [0,1,2]\n",
        "\n",
        "for i in process:\n",
        "    #保存先フォルダの作成\n",
        "    if os.path.exists(out_path[i]):\n",
        "        shutil.rmtree(out_path[i])\n",
        "    os.makedirs(out_path[i])\n",
        "\n",
        "    k=0\n",
        "    for j in os.listdir(in_path[i]):\n",
        "        path = os.path.join(in_path[i], str(j))\n",
        "        pilr_img = Image.open(path).convert('RGB')\n",
        "        converted_img = pilr_img.resize((224, 224), Image.BILINEAR)\n",
        "        converted_img.save(os.path.join(out_path[i], str(j)))\n",
        "        print(str(k)+' images converted!')\n",
        "        k+=1\n",
        "    \n",
        "    \n",
        "    # calculate elapsed time\n",
        "    elapsed_time = int(time.time() - start_time)\n",
        "\n",
        "    # convert second to hour, minute and seconds\n",
        "    elapsed_hour = elapsed_time // 3600\n",
        "    elapsed_minute = (elapsed_time % 3600) // 60\n",
        "    elapsed_second = (elapsed_time % 3600 % 60)\n",
        "\n",
        "    # print as 00:00:00\n",
        "    print(str(elapsed_hour).zfill(2) + \":\" + str(elapsed_minute).zfill(2) + \":\" + str(elapsed_second).zfill(2))\n",
        "\n",
        "\n"
      ],
      "execution_count": null,
      "outputs": []
    },
    {
      "cell_type": "code",
      "metadata": {
        "id": "3PDByEYZe-YQ"
      },
      "source": [
        ""
      ],
      "execution_count": null,
      "outputs": []
    }
  ]
}